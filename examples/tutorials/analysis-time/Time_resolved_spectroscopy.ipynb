{
 "cells": [
  {
   "cell_type": "markdown",
   "id": "8477890a",
   "metadata": {},
   "source": [
    "A time resolved spectroscopy estimator\n",
    "=======================\n",
    "\n",
    "Do a time resolved spectral fit for the PKS 2155-304 flare on 15 minutes time intervals.\n",
    "\n",
    "Prerequisites\n",
    "-------------\n",
    "\n",
    "-  Understanding of how the light curve estimator works, please refer to\n",
    "   :doc:`light curve notebook </tutorials/analysis-time/light_curve>`, and :doc:`light curve for flares notebook </tutorials/analysis-time/light_curve_for_flares>`.\n",
    "\n",
    "Context\n",
    "-------\n",
    "\n",
    "In the analysis of flaring sources, it is often interesting to study not only how\n",
    "the flux changes with time but also the variability of the spectral shape and hardness.\n",
    "\n",
    "A typical example is given by the flare of PKS 2155-304 during the night\n",
    "from July 29 to 30 2006. See the `following\n",
    "article <https://ui.adsabs.harvard.edu/abs/2009A%26A...502..749A/abstract>`__.\n",
    "\n",
    "**Objective: Model the varibility of the spectral index of \n",
    "PKS 2155-304 in 15-minutes time intervals.**\n",
    "\n",
    "Proposed approach\n",
    "-----------------\n",
    "\n",
    "We have seen in the general presentation of the light curve estimator,\n",
    "see the :doc:`light curve notebook </tutorials/analysis-time/light_curve>`, and how to select\n",
    "and produce datasets on smaller time steps in `light curve notebook </tutorials/analysis-time/light_curve_for_flares>`.\n",
    "\n",
    "After the selection, we can initially model the spectral shape as a Power Law,\n",
    "and loop the model fitting over the produced datasets to obtain the evolution of the spectral index.\n",
    "We can also test different models to see which one best tracks the observations.\n",
    "\n",
    "In summary, we have to:\n",
    "\n",
    "-  Select relevant `~gammapy.data.Observations` from the\n",
    "   `~gammapy.data.DataStore`\n",
    "-  Apply the time selection in our predefined time intervals to obtain a\n",
    "   new `~gammapy.data.Observations`\n",
    "-  Perform the data reduction (in 1D or 3D)\n",
    "-  Define the initial source model\n",
    "-  Fit the model in each interval and extract the spectral index\n",
    "\n",
    "Here, we will use the PKS 2155-304 observations from the\n",
    "`H.E.S.S. first public test data release <https://www.mpi-hd.mpg.de/hfm/HESS/pages/dl3-dr1/>`__.\n",
    "We will use time intervals of 15 minutes\n",
    "duration. The tutorial is implemented with the intermediate level API.\n",
    "\n",
    "Setup\n",
    "-----\n",
    "\n",
    "As usual, we’ll start with some general imports…\n",
    "\n"
   ]
  },
  {
   "cell_type": "code",
   "execution_count": null,
   "id": "512475b4",
   "metadata": {},
   "outputs": [],
   "source": [
    "import logging\n",
    "import numpy as np\n",
    "import astropy.units as u\n",
    "from astropy.coordinates import Angle, SkyCoord\n",
    "from astropy.time import Time\n",
    "from astropy.table import QTable\n",
    "from regions import CircleSkyRegion\n",
    "\n",
    "# %matplotlib inline\n",
    "import matplotlib.pyplot as plt\n",
    "\n",
    "log = logging.getLogger(__name__)\n",
    "\n",
    "from gammapy.data import DataStore, GTI\n",
    "from gammapy.datasets import Datasets, SpectrumDataset\n",
    "\n",
    "from gammapy.estimators import LightCurveEstimator, Estimator\n",
    "from gammapy.estimators.utils import get_rebinned_axis\n",
    "from gammapy.makers import (\n",
    "    ReflectedRegionsBackgroundMaker,\n",
    "    SafeMaskMaker,\n",
    "    SpectrumDatasetMaker,\n",
    ")\n",
    "from gammapy.maps import MapAxis, RegionGeom, TimeMapAxis\n",
    "from gammapy.modeling import Fit\n",
    "from gammapy.modeling.models import PowerLawSpectralModel, SkyModel, BrokenPowerLawSpectralModel, Models, SpectralModel"
   ]
  },
  {
   "cell_type": "code",
   "execution_count": null,
   "id": "a76c0b87",
   "metadata": {},
   "outputs": [],
   "source": [
    "log = logging.getLogger(__name__)"
   ]
  },
  {
   "cell_type": "markdown",
   "id": "26a10d2e",
   "metadata": {},
   "source": [
    "### Data selection\n",
    "\n",
    "We select the datastore and restrict it to events within 2 degrees of PKS2155-304."
   ]
  },
  {
   "cell_type": "code",
   "execution_count": null,
   "id": "90010003",
   "metadata": {},
   "outputs": [],
   "source": [
    "data_store = DataStore.from_dir(\"$GAMMAPY_DATA/hess-dl3-dr1/\")\n",
    "target_position = SkyCoord(329.71693826 * u.deg, -30.2255890 * u.deg, frame=\"icrs\")\n",
    "selection = dict(\n",
    "    type=\"sky_circle\",\n",
    "    frame=\"icrs\",\n",
    "    lon=target_position.ra,\n",
    "    lat=target_position.dec,\n",
    "    radius=2 * u.deg,\n",
    ")\n",
    "obs_ids = data_store.obs_table.select_observations(selection)[\"OBS_ID\"]\n",
    "observations = data_store.get_observations(obs_ids)\n",
    "print(f\"Number of selected observations : {len(observations)}\")"
   ]
  },
  {
   "cell_type": "markdown",
   "id": "2130912d",
   "metadata": {},
   "source": [
    "We define 10-minutes time intervals as lists of ``~astropy.Time`` start and stop objects, and apply the intervals to the observations by using ``~observations.select_time``"
   ]
  },
  {
   "cell_type": "code",
   "execution_count": null,
   "id": "9c154ceb",
   "metadata": {},
   "outputs": [],
   "source": [
    "t0 = Time(\"2006-07-29T20:30\")\n",
    "duration = 15 * u.min\n",
    "n_time_bins = 25\n",
    "times = t0 + np.arange(n_time_bins) * duration\n",
    "time_intervals = [Time([tstart, tstop]) for tstart, tstop in zip(times[:-1], times[1:])]\n",
    "print(time_intervals[-1].mjd)\n",
    "short_observations = observations.select_time(time_intervals)\n",
    "# check that observations have been filtered\n",
    "print(f\"Number of observations after time filtering: {len(short_observations)}\\n\")\n",
    "print(short_observations[1].gti)"
   ]
  },
  {
   "cell_type": "markdown",
   "id": "3785ec4d",
   "metadata": {},
   "source": [
    "## Data reduction\n",
    "\n",
    "We define the energy axes. As usual, the true energy axis has to cover a\n",
    "wider range to ensure a good coverage of the measured energy range\n",
    "chosen.\n",
    "\n",
    "We need to define the ON extraction region. Its size follows typical\n",
    "spectral extraction regions for H.E.S.S. analyses."
   ]
  },
  {
   "cell_type": "code",
   "execution_count": null,
   "id": "9c0cea4b",
   "metadata": {},
   "outputs": [],
   "source": [
    "# Target definition\n",
    "energy_axis = MapAxis.from_energy_bounds(\"0.4 TeV\", \"20 TeV\", nbin=10)\n",
    "energy_axis_true = MapAxis.from_energy_bounds(\n",
    "    \"0.1 TeV\", \"40 TeV\", nbin=20, name=\"energy_true\"\n",
    ")\n",
    "\n",
    "on_region_radius = Angle(\"0.11 deg\")\n",
    "on_region = CircleSkyRegion(center=target_position, radius=on_region_radius)\n",
    "\n",
    "geom = RegionGeom.create(region=on_region, axes=[energy_axis])"
   ]
  },
  {
   "cell_type": "markdown",
   "id": "0cbb07f6",
   "metadata": {},
   "source": [
    "We now create the dataset and background makers for the selected\n",
    "geometry and to the actual data reduction"
   ]
  },
  {
   "cell_type": "code",
   "execution_count": null,
   "id": "86a320ac",
   "metadata": {},
   "outputs": [],
   "source": [
    "dataset_maker = SpectrumDatasetMaker(\n",
    "    containment_correction=True, selection=[\"counts\", \"exposure\", \"edisp\"]\n",
    ")\n",
    "bkg_maker = ReflectedRegionsBackgroundMaker()\n",
    "safe_mask_masker = SafeMaskMaker(methods=[\"aeff-max\"], aeff_percent=10)"
   ]
  },
  {
   "cell_type": "code",
   "execution_count": null,
   "id": "852ba80a",
   "metadata": {},
   "outputs": [],
   "source": [
    "datasets = Datasets()\n",
    "\n",
    "dataset_empty = SpectrumDataset.create(geom=geom, energy_axis_true=energy_axis_true)\n",
    "\n",
    "for obs in short_observations:\n",
    "    dataset = dataset_maker.run(dataset_empty.copy(), obs)\n",
    "\n",
    "    dataset_on_off = bkg_maker.run(dataset, obs)\n",
    "    dataset_on_off = safe_mask_masker.run(dataset_on_off, obs)\n",
    "    datasets.append(dataset_on_off)"
   ]
  },
  {
   "cell_type": "markdown",
   "id": "4e25c8f9",
   "metadata": {},
   "source": [
    "## Modeling\n",
    "\n",
    "We set the initial model: he power law spectral model of index 3.4 used in the\n",
    "`reference\n",
    "paper <https://ui.adsabs.harvard.edu/abs/2009A%26A...502..749A/abstract>`__.\n",
    "\n",
    "This model will be re-fitted in each time interval to investigate the change in spectral hardness."
   ]
  },
  {
   "cell_type": "code",
   "execution_count": null,
   "id": "3eba6f4b",
   "metadata": {},
   "outputs": [],
   "source": [
    "spectral_model = PowerLawSpectralModel(\n",
    "    index=3.4, amplitude=2e-11 * u.Unit(\"1 / (cm2 s TeV)\"), reference=1 * u.TeV\n",
    ")\n",
    "spectral_model.parameters[\"index\"].frozen = False\n",
    "\n",
    "sky_model = SkyModel(spatial_model=None, spectral_model=spectral_model, name=\"pks2155\")"
   ]
  },
  {
   "cell_type": "markdown",
   "id": "0742259f",
   "metadata": {},
   "source": [
    "## Time resolved spectroscopy algorithm\n",
    "\n",
    "Here we define the algorithm used to fit the sky model in each temporal bin.."
   ]
  },
  {
   "cell_type": "code",
   "execution_count": null,
   "id": "dd2fd3e2",
   "metadata": {},
   "outputs": [],
   "source": [
    "def time_resolved_spectroscopy(datasets, model, time_intervals):\n",
    "    fit = Fit()\n",
    "    valid_intervals = []\n",
    "    fit_results = []\n",
    "    index = 0\n",
    "    for t_min, t_max in time_intervals:\n",
    "        datasets_to_fit = datasets.select_time(\n",
    "            time_min=t_min, time_max=t_max\n",
    "        )\n",
    "\n",
    "        if len(datasets_to_fit) == 0:\n",
    "            log.info(\n",
    "                f\"No Dataset for the time interval {t_min} to {t_max}. Skipping interval.\"\n",
    "            )\n",
    "            continue\n",
    "\n",
    "        model_in_bin = model.copy(name=\"Model_bin_\" + str(index))\n",
    "        datasets_to_fit.models = model_in_bin\n",
    "        result = fit.run(datasets_to_fit)\n",
    "        fit_results.append(result)\n",
    "        valid_intervals.append([t_min, t_max])\n",
    "        index += 1\n",
    "\n",
    "    return valid_intervals, fit_results"
   ]
  },
  {
   "cell_type": "markdown",
   "id": "efa7bf17",
   "metadata": {},
   "source": [
    "... and apply it to our data."
   ]
  },
  {
   "cell_type": "code",
   "execution_count": null,
   "id": "84a0d42a",
   "metadata": {},
   "outputs": [],
   "source": [
    "times, results = time_resolved_spectroscopy(datasets, sky_model, time_intervals)"
   ]
  },
  {
   "cell_type": "markdown",
   "id": "de050fff",
   "metadata": {},
   "source": [
    "To better visualize the data, we can create a table with the fit results."
   ]
  },
  {
   "cell_type": "code",
   "execution_count": null,
   "id": "0d7d02b4",
   "metadata": {},
   "outputs": [],
   "source": [
    "def create_table(time_intervals, fit_result):\n",
    "\n",
    "    t = QTable()\n",
    "\n",
    "    t[\"tstart\"] = np.array(times).T[0]\n",
    "    t[\"tstop\"] = np.array(times).T[1]\n",
    "    t[\"convergence\"] = [result.success for result in fit_result]\n",
    "    for par in fit_result[0].models.parameters.free_parameters:\n",
    "        t[par.name] = [result.models.parameters[par.name].value*par.unit for result in fit_result]\n",
    "        t[par.name+\"_err\"] = [result.models.parameters[par.name].error*par.unit for result in fit_result]\n",
    "    \n",
    "    return t"
   ]
  },
  {
   "cell_type": "code",
   "execution_count": null,
   "id": "48ca59a0",
   "metadata": {},
   "outputs": [],
   "source": [
    "table = create_table(times, results)"
   ]
  },
  {
   "cell_type": "markdown",
   "id": "47e47561",
   "metadata": {},
   "source": [
    "... and plot the spectral index as a function of amplitude, highlighting the evolution in time to create a hysteresis plot."
   ]
  },
  {
   "cell_type": "code",
   "execution_count": null,
   "id": "d7c08b90",
   "metadata": {},
   "outputs": [],
   "source": [
    "amp = table[\"amplitude\"]\n",
    "indexes = table[\"index\"]\n",
    "times = table[\"tstart\"]"
   ]
  },
  {
   "cell_type": "code",
   "execution_count": null,
   "id": "4b8352cf",
   "metadata": {},
   "outputs": [],
   "source": [
    "plt.scatter(amp, indexes, c=times.mjd)\n",
    "plt.plot(amp, indexes, linewidth=0.5)\n",
    "plt.show()"
   ]
  },
  {
   "cell_type": "markdown",
   "id": "fddc1d1b",
   "metadata": {},
   "source": [
    "## Exercises\n",
    "\n",
    "Rerun the algorithm using a different spectral shape, such as a broken power law. Compare the significance of the new model with the simple power law. Take note of any fit non-convergence in the bins. "
   ]
  }
 ],
 "metadata": {
  "kernelspec": {
   "display_name": "Python 3 (ipykernel)",
   "language": "python",
   "name": "python3"
  },
  "language_info": {
   "codemirror_mode": {
    "name": "ipython",
    "version": 3
   },
   "file_extension": ".py",
   "mimetype": "text/x-python",
   "name": "python",
   "nbconvert_exporter": "python",
   "pygments_lexer": "ipython3",
   "version": "3.11.9"
  }
 },
 "nbformat": 4,
 "nbformat_minor": 5
}

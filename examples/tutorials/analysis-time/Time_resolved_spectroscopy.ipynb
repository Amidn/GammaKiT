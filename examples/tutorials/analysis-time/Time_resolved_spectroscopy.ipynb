{
 "cells": [
  {
   "cell_type": "code",
   "execution_count": null,
   "id": "c5a23b01",
   "metadata": {},
   "outputs": [],
   "source": [
    "import logging\n",
    "import numpy as np\n",
    "import astropy.units as u\n",
    "from astropy.coordinates import Angle, SkyCoord\n",
    "from astropy.time import Time\n",
    "from astropy.table import Table\n",
    "from regions import CircleSkyRegion\n",
    "\n",
    "# %matplotlib inline\n",
    "import matplotlib.pyplot as plt\n",
    "\n",
    "log = logging.getLogger(__name__)\n",
    "\n",
    "from gammapy.data import DataStore, GTI\n",
    "from gammapy.datasets import Datasets, SpectrumDataset\n",
    "from gammapy.datasets.actors import DatasetsActor\n",
    "\n",
    "from gammapy.estimators import LightCurveEstimator, Estimator\n",
    "from gammapy.estimators.utils import get_rebinned_axis\n",
    "from gammapy.makers import (\n",
    "    ReflectedRegionsBackgroundMaker,\n",
    "    SafeMaskMaker,\n",
    "    SpectrumDatasetMaker,\n",
    ")\n",
    "from gammapy.maps import MapAxis, RegionGeom, TimeMapAxis\n",
    "from gammapy.modeling import Fit\n",
    "from gammapy.modeling.models import PowerLawSpectralModel, SkyModel, BrokenPowerLawSpectralModel, Models, SpectralModel"
   ]
  },
  {
   "cell_type": "code",
   "execution_count": null,
   "id": "363dea02",
   "metadata": {},
   "outputs": [],
   "source": [
    "def time_resolved_spectroscopy(datasets, model, time_intervals):\n",
    "    fit = Fit()\n",
    "    valid_intervals = []\n",
    "    fit_result = []\n",
    "    index = 0\n",
    "    for t_min, t_max in time_intervals:\n",
    "        datasets_to_fit = datasets.select_time(\n",
    "            time_min=t_min, time_max=t_max\n",
    "        )\n",
    "\n",
    "        if len(datasets_to_fit) == 0:\n",
    "            log.info(\n",
    "                f\"No Dataset for the time interval {t_min} to {t_max}. Skipping interval.\"\n",
    "            )\n",
    "            continue\n",
    "\n",
    "        model_in_bin = model.copy(name=\"Model_bin_\" + str(index))\n",
    "        datasets_to_fit.models = model_in_bin\n",
    "        result = fit.run(datasets_to_fit)\n",
    "        fit_result.append(result)\n",
    "        valid_intervals.append([t_min, t_max])\n",
    "        index += 1\n",
    "\n",
    "    return valid_intervals, fit_result\n",
    "\n",
    "def create_table(time_intervals, fit_result):\n",
    "    col_names = []\n",
    "    col_unit = []\n",
    "\n",
    "    col_names.append(\"time_start\")\n",
    "    col_names.append(\"time_stop\")\n",
    "    \n",
    "    \n",
    "    col_unit.append(\"MJD\")\n",
    "    col_unit.append(\"MJD\")\n",
    "\n",
    "    for par in fit_result[0].models.parameters.free_parameters:\n",
    "        col_names.append(par.name)\n",
    "        col_names.append(par.name + \"_err\")\n",
    "        unt = par.unit\n",
    "        if unt is u.Unit():\n",
    "            unt = \"\"\n",
    "        col_unit.append(unt)\n",
    "        col_unit.append(unt)\n",
    "\n",
    "        \n",
    "    t = Table(names=col_names, units=col_unit)\n",
    "\n",
    "    for i in range(len(times)):\n",
    "        col_data = []\n",
    "        col_data.append(times[i][0].mjd)\n",
    "        col_data.append(times[i][1].mjd)\n",
    "\n",
    "        for name in fit_result[i].parameters.free_parameters.names:\n",
    "            col_data.append(fit_result[i].models.parameters[name].value)\n",
    "            col_data.append(fit_result[i].models.parameters[name].error)\n",
    "        \n",
    "        t.add_row(col_data)\n",
    "\n",
    "\n",
    "    \n",
    "    return t\n"
   ]
  },
  {
   "cell_type": "code",
   "execution_count": null,
   "id": "90010003",
   "metadata": {},
   "outputs": [],
   "source": [
    "data_store = DataStore.from_dir(\"$GAMMAPY_DATA/hess-dl3-dr1/\")\n",
    "target_position = SkyCoord(329.71693826 * u.deg, -30.2255890 * u.deg, frame=\"icrs\")\n",
    "selection = dict(\n",
    "    type=\"sky_circle\",\n",
    "    frame=\"icrs\",\n",
    "    lon=target_position.ra,\n",
    "    lat=target_position.dec,\n",
    "    radius=2 * u.deg,\n",
    ")\n",
    "obs_ids = data_store.obs_table.select_observations(selection)[\"OBS_ID\"]\n",
    "observations = data_store.get_observations(obs_ids)\n",
    "print(f\"Number of selected observations : {len(observations)}\")"
   ]
  },
  {
   "cell_type": "code",
   "execution_count": null,
   "id": "9c154ceb",
   "metadata": {},
   "outputs": [],
   "source": [
    "t0 = Time(\"2006-07-29T20:30\")\n",
    "duration = 15 * u.min\n",
    "n_time_bins = 25\n",
    "times = t0 + np.arange(n_time_bins) * duration\n",
    "time_intervals = [Time([tstart, tstop]) for tstart, tstop in zip(times[:-1], times[1:])]\n",
    "print(time_intervals[-1].mjd)"
   ]
  },
  {
   "cell_type": "code",
   "execution_count": null,
   "id": "5fd046e0",
   "metadata": {},
   "outputs": [],
   "source": [
    "short_observations = observations.select_time(time_intervals)\n",
    "# check that observations have been filtered\n",
    "print(f\"Number of observations after time filtering: {len(short_observations)}\\n\")\n",
    "print(short_observations[1].gti)"
   ]
  },
  {
   "cell_type": "code",
   "execution_count": null,
   "id": "9c0cea4b",
   "metadata": {},
   "outputs": [],
   "source": [
    "# Target definition\n",
    "energy_axis = MapAxis.from_energy_bounds(\"0.4 TeV\", \"20 TeV\", nbin=10)\n",
    "energy_axis_true = MapAxis.from_energy_bounds(\n",
    "    \"0.1 TeV\", \"40 TeV\", nbin=20, name=\"energy_true\"\n",
    ")\n",
    "\n",
    "on_region_radius = Angle(\"0.11 deg\")\n",
    "on_region = CircleSkyRegion(center=target_position, radius=on_region_radius)\n",
    "\n",
    "geom = RegionGeom.create(region=on_region, axes=[energy_axis])"
   ]
  },
  {
   "cell_type": "code",
   "execution_count": null,
   "id": "86a320ac",
   "metadata": {},
   "outputs": [],
   "source": [
    "dataset_maker = SpectrumDatasetMaker(\n",
    "    containment_correction=True, selection=[\"counts\", \"exposure\", \"edisp\"]\n",
    ")\n",
    "bkg_maker = ReflectedRegionsBackgroundMaker()\n",
    "safe_mask_masker = SafeMaskMaker(methods=[\"aeff-max\"], aeff_percent=10)"
   ]
  },
  {
   "cell_type": "code",
   "execution_count": null,
   "id": "852ba80a",
   "metadata": {},
   "outputs": [],
   "source": [
    "datasets = Datasets()\n",
    "\n",
    "dataset_empty = SpectrumDataset.create(geom=geom, energy_axis_true=energy_axis_true)\n",
    "\n",
    "for obs in short_observations:\n",
    "    dataset = dataset_maker.run(dataset_empty.copy(), obs)\n",
    "\n",
    "    dataset_on_off = bkg_maker.run(dataset, obs)\n",
    "    dataset_on_off = safe_mask_masker.run(dataset_on_off, obs)\n",
    "    datasets.append(dataset_on_off)"
   ]
  },
  {
   "cell_type": "code",
   "execution_count": null,
   "id": "3eba6f4b",
   "metadata": {},
   "outputs": [],
   "source": [
    "spectral_model = PowerLawSpectralModel(\n",
    "    index=3.4, amplitude=2e-11 * u.Unit(\"1 / (cm2 s TeV)\"), reference=1 * u.TeV\n",
    ")\n",
    "spectral_model.parameters[\"index\"].frozen = False\n",
    "\n",
    "sky_model = SkyModel(spatial_model=None, spectral_model=spectral_model, name=\"pks2155\")"
   ]
  },
  {
   "cell_type": "code",
   "execution_count": null,
   "id": "84a0d42a",
   "metadata": {},
   "outputs": [],
   "source": [
    "times, results = time_resolved_spectroscopy(datasets, sky_model, time_intervals)"
   ]
  },
  {
   "cell_type": "code",
   "execution_count": null,
   "id": "48ca59a0",
   "metadata": {},
   "outputs": [],
   "source": [
    "table = create_table(times, results)"
   ]
  },
  {
   "cell_type": "code",
   "execution_count": null,
   "id": "d7c08b90",
   "metadata": {},
   "outputs": [],
   "source": [
    "amp = table[\"amplitude\"]\n",
    "indexes = table[\"index\"]\n",
    "times = table[\"time_start\"]"
   ]
  },
  {
   "cell_type": "code",
   "execution_count": null,
   "id": "4b8352cf",
   "metadata": {},
   "outputs": [],
   "source": [
    "plt.scatter(amp, indexes, c=times)\n",
    "plt.plot(amp, indexes, linewidth=0.5)\n",
    "plt.show()"
   ]
  },
  {
   "cell_type": "code",
   "execution_count": null,
   "id": "270a0461",
   "metadata": {},
   "outputs": [],
   "source": [
    "spectral_model_bpl = BrokenPowerLawSpectralModel(index1=3, index2=3.8, amplitude=2e-11 * u.Unit(\"1 / (cm2 s TeV)\"), ebreak=1 * u.TeV\n",
    ")\n",
    "sky_model_bpl = SkyModel(spatial_model=None, spectral_model=spectral_model, name=\"pks2155\")"
   ]
  },
  {
   "cell_type": "code",
   "execution_count": null,
   "id": "390725c0",
   "metadata": {},
   "outputs": [],
   "source": [
    "times, results_bpl = time_resolved_spectroscopy(datasets, sky_model_bpl, time_intervals)"
   ]
  },
  {
   "cell_type": "code",
   "execution_count": null,
   "id": "d54dd11f",
   "metadata": {},
   "outputs": [],
   "source": [
    "table_bpl = create_table(times, results_bpl)"
   ]
  }
 ],
 "metadata": {
  "kernelspec": {
   "display_name": "Python 3 (ipykernel)",
   "language": "python",
   "name": "python3"
  },
  "language_info": {
   "codemirror_mode": {
    "name": "ipython",
    "version": 3
   },
   "file_extension": ".py",
   "mimetype": "text/x-python",
   "name": "python",
   "nbconvert_exporter": "python",
   "pygments_lexer": "ipython3",
   "version": "3.11.9"
  }
 },
 "nbformat": 4,
 "nbformat_minor": 5
}

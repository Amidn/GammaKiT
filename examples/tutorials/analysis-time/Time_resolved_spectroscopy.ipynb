{
 "cells": [
  {
   "cell_type": "markdown",
   "id": "8477890a",
   "metadata": {},
   "source": [
    "A time resolved spectroscopy estimator\n",
    "=======================\n",
    "\n",
    "Do a time resolved spectral fit for the PKS 2155-304 flare on 15 minutes time intervals.\n",
    "\n",
    "Prerequisites\n",
    "-------------\n",
    "\n",
    "-  Understanding of how the light curve estimator works, please refer to\n",
    "   :doc:`light curve notebook </tutorials/analysis-time/light_curve>`, and :doc:`light curve for flares notebook </tutorials/analysis-time/light_curve_for_flares>`.\n",
    "\n",
    "Context\n",
    "-------\n",
    "\n",
    "In the analysis of flaring sources, it is often interesting to study not only how\n",
    "the flux changes with time but also the variability of the spectral shape and hardness.\n",
    "\n",
    "A typical example is given by the flare of PKS 2155-304 during the night\n",
    "from July 29 to 30 2006. See the `following\n",
    "article <https://ui.adsabs.harvard.edu/abs/2009A%26A...502..749A/abstract>`__.\n",
    "\n",
    "**Objective: Model the varibility of the spectral index of \n",
    "PKS 2155-304 in 15-minutes time intervals.**\n",
    "\n",
    "Proposed approach\n",
    "-----------------\n",
    "\n",
    "We have seen in the general presentation of the light curve estimator,\n",
    "see the :doc:`light curve notebook </tutorials/analysis-time/light_curve>`, and how to select\n",
    "and produce datasets on smaller time steps in `light curve notebook </tutorials/analysis-time/light_curve_for_flares>`.\n",
    "\n",
    "After the selection, we can initially model the spectral shape as a Power Law,\n",
    "and loop the model fitting over the produced datasets to obtain the evolution of the spectral index.\n",
    "We can also test different models to see which one best tracks the observations.\n",
    "\n",
    "In summary, we have to:\n",
    "\n",
    "-  Select relevant `~gammapy.data.Observations` from the\n",
    "   `~gammapy.data.DataStore`\n",
    "-  Apply the time selection in our predefined time intervals to obtain a\n",
    "   new `~gammapy.data.Observations`\n",
    "-  Perform the data reduction (in 1D or 3D)\n",
    "-  Define the initial source model\n",
    "-  Fit the model in each interval and extract the spectral index\n",
    "\n",
    "Here, we will use the PKS 2155-304 observations from the\n",
    "`H.E.S.S. first public test data release <https://www.mpi-hd.mpg.de/hfm/HESS/pages/dl3-dr1/>`__.\n",
    "We will use time intervals of 15 minutes\n",
    "duration. The tutorial is implemented with the intermediate level API.\n",
    "\n",
    "Setup\n",
    "-----\n",
    "\n",
    "As usual, we’ll start with some general imports…\n",
    "\n"
   ]
  },
  {
   "cell_type": "code",
   "execution_count": 18,
   "id": "512475b4",
   "metadata": {},
   "outputs": [],
   "source": [
    "import logging\n",
    "import numpy as np\n",
    "import astropy.units as u\n",
    "from astropy.coordinates import Angle, SkyCoord\n",
    "from astropy.time import Time\n",
    "from astropy.table import QTable\n",
    "from regions import CircleSkyRegion\n",
    "\n",
    "# %matplotlib inline\n",
    "import matplotlib.pyplot as plt\n",
    "\n",
    "log = logging.getLogger(__name__)\n",
    "\n",
    "from gammapy.data import DataStore, GTI\n",
    "from gammapy.datasets import Datasets, SpectrumDataset\n",
    "\n",
    "from gammapy.estimators import LightCurveEstimator, Estimator\n",
    "from gammapy.estimators.utils import get_rebinned_axis\n",
    "from gammapy.makers import (\n",
    "    ReflectedRegionsBackgroundMaker,\n",
    "    SafeMaskMaker,\n",
    "    SpectrumDatasetMaker,\n",
    ")\n",
    "from gammapy.maps import MapAxis, RegionGeom, TimeMapAxis\n",
    "from gammapy.modeling import Fit\n",
    "from gammapy.modeling.models import PowerLawSpectralModel, SkyModel, BrokenPowerLawSpectralModel, Models, SpectralModel"
   ]
  },
  {
   "cell_type": "code",
   "execution_count": 4,
   "id": "a76c0b87",
   "metadata": {},
   "outputs": [],
   "source": [
    "log = logging.getLogger(__name__)"
   ]
  },
  {
   "cell_type": "markdown",
   "id": "26a10d2e",
   "metadata": {},
   "source": [
    "### Data selection\n",
    "\n",
    "We select the datastore and restrict it to events within 2 degrees of PKS2155-304."
   ]
  },
  {
   "cell_type": "code",
   "execution_count": 5,
   "id": "90010003",
   "metadata": {},
   "outputs": [
    {
     "name": "stdout",
     "output_type": "stream",
     "text": [
      "Number of selected observations : 21\n"
     ]
    }
   ],
   "source": [
    "data_store = DataStore.from_dir(\"$GAMMAPY_DATA/hess-dl3-dr1/\")\n",
    "target_position = SkyCoord(329.71693826 * u.deg, -30.2255890 * u.deg, frame=\"icrs\")\n",
    "selection = dict(\n",
    "    type=\"sky_circle\",\n",
    "    frame=\"icrs\",\n",
    "    lon=target_position.ra,\n",
    "    lat=target_position.dec,\n",
    "    radius=2 * u.deg,\n",
    ")\n",
    "obs_ids = data_store.obs_table.select_observations(selection)[\"OBS_ID\"]\n",
    "observations = data_store.get_observations(obs_ids)\n",
    "print(f\"Number of selected observations : {len(observations)}\")"
   ]
  },
  {
   "cell_type": "markdown",
   "id": "2130912d",
   "metadata": {},
   "source": [
    "We define 10-minutes time intervals as lists of ``~astropy.Time`` start and stop objects, and apply the intervals to the observations by using ``~observations.select_time``"
   ]
  },
  {
   "cell_type": "code",
   "execution_count": 6,
   "id": "9c154ceb",
   "metadata": {},
   "outputs": [
    {
     "name": "stdout",
     "output_type": "stream",
     "text": [
      "[53946.09375    53946.10416667]\n",
      "Number of observations after time filtering: 34\n",
      "\n",
      "GTI info:\n",
      "- Number of GTIs: 1\n",
      "- Duration: 461.99999999999545 s\n",
      "- Start: 207521165.184 s MET\n",
      "- Start: 2006-07-29T20:45:00.000 (time standard: UTC)\n",
      "- Stop: 207521627.184 s MET\n",
      "- Stop: 2006-07-29T20:53:47.184 (time standard: TT)\n",
      "\n"
     ]
    }
   ],
   "source": [
    "t0 = Time(\"2006-07-29T20:30\")\n",
    "duration = 15 * u.min\n",
    "n_time_bins = 25\n",
    "times = t0 + np.arange(n_time_bins) * duration\n",
    "time_intervals = [Time([tstart, tstop]) for tstart, tstop in zip(times[:-1], times[1:])]\n",
    "print(time_intervals[-1].mjd)\n",
    "short_observations = observations.select_time(time_intervals)\n",
    "# check that observations have been filtered\n",
    "print(f\"Number of observations after time filtering: {len(short_observations)}\\n\")\n",
    "print(short_observations[1].gti)"
   ]
  },
  {
   "cell_type": "markdown",
   "id": "3785ec4d",
   "metadata": {},
   "source": [
    "## Data reduction\n",
    "\n",
    "We define the energy axes. As usual, the true energy axis has to cover a\n",
    "wider range to ensure a good coverage of the measured energy range\n",
    "chosen.\n",
    "\n",
    "We need to define the ON extraction region. Its size follows typical\n",
    "spectral extraction regions for H.E.S.S. analyses."
   ]
  },
  {
   "cell_type": "code",
   "execution_count": 7,
   "id": "9c0cea4b",
   "metadata": {},
   "outputs": [],
   "source": [
    "# Target definition\n",
    "energy_axis = MapAxis.from_energy_bounds(\"0.4 TeV\", \"20 TeV\", nbin=10)\n",
    "energy_axis_true = MapAxis.from_energy_bounds(\n",
    "    \"0.1 TeV\", \"40 TeV\", nbin=20, name=\"energy_true\"\n",
    ")\n",
    "\n",
    "on_region_radius = Angle(\"0.11 deg\")\n",
    "on_region = CircleSkyRegion(center=target_position, radius=on_region_radius)\n",
    "\n",
    "geom = RegionGeom.create(region=on_region, axes=[energy_axis])"
   ]
  },
  {
   "cell_type": "markdown",
   "id": "0cbb07f6",
   "metadata": {},
   "source": [
    "We now create the dataset and background makers for the selected\n",
    "geometry and to the actual data reduction"
   ]
  },
  {
   "cell_type": "code",
   "execution_count": 8,
   "id": "86a320ac",
   "metadata": {},
   "outputs": [],
   "source": [
    "dataset_maker = SpectrumDatasetMaker(\n",
    "    containment_correction=True, selection=[\"counts\", \"exposure\", \"edisp\"]\n",
    ")\n",
    "bkg_maker = ReflectedRegionsBackgroundMaker()\n",
    "safe_mask_masker = SafeMaskMaker(methods=[\"aeff-max\"], aeff_percent=10)"
   ]
  },
  {
   "cell_type": "code",
   "execution_count": 9,
   "id": "852ba80a",
   "metadata": {},
   "outputs": [],
   "source": [
    "datasets = Datasets()\n",
    "\n",
    "dataset_empty = SpectrumDataset.create(geom=geom, energy_axis_true=energy_axis_true)\n",
    "\n",
    "for obs in short_observations:\n",
    "    dataset = dataset_maker.run(dataset_empty.copy(), obs)\n",
    "\n",
    "    dataset_on_off = bkg_maker.run(dataset, obs)\n",
    "    dataset_on_off = safe_mask_masker.run(dataset_on_off, obs)\n",
    "    datasets.append(dataset_on_off)"
   ]
  },
  {
   "cell_type": "markdown",
   "id": "4e25c8f9",
   "metadata": {},
   "source": [
    "## Modeling\n",
    "\n",
    "We set the initial model: he power law spectral model of index 3.4 used in the\n",
    "`reference\n",
    "paper <https://ui.adsabs.harvard.edu/abs/2009A%26A...502..749A/abstract>`__.\n",
    "\n",
    "This model will be re-fitted in each time interval to investigate the change in spectral hardness."
   ]
  },
  {
   "cell_type": "code",
   "execution_count": 10,
   "id": "3eba6f4b",
   "metadata": {},
   "outputs": [],
   "source": [
    "spectral_model = PowerLawSpectralModel(\n",
    "    index=3.4, amplitude=2e-11 * u.Unit(\"1 / (cm2 s TeV)\"), reference=1 * u.TeV\n",
    ")\n",
    "spectral_model.parameters[\"index\"].frozen = False\n",
    "\n",
    "sky_model = SkyModel(spatial_model=None, spectral_model=spectral_model, name=\"pks2155\")"
   ]
  },
  {
   "cell_type": "markdown",
   "id": "0742259f",
   "metadata": {},
   "source": [
    "## Time resolved spectroscopy algorithm\n",
    "\n",
    "Here we define the algorithm used to fit the sky model in each temporal bin.."
   ]
  },
  {
   "cell_type": "code",
   "execution_count": 11,
   "id": "dd2fd3e2",
   "metadata": {},
   "outputs": [],
   "source": [
    "def time_resolved_spectroscopy(datasets, model, time_intervals):\n",
    "    fit = Fit()\n",
    "    valid_intervals = []\n",
    "    fit_results = []\n",
    "    index = 0\n",
    "    for t_min, t_max in time_intervals:\n",
    "        datasets_to_fit = datasets.select_time(\n",
    "            time_min=t_min, time_max=t_max\n",
    "        )\n",
    "\n",
    "        if len(datasets_to_fit) == 0:\n",
    "            log.info(\n",
    "                f\"No Dataset for the time interval {t_min} to {t_max}. Skipping interval.\"\n",
    "            )\n",
    "            continue\n",
    "\n",
    "        model_in_bin = model.copy(name=\"Model_bin_\" + str(index))\n",
    "        datasets_to_fit.models = model_in_bin\n",
    "        result = fit.run(datasets_to_fit)\n",
    "        fit_results.append(result)\n",
    "        valid_intervals.append([t_min, t_max])\n",
    "        index += 1\n",
    "\n",
    "    return valid_intervals, fit_results"
   ]
  },
  {
   "cell_type": "markdown",
   "id": "efa7bf17",
   "metadata": {},
   "source": [
    "... and apply it to our data."
   ]
  },
  {
   "cell_type": "code",
   "execution_count": 12,
   "id": "84a0d42a",
   "metadata": {},
   "outputs": [],
   "source": [
    "times, results = time_resolved_spectroscopy(datasets, sky_model, time_intervals)"
   ]
  },
  {
   "cell_type": "markdown",
   "id": "de050fff",
   "metadata": {},
   "source": [
    "To better visualize the data, we can create a table with the fit results."
   ]
  },
  {
   "cell_type": "code",
   "execution_count": 44,
   "id": "0d7d02b4",
   "metadata": {},
   "outputs": [],
   "source": [
    "def create_table(time_intervals, fit_result):\n",
    "\n",
    "    t = QTable()\n",
    "\n",
    "    t[\"tstart\"] = np.array(times).T[0]\n",
    "    t[\"tstop\"] = np.array(times).T[1]\n",
    "    t[\"convergence\"] = [result.success for result in fit_result]\n",
    "    for par in fit_result[0].models.parameters.free_parameters:\n",
    "        t[par.name] = [result.models.parameters[par.name].value*par.unit for result in fit_result]\n",
    "        t[par.name+\"_err\"] = [result.models.parameters[par.name].error*par.unit for result in fit_result]\n",
    "    \n",
    "    return t"
   ]
  },
  {
   "cell_type": "code",
   "execution_count": 45,
   "id": "48ca59a0",
   "metadata": {},
   "outputs": [],
   "source": [
    "table = create_table(times, results)"
   ]
  },
  {
   "cell_type": "code",
   "execution_count": 46,
   "id": "bd4d8214",
   "metadata": {},
   "outputs": [
    {
     "data": {
      "text/html": [
       "<div><i>QTable length=24</i>\n",
       "<table id=\"table6028167568\" class=\"table-striped table-bordered table-condensed\">\n",
       "<thead><tr><th>tstart</th><th>tstop</th><th>convergence</th><th>index</th><th>index_err</th><th>amplitude</th><th>amplitude_err</th></tr></thead>\n",
       "<thead><tr><th></th><th></th><th></th><th></th><th></th><th>1 / (TeV s cm2)</th><th>1 / (TeV s cm2)</th></tr></thead>\n",
       "<thead><tr><th>Time</th><th>Time</th><th>bool</th><th>float64</th><th>float64</th><th>float64</th><th>float64</th></tr></thead>\n",
       "<tr><td>2006-07-29T20:30:00.000</td><td>2006-07-29T20:45:00.000</td><td>True</td><td>4.010482311801332</td><td>0.35371580237461053</td><td>1.0214504285338326e-10</td><td>1.2918635611975205e-11</td></tr>\n",
       "<tr><td>2006-07-29T20:45:00.000</td><td>2006-07-29T21:00:00.000</td><td>True</td><td>4.124876431218365</td><td>0.22570705352248632</td><td>1.2505685602642183e-10</td><td>1.1393230074546923e-11</td></tr>\n",
       "<tr><td>2006-07-29T21:00:00.000</td><td>2006-07-29T21:15:00.000</td><td>True</td><td>3.5885320164960652</td><td>0.1305041547312192</td><td>1.6486837159312574e-10</td><td>9.821730482088637e-12</td></tr>\n",
       "<tr><td>2006-07-29T21:15:00.000</td><td>2006-07-29T21:30:00.000</td><td>True</td><td>3.4272779026205873</td><td>0.10213617111301741</td><td>1.640131892171729e-10</td><td>1.0033774664697904e-11</td></tr>\n",
       "<tr><td>2006-07-29T21:30:00.000</td><td>2006-07-29T21:45:00.000</td><td>True</td><td>3.4883166145008686</td><td>0.07291066506213464</td><td>2.1617552128156868e-10</td><td>1.0859204765317325e-11</td></tr>\n",
       "<tr><td>2006-07-29T21:45:00.000</td><td>2006-07-29T22:00:00.000</td><td>True</td><td>3.683785331815155</td><td>0.08922936297835915</td><td>1.8441229219043605e-10</td><td>1.1660254882953343e-11</td></tr>\n",
       "<tr><td>2006-07-29T22:00:00.000</td><td>2006-07-29T22:15:00.000</td><td>True</td><td>3.5496141390669873</td><td>0.08729160742444572</td><td>1.5876816221100953e-10</td><td>9.684145303416506e-12</td></tr>\n",
       "<tr><td>2006-07-29T22:15:00.000</td><td>2006-07-29T22:30:00.000</td><td>True</td><td>3.6852331762651924</td><td>0.1153793765232876</td><td>1.114777436629298e-10</td><td>9.201010018939036e-12</td></tr>\n",
       "<tr><td>2006-07-29T22:30:00.000</td><td>2006-07-29T22:45:00.000</td><td>True</td><td>3.6232746648627185</td><td>0.10843424384283118</td><td>1.0648975094099956e-10</td><td>8.245654780180715e-12</td></tr>\n",
       "<tr><td>...</td><td>...</td><td>...</td><td>...</td><td>...</td><td>...</td><td>...</td></tr>\n",
       "<tr><td>2006-07-30T00:15:00.000</td><td>2006-07-30T00:30:00.000</td><td>True</td><td>3.6892787497699033</td><td>0.18518091791456617</td><td>4.2639140288275664e-11</td><td>5.598407379712742e-12</td></tr>\n",
       "<tr><td>2006-07-30T00:30:00.000</td><td>2006-07-30T00:45:00.000</td><td>True</td><td>3.6870219344863213</td><td>0.2038002968982591</td><td>4.263107840424631e-11</td><td>6.171571995599872e-12</td></tr>\n",
       "<tr><td>2006-07-30T00:45:00.000</td><td>2006-07-30T01:00:00.000</td><td>True</td><td>4.051767571619139</td><td>0.19247187504381197</td><td>4.0370832990400745e-11</td><td>5.8688160167880705e-12</td></tr>\n",
       "<tr><td>2006-07-30T01:00:00.000</td><td>2006-07-30T01:15:00.000</td><td>True</td><td>3.620967193288899</td><td>0.15965116616966277</td><td>6.198865706439069e-11</td><td>6.972443277677085e-12</td></tr>\n",
       "<tr><td>2006-07-30T01:15:00.000</td><td>2006-07-30T01:30:00.000</td><td>True</td><td>3.8177169017249315</td><td>0.16227724251820122</td><td>5.3928331869276345e-11</td><td>6.37746177988346e-12</td></tr>\n",
       "<tr><td>2006-07-30T01:30:00.000</td><td>2006-07-30T01:45:00.000</td><td>True</td><td>3.7337990144488296</td><td>0.17885341699113136</td><td>4.973423559585598e-11</td><td>6.3985389683223835e-12</td></tr>\n",
       "<tr><td>2006-07-30T01:45:00.000</td><td>2006-07-30T02:00:00.000</td><td>True</td><td>3.907876315644272</td><td>0.19701296937422044</td><td>3.620408889048519e-11</td><td>5.282955598327583e-12</td></tr>\n",
       "<tr><td>2006-07-30T02:00:00.000</td><td>2006-07-30T02:15:00.000</td><td>True</td><td>3.565002738454546</td><td>0.1822860876236334</td><td>4.4550386563903875e-11</td><td>5.7142616323090665e-12</td></tr>\n",
       "<tr><td>2006-07-30T02:15:00.000</td><td>2006-07-30T02:30:00.000</td><td>True</td><td>3.7345714906246896</td><td>0.20710611417696123</td><td>3.0636087301789395e-11</td><td>4.578457034022064e-12</td></tr>\n",
       "</table></div>"
      ],
      "text/plain": [
       "<QTable length=24>\n",
       "         tstart                  tstop          ...     amplitude_err     \n",
       "                                                ...    1 / (TeV s cm2)    \n",
       "          Time                    Time          ...        float64        \n",
       "----------------------- ----------------------- ... ----------------------\n",
       "2006-07-29T20:30:00.000 2006-07-29T20:45:00.000 ... 1.2918635611975205e-11\n",
       "2006-07-29T20:45:00.000 2006-07-29T21:00:00.000 ... 1.1393230074546923e-11\n",
       "2006-07-29T21:00:00.000 2006-07-29T21:15:00.000 ...  9.821730482088637e-12\n",
       "2006-07-29T21:15:00.000 2006-07-29T21:30:00.000 ... 1.0033774664697904e-11\n",
       "2006-07-29T21:30:00.000 2006-07-29T21:45:00.000 ... 1.0859204765317325e-11\n",
       "2006-07-29T21:45:00.000 2006-07-29T22:00:00.000 ... 1.1660254882953343e-11\n",
       "2006-07-29T22:00:00.000 2006-07-29T22:15:00.000 ...  9.684145303416506e-12\n",
       "2006-07-29T22:15:00.000 2006-07-29T22:30:00.000 ...  9.201010018939036e-12\n",
       "2006-07-29T22:30:00.000 2006-07-29T22:45:00.000 ...  8.245654780180715e-12\n",
       "                    ...                     ... ...                    ...\n",
       "2006-07-30T00:15:00.000 2006-07-30T00:30:00.000 ...  5.598407379712742e-12\n",
       "2006-07-30T00:30:00.000 2006-07-30T00:45:00.000 ...  6.171571995599872e-12\n",
       "2006-07-30T00:45:00.000 2006-07-30T01:00:00.000 ... 5.8688160167880705e-12\n",
       "2006-07-30T01:00:00.000 2006-07-30T01:15:00.000 ...  6.972443277677085e-12\n",
       "2006-07-30T01:15:00.000 2006-07-30T01:30:00.000 ...   6.37746177988346e-12\n",
       "2006-07-30T01:30:00.000 2006-07-30T01:45:00.000 ... 6.3985389683223835e-12\n",
       "2006-07-30T01:45:00.000 2006-07-30T02:00:00.000 ...  5.282955598327583e-12\n",
       "2006-07-30T02:00:00.000 2006-07-30T02:15:00.000 ... 5.7142616323090665e-12\n",
       "2006-07-30T02:15:00.000 2006-07-30T02:30:00.000 ...  4.578457034022064e-12"
      ]
     },
     "execution_count": 46,
     "metadata": {},
     "output_type": "execute_result"
    }
   ],
   "source": [
    "table"
   ]
  },
  {
   "cell_type": "code",
   "execution_count": 35,
   "id": "9c743fed",
   "metadata": {},
   "outputs": [],
   "source": [
    "taab = QTable()\n",
    "\n",
    "taab[\"t1\"] = np.array(times).T[0]\n",
    "taab[\"t2\"] = np.array(times).T[1]\n",
    "taab[\"succ\"] = [result.success for result in results]\n",
    "for par in results[0].models.parameters.free_parameters:\n",
    "    taab[par.name] = [result.models.parameters[par.name].value*par.unit for result in results]\n",
    "    taab[par.name+\"_err\"] = [result.models.parameters[par.name].error*par.unit for result in results]"
   ]
  },
  {
   "cell_type": "code",
   "execution_count": 34,
   "id": "7a12fed8",
   "metadata": {},
   "outputs": [
    {
     "data": {
      "text/plain": [
       "[Parameter(name='index', value=4.010482311801332, factor=4.010482311801332, scale=1.0, unit=Unit(dimensionless), min=nan, max=nan, frozen=False, prior=None, id=0x162c3c890),\n",
       " Parameter(name='index', value=4.124876431218365, factor=4.124876431218365, scale=1.0, unit=Unit(dimensionless), min=nan, max=nan, frozen=False, prior=None, id=0x162681050),\n",
       " Parameter(name='index', value=3.5885320164960652, factor=3.5885320164960652, scale=1.0, unit=Unit(dimensionless), min=nan, max=nan, frozen=False, prior=None, id=0x163992410),\n",
       " Parameter(name='index', value=3.4272779026205873, factor=3.4272779026205873, scale=1.0, unit=Unit(dimensionless), min=nan, max=nan, frozen=False, prior=None, id=0x1639ea710),\n",
       " Parameter(name='index', value=3.4883166145008686, factor=3.4883166145008686, scale=1.0, unit=Unit(dimensionless), min=nan, max=nan, frozen=False, prior=None, id=0x1639a9dd0),\n",
       " Parameter(name='index', value=3.683785331815155, factor=3.683785331815155, scale=1.0, unit=Unit(dimensionless), min=nan, max=nan, frozen=False, prior=None, id=0x163a39090),\n",
       " Parameter(name='index', value=3.5496141390669873, factor=3.5496141390669873, scale=1.0, unit=Unit(dimensionless), min=nan, max=nan, frozen=False, prior=None, id=0x163a2b490),\n",
       " Parameter(name='index', value=3.6852331762651924, factor=3.6852331762651924, scale=1.0, unit=Unit(dimensionless), min=nan, max=nan, frozen=False, prior=None, id=0x1639b1290),\n",
       " Parameter(name='index', value=3.6232746648627185, factor=3.6232746648627185, scale=1.0, unit=Unit(dimensionless), min=nan, max=nan, frozen=False, prior=None, id=0x1639e9050),\n",
       " Parameter(name='index', value=3.5641908155684994, factor=3.5641908155684994, scale=1.0, unit=Unit(dimensionless), min=nan, max=nan, frozen=False, prior=None, id=0x1639a5410),\n",
       " Parameter(name='index', value=3.418390199639458, factor=3.418390199639458, scale=1.0, unit=Unit(dimensionless), min=nan, max=nan, frozen=False, prior=None, id=0x163a654d0),\n",
       " Parameter(name='index', value=3.804254040859264, factor=3.804254040859264, scale=1.0, unit=Unit(dimensionless), min=nan, max=nan, frozen=False, prior=None, id=0x163a6d410),\n",
       " Parameter(name='index', value=4.1193519149436435, factor=4.1193519149436435, scale=1.0, unit=Unit(dimensionless), min=nan, max=nan, frozen=False, prior=None, id=0x163a38a50),\n",
       " Parameter(name='index', value=3.964599279302676, factor=3.964599279302676, scale=1.0, unit=Unit(dimensionless), min=nan, max=nan, frozen=False, prior=None, id=0x1639dd890),\n",
       " Parameter(name='index', value=3.382800863312823, factor=3.382800863312823, scale=1.0, unit=Unit(dimensionless), min=nan, max=nan, frozen=False, prior=None, id=0x163a33c50),\n",
       " Parameter(name='index', value=3.6892787497699033, factor=3.6892787497699033, scale=1.0, unit=Unit(dimensionless), min=nan, max=nan, frozen=False, prior=None, id=0x1639aa410),\n",
       " Parameter(name='index', value=3.6870219344863213, factor=3.6870219344863213, scale=1.0, unit=Unit(dimensionless), min=nan, max=nan, frozen=False, prior=None, id=0x163a1a110),\n",
       " Parameter(name='index', value=4.051767571619139, factor=4.051767571619139, scale=1.0, unit=Unit(dimensionless), min=nan, max=nan, frozen=False, prior=None, id=0x1639cc610),\n",
       " Parameter(name='index', value=3.620967193288899, factor=3.620967193288899, scale=1.0, unit=Unit(dimensionless), min=nan, max=nan, frozen=False, prior=None, id=0x1639ea3d0),\n",
       " Parameter(name='index', value=3.8177169017249315, factor=3.8177169017249315, scale=1.0, unit=Unit(dimensionless), min=nan, max=nan, frozen=False, prior=None, id=0x16284ac90),\n",
       " Parameter(name='index', value=3.7337990144488296, factor=3.7337990144488296, scale=1.0, unit=Unit(dimensionless), min=nan, max=nan, frozen=False, prior=None, id=0x1639fa410),\n",
       " Parameter(name='index', value=3.907876315644272, factor=3.907876315644272, scale=1.0, unit=Unit(dimensionless), min=nan, max=nan, frozen=False, prior=None, id=0x1639bb810),\n",
       " Parameter(name='index', value=3.565002738454546, factor=3.565002738454546, scale=1.0, unit=Unit(dimensionless), min=nan, max=nan, frozen=False, prior=None, id=0x163aaa110),\n",
       " Parameter(name='index', value=3.7345714906246896, factor=3.7345714906246896, scale=1.0, unit=Unit(dimensionless), min=nan, max=nan, frozen=False, prior=None, id=0x163a4ce10)]"
      ]
     },
     "execution_count": 34,
     "metadata": {},
     "output_type": "execute_result"
    }
   ],
   "source": [
    "[result.models.parameters[\"index\"] for result in results]"
   ]
  },
  {
   "cell_type": "code",
   "execution_count": 36,
   "id": "f2e84fa0",
   "metadata": {},
   "outputs": [
    {
     "data": {
      "text/html": [
       "<div><i>QTable length=24</i>\n",
       "<table id=\"table6027596880\" class=\"table-striped table-bordered table-condensed\">\n",
       "<thead><tr><th>t1</th><th>t2</th><th>succ</th><th>index</th><th>index_err</th><th>amplitude</th><th>amplitude_err</th></tr></thead>\n",
       "<thead><tr><th></th><th></th><th></th><th></th><th></th><th>1 / (TeV s cm2)</th><th>1 / (TeV s cm2)</th></tr></thead>\n",
       "<thead><tr><th>Time</th><th>Time</th><th>bool</th><th>float64</th><th>float64</th><th>float64</th><th>float64</th></tr></thead>\n",
       "<tr><td>2006-07-29T20:30:00.000</td><td>2006-07-29T20:45:00.000</td><td>True</td><td>4.010482311801332</td><td>0.35371580237461053</td><td>1.0214504285338326e-10</td><td>1.2918635611975205e-11</td></tr>\n",
       "<tr><td>2006-07-29T20:45:00.000</td><td>2006-07-29T21:00:00.000</td><td>True</td><td>4.124876431218365</td><td>0.22570705352248632</td><td>1.2505685602642183e-10</td><td>1.1393230074546923e-11</td></tr>\n",
       "<tr><td>2006-07-29T21:00:00.000</td><td>2006-07-29T21:15:00.000</td><td>True</td><td>3.5885320164960652</td><td>0.1305041547312192</td><td>1.6486837159312574e-10</td><td>9.821730482088637e-12</td></tr>\n",
       "<tr><td>2006-07-29T21:15:00.000</td><td>2006-07-29T21:30:00.000</td><td>True</td><td>3.4272779026205873</td><td>0.10213617111301741</td><td>1.640131892171729e-10</td><td>1.0033774664697904e-11</td></tr>\n",
       "<tr><td>2006-07-29T21:30:00.000</td><td>2006-07-29T21:45:00.000</td><td>True</td><td>3.4883166145008686</td><td>0.07291066506213464</td><td>2.1617552128156868e-10</td><td>1.0859204765317325e-11</td></tr>\n",
       "<tr><td>2006-07-29T21:45:00.000</td><td>2006-07-29T22:00:00.000</td><td>True</td><td>3.683785331815155</td><td>0.08922936297835915</td><td>1.8441229219043605e-10</td><td>1.1660254882953343e-11</td></tr>\n",
       "<tr><td>2006-07-29T22:00:00.000</td><td>2006-07-29T22:15:00.000</td><td>True</td><td>3.5496141390669873</td><td>0.08729160742444572</td><td>1.5876816221100953e-10</td><td>9.684145303416506e-12</td></tr>\n",
       "<tr><td>2006-07-29T22:15:00.000</td><td>2006-07-29T22:30:00.000</td><td>True</td><td>3.6852331762651924</td><td>0.1153793765232876</td><td>1.114777436629298e-10</td><td>9.201010018939036e-12</td></tr>\n",
       "<tr><td>2006-07-29T22:30:00.000</td><td>2006-07-29T22:45:00.000</td><td>True</td><td>3.6232746648627185</td><td>0.10843424384283118</td><td>1.0648975094099956e-10</td><td>8.245654780180715e-12</td></tr>\n",
       "<tr><td>...</td><td>...</td><td>...</td><td>...</td><td>...</td><td>...</td><td>...</td></tr>\n",
       "<tr><td>2006-07-30T00:15:00.000</td><td>2006-07-30T00:30:00.000</td><td>True</td><td>3.6892787497699033</td><td>0.18518091791456617</td><td>4.2639140288275664e-11</td><td>5.598407379712742e-12</td></tr>\n",
       "<tr><td>2006-07-30T00:30:00.000</td><td>2006-07-30T00:45:00.000</td><td>True</td><td>3.6870219344863213</td><td>0.2038002968982591</td><td>4.263107840424631e-11</td><td>6.171571995599872e-12</td></tr>\n",
       "<tr><td>2006-07-30T00:45:00.000</td><td>2006-07-30T01:00:00.000</td><td>True</td><td>4.051767571619139</td><td>0.19247187504381197</td><td>4.0370832990400745e-11</td><td>5.8688160167880705e-12</td></tr>\n",
       "<tr><td>2006-07-30T01:00:00.000</td><td>2006-07-30T01:15:00.000</td><td>True</td><td>3.620967193288899</td><td>0.15965116616966277</td><td>6.198865706439069e-11</td><td>6.972443277677085e-12</td></tr>\n",
       "<tr><td>2006-07-30T01:15:00.000</td><td>2006-07-30T01:30:00.000</td><td>True</td><td>3.8177169017249315</td><td>0.16227724251820122</td><td>5.3928331869276345e-11</td><td>6.37746177988346e-12</td></tr>\n",
       "<tr><td>2006-07-30T01:30:00.000</td><td>2006-07-30T01:45:00.000</td><td>True</td><td>3.7337990144488296</td><td>0.17885341699113136</td><td>4.973423559585598e-11</td><td>6.3985389683223835e-12</td></tr>\n",
       "<tr><td>2006-07-30T01:45:00.000</td><td>2006-07-30T02:00:00.000</td><td>True</td><td>3.907876315644272</td><td>0.19701296937422044</td><td>3.620408889048519e-11</td><td>5.282955598327583e-12</td></tr>\n",
       "<tr><td>2006-07-30T02:00:00.000</td><td>2006-07-30T02:15:00.000</td><td>True</td><td>3.565002738454546</td><td>0.1822860876236334</td><td>4.4550386563903875e-11</td><td>5.7142616323090665e-12</td></tr>\n",
       "<tr><td>2006-07-30T02:15:00.000</td><td>2006-07-30T02:30:00.000</td><td>True</td><td>3.7345714906246896</td><td>0.20710611417696123</td><td>3.0636087301789395e-11</td><td>4.578457034022064e-12</td></tr>\n",
       "</table></div>"
      ],
      "text/plain": [
       "<QTable length=24>\n",
       "           t1                      t2           ...     amplitude_err     \n",
       "                                                ...    1 / (TeV s cm2)    \n",
       "          Time                    Time          ...        float64        \n",
       "----------------------- ----------------------- ... ----------------------\n",
       "2006-07-29T20:30:00.000 2006-07-29T20:45:00.000 ... 1.2918635611975205e-11\n",
       "2006-07-29T20:45:00.000 2006-07-29T21:00:00.000 ... 1.1393230074546923e-11\n",
       "2006-07-29T21:00:00.000 2006-07-29T21:15:00.000 ...  9.821730482088637e-12\n",
       "2006-07-29T21:15:00.000 2006-07-29T21:30:00.000 ... 1.0033774664697904e-11\n",
       "2006-07-29T21:30:00.000 2006-07-29T21:45:00.000 ... 1.0859204765317325e-11\n",
       "2006-07-29T21:45:00.000 2006-07-29T22:00:00.000 ... 1.1660254882953343e-11\n",
       "2006-07-29T22:00:00.000 2006-07-29T22:15:00.000 ...  9.684145303416506e-12\n",
       "2006-07-29T22:15:00.000 2006-07-29T22:30:00.000 ...  9.201010018939036e-12\n",
       "2006-07-29T22:30:00.000 2006-07-29T22:45:00.000 ...  8.245654780180715e-12\n",
       "                    ...                     ... ...                    ...\n",
       "2006-07-30T00:15:00.000 2006-07-30T00:30:00.000 ...  5.598407379712742e-12\n",
       "2006-07-30T00:30:00.000 2006-07-30T00:45:00.000 ...  6.171571995599872e-12\n",
       "2006-07-30T00:45:00.000 2006-07-30T01:00:00.000 ... 5.8688160167880705e-12\n",
       "2006-07-30T01:00:00.000 2006-07-30T01:15:00.000 ...  6.972443277677085e-12\n",
       "2006-07-30T01:15:00.000 2006-07-30T01:30:00.000 ...   6.37746177988346e-12\n",
       "2006-07-30T01:30:00.000 2006-07-30T01:45:00.000 ... 6.3985389683223835e-12\n",
       "2006-07-30T01:45:00.000 2006-07-30T02:00:00.000 ...  5.282955598327583e-12\n",
       "2006-07-30T02:00:00.000 2006-07-30T02:15:00.000 ... 5.7142616323090665e-12\n",
       "2006-07-30T02:15:00.000 2006-07-30T02:30:00.000 ...  4.578457034022064e-12"
      ]
     },
     "execution_count": 36,
     "metadata": {},
     "output_type": "execute_result"
    }
   ],
   "source": [
    "taab"
   ]
  },
  {
   "cell_type": "markdown",
   "id": "47e47561",
   "metadata": {},
   "source": [
    "... and plot the spectral index as a function of amplitude, highlighting the evolution in time to create a hysteresis plot."
   ]
  },
  {
   "cell_type": "code",
   "execution_count": null,
   "id": "d7c08b90",
   "metadata": {},
   "outputs": [],
   "source": [
    "amp = table[\"amplitude\"]\n",
    "indexes = table[\"index\"]\n",
    "times = table[\"time_start\"]"
   ]
  },
  {
   "cell_type": "code",
   "execution_count": null,
   "id": "4b8352cf",
   "metadata": {},
   "outputs": [],
   "source": [
    "plt.scatter(amp, indexes, c=times)\n",
    "plt.plot(amp, indexes, linewidth=0.5)\n",
    "plt.show()"
   ]
  },
  {
   "cell_type": "markdown",
   "id": "fddc1d1b",
   "metadata": {},
   "source": [
    "## Exercises\n",
    "\n",
    "Rerun the algorithm using a different spectral shape, such as a broken power law. Compare the significance of the new model with the simple power law. Take note of any fit non-convergence in the bins. "
   ]
  },
  {
   "cell_type": "code",
   "execution_count": null,
   "id": "dedc3dc0",
   "metadata": {},
   "outputs": [],
   "source": []
  }
 ],
 "metadata": {
  "kernelspec": {
   "display_name": "Python 3 (ipykernel)",
   "language": "python",
   "name": "python3"
  },
  "language_info": {
   "codemirror_mode": {
    "name": "ipython",
    "version": 3
   },
   "file_extension": ".py",
   "mimetype": "text/x-python",
   "name": "python",
   "nbconvert_exporter": "python",
   "pygments_lexer": "ipython3",
   "version": "3.11.9"
  }
 },
 "nbformat": 4,
 "nbformat_minor": 5
}

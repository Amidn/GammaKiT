{
 "cells": [
  {
   "cell_type": "code",
   "execution_count": 1,
   "id": "182d477f",
   "metadata": {},
   "outputs": [],
   "source": [
    "## Dataset Based on https://docs.gammapy.org/dev/tutorials/analysis-3d/simulate_3d.html?highlight=simulation"
   ]
  },
  {
   "cell_type": "code",
   "execution_count": 2,
   "id": "4be5264f",
   "metadata": {},
   "outputs": [],
   "source": [
    "from gammapy.datasets import MapDataset, Dataset\n",
    "from gammapy.modeling.models import SpectralModel,PowerLawSpectralModel, Model, Models, FoVBackgroundModel\n",
    "from gammapy.modeling.models import SkyModel, GaussianSpatialModel\n",
    "from gammapy.modeling import Parameter, Parameters\n",
    "import numpy as np"
   ]
  },
  {
   "cell_type": "code",
   "execution_count": 3,
   "id": "f4434896",
   "metadata": {},
   "outputs": [],
   "source": [
    "dataset= MapDataset.read('/home/katrin/Documents/simulated_dataset.fits')"
   ]
  },
  {
   "cell_type": "code",
   "execution_count": 4,
   "id": "81cbd2ac",
   "metadata": {},
   "outputs": [],
   "source": [
    "spatial_model = GaussianSpatialModel(\n",
    "    lon_0=\"0.2 deg\", lat_0=\"0.1 deg\", sigma=\"0.3 deg\", frame=\"galactic\"\n",
    ")\n",
    "spectral_model = PowerLawSpectralModel(\n",
    "    index=3, amplitude=\"1e-11 cm-2 s-1 TeV-1\", reference=\"1 TeV\"\n",
    ")\n",
    "model_simu = SkyModel(\n",
    "    spatial_model=spatial_model,\n",
    "    spectral_model=spectral_model,\n",
    "    name=\"model-simu\",\n",
    ")\n",
    "\n",
    "dataset.models = Models([FoVBackgroundModel(dataset_name = dataset.name,),\n",
    "                        model_simu])"
   ]
  },
  {
   "cell_type": "markdown",
   "id": "34c4e432",
   "metadata": {},
   "source": [
    "## Creating a Prior"
   ]
  },
  {
   "cell_type": "code",
   "execution_count": 5,
   "id": "efdd872f",
   "metadata": {},
   "outputs": [],
   "source": [
    "from gammapy.modeling.models import Model, GaussianPrior, UniformPrior\n",
    "from gammapy.modeling import Fit"
   ]
  },
  {
   "cell_type": "code",
   "execution_count": 6,
   "id": "4c133534",
   "metadata": {},
   "outputs": [],
   "source": [
    "gaussianprior  = GaussianPrior(mu = 1.5, sigma = 1e-3) "
   ]
  },
  {
   "cell_type": "code",
   "execution_count": 7,
   "id": "6f078d96",
   "metadata": {},
   "outputs": [],
   "source": [
    "#setting it on the index:\n",
    "dataset.models.parameters['index'].prior = gaussianprior"
   ]
  },
  {
   "cell_type": "code",
   "execution_count": 8,
   "id": "86c41bad",
   "metadata": {},
   "outputs": [
    {
     "name": "stdout",
     "output_type": "stream",
     "text": [
      "prior_stat_sum in map.py 2250000.0\n",
      "prior_stat_sum in map.py 2250000.0\n",
      "prior_stat_sum in map.py 2250000.0\n",
      "prior_stat_sum in map.py 2250000.0\n",
      "prior_stat_sum in map.py 2250000.0\n",
      "prior_stat_sum in map.py 2250000.0\n",
      "prior_stat_sum in map.py 2250000.0\n",
      "prior_stat_sum in map.py 5376813.891833376\n",
      "prior_stat_sum in map.py 464039.1827395235\n",
      "prior_stat_sum in map.py 2502343.0008275574\n",
      "prior_stat_sum in map.py 2011065.5299181717\n",
      "prior_stat_sum in map.py 2250000.0\n",
      "prior_stat_sum in map.py 2250000.0\n",
      "prior_stat_sum in map.py 2250000.0\n",
      "prior_stat_sum in map.py 2250000.0\n",
      "prior_stat_sum in map.py 2250000.0\n",
      "prior_stat_sum in map.py 2250000.0\n",
      "prior_stat_sum in map.py 2250000.0\n",
      "prior_stat_sum in map.py 2250000.0\n",
      "prior_stat_sum in map.py 2250000.0\n",
      "prior_stat_sum in map.py 2250000.0\n",
      "prior_stat_sum in map.py 2250000.0\n",
      "prior_stat_sum in map.py 2250000.0\n",
      "prior_stat_sum in map.py 2250000.0\n",
      "prior_stat_sum in map.py 2250000.0\n",
      "prior_stat_sum in map.py 2250000.0\n",
      "prior_stat_sum in map.py 2250000.0\n",
      "prior_stat_sum in map.py 2250000.0\n",
      "prior_stat_sum in map.py 2250000.0\n",
      "prior_stat_sum in map.py 2250000.0\n",
      "prior_stat_sum in map.py 2250000.0\n",
      "prior_stat_sum in map.py 284.43638475719837\n",
      "prior_stat_sum in map.py 284.43638475719837\n",
      "prior_stat_sum in map.py 284.43638475719837\n",
      "prior_stat_sum in map.py 627.6628182492813\n",
      "prior_stat_sum in map.py 75.29525872240686\n",
      "prior_stat_sum in map.py 312.72518927082535\n",
      "prior_stat_sum in map.py 257.4884333181439\n",
      "prior_stat_sum in map.py 284.43638475719837\n",
      "prior_stat_sum in map.py 284.43638475719837\n",
      "prior_stat_sum in map.py 284.43638475719837\n",
      "prior_stat_sum in map.py 284.43638475719837\n",
      "prior_stat_sum in map.py 284.43638475719837\n",
      "prior_stat_sum in map.py 284.43638475719837\n",
      "prior_stat_sum in map.py 284.43638475719837\n",
      "prior_stat_sum in map.py 284.43638475719837\n",
      "prior_stat_sum in map.py 284.43638475719837\n",
      "prior_stat_sum in map.py 284.43638475719837\n",
      "prior_stat_sum in map.py 284.43638475719837\n",
      "prior_stat_sum in map.py 284.43638475719837\n",
      "prior_stat_sum in map.py 284.43638475719837\n",
      "prior_stat_sum in map.py 284.43638475719837\n",
      "prior_stat_sum in map.py 284.43638475719837\n",
      "prior_stat_sum in map.py 284.43638475719837\n",
      "prior_stat_sum in map.py 7.011316526010183\n",
      "prior_stat_sum in map.py 0.008017710218834332\n",
      "prior_stat_sum in map.py 0.008017710218834332\n",
      "prior_stat_sum in map.py 0.008017710218834332\n",
      "prior_stat_sum in map.py 0.208904824152652\n",
      "prior_stat_sum in map.py 0.07727162264063679\n",
      "prior_stat_sum in map.py 0.008017710218834332\n",
      "prior_stat_sum in map.py 0.008017710218834332\n",
      "prior_stat_sum in map.py 0.008017710218834332\n",
      "prior_stat_sum in map.py 0.008017710218834332\n",
      "prior_stat_sum in map.py 0.008017710218834332\n",
      "prior_stat_sum in map.py 0.008017710218834332\n",
      "prior_stat_sum in map.py 0.008017710218834332\n",
      "prior_stat_sum in map.py 0.008017710218834332\n",
      "prior_stat_sum in map.py 0.015973319325197362\n",
      "prior_stat_sum in map.py 0.04259856574813835\n",
      "prior_stat_sum in map.py 0.032962748699895225\n",
      "prior_stat_sum in map.py 0.032962748699895225\n",
      "prior_stat_sum in map.py 0.032962748699895225\n",
      "prior_stat_sum in map.py 0.30146681257428026\n",
      "prior_stat_sum in map.py 0.034576291416580106\n",
      "prior_stat_sum in map.py 0.032962748699895225\n",
      "prior_stat_sum in map.py 0.032962748699895225\n",
      "prior_stat_sum in map.py 0.032962748699895225\n",
      "prior_stat_sum in map.py 0.032962748699895225\n",
      "prior_stat_sum in map.py 0.032962748699895225\n",
      "prior_stat_sum in map.py 0.032962748699895225\n",
      "prior_stat_sum in map.py 0.032962748699895225\n",
      "prior_stat_sum in map.py 0.032962748699895225\n",
      "prior_stat_sum in map.py 0.032962748699895225\n",
      "prior_stat_sum in map.py 0.032962748699895225\n",
      "prior_stat_sum in map.py 2.0541021791442984\n",
      "prior_stat_sum in map.py 8.260314894107983\n",
      "prior_stat_sum in map.py 8.260314894107983\n",
      "prior_stat_sum in map.py 8.260314894107983\n",
      "prior_stat_sum in map.py 10.509136250042772\n",
      "prior_stat_sum in map.py 6.281905180259708\n",
      "prior_stat_sum in map.py 8.260314894107983\n",
      "prior_stat_sum in map.py 8.260314894107983\n",
      "prior_stat_sum in map.py 8.260314894107983\n",
      "prior_stat_sum in map.py 8.260314894107983\n",
      "prior_stat_sum in map.py 8.260314894107983\n",
      "prior_stat_sum in map.py 8.260314894107983\n",
      "prior_stat_sum in map.py 8.260314894107983\n",
      "prior_stat_sum in map.py 8.260314894107983\n",
      "prior_stat_sum in map.py 4.196925873213045\n",
      "prior_stat_sum in map.py 2.77028754827153\n",
      "prior_stat_sum in map.py 2.77028754827153\n",
      "prior_stat_sum in map.py 2.77028754827153\n",
      "prior_stat_sum in map.py 4.129467728258746\n",
      "prior_stat_sum in map.py 1.6815008600821757\n",
      "prior_stat_sum in map.py 2.77028754827153\n",
      "prior_stat_sum in map.py 2.77028754827153\n",
      "prior_stat_sum in map.py 2.77028754827153\n",
      "prior_stat_sum in map.py 2.77028754827153\n",
      "prior_stat_sum in map.py 2.77028754827153\n",
      "prior_stat_sum in map.py 2.77028754827153\n",
      "prior_stat_sum in map.py 2.77028754827153\n",
      "prior_stat_sum in map.py 2.77028754827153\n",
      "prior_stat_sum in map.py 2.138404040204616\n",
      "prior_stat_sum in map.py 2.2493390727433007\n",
      "prior_stat_sum in map.py 2.2493390727433007\n",
      "prior_stat_sum in map.py 2.2493390727433007\n",
      "prior_stat_sum in map.py 3.4874862931287414\n",
      "prior_stat_sum in map.py 1.2816007784164671\n",
      "prior_stat_sum in map.py 2.2493390727433007\n",
      "prior_stat_sum in map.py 2.2493390727433007\n",
      "prior_stat_sum in map.py 2.2493390727433007\n",
      "prior_stat_sum in map.py 2.2493390727433007\n",
      "prior_stat_sum in map.py 2.2493390727433007\n",
      "prior_stat_sum in map.py 2.2493390727433007\n",
      "prior_stat_sum in map.py 2.2493390727433007\n",
      "prior_stat_sum in map.py 2.2493390727433007\n",
      "prior_stat_sum in map.py 2.2493853445408845\n",
      "prior_stat_sum in map.py 2.249428425477825\n",
      "prior_stat_sum in map.py 2.249428425477825\n",
      "prior_stat_sum in map.py 2.249428425477825\n",
      "prior_stat_sum in map.py 3.487584167507586\n",
      "prior_stat_sum in map.py 1.2816763387615921\n",
      "prior_stat_sum in map.py 2.249428425477825\n",
      "prior_stat_sum in map.py 2.249428425477825\n",
      "prior_stat_sum in map.py 2.249428425477825\n",
      "prior_stat_sum in map.py 2.249428425477825\n",
      "prior_stat_sum in map.py 2.249428425477825\n",
      "prior_stat_sum in map.py 2.249428425477825\n",
      "prior_stat_sum in map.py 2.249428425477825\n",
      "prior_stat_sum in map.py 2.249428425477825\n",
      "prior_stat_sum in map.py 2.260519800618556\n",
      "prior_stat_sum in map.py 2.2640983774933687\n",
      "prior_stat_sum in map.py 2.2652833395120036\n",
      "prior_stat_sum in map.py 2.2640983774933687\n",
      "prior_stat_sum in map.py 2.2640983774933687\n",
      "prior_stat_sum in map.py 3.5058453852593243\n",
      "prior_stat_sum in map.py 1.292755252397516\n",
      "prior_stat_sum in map.py 2.2640983774933687\n",
      "prior_stat_sum in map.py 2.2640983774933687\n",
      "prior_stat_sum in map.py 2.2640983774933687\n",
      "prior_stat_sum in map.py 2.2640983774933687\n",
      "prior_stat_sum in map.py 2.2640983774933687\n",
      "prior_stat_sum in map.py 2.2640983774933687\n",
      "prior_stat_sum in map.py 2.2640983774933687\n",
      "prior_stat_sum in map.py 2.2640983774933687\n",
      "prior_stat_sum in map.py 2.2640983774933687\n",
      "prior_stat_sum in map.py 2.2640983774933687\n",
      "prior_stat_sum in map.py 2.2640983774933687\n",
      "prior_stat_sum in map.py 3.5058453852593243\n",
      "prior_stat_sum in map.py 1.292755252397516\n",
      "prior_stat_sum in map.py 2.2640983774933687\n",
      "prior_stat_sum in map.py 2.2640983774933687\n",
      "prior_stat_sum in map.py 2.2640983774933687\n",
      "prior_stat_sum in map.py 2.2640983774933687\n",
      "prior_stat_sum in map.py 2.2640983774933687\n",
      "prior_stat_sum in map.py 2.2640983774933687\n",
      "prior_stat_sum in map.py 2.2640983774933687\n",
      "prior_stat_sum in map.py 2.2640983774933687\n",
      "prior_stat_sum in map.py 2.2640983774933687\n",
      "prior_stat_sum in map.py 2.2640983774933687\n",
      "prior_stat_sum in map.py 2.4908154684328117\n",
      "prior_stat_sum in map.py 2.0481974418607174\n",
      "prior_stat_sum in map.py 2.2640983774933687\n",
      "prior_stat_sum in map.py 2.2640983774933687\n",
      "prior_stat_sum in map.py 2.2640983774933687\n",
      "prior_stat_sum in map.py 2.2640983774933687\n",
      "prior_stat_sum in map.py 2.2640983774933687\n",
      "prior_stat_sum in map.py 2.2640983774933687\n",
      "prior_stat_sum in map.py 2.2640983774933687\n",
      "prior_stat_sum in map.py 2.2640983774933687\n",
      "prior_stat_sum in map.py 2.2640983774933687\n",
      "prior_stat_sum in map.py 2.2640983774933687\n",
      "prior_stat_sum in map.py 2.2640983774933687\n",
      "prior_stat_sum in map.py 2.2640983774933687\n",
      "prior_stat_sum in map.py 2.2640983774933687\n",
      "prior_stat_sum in map.py 2.2640983774933687\n",
      "prior_stat_sum in map.py 2.2640983774933687\n",
      "prior_stat_sum in map.py 2.2640983774933687\n",
      "prior_stat_sum in map.py 3.5058453852593243\n",
      "prior_stat_sum in map.py 2.2640983774933687\n",
      "prior_stat_sum in map.py 2.2640983774933687\n",
      "prior_stat_sum in map.py 2.2640983774933687\n",
      "prior_stat_sum in map.py 2.2640983774933687\n",
      "prior_stat_sum in map.py 3.5058453852593243\n"
     ]
    },
    {
     "name": "stdout",
     "output_type": "stream",
     "text": [
      "prior_stat_sum in map.py 3.5058453852593243\n",
      "prior_stat_sum in map.py 3.5058453852593243\n",
      "prior_stat_sum in map.py 3.5058453852593243\n",
      "prior_stat_sum in map.py 2.2640983774933687\n",
      "prior_stat_sum in map.py 2.2640983774933687\n",
      "prior_stat_sum in map.py 2.2640983774933687\n",
      "prior_stat_sum in map.py 2.2640983774933687\n",
      "prior_stat_sum in map.py 2.2640983774933687\n",
      "prior_stat_sum in map.py 2.2640983774933687\n",
      "prior_stat_sum in map.py 2.2640983774933687\n"
     ]
    },
    {
     "data": {
      "text/html": [
       "<pre>OptimizeResult\n",
       "\n",
       "\tbackend    : minuit\n",
       "\tmethod     : migrad\n",
       "\tsuccess    : True\n",
       "\tmessage    : Optimization terminated successfully.\n",
       "\tnfev       : 204\n",
       "\ttotal stat : 567704.36\n",
       "\n",
       "CovarianceResult\n",
       "\n",
       "\tbackend    : minuit\n",
       "\tmethod     : hesse\n",
       "\tsuccess    : True\n",
       "\tmessage    : Hesse terminated successfully.\n",
       "</pre>"
      ],
      "text/plain": [
       "<gammapy.modeling.fit.FitResult at 0x7fec571c9af0>"
      ]
     },
     "execution_count": 8,
     "metadata": {},
     "output_type": "execute_result"
    }
   ],
   "source": [
    "fit = Fit()\n",
    "fit.run(dataset)"
   ]
  },
  {
   "cell_type": "code",
   "execution_count": 9,
   "id": "d9fb732f",
   "metadata": {},
   "outputs": [
    {
     "name": "stdout",
     "output_type": "stream",
     "text": [
      "prior_stat_sum in map.py 2.2640983774933687\n",
      "MapDataset\n",
      "----------\n",
      "\n",
      "  Name                            : dataset-simu \n",
      "\n",
      "  Total counts                    : 169702 \n",
      "  Total background counts         : 161250.95\n",
      "  Total excess counts             : 8451.05\n",
      "\n",
      "  Predicted counts                : 169703.02\n",
      "  Predicted background counts     : 168057.93\n",
      "  Predicted excess counts         : 1645.09\n",
      "\n",
      "  Exposure min                    : 4.08e+02 m2 s\n",
      "  Exposure max                    : 3.58e+10 m2 s\n",
      "\n",
      "  Number of total bins            : 810000 \n",
      "  Number of fit bins              : 804492 \n",
      "\n",
      "  Fit statistic type              : cash\n",
      "  Fit statistic value (-2 log(L)) : 567704.36\n",
      "\n",
      "  Number of models                : 2 \n",
      "  Number of parameters            : 11\n",
      "  Number of free parameters       : 6\n",
      "\n",
      "  Component 0: FoVBackgroundModel\n",
      "  \n",
      "    Name                      : dataset-simu-bkg\n",
      "    Datasets names            : ['dataset-simu']\n",
      "    Spectral model type       : PowerLawNormSpectralModel\n",
      "    Parameters:\n",
      "      norm                          :      1.042   +/-    0.00             \n",
      "      tilt                  (frozen):      0.000                   \n",
      "      reference             (frozen):      1.000       TeV         \n",
      "  \n",
      "  Component 1: SkyModel\n",
      "  \n",
      "    Name                      : model-simu\n",
      "    Datasets names            : None\n",
      "    Spectral model type       : PowerLawSpectralModel\n",
      "    Spatial  model type       : GaussianSpatialModel\n",
      "    Temporal model type       : \n",
      "    Parameters:\n",
      "      index                         :      1.502   +/-    0.00             \n",
      "      amplitude                     :   5.10e-12   +/- 2.1e-13 1 / (TeV s cm2)\n",
      "      reference             (frozen):      1.000       TeV         \n",
      "      lon_0                         :      0.216   +/-    0.01 deg         \n",
      "      lat_0                         :      0.099   +/-    0.01 deg         \n",
      "      sigma                         :      0.226   +/-    0.01 deg         \n",
      "      e                     (frozen):      0.000                   \n",
      "      phi                   (frozen):      0.000       deg         \n",
      "  \n",
      "  \n"
     ]
    }
   ],
   "source": [
    "print(dataset)"
   ]
  },
  {
   "cell_type": "markdown",
   "id": "1bf520d8",
   "metadata": {},
   "source": [
    "## SpectralDataset"
   ]
  },
  {
   "cell_type": "code",
   "execution_count": 10,
   "id": "491405d7",
   "metadata": {},
   "outputs": [
    {
     "name": "stdout",
     "output_type": "stream",
     "text": [
      "prior_stat_sum in map.py 0.0\n"
     ]
    },
    {
     "data": {
      "text/plain": [
       "569521.2946201434"
      ]
     },
     "execution_count": 10,
     "metadata": {},
     "output_type": "execute_result"
    }
   ],
   "source": [
    "dataset_empty =dataset.copy()\n",
    "dataset_empty.stat_sum()"
   ]
  },
  {
   "cell_type": "code",
   "execution_count": 11,
   "id": "ba42f2fd",
   "metadata": {},
   "outputs": [],
   "source": [
    "from gammapy.datasets import SpectrumDataset\n",
    "#SpectrumDataset is based on MapDataset\n",
    "from regions import CircleSkyRegion\n",
    "from astropy import units as u"
   ]
  },
  {
   "cell_type": "code",
   "execution_count": 12,
   "id": "4d2425e6",
   "metadata": {},
   "outputs": [],
   "source": [
    "spect = dataset.to_spectrum_dataset(on_region = CircleSkyRegion(dataset.geoms['geom'].center_skydir, 3*u.deg))"
   ]
  },
  {
   "cell_type": "code",
   "execution_count": 13,
   "id": "144e23cd",
   "metadata": {},
   "outputs": [],
   "source": [
    "spect_model = SkyModel(spectral_model= PowerLawSpectralModel())\n",
    "spect_model.parameters['index'].prior = gaussianprior\n",
    "spect.models = spect_model"
   ]
  },
  {
   "cell_type": "code",
   "execution_count": 14,
   "id": "ea84b008",
   "metadata": {},
   "outputs": [
    {
     "name": "stdout",
     "output_type": "stream",
     "text": [
      "prior_stat_sum in map.py 250000.0\n",
      "prior_stat_sum in map.py 1695792.2270489743\n",
      "prior_stat_sum in map.py 91340.47894614257\n",
      "prior_stat_sum in map.py 336658.250935117\n",
      "prior_stat_sum in map.py 176213.07612483393\n",
      "prior_stat_sum in map.py 250000.0\n",
      "prior_stat_sum in map.py 250000.0\n",
      "prior_stat_sum in map.py 250000.0\n",
      "prior_stat_sum in map.py 250000.0\n",
      "prior_stat_sum in map.py 3.561156038517268e-05\n",
      "prior_stat_sum in map.py 64.26092457552815\n",
      "prior_stat_sum in map.py 64.45241724710233\n",
      "prior_stat_sum in map.py 0.692268127061954\n",
      "prior_stat_sum in map.py 0.7122711868729077\n",
      "prior_stat_sum in map.py 3.561156038517268e-05\n",
      "prior_stat_sum in map.py 3.561156038517268e-05\n",
      "prior_stat_sum in map.py 3.561156038517268e-05\n",
      "prior_stat_sum in map.py 3.561156038517268e-05\n",
      "prior_stat_sum in map.py 0.03389885312082174\n",
      "prior_stat_sum in map.py 0.005037317939029424\n",
      "prior_stat_sum in map.py 0.588350891808383\n",
      "prior_stat_sum in map.py 0.8262600497419259\n",
      "prior_stat_sum in map.py 0.005037317939029424\n",
      "prior_stat_sum in map.py 0.005037317939029424\n",
      "prior_stat_sum in map.py 5.900110641746192e-05\n",
      "prior_stat_sum in map.py 5.0036173527000325e-05\n",
      "prior_stat_sum in map.py 0.6911387877646173\n",
      "prior_stat_sum in map.py 0.714861497052181\n",
      "prior_stat_sum in map.py 5.0036173527000325e-05\n",
      "prior_stat_sum in map.py 5.0036173527000325e-05\n",
      "prior_stat_sum in map.py 0.0025368390112913346\n",
      "prior_stat_sum in map.py 0.0021133386240482573\n",
      "prior_stat_sum in map.py 0.7822503762564327\n",
      "prior_stat_sum in map.py 0.6280674526929504\n",
      "prior_stat_sum in map.py 0.0021133386240482573\n",
      "prior_stat_sum in map.py 0.0021133386240482573\n",
      "prior_stat_sum in map.py 0.0021133386240482573\n",
      "prior_stat_sum in map.py 0.7822503762564327\n",
      "prior_stat_sum in map.py 0.6280674526929504\n",
      "prior_stat_sum in map.py 0.0021133386240482573\n",
      "prior_stat_sum in map.py 0.0021133386240482573\n",
      "prior_stat_sum in map.py 0.04565345401442221\n",
      "prior_stat_sum in map.py 0.014816869301725764\n",
      "prior_stat_sum in map.py 0.0021133386240482573\n",
      "prior_stat_sum in map.py 0.0021133386240482573\n",
      "prior_stat_sum in map.py 0.0021133386240482573\n",
      "prior_stat_sum in map.py 0.0021133386240482573\n",
      "prior_stat_sum in map.py 0.7822503762564327\n",
      "prior_stat_sum in map.py 0.0021133386240482573\n"
     ]
    },
    {
     "data": {
      "text/html": [
       "<pre>OptimizeResult\n",
       "\n",
       "\tbackend    : minuit\n",
       "\tmethod     : migrad\n",
       "\tsuccess    : True\n",
       "\tmessage    : Optimization terminated successfully.\n",
       "\tnfev       : 48\n",
       "\ttotal stat : -2949331.04\n",
       "\n",
       "CovarianceResult\n",
       "\n",
       "\tbackend    : minuit\n",
       "\tmethod     : hesse\n",
       "\tsuccess    : True\n",
       "\tmessage    : Hesse terminated successfully.\n",
       "</pre>"
      ],
      "text/plain": [
       "<gammapy.modeling.fit.FitResult at 0x7fec563b2370>"
      ]
     },
     "execution_count": 14,
     "metadata": {},
     "output_type": "execute_result"
    }
   ],
   "source": [
    "fit.run(spect)"
   ]
  },
  {
   "cell_type": "code",
   "execution_count": 15,
   "id": "0b4b418c",
   "metadata": {},
   "outputs": [
    {
     "name": "stdout",
     "output_type": "stream",
     "text": [
      "prior_stat_sum in map.py 0.0021133386240482573\n",
      "SpectrumDataset\n",
      "---------------\n",
      "\n",
      "  Name                            : 59CNmHHa \n",
      "\n",
      "  Total counts                    : 154048 \n",
      "  Total background counts         : 145588.94\n",
      "  Total excess counts             : 8459.06\n",
      "\n",
      "  Predicted counts                : 146282.40\n",
      "  Predicted background counts     : 145588.94\n",
      "  Predicted excess counts         : 693.46\n",
      "\n",
      "  Exposure min                    : 6.31e+07 m2 s\n",
      "  Exposure max                    : 2.85e+10 m2 s\n",
      "\n",
      "  Number of total bins            : 9 \n",
      "  Number of fit bins              : 9 \n",
      "\n",
      "  Fit statistic type              : cash\n",
      "  Fit statistic value (-2 log(L)) : -2949331.04\n",
      "\n",
      "  Number of models                : 1 \n",
      "  Number of parameters            : 3\n",
      "  Number of free parameters       : 2\n",
      "\n",
      "  Component 0: SkyModel\n",
      "  \n",
      "    Name                      : vPb8IQeZ\n",
      "    Datasets names            : None\n",
      "    Spectral model type       : PowerLawSpectralModel\n",
      "    Spatial  model type       : \n",
      "    Temporal model type       : \n",
      "    Parameters:\n",
      "      index                         :      1.500   +/-    0.00             \n",
      "      amplitude                     :   2.55e-12   +/- 3.6e-13 1 / (TeV s cm2)\n",
      "      reference             (frozen):      1.000       TeV         \n",
      "  \n",
      "  \n"
     ]
    }
   ],
   "source": [
    "print(spect)"
   ]
  },
  {
   "cell_type": "code",
   "execution_count": 19,
   "id": "e8121fbb",
   "metadata": {},
   "outputs": [],
   "source": [
    "def get_map_dataset(geom, geom_etrue, edisp=\"edispmap\", name=\"test\", **kwargs):\n",
    "    \"\"\"Returns a MapDataset\"\"\"\n",
    "    # define background model\n",
    "    background = Map.from_geom(geom)\n",
    "    background.data += 0.2\n",
    "\n",
    "    psf = get_psf()\n",
    "    exposure = get_exposure(geom_etrue)\n",
    "\n",
    "    e_reco = geom.axes[\"energy\"]\n",
    "    e_true = geom_etrue.axes[\"energy_true\"]\n",
    "\n",
    "    if edisp == \"edispmap\":\n",
    "        edisp = EDispMap.from_diagonal_response(energy_axis_true=e_true)\n",
    "        data = exposure.get_spectrum(geom.center_skydir).data\n",
    "        edisp.exposure_map.data = np.repeat(data, 2, axis=-1)\n",
    "    elif edisp == \"edispkernelmap\":\n",
    "        edisp = EDispKernelMap.from_diagonal_response(\n",
    "            energy_axis=e_reco, energy_axis_true=e_true\n",
    "        )\n",
    "        data = exposure.get_spectrum(geom.center_skydir).data\n",
    "        edisp.exposure_map.data = np.repeat(data, 2, axis=-1)\n",
    "    else:\n",
    "        edisp = None\n",
    "\n",
    "    # define fit mask\n",
    "    center = SkyCoord(\"0.2 deg\", \"0.1 deg\", frame=\"galactic\")\n",
    "    circle = CircleSkyRegion(center=center, radius=1 * u.deg)\n",
    "    mask_fit = geom.region_mask([circle])\n",
    "\n",
    "    models = FoVBackgroundModel(dataset_name=name)\n",
    "\n",
    "    return MapDataset(\n",
    "        models=models,\n",
    "        exposure=exposure,\n",
    "        background=background,\n",
    "        psf=psf,\n",
    "        edisp=edisp,\n",
    "        mask_fit=mask_fit,\n",
    "        name=name,\n",
    "        **kwargs,\n",
    "    )\n"
   ]
  },
  {
   "cell_type": "code",
   "execution_count": 23,
   "id": "01eeadab",
   "metadata": {},
   "outputs": [],
   "source": [
    "from gammapy.utils.testing import mpl_plot_check, requires_data, requires_dependency\n",
    "\n",
    "\n",
    "\n",
    "@requires_data()\n",
    "def test_prior_stat_sum(sky_model, geom, geom_etrue):\n",
    "    dataset_1 = get_map_dataset(geom, geom_etrue, name=\"test-1\")\n",
    "    print(dataset_1)\n",
    "    print(dataset_1.models)\n",
    "    print(dataset_1.stat_sum())\n",
    "    gaussian = GaussianPrior()\n",
    "    dataset_1.models.parameters['index'].prior = gaussian \n",
    "    print(dataset_1.stat_sum())"
   ]
  },
  {
   "cell_type": "code",
   "execution_count": 24,
   "id": "205a0fdd",
   "metadata": {},
   "outputs": [
    {
     "data": {
      "text/plain": [
       "{'geom': <gammapy.maps.wcs.geom.WcsGeom at 0x7fec5928feb0>,\n",
       " 'geom_exposure': <gammapy.maps.wcs.geom.WcsGeom at 0x7fec5921ff10>,\n",
       " 'geom_psf': <gammapy.maps.wcs.geom.WcsGeom at 0x7fec571a5f10>,\n",
       " 'geom_edisp': <gammapy.maps.wcs.geom.WcsGeom at 0x7fec5924a5b0>}"
      ]
     },
     "execution_count": 24,
     "metadata": {},
     "output_type": "execute_result"
    }
   ],
   "source": [
    "dataset.geoms"
   ]
  },
  {
   "cell_type": "code",
   "execution_count": 25,
   "id": "0db24faa",
   "metadata": {},
   "outputs": [
    {
     "ename": "NameError",
     "evalue": "name 'get_psf' is not defined",
     "output_type": "error",
     "traceback": [
      "\u001b[0;31m---------------------------------------------------------------------------\u001b[0m",
      "\u001b[0;31mNameError\u001b[0m                                 Traceback (most recent call last)",
      "Cell \u001b[0;32mIn[25], line 1\u001b[0m\n\u001b[0;32m----> 1\u001b[0m \u001b[43mtest_prior_stat_sum\u001b[49m\u001b[43m(\u001b[49m\u001b[43mdataset\u001b[49m\u001b[38;5;241;43m.\u001b[39;49m\u001b[43mmodels\u001b[49m\u001b[43m[\u001b[49m\u001b[38;5;241;43m0\u001b[39;49m\u001b[43m]\u001b[49m\u001b[43m,\u001b[49m\n\u001b[1;32m      2\u001b[0m \u001b[43m                   \u001b[49m\u001b[43mdataset\u001b[49m\u001b[38;5;241;43m.\u001b[39;49m\u001b[43mgeoms\u001b[49m\u001b[43m[\u001b[49m\u001b[38;5;124;43m'\u001b[39;49m\u001b[38;5;124;43mgeom\u001b[39;49m\u001b[38;5;124;43m'\u001b[39;49m\u001b[43m]\u001b[49m\u001b[43m,\u001b[49m\n\u001b[1;32m      3\u001b[0m \u001b[43m                   \u001b[49m\u001b[43mdataset\u001b[49m\u001b[38;5;241;43m.\u001b[39;49m\u001b[43mgeoms\u001b[49m\u001b[43m[\u001b[49m\u001b[38;5;124;43m'\u001b[39;49m\u001b[38;5;124;43mgeom_exposure\u001b[39;49m\u001b[38;5;124;43m'\u001b[39;49m\u001b[43m]\u001b[49m\u001b[43m)\u001b[49m\n",
      "Cell \u001b[0;32mIn[23], line 7\u001b[0m, in \u001b[0;36mtest_prior_stat_sum\u001b[0;34m(sky_model, geom, geom_etrue)\u001b[0m\n\u001b[1;32m      5\u001b[0m \u001b[38;5;129m@requires_data\u001b[39m()\n\u001b[1;32m      6\u001b[0m \u001b[38;5;28;01mdef\u001b[39;00m \u001b[38;5;21mtest_prior_stat_sum\u001b[39m(sky_model, geom, geom_etrue):\n\u001b[0;32m----> 7\u001b[0m     dataset_1 \u001b[38;5;241m=\u001b[39m \u001b[43mget_map_dataset\u001b[49m\u001b[43m(\u001b[49m\u001b[43mgeom\u001b[49m\u001b[43m,\u001b[49m\u001b[43m \u001b[49m\u001b[43mgeom_etrue\u001b[49m\u001b[43m,\u001b[49m\u001b[43m \u001b[49m\u001b[43mname\u001b[49m\u001b[38;5;241;43m=\u001b[39;49m\u001b[38;5;124;43m\"\u001b[39;49m\u001b[38;5;124;43mtest-1\u001b[39;49m\u001b[38;5;124;43m\"\u001b[39;49m\u001b[43m)\u001b[49m\n\u001b[1;32m      8\u001b[0m     \u001b[38;5;28mprint\u001b[39m(dataset_1)\n\u001b[1;32m      9\u001b[0m     \u001b[38;5;28mprint\u001b[39m(dataset_1\u001b[38;5;241m.\u001b[39mmodels)\n",
      "Cell \u001b[0;32mIn[19], line 7\u001b[0m, in \u001b[0;36mget_map_dataset\u001b[0;34m(geom, geom_etrue, edisp, name, **kwargs)\u001b[0m\n\u001b[1;32m      4\u001b[0m background \u001b[38;5;241m=\u001b[39m Map\u001b[38;5;241m.\u001b[39mfrom_geom(geom)\n\u001b[1;32m      5\u001b[0m background\u001b[38;5;241m.\u001b[39mdata \u001b[38;5;241m+\u001b[39m\u001b[38;5;241m=\u001b[39m \u001b[38;5;241m0.2\u001b[39m\n\u001b[0;32m----> 7\u001b[0m psf \u001b[38;5;241m=\u001b[39m \u001b[43mget_psf\u001b[49m()\n\u001b[1;32m      8\u001b[0m exposure \u001b[38;5;241m=\u001b[39m get_exposure(geom_etrue)\n\u001b[1;32m     10\u001b[0m e_reco \u001b[38;5;241m=\u001b[39m geom\u001b[38;5;241m.\u001b[39maxes[\u001b[38;5;124m\"\u001b[39m\u001b[38;5;124menergy\u001b[39m\u001b[38;5;124m\"\u001b[39m]\n",
      "\u001b[0;31mNameError\u001b[0m: name 'get_psf' is not defined"
     ]
    }
   ],
   "source": [
    "test_prior_stat_sum(dataset.models[0],\n",
    "                   dataset.geoms['geom'],\n",
    "                   dataset.geoms['geom_exposure'])"
   ]
  },
  {
   "cell_type": "code",
   "execution_count": null,
   "id": "b1ef62aa",
   "metadata": {},
   "outputs": [],
   "source": []
  },
  {
   "cell_type": "code",
   "execution_count": 18,
   "id": "cfcd9cd7",
   "metadata": {},
   "outputs": [
    {
     "ename": "NameError",
     "evalue": "name 'sky_model' is not defined",
     "output_type": "error",
     "traceback": [
      "\u001b[0;31m---------------------------------------------------------------------------\u001b[0m",
      "\u001b[0;31mNameError\u001b[0m                                 Traceback (most recent call last)",
      "Cell \u001b[0;32mIn[18], line 1\u001b[0m\n\u001b[0;32m----> 1\u001b[0m test_stat_sum(\u001b[43msky_model\u001b[49m)\n",
      "\u001b[0;31mNameError\u001b[0m: name 'sky_model' is not defined"
     ]
    }
   ],
   "source": [
    "test_stat_sum(sky_model)"
   ]
  },
  {
   "cell_type": "code",
   "execution_count": null,
   "id": "9da2b90d",
   "metadata": {},
   "outputs": [],
   "source": []
  }
 ],
 "metadata": {
  "kernelspec": {
   "display_name": "Python 3 (ipykernel)",
   "language": "python",
   "name": "python3"
  },
  "language_info": {
   "codemirror_mode": {
    "name": "ipython",
    "version": 3
   },
   "file_extension": ".py",
   "mimetype": "text/x-python",
   "name": "python",
   "nbconvert_exporter": "python",
   "pygments_lexer": "ipython3",
   "version": "3.9.16"
  }
 },
 "nbformat": 4,
 "nbformat_minor": 5
}

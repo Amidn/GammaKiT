{
 "cells": [
  {
   "cell_type": "code",
   "execution_count": null,
   "id": "88296707-8329-417c-bd06-c204913196a4",
   "metadata": {},
   "outputs": [],
   "source": []
  },
  {
   "cell_type": "markdown",
   "id": "6cf6417f-9e9f-470b-b2f4-fab24e4f15e6",
   "metadata": {},
   "source": [
    "# Using asymmetric IRFs"
   ]
  },
  {
   "cell_type": "markdown",
   "id": "38a8f5ea-8d3e-4220-ad87-f3a151f76b8c",
   "metadata": {},
   "source": [
    "While Gammapy does not have inbuilt classes for supporting asymmetric IRFs (except for `Background3D`), custom classes can be created. For this to work correctly with the `MapDatasetMaker`, only variations with `fov_lon` and `fov_lat` can be allowed. \n",
    "\n",
    "Analytic models for the PSF, or anisotropic PSFs (ie, asymmetry around the source position) is not correctly supported during the data reduction"
   ]
  },
  {
   "cell_type": "code",
   "execution_count": 154,
   "id": "a59013f1-a208-4fcc-8669-ce3fee8a10a0",
   "metadata": {},
   "outputs": [],
   "source": [
    "import numpy as np\n",
    "from gammapy.irf import *\n",
    "import astropy.units as u\n",
    "import scipy.special\n",
    "from gammapy.maps import MapAxis, MapAxes\n",
    "from gammapy.irf.io import IRF_DL3_HDU_SPECIFICATION, COMMON_IRF_HEADERS"
   ]
  },
  {
   "cell_type": "code",
   "execution_count": 83,
   "id": "24ab21c4-403c-4e93-aae8-22f3f7133f90",
   "metadata": {},
   "outputs": [
    {
     "name": "stderr",
     "output_type": "stream",
     "text": [
      "WARNING: UnitsWarning: '1/s/MeV/sr' did not parse as fits unit: Numeric factor not supported by FITS If this is meant to be a custom unit, define it with 'u.def_unit'. To have it recognized inside a file reader or other code, enable it with 'u.add_enabled_units'. For details, see https://docs.astropy.org/en/latest/units/combining_and_defining.html [astropy.units.core]\n",
      "Invalid unit found in background table! Assuming (s-1 MeV-1 sr-1)\n"
     ]
    }
   ],
   "source": [
    "irf_filename = (\n",
    "    \"$GAMMAPY_DATA/cta-1dc/caldb/data/cta/1dc/bcf/South_z20_50h/irf_file.fits\"\n",
    ")\n",
    "irfs = load_irf_dict_from_file(irf_filename)"
   ]
  },
  {
   "cell_type": "code",
   "execution_count": 168,
   "id": "fb50ea5a-9d6e-4317-ab84-c0e969f3602a",
   "metadata": {},
   "outputs": [],
   "source": [
    "coords = {}\n",
    "coords[\"offset\"] = [[0.16222949, 0.16222949, 1.2423175 , 1.83029858],[0.16222949, 0.16222949, 1.2423175 , 1.83029858]\n",
    "                   ]*u.deg \n",
    "coords[\"energy_true\"] = [1,10]*u.TeV"
   ]
  },
  {
   "cell_type": "code",
   "execution_count": 169,
   "id": "5c6106a6-4cd4-4a86-bb7d-f3ee2413ea2c",
   "metadata": {},
   "outputs": [
    {
     "ename": "ValueError",
     "evalue": "shape mismatch: objects cannot be broadcast to a single shape.  Mismatch is between arg 0 with shape (2,) and arg 1 with shape (2, 4).",
     "output_type": "error",
     "traceback": [
      "\u001b[0;31m---------------------------------------------------------------------------\u001b[0m",
      "\u001b[0;31mValueError\u001b[0m                                Traceback (most recent call last)",
      "Cell \u001b[0;32mIn[169], line 1\u001b[0m\n\u001b[0;32m----> 1\u001b[0m \u001b[43mirfs\u001b[49m\u001b[43m[\u001b[49m\u001b[38;5;124;43m\"\u001b[39;49m\u001b[38;5;124;43maeff\u001b[39;49m\u001b[38;5;124;43m\"\u001b[39;49m\u001b[43m]\u001b[49m\u001b[38;5;241;43m.\u001b[39;49m\u001b[43mevaluate\u001b[49m\u001b[43m(\u001b[49m\u001b[38;5;241;43m*\u001b[39;49m\u001b[38;5;241;43m*\u001b[39;49m\u001b[43mcoords\u001b[49m\u001b[43m)\u001b[49m\n",
      "File \u001b[0;32m~/Gammapy-dev/gammapy/gammapy/irf/core.py:293\u001b[0m, in \u001b[0;36mIRF.evaluate\u001b[0;34m(self, method, **kwargs)\u001b[0m\n\u001b[1;32m    290\u001b[0m     \u001b[38;5;28;01mif\u001b[39;00m coord \u001b[38;5;129;01mis\u001b[39;00m \u001b[38;5;129;01mnot\u001b[39;00m \u001b[38;5;28;01mNone\u001b[39;00m:\n\u001b[1;32m    291\u001b[0m         coords_default[key] \u001b[38;5;241m=\u001b[39m u\u001b[38;5;241m.\u001b[39mQuantity(coord, copy\u001b[38;5;241m=\u001b[39m\u001b[38;5;28;01mFalse\u001b[39;00m)\n\u001b[0;32m--> 293\u001b[0m data \u001b[38;5;241m=\u001b[39m \u001b[38;5;28;43mself\u001b[39;49m\u001b[38;5;241;43m.\u001b[39;49m\u001b[43m_interpolate\u001b[49m\u001b[43m(\u001b[49m\u001b[43mcoords_default\u001b[49m\u001b[38;5;241;43m.\u001b[39;49m\u001b[43mvalues\u001b[49m\u001b[43m(\u001b[49m\u001b[43m)\u001b[49m\u001b[43m,\u001b[49m\u001b[43m \u001b[49m\u001b[43mmethod\u001b[49m\u001b[38;5;241;43m=\u001b[39;49m\u001b[43mmethod\u001b[49m\u001b[43m)\u001b[49m\n\u001b[1;32m    295\u001b[0m \u001b[38;5;28;01mif\u001b[39;00m \u001b[38;5;28mself\u001b[39m\u001b[38;5;241m.\u001b[39minterp_kwargs[\u001b[38;5;124m\"\u001b[39m\u001b[38;5;124mfill_value\u001b[39m\u001b[38;5;124m\"\u001b[39m] \u001b[38;5;129;01mis\u001b[39;00m \u001b[38;5;129;01mnot\u001b[39;00m \u001b[38;5;28;01mNone\u001b[39;00m:\n\u001b[1;32m    296\u001b[0m     idxs \u001b[38;5;241m=\u001b[39m \u001b[38;5;28mself\u001b[39m\u001b[38;5;241m.\u001b[39maxes\u001b[38;5;241m.\u001b[39mcoord_to_idx(coords_default, clip\u001b[38;5;241m=\u001b[39m\u001b[38;5;28;01mFalse\u001b[39;00m)\n",
      "File \u001b[0;32m~/Gammapy-dev/gammapy/gammapy/utils/interpolation.py:124\u001b[0m, in \u001b[0;36mScaledRegularGridInterpolator.__call__\u001b[0;34m(self, points, method, clip, **kwargs)\u001b[0m\n\u001b[1;32m    121\u001b[0m points \u001b[38;5;241m=\u001b[39m \u001b[38;5;28mself\u001b[39m\u001b[38;5;241m.\u001b[39m_scale_points(points\u001b[38;5;241m=\u001b[39mpoints)\n\u001b[1;32m    123\u001b[0m \u001b[38;5;28;01mif\u001b[39;00m \u001b[38;5;28mself\u001b[39m\u001b[38;5;241m.\u001b[39maxis \u001b[38;5;129;01mis\u001b[39;00m \u001b[38;5;28;01mNone\u001b[39;00m:\n\u001b[0;32m--> 124\u001b[0m     points \u001b[38;5;241m=\u001b[39m \u001b[43mnp\u001b[49m\u001b[38;5;241;43m.\u001b[39;49m\u001b[43mbroadcast_arrays\u001b[49m\u001b[43m(\u001b[49m\u001b[38;5;241;43m*\u001b[39;49m\u001b[43mpoints\u001b[49m\u001b[43m)\u001b[49m\n\u001b[1;32m    125\u001b[0m     points_interp \u001b[38;5;241m=\u001b[39m np\u001b[38;5;241m.\u001b[39mstack([_\u001b[38;5;241m.\u001b[39mflat \u001b[38;5;28;01mfor\u001b[39;00m _ \u001b[38;5;129;01min\u001b[39;00m points])\u001b[38;5;241m.\u001b[39mT\n\u001b[1;32m    126\u001b[0m     values \u001b[38;5;241m=\u001b[39m \u001b[38;5;28mself\u001b[39m\u001b[38;5;241m.\u001b[39m_interpolate(points_interp, method, \u001b[38;5;241m*\u001b[39m\u001b[38;5;241m*\u001b[39mkwargs)\n",
      "File \u001b[0;32m~/anaconda3/envs/gammapy-dev/lib/python3.9/site-packages/numpy/lib/stride_tricks.py:540\u001b[0m, in \u001b[0;36mbroadcast_arrays\u001b[0;34m(subok, *args)\u001b[0m\n\u001b[1;32m    533\u001b[0m \u001b[38;5;66;03m# nditer is not used here to avoid the limit of 32 arrays.\u001b[39;00m\n\u001b[1;32m    534\u001b[0m \u001b[38;5;66;03m# Otherwise, something like the following one-liner would suffice:\u001b[39;00m\n\u001b[1;32m    535\u001b[0m \u001b[38;5;66;03m# return np.nditer(args, flags=['multi_index', 'zerosize_ok'],\u001b[39;00m\n\u001b[1;32m    536\u001b[0m \u001b[38;5;66;03m#                  order='C').itviews\u001b[39;00m\n\u001b[1;32m    538\u001b[0m args \u001b[38;5;241m=\u001b[39m [np\u001b[38;5;241m.\u001b[39marray(_m, copy\u001b[38;5;241m=\u001b[39m\u001b[38;5;28;01mFalse\u001b[39;00m, subok\u001b[38;5;241m=\u001b[39msubok) \u001b[38;5;28;01mfor\u001b[39;00m _m \u001b[38;5;129;01min\u001b[39;00m args]\n\u001b[0;32m--> 540\u001b[0m shape \u001b[38;5;241m=\u001b[39m \u001b[43m_broadcast_shape\u001b[49m\u001b[43m(\u001b[49m\u001b[38;5;241;43m*\u001b[39;49m\u001b[43margs\u001b[49m\u001b[43m)\u001b[49m\n\u001b[1;32m    542\u001b[0m \u001b[38;5;28;01mif\u001b[39;00m \u001b[38;5;28mall\u001b[39m(array\u001b[38;5;241m.\u001b[39mshape \u001b[38;5;241m==\u001b[39m shape \u001b[38;5;28;01mfor\u001b[39;00m array \u001b[38;5;129;01min\u001b[39;00m args):\n\u001b[1;32m    543\u001b[0m     \u001b[38;5;66;03m# Common case where nothing needs to be broadcasted.\u001b[39;00m\n\u001b[1;32m    544\u001b[0m     \u001b[38;5;28;01mreturn\u001b[39;00m args\n",
      "File \u001b[0;32m~/anaconda3/envs/gammapy-dev/lib/python3.9/site-packages/numpy/lib/stride_tricks.py:422\u001b[0m, in \u001b[0;36m_broadcast_shape\u001b[0;34m(*args)\u001b[0m\n\u001b[1;32m    417\u001b[0m \u001b[38;5;250m\u001b[39m\u001b[38;5;124;03m\"\"\"Returns the shape of the arrays that would result from broadcasting the\u001b[39;00m\n\u001b[1;32m    418\u001b[0m \u001b[38;5;124;03msupplied arrays against each other.\u001b[39;00m\n\u001b[1;32m    419\u001b[0m \u001b[38;5;124;03m\"\"\"\u001b[39;00m\n\u001b[1;32m    420\u001b[0m \u001b[38;5;66;03m# use the old-iterator because np.nditer does not handle size 0 arrays\u001b[39;00m\n\u001b[1;32m    421\u001b[0m \u001b[38;5;66;03m# consistently\u001b[39;00m\n\u001b[0;32m--> 422\u001b[0m b \u001b[38;5;241m=\u001b[39m \u001b[43mnp\u001b[49m\u001b[38;5;241;43m.\u001b[39;49m\u001b[43mbroadcast\u001b[49m\u001b[43m(\u001b[49m\u001b[38;5;241;43m*\u001b[39;49m\u001b[43margs\u001b[49m\u001b[43m[\u001b[49m\u001b[43m:\u001b[49m\u001b[38;5;241;43m32\u001b[39;49m\u001b[43m]\u001b[49m\u001b[43m)\u001b[49m\n\u001b[1;32m    423\u001b[0m \u001b[38;5;66;03m# unfortunately, it cannot handle 32 or more arguments directly\u001b[39;00m\n\u001b[1;32m    424\u001b[0m \u001b[38;5;28;01mfor\u001b[39;00m pos \u001b[38;5;129;01min\u001b[39;00m \u001b[38;5;28mrange\u001b[39m(\u001b[38;5;241m32\u001b[39m, \u001b[38;5;28mlen\u001b[39m(args), \u001b[38;5;241m31\u001b[39m):\n\u001b[1;32m    425\u001b[0m     \u001b[38;5;66;03m# ironically, np.broadcast does not properly handle np.broadcast\u001b[39;00m\n\u001b[1;32m    426\u001b[0m     \u001b[38;5;66;03m# objects (it treats them as scalars)\u001b[39;00m\n\u001b[1;32m    427\u001b[0m     \u001b[38;5;66;03m# use broadcasting to avoid allocating the full array\u001b[39;00m\n",
      "\u001b[0;31mValueError\u001b[0m: shape mismatch: objects cannot be broadcast to a single shape.  Mismatch is between arg 0 with shape (2,) and arg 1 with shape (2, 4)."
     ]
    }
   ],
   "source": [
    "irfs[\"aeff\"].evaluate(**coords)"
   ]
  },
  {
   "cell_type": "markdown",
   "id": "770716d6-3fd6-4a2d-93af-3c4640605fd2",
   "metadata": {},
   "source": [
    "## Effective Area"
   ]
  },
  {
   "cell_type": "code",
   "execution_count": 84,
   "id": "7e365744-4feb-45b7-bf46-8ee54dc65e12",
   "metadata": {},
   "outputs": [],
   "source": [
    "class EffectiveArea3D(IRF):\n",
    "    tag = \"aeff_3d\"\n",
    "    required_axes = [\"energy_true\", \"fov_lon\", \"fov_lat\"]\n",
    "    default_unit = u.m**2"
   ]
  },
  {
   "cell_type": "code",
   "execution_count": 85,
   "id": "37a9cd38-d5dd-4b22-9771-e7ce670b7caa",
   "metadata": {},
   "outputs": [
    {
     "name": "stdout",
     "output_type": "stream",
     "text": [
      "EffectiveArea3D\n",
      "---------------\n",
      "\n",
      "  axes  : ['energy_true', 'fov_lon', 'fov_lat']\n",
      "  shape : (4, 3, 3)\n",
      "  ndim  : 3\n",
      "  unit  : m2\n",
      "  dtype : float64\n",
      "\n"
     ]
    }
   ],
   "source": [
    "\n",
    "energy_axis = MapAxis.from_energy_edges([0.1, 0.3, 1.0, 3.0, 10.0]*u.TeV, name=\"energy_true\")\n",
    "\n",
    "nbin=7\n",
    "fov_lon_axis = MapAxis.from_edges([-1.5, -0.5, 0.5, 1.5]*u.deg,  name=\"fov_lon\")\n",
    "fov_lat_axis = MapAxis.from_edges([-1.5, -0.5, 0.5, 1.5]*u.deg,  name=\"fov_lat\")\n",
    "\n",
    "data = np.ones((4, 3, 3))\n",
    "for i in range(1,4):\n",
    "    data[i] = data[i-1]*1.5\n",
    "\n",
    "aeff_3d = EffectiveArea3D([energy_axis, fov_lon_axis, fov_lat_axis], data=data, unit=u.m**2)\n",
    "print(aeff_3d)"
   ]
  },
  {
   "cell_type": "code",
   "execution_count": 86,
   "id": "550ba95b-17dd-47f9-b94a-d32a8da45d84",
   "metadata": {},
   "outputs": [
    {
     "data": {
      "text/latex": [
       "$[1.0624694,~3.7451911] \\; \\mathrm{m^{2}}$"
      ],
      "text/plain": [
       "<Quantity [1.06246937, 3.74519106] m2>"
      ]
     },
     "execution_count": 86,
     "metadata": {},
     "output_type": "execute_result"
    }
   ],
   "source": [
    "aeff_3d.evaluate(fov_lon=[-0.5, 0.8] * u.deg,\n",
    "        fov_lat=[-0.5, 1.0] * u.deg,\n",
    "        energy_true=[0.2, 8.0] * u.TeV,)"
   ]
  },
  {
   "cell_type": "markdown",
   "id": "fdc9449f-cc43-4bea-8f9c-05c46e4dc775",
   "metadata": {},
   "source": [
    "### Serialisation"
   ]
  },
  {
   "cell_type": "code",
   "execution_count": 155,
   "id": "d0f69a0f-00c7-4967-a523-49474dab928a",
   "metadata": {},
   "outputs": [],
   "source": [
    "IRF_DL3_HDU_SPECIFICATION[\"aeff_3d\"] = {\n",
    "        \"extname\": \"EFFECTIVE AREA\",\n",
    "        \"column_name\": \"EFFAREA\",\n",
    "        \"mandatory_keywords\": {\n",
    "            **COMMON_IRF_HEADERS,\n",
    "            \"HDUCLAS2\": \"EFF_AREA\",\n",
    "            \"HDUCLAS3\": \"FULL-ENCLOSURE\",  # added here to have HDUCLASN in order\n",
    "            \"HDUCLAS4\": \"AEFF_3D\",\n",
    "        },\n",
    "    }"
   ]
  },
  {
   "cell_type": "code",
   "execution_count": 156,
   "id": "7192ca4f-52c2-43ad-bfea-9f1db57dd5c0",
   "metadata": {},
   "outputs": [],
   "source": [
    "aeff_3d.write(\"test_aeff3d.fits\")"
   ]
  },
  {
   "cell_type": "code",
   "execution_count": 157,
   "id": "64ded1fe-c9f3-4a5d-bc27-49fa5bb55757",
   "metadata": {},
   "outputs": [
    {
     "data": {
      "text/html": [
       "<pre>EffectiveArea3D\n",
       "---------------\n",
       "\n",
       "  axes  : [&#x27;energy_true&#x27;, &#x27;fov_lon&#x27;, &#x27;fov_lat&#x27;]\n",
       "  shape : (4, 3, 3)\n",
       "  ndim  : 3\n",
       "  unit  : m2\n",
       "  dtype : &gt;f8\n",
       "</pre>"
      ],
      "text/plain": [
       "<__main__.EffectiveArea3D at 0x125acfd00>"
      ]
     },
     "execution_count": 157,
     "metadata": {},
     "output_type": "execute_result"
    }
   ],
   "source": [
    "aeff_new = EffectiveArea3D.read(\"test_aeff3d.fits\")\n",
    "aeff_new"
   ]
  },
  {
   "cell_type": "markdown",
   "id": "3d7f4553-b296-4e70-95a9-206c2abc319a",
   "metadata": {},
   "source": [
    "## Energy Dispersion"
   ]
  },
  {
   "cell_type": "code",
   "execution_count": 118,
   "id": "0868df9d-347b-4b22-bdc0-c373affe9aa2",
   "metadata": {},
   "outputs": [],
   "source": [
    "class EnergyDispersion3D(IRF):\n",
    "    tag = \"edisp_3d\"\n",
    "    required_axes = [\"energy_true\", \"migra\", \"fov_lon\", \"fov_lat\"]\n",
    "    default_unit = u.one\n",
    "    \n",
    "    @classmethod\n",
    "    def from_gauss(cls, energy_axis_true, migra_axis, fov_lon_axis, fov_lat_axis, bias, sigma, pdf_threshold=1e-6):\n",
    "        axes = MapAxes([energy_axis_true, migra_axis, fov_lon_axis, fov_lat_axis])\n",
    "        coords = axes.get_coord(mode=\"edges\", axis_name=\"migra\")\n",
    "\n",
    "        migra_min = coords[\"migra\"][:, :-1, :]\n",
    "        migra_max = coords[\"migra\"][:, 1:, :]\n",
    "\n",
    "        # Analytical formula for integral of Gaussian\n",
    "        s = np.sqrt(2) * sigma\n",
    "        t1 = (migra_max - 1 - bias) / s\n",
    "        t2 = (migra_min - 1 - bias) / s\n",
    "        pdf = (scipy.special.erf(t1) - scipy.special.erf(t2)) / 2\n",
    "        pdf = pdf / (migra_max - migra_min)\n",
    "\n",
    "        \n",
    "        r1 = np.rollaxis(pdf, -1, 1)\n",
    "        r2 = np.rollaxis(r1, 0, -1)\n",
    "        data = r2 * np.ones(axes.shape)\n",
    "        \n",
    "        data[data < pdf_threshold] = 0\n",
    "\n",
    "        return cls(\n",
    "            axes=axes,\n",
    "            data=data.value,\n",
    "        )"
   ]
  },
  {
   "cell_type": "code",
   "execution_count": 125,
   "id": "98a0d881-878c-4bc7-bbaf-a9ca46fb3236",
   "metadata": {},
   "outputs": [
    {
     "name": "stdout",
     "output_type": "stream",
     "text": [
      "EnergyDispersion3D\n",
      "------------------\n",
      "\n",
      "  axes  : ['energy_true', 'migra', 'fov_lon', 'fov_lat']\n",
      "  shape : (50, 100, 3, 3)\n",
      "  ndim  : 4\n",
      "  unit  : \n",
      "  dtype : float64\n",
      "\n"
     ]
    }
   ],
   "source": [
    "# Make a test case\n",
    "energy_axis_true = MapAxis.from_energy_bounds(\n",
    "            \"0.1 TeV\", \"100 TeV\", nbin=50, name=\"energy_true\"\n",
    "        )\n",
    "\n",
    "migra_axis = MapAxis.from_bounds(\n",
    "            0, 4, nbin=100, node_type=\"edges\", name=\"migra\"\n",
    "        )\n",
    "\n",
    "fov_lon_axis = MapAxis.from_edges([-1.5, -0.5, 0.5, 1.5]*u.deg,  name=\"fov_lon\")\n",
    "fov_lat_axis = MapAxis.from_edges([-1.5, -0.5, 0.5, 1.5]*u.deg,  name=\"fov_lat\")\n",
    "\n",
    "energy_true = energy_axis_true.edges[:-1]\n",
    "sigma = 0.15 / (energy_true / (1 * u.TeV)).value ** 0.3\n",
    "bias = 1e-3 * (energy_true - 1 * u.TeV).value\n",
    "\n",
    "edisp3d = EnergyDispersion3D.from_gauss(energy_axis_true=energy_axis_true, \n",
    "                                      migra_axis=migra_axis, \n",
    "                                      fov_lon_axis=fov_lon_axis, \n",
    "                                      fov_lat_axis=fov_lat_axis, \n",
    "                                      bias=bias, \n",
    "                                      sigma=sigma)\n",
    "print(edisp3d)"
   ]
  },
  {
   "cell_type": "code",
   "execution_count": 126,
   "id": "96c4a682-e004-4e04-911f-da5dc4f34487",
   "metadata": {},
   "outputs": [],
   "source": [
    "energy = [1, 2] * u.TeV\n",
    "migra = np.array([0.98, 0.97, 0.7])\n",
    "fov_lon = [0.1, 1.5] * u.deg\n",
    "fov_lat = [0.0, 0.3] * u.deg"
   ]
  },
  {
   "cell_type": "code",
   "execution_count": 130,
   "id": "6602a57a-cba8-4e7a-9744-4577bed01a27",
   "metadata": {},
   "outputs": [
    {
     "data": {
      "text/latex": [
       "$[[[[2.5761652,~2.5761652],~\n",
       "   [2.5761652,~2.5761652]],~\n",
       "\n",
       "  [[2.5339511,~2.5339511],~\n",
       "   [2.5339511,~2.5339511]],~\n",
       "\n",
       "  [[0.38580903,~0.38580903],~\n",
       "   [0.38580903,~0.38580903]]],~\n",
       "\n",
       "\n",
       " [[[3.1495253,~3.1495253],~\n",
       "   [3.1495253,~3.1495253]],~\n",
       "\n",
       "  [[3.0711412,~3.0711412],~\n",
       "   [3.0711412,~3.0711412]],~\n",
       "\n",
       "  [[0.17595002,~0.17595002],~\n",
       "   [0.17595002,~0.17595002]]]] \\; \\mathrm{}$"
      ],
      "text/plain": [
       "<Quantity [[[[2.5761652 , 2.5761652 ],\n",
       "             [2.5761652 , 2.5761652 ]],\n",
       "\n",
       "            [[2.53395107, 2.53395107],\n",
       "             [2.53395107, 2.53395107]],\n",
       "\n",
       "            [[0.38580903, 0.38580903],\n",
       "             [0.38580903, 0.38580903]]],\n",
       "\n",
       "\n",
       "           [[[3.14952527, 3.14952527],\n",
       "             [3.14952527, 3.14952527]],\n",
       "\n",
       "            [[3.07114116, 3.07114116],\n",
       "             [3.07114116, 3.07114116]],\n",
       "\n",
       "            [[0.17595002, 0.17595002],\n",
       "             [0.17595002, 0.17595002]]]]>"
      ]
     },
     "execution_count": 130,
     "metadata": {},
     "output_type": "execute_result"
    }
   ],
   "source": [
    "edisp3d.evaluate(energy_true=energy.reshape(-1, 1, 1, 1), \n",
    "               migra=migra.reshape(1, -1, 1, 1), \n",
    "               fov_lon=fov_lon.reshape(1, 1, -1, 1), \n",
    "               fov_lat=fov_lat.reshape(1, 1, 1, -1))"
   ]
  },
  {
   "cell_type": "markdown",
   "id": "38cc87b7-b613-4e0f-b430-38f3b3c46b74",
   "metadata": {},
   "source": [
    "### Serialisation"
   ]
  },
  {
   "cell_type": "code",
   "execution_count": 146,
   "id": "81aefc03-c2d7-4824-aeb8-0b5cc9091a68",
   "metadata": {},
   "outputs": [],
   "source": []
  },
  {
   "cell_type": "code",
   "execution_count": 147,
   "id": "fec6c844-3a40-42ac-a7b0-465f252f3a73",
   "metadata": {},
   "outputs": [],
   "source": [
    "IRF_DL3_HDU_SPECIFICATION[\"edisp_3d\"] = {\n",
    "        \"extname\": \"ENERGY DISPERSION\",\n",
    "        \"column_name\": \"MATRIX\",\n",
    "        \"mandatory_keywords\": {\n",
    "            **COMMON_IRF_HEADERS,\n",
    "            \"HDUCLAS2\": \"EDISP\",\n",
    "            \"HDUCLAS3\": \"FULL-ENCLOSURE\",  # added here to have HDUCLASN in order\n",
    "            \"HDUCLAS4\": \"EDISP_3D\",\n",
    "        },\n",
    "}"
   ]
  },
  {
   "cell_type": "code",
   "execution_count": 150,
   "id": "75ffacd6-0a29-4ffc-b269-c1a9131fb73d",
   "metadata": {},
   "outputs": [],
   "source": [
    "edisp3d.write(\"test_edisp.fits\", overwrite=True)"
   ]
  },
  {
   "cell_type": "code",
   "execution_count": 153,
   "id": "a4fc3af0-a80c-4c2e-8e6d-d681491d66e7",
   "metadata": {},
   "outputs": [
    {
     "data": {
      "text/html": [
       "<pre>EnergyDispersion3D\n",
       "------------------\n",
       "\n",
       "  axes  : [&#x27;energy_true&#x27;, &#x27;migra&#x27;, &#x27;fov_lon&#x27;, &#x27;fov_lat&#x27;]\n",
       "  shape : (50, 100, 3, 3)\n",
       "  ndim  : 4\n",
       "  unit  : \n",
       "  dtype : &gt;f8\n",
       "</pre>"
      ],
      "text/plain": [
       "<__main__.EnergyDispersion3D at 0x125aeb670>"
      ]
     },
     "execution_count": 153,
     "metadata": {},
     "output_type": "execute_result"
    }
   ],
   "source": [
    "edisp_new = EnergyDispersion3D.read(\"test_edisp.fits\")\n",
    "edisp_new"
   ]
  },
  {
   "cell_type": "markdown",
   "id": "87f0ec84-fd8e-48f5-81f8-8c35cc861500",
   "metadata": {},
   "source": [
    "## PSF"
   ]
  },
  {
   "cell_type": "code",
   "execution_count": 158,
   "id": "0cac8447-772c-46c7-862e-51217ddfeefe",
   "metadata": {},
   "outputs": [],
   "source": [
    "class PSFnD(IRF):\n",
    "    tag = \"edisp_3d\"\n",
    "    required_axes = [\"energy_true\", \"fov_lon\", \"fov_lat\", \"rad\"]\n",
    "    default_unit = u.sr**-1\n",
    "    \n",
    "    @classmethod\n",
    "    def from_parametric_psf(psf_para):\n",
    "        "
   ]
  },
  {
   "cell_type": "code",
   "execution_count": null,
   "id": "8a7a51fd-1d98-412e-8fd1-e6c94be4161b",
   "metadata": {},
   "outputs": [],
   "source": []
  },
  {
   "cell_type": "code",
   "execution_count": null,
   "id": "c4a14774-d94b-47e8-bb0a-911d1f5fecbc",
   "metadata": {},
   "outputs": [],
   "source": [
    "energy_axis = MapAxis.from_energy_edges([0.1, 0.3, 1.0, 3.0, 10.0]*u.TeV, name=\"energy_true\")\n",
    "\n",
    "nbin=7\n",
    "fov_lon_axis = MapAxis.from_edges([-1.5, -0.5, 0.5, 1.5]*u.deg,  name=\"fov_lon\")\n",
    "fov_lat_axis = MapAxis.from_edges([-1.5, -0.5, 0.5, 1.5]*u.deg,  name=\"fov_lat\")\n",
    "\n",
    "rad_axis = MapAxis.from_edges([0, 1, 2], unit=\"deg\", name=\"rad\")\n",
    "\n",
    "data = np.ones((4, 3, 3))\n",
    "for i in range(1,4):\n",
    "    data[i] = data[i-1]*1.5"
   ]
  }
 ],
 "metadata": {
  "kernelspec": {
   "display_name": "Python 3 (ipykernel)",
   "language": "python",
   "name": "python3"
  },
  "language_info": {
   "codemirror_mode": {
    "name": "ipython",
    "version": 3
   },
   "file_extension": ".py",
   "mimetype": "text/x-python",
   "name": "python",
   "nbconvert_exporter": "python",
   "pygments_lexer": "ipython3",
   "version": "3.9.16"
  }
 },
 "nbformat": 4,
 "nbformat_minor": 5
}

{
 "cells": [
  {
   "cell_type": "markdown",
   "metadata": {},
   "source": [
    "# Fitting 2D images with Gammapy\n",
    "\n",
    "Gammapy does not have any special handling for 2D images, but treats them as a subset of maps. Thus, classical 2D image analysis can be done in 2 independent ways:- \n",
    "1. Using the sherpa pacakge, see: https://github.com/gammapy/gammapy/blob/master/tutorials/image_fitting_with_sherpa.ipynb\\n\",\n",
    "2. Within gammapy, by assuming 2D analysis to be a sub-set of the generalised `maps`. Thus, analysis should proceed exactly as demonstrated in https://github.com/gammapy/gammapy/blob/master/tutorials/analysis_3d.ipynb, taking care of a few things that we mention in this tutorial\n",
    "We consider 2D `images` to be a special case of 3D `maps`, ie, maps with only one energy bin. This is a major difference while analysing in `sherpa`, where the `maps` must not contain any energy axis.\\n\",\n",
    "In this tutorial, we do a classical image analysis using three example observations of the Galactic center region with CTA - ie, study the source flux and morphology.\n",
    "\n"
   ]
  },
  {
   "cell_type": "markdown",
   "metadata": {},
   "source": [
    "## Setup"
   ]
  },
  {
   "cell_type": "code",
   "execution_count": 1,
   "metadata": {},
   "outputs": [],
   "source": [
    "%matplotlib inline\n",
    "import matplotlib.pyplot as plt\n",
    "import os\n",
    "import numpy as np\n",
    "import astropy.units as u\n",
    "from astropy.coordinates import SkyCoord\n",
    "from gammapy.extern.pathlib import Path\n",
    "from gammapy.data import DataStore\n",
    "from gammapy.irf import EnergyDispersion, make_mean_psf, make_mean_edisp\n",
    "from gammapy.maps import WcsGeom, MapAxis, Map, WcsNDMap\n",
    "from gammapy.cube import MapMaker, MapEvaluator, PSFKernel, MapFit\n",
    "from gammapy.cube.models import SkyModel\n",
    "from gammapy.spectrum.models import PowerLaw2\n",
    "from gammapy.image.models import SkyGaussian, SkyPointSource\n",
    "from regions import CircleSkyRegion\n"
   ]
  },
  {
   "cell_type": "markdown",
   "metadata": {},
   "source": [
    "## Prepare modeling input data\n",
    "\n",
    "### The counts, exposure and the background maps\n",
    "This is the same drill - use `DataStore` object to access the CTA observations and retrieve a list of observations by passing the observations IDs to the `.get_observations()` method, then use `MapMaker` to make the maps."
   ]
  },
  {
   "cell_type": "code",
   "execution_count": 2,
   "metadata": {},
   "outputs": [
    {
     "name": "stdout",
     "output_type": "stream",
     "text": [
      "Data store:\n",
      "HDU index table:\n",
      "BASE_DIR: /Users/asinha/Gammapy-dev/gammapy-extra/datasets/cta-1dc/index/gps\n",
      "Rows: 24\n",
      "OBS_ID: 110380 -- 111630\n",
      "HDU_TYPE: ['aeff', 'bkg', 'edisp', 'events', 'gti', 'psf']\n",
      "HDU_CLASS: ['aeff_2d', 'bkg_3d', 'edisp_2d', 'events', 'gti', 'psf_3gauss']\n",
      "\n",
      "Observation table:\n",
      "Observatory name: 'N/A'\n",
      "Number of observations: 4\n",
      "Total observation time (hours):  2.0\n",
      "Observation table:  ['OBS_ID', 'RA_PNT', 'DEC_PNT', 'GLON_PNT', 'GLAT_PNT', 'ZEN_PNT', 'ALT_PNT', 'AZ_PNT', 'ONTIME', 'LIVETIME', 'DEADC', 'TSTART', 'TSTOP', 'DATE-OBS', 'TIME-OBS', 'DATE-END', 'TIME-END', 'N_TELS', 'OBJECT', 'CALDB', 'IRF', 'EVENTS_FILENAME', 'EVENT_COUNT']\n"
     ]
    }
   ],
   "source": [
    "# Define which data to use and print some information\n",
    "data_store = DataStore.from_dir(\"$GAMMAPY_DATA/cta-1dc/index/gps/\")\n",
    "data_store.info()\n",
    "print(\n",
    "    \"Total observation time (hours): \",\n",
    "    data_store.obs_table[\"ONTIME\"].sum() / 3600,\n",
    ")\n",
    "print(\"Observation table: \", data_store.obs_table.colnames)"
   ]
  },
  {
   "cell_type": "code",
   "execution_count": 3,
   "metadata": {},
   "outputs": [],
   "source": [
    "# Select some observations from these dataset by hand\n",
    "obs_ids = [110380, 111140, 111159]\n",
    "observations = data_store.get_observations(obs_ids)"
   ]
  },
  {
   "cell_type": "code",
   "execution_count": 4,
   "metadata": {},
   "outputs": [],
   "source": [
    "emin, emax = [0.1, 10] * u.TeV\n",
    "energy_axis = MapAxis.from_bounds(emin.value, emax.value, 10, \n",
    "            unit=\"TeV\", name=\"energy\", interp=\"log\"\n",
    ")\n",
    "geom = WcsGeom.create(\n",
    "    skydir=(0, 0),\n",
    "    binsz=0.02,\n",
    "    width=(10, 8),\n",
    "    coordsys=\"GAL\",\n",
    "    proj=\"CAR\",\n",
    "    axes=[energy_axis],\n",
    ")"
   ]
  },
  {
   "cell_type": "markdown",
   "metadata": {},
   "source": [
    "Note that even when doing a 2D analysis, it is better to use fine energy bins in the beginning and then sum them over. This is to ensure that the background shape can be approximated by a power law function in each energy bin."
   ]
  },
  {
   "cell_type": "code",
   "execution_count": 5,
   "metadata": {},
   "outputs": [
    {
     "name": "stderr",
     "output_type": "stream",
     "text": [
      "/Users/asinha/anaconda3/lib/python3.6/site-packages/h5py/__init__.py:36: FutureWarning: Conversion of the second argument of issubdtype from `float` to `np.floating` is deprecated. In future, it will be treated as `np.float64 == np.dtype(float).type`.\n",
      "  from ._conv import register_converters as _register_converters\n"
     ]
    },
    {
     "name": "stdout",
     "output_type": "stream",
     "text": [
      "CPU times: user 11.6 s, sys: 1.48 s, total: 13.1 s\n",
      "Wall time: 13.2 s\n"
     ]
    }
   ],
   "source": [
    "%%time\n",
    "maker = MapMaker(geom, offset_max=4.0 * u.deg)\n",
    "maps = maker.run(observations)"
   ]
  },
  {
   "cell_type": "code",
   "execution_count": 6,
   "metadata": {},
   "outputs": [
    {
     "data": {
      "text/plain": [
       "{'background': WcsNDMap\n",
       " \n",
       " \tgeom  : WcsGeom \n",
       "  \taxes  : lon, lat, energy\n",
       " \tshape : (500, 400, 10)\n",
       " \tndim  : 3\n",
       " \tunit  : '' \n",
       " \tdtype : float32 , 'counts': WcsNDMap\n",
       " \n",
       " \tgeom  : WcsGeom \n",
       "  \taxes  : lon, lat, energy\n",
       " \tshape : (500, 400, 10)\n",
       " \tndim  : 3\n",
       " \tunit  : '' \n",
       " \tdtype : float32 , 'exposure': WcsNDMap\n",
       " \n",
       " \tgeom  : WcsGeom \n",
       "  \taxes  : lon, lat, energy\n",
       " \tshape : (500, 400, 10)\n",
       " \tndim  : 3\n",
       " \tunit  : 'm2 s' \n",
       " \tdtype : float32 }"
      ]
     },
     "execution_count": 6,
     "metadata": {},
     "output_type": "execute_result"
    }
   ],
   "source": [
    "maps"
   ]
  },
  {
   "cell_type": "markdown",
   "metadata": {},
   "source": [
    "As we can see, the maps now have multiple bins in energy. We need to squash them to have one bin, and this can be done by specifying `keep_dims = True` while calling `make_images()`. This will compute a summed `counts` and `background` maps, and a spectral weighted `exposure`  map."
   ]
  },
  {
   "cell_type": "code",
   "execution_count": 8,
   "metadata": {},
   "outputs": [],
   "source": [
    "spectrum = PowerLaw2(index=2)\n",
    "maps2D = maker.make_images(spectrum = spectrum, keepdims=True)"
   ]
  },
  {
   "cell_type": "markdown",
   "metadata": {},
   "source": [
    "For a typical 2D analysis, using an energy dispersion usually does not make sense. A PSF map can be made as in the regular 3D case."
   ]
  },
  {
   "cell_type": "code",
   "execution_count": 9,
   "metadata": {},
   "outputs": [],
   "source": [
    "# mean PSF\n",
    "geom2d = maps2D['exposure'].geom\n",
    "src_pos = SkyCoord(0, 0, unit=\"deg\", frame=\"galactic\")\n",
    "table_psf = make_mean_psf(observations, src_pos)\n",
    "\n",
    "# PSF kernel used for the model convolution\n",
    "psf_kernel = PSFKernel.from_table_psf(table_psf, geom2d, max_radius=\"0.3 deg\")"
   ]
  },
  {
   "cell_type": "markdown",
   "metadata": {},
   "source": [
    "Now, the analysis proceeds as usual. Just take care to use the proper geometry in this case."
   ]
  },
  {
   "cell_type": "markdown",
   "metadata": {},
   "source": [
    "## Define a mask"
   ]
  },
  {
   "cell_type": "code",
   "execution_count": 10,
   "metadata": {},
   "outputs": [],
   "source": [
    "mask = Map.from_geom(geom2d)\n",
    "\n",
    "region = CircleSkyRegion(center=src_pos, radius=0.6 * u.deg)\n",
    "mask.data = mask.geom.region_mask([region])"
   ]
  },
  {
   "cell_type": "markdown",
   "metadata": {},
   "source": [
    "## Modelling the source\n",
    "\n",
    "This is the important thing to note in this analysis. Since modelling and fitting in `gammapy.maps` needs to have a combination of spectral models, we have to use a dummy Powerlaw as for the specrtal model and fix its index to 2. Since we are interested only in the integral flux, we will use the `PowerLaw2` model which directly fits an intergal flux."
   ]
  },
  {
   "cell_type": "code",
   "execution_count": 11,
   "metadata": {},
   "outputs": [],
   "source": [
    "spatial_model = SkyPointSource(lon_0=\"0.01 deg\", lat_0=\"0.01 deg\")\n",
    "spectral_model = PowerLaw2(\n",
    "    index=2.0, amplitude=\"3e-12 cm-2 s-1\"\n",
    ")\n",
    "model = SkyModel(spatial_model=spatial_model, spectral_model=spectral_model)\n",
    "model.parameters[\"index\"].frozen = True"
   ]
  },
  {
   "cell_type": "code",
   "execution_count": 12,
   "metadata": {},
   "outputs": [],
   "source": [
    "fit = MapFit(\n",
    "    model=model,\n",
    "    counts=maps2D[\"counts\"],\n",
    "    exposure=maps2D[\"exposure\"],\n",
    "    background=maps2D[\"background\"],\n",
    "    mask=mask,\n",
    "    psf=psf_kernel,\n",
    ")"
   ]
  },
  {
   "cell_type": "code",
   "execution_count": 13,
   "metadata": {},
   "outputs": [
    {
     "data": {
      "text/html": [
       "<hr>"
      ]
     },
     "metadata": {},
     "output_type": "display_data"
    },
    {
     "data": {
      "text/html": [
       "\n",
       "        <table>\n",
       "            <tr>\n",
       "                <td title=\"Minimum value of function\">FCN = 468.27741980552673</td>\n",
       "                <td title=\"Total number of call to FCN so far\">TOTAL NCALL = 146</td>\n",
       "                <td title=\"Number of call in last migrad\">NCALLS = 146</td>\n",
       "            </tr>\n",
       "            <tr>\n",
       "                <td title=\"Estimated distance to minimum\">EDM = 0.00030063004013465637</td>\n",
       "                <td title=\"Maximum EDM definition of convergence\">GOAL EDM = 1e-05</td>\n",
       "                <td title=\"Error def. Amount of increase in FCN to be defined as 1 standard deviation\">\n",
       "                UP = 1.0</td>\n",
       "            </tr>\n",
       "        </table>\n",
       "        \n",
       "        <table>\n",
       "            <tr>\n",
       "                <td align=\"center\" title=\"Validity of the migrad call\">Valid</td>\n",
       "                <td align=\"center\" title=\"Validity of parameters\">Valid Param</td>\n",
       "                <td align=\"center\" title=\"Is Covariance matrix accurate?\">Accurate Covar</td>\n",
       "                <td align=\"center\" title=\"Positive definiteness of covariance matrix\">PosDef</td>\n",
       "                <td align=\"center\" title=\"Was covariance matrix made posdef by adding diagonal element\">Made PosDef</td>\n",
       "            </tr>\n",
       "            <tr>\n",
       "                <td align=\"center\" style=\"background-color:#92CCA6\">True</td>\n",
       "                <td align=\"center\" style=\"background-color:#92CCA6\">True</td>\n",
       "                <td align=\"center\" style=\"background-color:#92CCA6\">True</td>\n",
       "                <td align=\"center\" style=\"background-color:#92CCA6\">True</td>\n",
       "                <td align=\"center\" style=\"background-color:#92CCA6\">False</td>\n",
       "            </tr>\n",
       "            <tr>\n",
       "                <td align=\"center\" title=\"Was last hesse call fail?\">Hesse Fail</td>\n",
       "                <td align=\"center\" title=\"Validity of covariance\">HasCov</td>\n",
       "                <td align=\"center\" title=\"Is EDM above goal EDM?\">Above EDM</td>\n",
       "                <td align=\"center\"></td>\n",
       "                <td align=\"center\" title=\"Did last migrad call reach max call limit?\">Reach calllim</td>\n",
       "            </tr>\n",
       "            <tr>\n",
       "                <td align=\"center\" style=\"background-color:#92CCA6\">False</td>\n",
       "                <td align=\"center\" style=\"background-color:#92CCA6\">True</td>\n",
       "                <td align=\"center\" style=\"background-color:#92CCA6\">False</td>\n",
       "                <td align=\"center\"></td>\n",
       "                <td align=\"center\" style=\"background-color:#92CCA6\">False</td>\n",
       "            </tr>\n",
       "        </table>\n",
       "        "
      ]
     },
     "metadata": {},
     "output_type": "display_data"
    },
    {
     "data": {
      "text/html": [
       "\n",
       "        <table>\n",
       "            <tr>\n",
       "                <td><a href=\"#\" onclick=\"$('#mMjVBoxLki').toggle()\">+</a></td>\n",
       "                <td title=\"Variable name\">Name</td>\n",
       "                <td title=\"Value of parameter\">Value</td>\n",
       "                <td title=\"Parabolic error\">Parab Error</td>\n",
       "                <td title=\"Minos lower error\">Minos Error-</td>\n",
       "                <td title=\"Minos upper error\">Minos Error+</td>\n",
       "                <td title=\"Lower limit of the parameter\">Limit-</td>\n",
       "                <td title=\"Upper limit of the parameter\">Limit+</td>\n",
       "                <td title=\"Is the parameter fixed in the fit\">FIXED</td>\n",
       "            </tr>\n",
       "        \n",
       "            <tr>\n",
       "                <td>1</td>\n",
       "                <td>par_000_lon_0</td>\n",
       "                <td>-4.73178</td>\n",
       "                <td>0.186177</td>\n",
       "                <td>0</td>\n",
       "                <td>0</td>\n",
       "                <td></td>\n",
       "                <td></td>\n",
       "                <td></td>\n",
       "            </tr>\n",
       "            \n",
       "            <tr>\n",
       "                <td>2</td>\n",
       "                <td>par_001_lat_0</td>\n",
       "                <td>-5.39081</td>\n",
       "                <td>0.182312</td>\n",
       "                <td>0</td>\n",
       "                <td>0</td>\n",
       "                <td></td>\n",
       "                <td></td>\n",
       "                <td></td>\n",
       "            </tr>\n",
       "            \n",
       "            <tr>\n",
       "                <td>3</td>\n",
       "                <td>par_002_amplitude</td>\n",
       "                <td>23.3274</td>\n",
       "                <td>1.03168</td>\n",
       "                <td>0</td>\n",
       "                <td>0</td>\n",
       "                <td></td>\n",
       "                <td></td>\n",
       "                <td></td>\n",
       "            </tr>\n",
       "            \n",
       "            <tr>\n",
       "                <td>4</td>\n",
       "                <td>par_003_index</td>\n",
       "                <td>2</td>\n",
       "                <td>1</td>\n",
       "                <td>0</td>\n",
       "                <td>0</td>\n",
       "                <td></td>\n",
       "                <td></td>\n",
       "                <td>FIXED</td>\n",
       "            </tr>\n",
       "            \n",
       "            <tr>\n",
       "                <td>5</td>\n",
       "                <td>par_004_emin</td>\n",
       "                <td>1</td>\n",
       "                <td>1</td>\n",
       "                <td>0</td>\n",
       "                <td>0</td>\n",
       "                <td></td>\n",
       "                <td></td>\n",
       "                <td>FIXED</td>\n",
       "            </tr>\n",
       "            \n",
       "            <tr>\n",
       "                <td>6</td>\n",
       "                <td>par_005_emax</td>\n",
       "                <td>1</td>\n",
       "                <td>1</td>\n",
       "                <td>0</td>\n",
       "                <td>0</td>\n",
       "                <td></td>\n",
       "                <td></td>\n",
       "                <td>FIXED</td>\n",
       "            </tr>\n",
       "            \n",
       "            </table>\n",
       "        \n",
       "            <pre id=\"mMjVBoxLki\" style=\"display:none;\">\n",
       "            <textarea rows=\"18\" cols=\"50\" onclick=\"this.select()\" readonly>\\begin{tabular}{|c|r|r|r|r|r|r|r|c|}\n",
       "\\hline\n",
       " & Name & Value & Para Error & Error+ & Error- & Limit+ & Limit- & FIXED\\\\\n",
       "\\hline\n",
       "1 & par 000 $lon_{0}$ & -4.732e+00 & 1.862e-01 &  &  &  &  & \\\\\n",
       "\\hline\n",
       "2 & par 001 $lat_{0}$ & -5.391e+00 & 1.823e-01 &  &  &  &  & \\\\\n",
       "\\hline\n",
       "3 & par $002_{amplitude}$ & 2.333e+01 & 1.032e+00 &  &  &  &  & \\\\\n",
       "\\hline\n",
       "4 & par $003_{index}$ & 2.000e+00 & 1.000e+00 &  &  &  &  & FIXED\\\\\n",
       "\\hline\n",
       "5 & par $004_{emin}$ & 1.000e+00 & 1.000e+00 &  &  &  &  & FIXED\\\\\n",
       "\\hline\n",
       "6 & par $005_{emax}$ & 1.000e+00 & 1.000e+00 &  &  &  &  & FIXED\\\\\n",
       "\\hline\n",
       "\\end{tabular}</textarea>\n",
       "            </pre>\n",
       "            "
      ]
     },
     "metadata": {},
     "output_type": "display_data"
    },
    {
     "data": {
      "text/html": [
       "<hr>"
      ]
     },
     "metadata": {},
     "output_type": "display_data"
    },
    {
     "name": "stdout",
     "output_type": "stream",
     "text": [
      "CPU times: user 4.24 s, sys: 230 ms, total: 4.47 s\n",
      "Wall time: 4.47 s\n"
     ]
    }
   ],
   "source": [
    "%%time\n",
    "result = fit.run(optimize_opts={\"print_level\": 1})"
   ]
  },
  {
   "cell_type": "markdown",
   "metadata": {},
   "source": [
    "The output of the fit does not look very meaningful. To see the actual best-fit parameters, do a print on the result"
   ]
  },
  {
   "cell_type": "code",
   "execution_count": 14,
   "metadata": {},
   "outputs": [
    {
     "name": "stdout",
     "output_type": "stream",
     "text": [
      "SkyModel\n",
      "\n",
      "Parameters: \n",
      "\n",
      "\t   name     value      error     unit   min max frozen\n",
      "\t--------- ---------- --------- -------- --- --- ------\n",
      "\t    lon_0 -4.732e-02 1.862e-03      deg nan nan  False\n",
      "\t    lat_0 -5.391e-02 1.823e-03      deg nan nan  False\n",
      "\tamplitude  2.333e-11 1.032e-12 cm-2 s-1 nan nan  False\n",
      "\t    index  2.000e+00 0.000e+00          nan nan   True\n",
      "\t     emin  1.000e-01 0.000e+00      TeV nan nan   True\n",
      "\t     emax  1.000e+02 0.000e+00      TeV nan nan   True\n",
      "\n",
      "Covariance: \n",
      "\n",
      "\t   name     lon_0     lat_0   amplitude   index      emin      emax  \n",
      "\t--------- --------- --------- --------- --------- --------- ---------\n",
      "\t    lon_0 3.466e-06 5.895e-08 5.567e-16 0.000e+00 0.000e+00 0.000e+00\n",
      "\t    lat_0 5.895e-08 3.324e-06 3.111e-16 0.000e+00 0.000e+00 0.000e+00\n",
      "\tamplitude 5.567e-16 3.111e-16 1.064e-24 0.000e+00 0.000e+00 0.000e+00\n",
      "\t    index 0.000e+00 0.000e+00 0.000e+00 0.000e+00 0.000e+00 0.000e+00\n",
      "\t     emin 0.000e+00 0.000e+00 0.000e+00 0.000e+00 0.000e+00 0.000e+00\n",
      "\t     emax 0.000e+00 0.000e+00 0.000e+00 0.000e+00 0.000e+00 0.000e+00\n"
     ]
    }
   ],
   "source": [
    "print(result.model)"
   ]
  },
  {
   "cell_type": "markdown",
   "metadata": {},
   "source": [
    "## Todo: Demonstrate plotting a flux map"
   ]
  },
  {
   "cell_type": "markdown",
   "metadata": {},
   "source": [
    "## Exercises\n",
    "1. Plot residual maps as done in the `analysis_3d` notebook\n",
    "2. Iteratively add and fit sources as explained in `image_fitting_with_sherpa` notebook\n"
   ]
  }
 ],
 "metadata": {
  "kernelspec": {
   "display_name": "Python 3",
   "language": "python",
   "name": "python3"
  },
  "language_info": {
   "codemirror_mode": {
    "name": "ipython",
    "version": 3
   },
   "file_extension": ".py",
   "mimetype": "text/x-python",
   "name": "python",
   "nbconvert_exporter": "python",
   "pygments_lexer": "ipython3",
   "version": "3.6.4"
  }
 },
 "nbformat": 4,
 "nbformat_minor": 2
}

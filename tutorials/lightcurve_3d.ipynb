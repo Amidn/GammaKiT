{
 "cells": [
  {
   "cell_type": "code",
   "execution_count": 1,
   "metadata": {},
   "outputs": [
    {
     "name": "stderr",
     "output_type": "stream",
     "text": [
      "WARNING: AstropyDeprecationWarning: astropy.extern.six will be removed in 4.0, use the six module directly if it is still needed [astropy.extern.six]\n"
     ]
    }
   ],
   "source": [
    "import matplotlib.pyplot as plt\n",
    "import numpy as np\n",
    "import astropy.units as u\n",
    "import os\n",
    "from pathlib import Path\n",
    "\n",
    "from astropy.coordinates import SkyCoord, Angle\n",
    "\n",
    "from gammapy.data import ObservationFilter, DataStore, DataStoreObservation\n",
    "from gammapy.irf import EffectiveAreaTable2D, EnergyDispersion2D, EnergyDependentMultiGaussPSF, Background3D\n",
    "from gammapy.spectrum.models import PowerLaw, PowerLaw2\n",
    "from gammapy.image.models import SkyPointSource\n",
    "from gammapy.cube import MapEvaluator, PSFKernel, MapMaker, MapMakerObs, MapDataset\n",
    "from gammapy.utils.fitting import Fit\n",
    "from gammapy.cube import make_map_exposure_true_energy, make_map_background_irf\n",
    "from gammapy.maps import WcsGeom, MapAxis, WcsNDMap, Map\n",
    "from gammapy.cube.models import SkyModel, SkyModels, BackgroundModel\n",
    "from gammapy.cube.exposure import _map_spectrum_weight\n",
    "from astropy.time import Time\n",
    "from regions import CircleSkyRegion\n",
    "from gammapy.irf import make_mean_psf\n"
   ]
  },
  {
   "cell_type": "code",
   "execution_count": 2,
   "metadata": {},
   "outputs": [],
   "source": [
    "import gammapy.time"
   ]
  },
  {
   "cell_type": "code",
   "execution_count": 3,
   "metadata": {},
   "outputs": [],
   "source": [
    "LightCurve = gammapy.time.LightCurve"
   ]
  },
  {
   "cell_type": "code",
   "execution_count": 4,
   "metadata": {},
   "outputs": [],
   "source": [
    "LightCurveEstimator = gammapy.time.LightCurveEstimator"
   ]
  },
  {
   "cell_type": "code",
   "execution_count": 5,
   "metadata": {},
   "outputs": [],
   "source": [
    "#Get DR1 data\n",
    "\n",
    "path = (\n",
    "    Path(os.environ[\"GAMMAPY_DATA\"])\n",
    "    / \"hess-dl3-dr1/hess-dl3-dr3-with-background.fits.gz\"\n",
    ")\n",
    "datastore = DataStore.from_file(path)\n",
    "src=SkyCoord.from_name(\"PKS 2155-304\")\n",
    "sep=SkyCoord.separation(src,datastore.obs_table.pointing_radec)\n",
    "Radius=2.3\n",
    "srcruns=(datastore.obs_table[sep<Radius*u.deg])\n",
    "myid=srcruns['OBS_ID'].data\n",
    "mylist=datastore.get_observations(myid)"
   ]
  },
  {
   "cell_type": "code",
   "execution_count": 6,
   "metadata": {},
   "outputs": [],
   "source": [
    "# Define geoms\n",
    "emin, emax = [1, 10] * u.TeV\n",
    "energy_axis = MapAxis.from_bounds(\n",
    "    emin.value, emax.value, 1, unit=\"TeV\", name=\"energy\", interp=\"log\"\n",
    ")\n",
    "geom = WcsGeom.create(\n",
    "    skydir=src,\n",
    "    binsz=0.05,\n",
    "    width=(2, 2),\n",
    "    coordsys=\"CEL\",\n",
    "    proj=\"CAR\",\n",
    "    axes=[energy_axis],\n",
    ")"
   ]
  },
  {
   "cell_type": "code",
   "execution_count": 7,
   "metadata": {},
   "outputs": [],
   "source": [
    "# Define the source model - Use a pointsource + integrated power law model to directly get flux\n",
    "\n",
    "spatial_model = SkyPointSource(lon_0=src.ra, lat_0=src.dec, frame=\"icrs\")\n",
    "spectral_model = PowerLaw2(\n",
    "    emin=emin, emax=emax, index=2.0, amplitude=\"3e-10 cm-2 s-1\"\n",
    ")\n",
    "sky_model = SkyModel(spatial_model=spatial_model, spectral_model=spectral_model)\n",
    "sky_model.parameters[\"index\"].frozen = True\n",
    "sky_model.parameters[\"lon_0\"].frozen = True\n",
    "sky_model.parameters[\"lat_0\"].frozen = True\n",
    "sky_model.parameters[\"amplitude\"].min = 0.0"
   ]
  },
  {
   "cell_type": "code",
   "execution_count": 8,
   "metadata": {},
   "outputs": [],
   "source": [
    "region = CircleSkyRegion(center=src, radius=0.6 * u.deg)"
   ]
  },
  {
   "cell_type": "code",
   "execution_count": 9,
   "metadata": {},
   "outputs": [],
   "source": [
    "# psf_kernel and MapMaker for each segment\n",
    "def make_maps(observations):\n",
    "    maker = MapMaker(geom, offset_max=2.0 * u.deg)\n",
    "    spectrum = PowerLaw2(index=2)\n",
    "    maps2D = maker.run_images(observations, spectrum=spectrum, keepdims=True)\n",
    "    geom2d = maps2D[\"exposure\"].geom\n",
    "    \n",
    "    table_psf = make_mean_psf(observations,src)\n",
    "\n",
    "    table_psf_2d = table_psf.table_psf_in_energy_band(\n",
    "    (emin, emax), spectrum=spectrum)\n",
    "\n",
    "    # PSF kernel used for the model convolution\n",
    "    psf_kernel = PSFKernel.from_table_psf(\n",
    "        table_psf_2d, geom2d, max_radius=\"0.3 deg\"\n",
    "        )\n",
    "    \n",
    "    return maps2D, psf_kernel"
   ]
  },
  {
   "cell_type": "code",
   "execution_count": 10,
   "metadata": {},
   "outputs": [],
   "source": [
    "time_start = Time(\"2006-07-29 20:00:00.000\")\n",
    "time_stop = Time(\"2006-07-30 06:00:00.00\")\n",
    "time_step = 30.0 * u.min\n",
    "time_0 = time_start"
   ]
  },
  {
   "cell_type": "code",
   "execution_count": 11,
   "metadata": {},
   "outputs": [
    {
     "name": "stdout",
     "output_type": "stream",
     "text": [
      "CPU times: user 27 s, sys: 676 ms, total: 27.7 s\n",
      "Wall time: 27.8 s\n"
     ]
    }
   ],
   "source": [
    "%%time\n",
    "\n",
    "map_segments = []\n",
    "psf_segments = []\n",
    "\n",
    "mjd = []\n",
    "while time_start<time_stop:\n",
    "    \n",
    "    # get smaller observation lists\n",
    "    t2 = time_start+time_step\n",
    "    time_interval = Time([time_start.value, t2.value])\n",
    "    obs = mylist.select_time(time_interval)\n",
    "    \n",
    "    \n",
    "    #Proceed with further analysis only if there are observations in the selected time window\n",
    "    if len(obs) > 0: \n",
    "        \n",
    "        maps, psf = make_maps(obs)\n",
    "        maps['counts'].meta['t_start'] = time_start\n",
    "        maps['counts'].meta['t_stop'] = t2\n",
    "        map_segments.append(maps)\n",
    "        psf_segments.append(psf)\n",
    "        \n",
    "        mjd.append((time_start+time_step/2.0).mjd)\n",
    "    time_start = t2"
   ]
  },
  {
   "cell_type": "code",
   "execution_count": 12,
   "metadata": {},
   "outputs": [],
   "source": [
    "datasets = []\n",
    "for amap,psf in zip(map_segments,psf_segments):\n",
    "    #Copy the source model\n",
    "    model = sky_model.copy()\n",
    "    \n",
    "    # Make the background model\n",
    "    background_model = BackgroundModel(amap[\"background\"])\n",
    "    background_model.parameters[\"norm\"].frozen = True\n",
    "    background_model.parameters[\"tilt\"].frozen = True\n",
    "          \n",
    "    #Now fit\n",
    "    dataset = MapDataset(\n",
    "        model=model,\n",
    "        counts=amap[\"counts\"],\n",
    "        exposure=amap[\"exposure\"],\n",
    "        background_model=background_model,\n",
    "        psf=psf,\n",
    "    )\n",
    "    datasets.append(dataset)"
   ]
  },
  {
   "cell_type": "code",
   "execution_count": 13,
   "metadata": {},
   "outputs": [],
   "source": [
    "lc = LightCurveEstimator(datasets)"
   ]
  },
  {
   "cell_type": "code",
   "execution_count": 14,
   "metadata": {},
   "outputs": [
    {
     "data": {
      "text/plain": [
       "17"
      ]
     },
     "execution_count": 14,
     "metadata": {},
     "output_type": "execute_result"
    }
   ],
   "source": [
    "len(datasets)"
   ]
  },
  {
   "cell_type": "code",
   "execution_count": 15,
   "metadata": {},
   "outputs": [],
   "source": [
    "lightcurve = lc.get_lc()"
   ]
  },
  {
   "cell_type": "code",
   "execution_count": 16,
   "metadata": {},
   "outputs": [
    {
     "data": {
      "text/plain": [
       "(0.6960784661004552, 0.024363822778469504)"
      ]
     },
     "execution_count": 16,
     "metadata": {},
     "output_type": "execute_result"
    }
   ],
   "source": [
    "lightcurve.fvar('amplitude')"
   ]
  },
  {
   "cell_type": "code",
   "execution_count": 17,
   "metadata": {},
   "outputs": [
    {
     "data": {
      "text/plain": [
       "<matplotlib.axes._subplots.AxesSubplot at 0x1c179857f0>"
      ]
     },
     "execution_count": 17,
     "metadata": {},
     "output_type": "execute_result"
    },
    {
     "data": {
      "image/png": "[encoded data removed]",
      "text/plain": [
       "<Figure size 432x288 with 1 Axes>"
      ]
     },
     "metadata": {
      "needs_background": "light"
     },
     "output_type": "display_data"
    }
   ],
   "source": [
    "lightcurve.plot('amplitude')"
   ]
  },
  {
   "cell_type": "code",
   "execution_count": 18,
   "metadata": {},
   "outputs": [
    {
     "data": {
      "text/plain": [
       "(2.463538105118879e-10, 1.0)"
      ]
     },
     "execution_count": 18,
     "metadata": {},
     "output_type": "execute_result"
    }
   ],
   "source": [
    "lightcurve.chisq('amplitude')"
   ]
  },
  {
   "cell_type": "code",
   "execution_count": 19,
   "metadata": {},
   "outputs": [
    {
     "data": {
      "text/html": [
       "&lt;Column name=&apos;amplitude_likelihood_profile&apos; dtype=&apos;object&apos; length=17&gt;\n",
       "<table>\n",
       "<tr><td>{&apos;amplitude_scan&apos;: array([8.48372901e-12, 1.08432550e-11, 1.32027810e-11, 1.55623070e-11,\n",
       "       1.79218330e-11, 2.02813590e-11, 2.26408850e-11, 2.50004110e-11,\n",
       "       2.73599369e-11, 2.97194629e-11, 3.20789889e-11, 3.44385149e-11,\n",
       "       3.67980409e-11, 3.91575669e-11, 4.15170929e-11, 4.38766189e-11,\n",
       "       4.62361449e-11, 4.85956709e-11, 5.09551969e-11, 5.33147229e-11,\n",
       "       5.56742489e-11, 5.80337748e-11, 6.03933008e-11, 6.27528268e-11,\n",
       "       6.51123528e-11, 6.74718788e-11, 6.98314048e-11, 7.21909308e-11,\n",
       "       7.45504568e-11, 7.69099828e-11, 7.92695088e-11]), &apos;dloglike_scan&apos;: array([1989.93872349, 1971.02695093, 1956.54179706, 1945.13930997,\n",
       "       1936.01111787, 1928.63191532, 1922.64056822, 1917.77789571,\n",
       "       1913.85146644, 1910.71440979, 1908.25204569, 1906.37309021,\n",
       "       1905.0036776 , 1904.08318652, 1903.56124176, 1903.39552301,\n",
       "       1903.55013307, 1903.99435352, 1904.70169779, 1905.64916221,\n",
       "       1906.81664168, 1908.18645926, 1909.74299396, 1911.4723688 ,\n",
       "       1913.36220174, 1915.40139978, 1917.57998138, 1919.88893964,\n",
       "       1922.32011117, 1924.86607726, 1927.52007969])}</td></tr>\n",
       "<tr><td>{&apos;amplitude_scan&apos;: array([2.39878430e-11, 2.50017970e-11, 2.60157510e-11, 2.70297051e-11,\n",
       "       2.80436591e-11, 2.90576131e-11, 3.00715671e-11, 3.10855211e-11,\n",
       "       3.20994752e-11, 3.31134292e-11, 3.41273832e-11, 3.51413372e-11,\n",
       "       3.61552913e-11, 3.71692453e-11, 3.81831993e-11, 3.91971533e-11,\n",
       "       4.02111073e-11, 4.12250614e-11, 4.22390154e-11, 4.32529694e-11,\n",
       "       4.42669234e-11, 4.52808775e-11, 4.62948315e-11, 4.73087855e-11,\n",
       "       4.83227395e-11, 4.93366936e-11, 5.03506476e-11, 5.13646016e-11,\n",
       "       5.23785556e-11, 5.33925096e-11, 5.44064637e-11]), &apos;dloglike_scan&apos;: array([3851.58566646, 3844.38612497, 3837.93004223, 3832.16432645,\n",
       "       3827.04143091, 3822.51861313, 3818.55729838, 3815.12255768,\n",
       "       3812.18265059, 3809.70865425, 3807.67413707, 3806.05486724,\n",
       "       3804.82859256, 3803.97481169, 3803.47460301, 3803.31046625,\n",
       "       3803.46618155, 3803.92667921, 3804.67794483, 3805.70691769,\n",
       "       3807.00139683, 3808.54998611, 3810.34200334, 3812.36744039,\n",
       "       3814.61688825, 3817.08151032, 3819.752981  , 3822.62345437,\n",
       "       3825.68552291, 3828.93218914, 3832.35684427])}</td></tr>\n",
       "<tr><td>{&apos;amplitude_scan&apos;: array([4.39284363e-11, 4.53146872e-11, 4.67009380e-11, 4.80871888e-11,\n",
       "       4.94734397e-11, 5.08596905e-11, 5.22459413e-11, 5.36321921e-11,\n",
       "       5.50184430e-11, 5.64046938e-11, 5.77909446e-11, 5.91771955e-11,\n",
       "       6.05634463e-11, 6.19496971e-11, 6.33359480e-11, 6.47221988e-11,\n",
       "       6.61084496e-11, 6.74947005e-11, 6.88809513e-11, 7.02672021e-11,\n",
       "       7.16534530e-11, 7.30397038e-11, 7.44259546e-11, 7.58122054e-11,\n",
       "       7.71984563e-11, 7.85847071e-11, 7.99709579e-11, 8.13572088e-11,\n",
       "       8.27434596e-11, 8.41297104e-11, 8.55159613e-11]), &apos;dloglike_scan&apos;: array([1690.71763743, 1684.09781903, 1678.11185577, 1672.72418026,\n",
       "       1667.90214915, 1663.61573381, 1659.83726994, 1656.54117422,\n",
       "       1653.70377994, 1651.30311906, 1649.31878062, 1647.73175474,\n",
       "       1646.52431766, 1645.67991449, 1645.18304876, 1645.01920668,\n",
       "       1645.17477392, 1645.63694335, 1646.39368811, 1647.43365934,\n",
       "       1648.74617425, 1650.32112851, 1652.14898664, 1654.22071199,\n",
       "       1656.52775995, 1659.06202237, 1661.81581144, 1664.7818093 ,\n",
       "       1667.95307719, 1671.32300231, 1674.88529635])}</td></tr>\n",
       "<tr><td>{&apos;amplitude_scan&apos;: array([5.76169834e-11, 5.92965169e-11, 6.09760504e-11, 6.26555839e-11,\n",
       "       6.43351174e-11, 6.60146509e-11, 6.76941843e-11, 6.93737178e-11,\n",
       "       7.10532513e-11, 7.27327848e-11, 7.44123183e-11, 7.60918518e-11,\n",
       "       7.77713853e-11, 7.94509188e-11, 8.11304522e-11, 8.28099857e-11,\n",
       "       8.44895192e-11, 8.61690527e-11, 8.78485862e-11, 8.95281197e-11,\n",
       "       9.12076532e-11, 9.28871867e-11, 9.45667201e-11, 9.62462536e-11,\n",
       "       9.79257871e-11, 9.96053206e-11, 1.01284854e-10, 1.02964388e-10,\n",
       "       1.04643921e-10, 1.06323455e-10, 1.08002988e-10]), &apos;dloglike_scan&apos;: array([952.45678727, 945.92112171, 939.99901516, 934.65844491,\n",
       "       929.869845  , 925.60586867, 921.84115057, 918.55214624,\n",
       "       915.71694121, 913.31510182, 911.32756342, 909.73648969,\n",
       "       908.52518391, 907.67798369, 907.18017856, 907.01793917,\n",
       "       907.17824766, 907.64882406, 908.41809285, 909.47510444,\n",
       "       910.80951153, 912.41150929, 914.27181488, 916.38161545,\n",
       "       918.73254812, 921.31666217, 924.12639935, 927.15454622,\n",
       "       930.39426799, 933.83901103, 937.48254105])}</td></tr>\n",
       "<tr><td>{&apos;amplitude_scan&apos;: array([3.38086046e-11, 3.52906360e-11, 3.67726675e-11, 3.82546989e-11,\n",
       "       3.97367304e-11, 4.12187618e-11, 4.27007933e-11, 4.41828248e-11,\n",
       "       4.56648562e-11, 4.71468877e-11, 4.86289191e-11, 5.01109506e-11,\n",
       "       5.15929820e-11, 5.30750135e-11, 5.45570449e-11, 5.60390764e-11,\n",
       "       5.75211078e-11, 5.90031393e-11, 6.04851708e-11, 6.19672022e-11,\n",
       "       6.34492337e-11, 6.49312651e-11, 6.64132966e-11, 6.78953280e-11,\n",
       "       6.93773595e-11, 7.08593909e-11, 7.23414224e-11, 7.38234538e-11,\n",
       "       7.53054853e-11, 7.67875167e-11, 7.82695482e-11]), &apos;dloglike_scan&apos;: array([1148.10497416, 1140.78721338, 1134.23889179, 1128.40223311,\n",
       "       1123.22578068, 1118.66352191, 1114.67412434, 1111.22033231,\n",
       "       1108.26843425, 1105.78783717, 1103.75067254, 1102.13150431,\n",
       "       1100.90703227, 1100.0558676 , 1099.55832569, 1099.39625332,\n",
       "       1099.55287153, 1100.01262757, 1100.76110145, 1101.78487249,\n",
       "       1103.07145099, 1104.60917801, 1106.38715969, 1108.39520073,\n",
       "       1110.62374581, 1113.06382368, 1115.70700416, 1118.54536039,\n",
       "       1121.57141132, 1124.77811156, 1128.15880146])}</td></tr>\n",
       "<tr><td>{&apos;amplitude_scan&apos;: array([2.46716188e-11, 2.60929834e-11, 2.75143480e-11, 2.89357125e-11,\n",
       "       3.03570771e-11, 3.17784417e-11, 3.31998063e-11, 3.46211708e-11,\n",
       "       3.60425354e-11, 3.74639000e-11, 3.88852646e-11, 4.03066291e-11,\n",
       "       4.17279937e-11, 4.31493583e-11, 4.45707229e-11, 4.59920874e-11,\n",
       "       4.74134520e-11, 4.88348166e-11, 5.02561812e-11, 5.16775457e-11,\n",
       "       5.30989103e-11, 5.45202749e-11, 5.59416395e-11, 5.73630040e-11,\n",
       "       5.87843686e-11, 6.02057332e-11, 6.16270978e-11, 6.30484623e-11,\n",
       "       6.44698269e-11, 6.58911915e-11, 6.73125561e-11]), &apos;dloglike_scan&apos;: array([1053.65893334, 1045.49627575, 1038.27774605, 1031.912795  ,\n",
       "       1026.32339171, 1021.44182686, 1017.20895972, 1013.57280859,\n",
       "       1010.48745094, 1007.91210275, 1005.81038045, 1004.14969172,\n",
       "       1002.90070579, 1002.03695485, 1001.53445183, 1001.37140194,\n",
       "       1001.52793474, 1001.98588503, 1002.72859934, 1003.74078293,\n",
       "       1005.00834066, 1006.5182631 , 1008.25852094, 1010.21795293,\n",
       "       1012.38620488, 1014.75363556, 1017.31126358, 1020.05070379,\n",
       "       1022.96411568, 1026.04415484, 1029.28394194])}</td></tr>\n",
       "<tr><td>{&apos;amplitude_scan&apos;: array([1.67419789e-11, 1.80928173e-11, 1.94436556e-11, 2.07944940e-11,\n",
       "       2.21453324e-11, 2.34961707e-11, 2.48470091e-11, 2.61978474e-11,\n",
       "       2.75486858e-11, 2.88995242e-11, 3.02503625e-11, 3.16012009e-11,\n",
       "       3.29520392e-11, 3.43028776e-11, 3.56537160e-11, 3.70045543e-11,\n",
       "       3.83553927e-11, 3.97062310e-11, 4.10570694e-11, 4.24079078e-11,\n",
       "       4.37587461e-11, 4.51095845e-11, 4.64604229e-11, 4.78112612e-11,\n",
       "       4.91620996e-11, 5.05129379e-11, 5.18637763e-11, 5.32146147e-11,\n",
       "       5.45654530e-11, 5.59162914e-11, 5.72671297e-11]), &apos;dloglike_scan&apos;: array([961.6501145 , 952.10883691, 943.82878156, 936.64862924,\n",
       "       930.43640742, 925.08276897, 920.49604637, 916.59865076,\n",
       "       913.32429872, 910.61590448, 908.42395243, 906.70521099,\n",
       "       905.42170545, 904.53988887, 904.02998487, 903.86543746,\n",
       "       904.02245617, 904.47965162, 905.21771826, 906.2191658 ,\n",
       "       907.46810456, 908.95004784, 910.65176251, 912.56111533,\n",
       "       914.66695896, 916.95902672, 919.42784891, 922.06465528,\n",
       "       924.86132511, 927.81031648, 930.90460825])}</td></tr>\n",
       "<tr><td>{&apos;amplitude_scan&apos;: array([6.68610476e-13, 1.65325970e-12, 2.63790893e-12, 3.62255816e-12,\n",
       "       4.60720738e-12, 5.59185661e-12, 6.57650584e-12, 7.56115506e-12,\n",
       "       8.54580429e-12, 9.53045352e-12, 1.05151027e-11, 1.14997520e-11,\n",
       "       1.24844012e-11, 1.34690504e-11, 1.44536997e-11, 1.54383489e-11,\n",
       "       1.64229981e-11, 1.74076473e-11, 1.83922966e-11, 1.93769458e-11,\n",
       "       2.03615950e-11, 2.13462442e-11, 2.23308935e-11, 2.33155427e-11,\n",
       "       2.43001919e-11, 2.52848411e-11, 2.62694904e-11, 2.72541396e-11,\n",
       "       2.82387888e-11, 2.92234381e-11, 3.02080873e-11]), &apos;dloglike_scan&apos;: array([1199.71707168, 1158.40083982, 1134.69425325, 1118.5813077 ,\n",
       "       1106.79464293, 1097.83069006, 1090.86560323, 1085.39627636,\n",
       "       1081.09168207, 1077.72177322, 1075.11984862, 1073.16103343,\n",
       "       1071.7492361 , 1070.808846  , 1070.27924137, 1070.11103463,\n",
       "       1070.26342543, 1070.70230178, 1071.39883425, 1072.32843172,\n",
       "       1073.469933  , 1074.80500152, 1076.31762645, 1077.99375137,\n",
       "       1079.82095519, 1081.78821325, 1083.88568914, 1086.10456997,\n",
       "       1088.43692441, 1090.875589  , 1093.41407691])}</td></tr>\n",
       "<tr><td>{&apos;amplitude_scan&apos;: array([8.58561054e-12, 9.90277161e-12, 1.12199327e-11, 1.25370938e-11,\n",
       "       1.38542548e-11, 1.51714159e-11, 1.64885770e-11, 1.78057381e-11,\n",
       "       1.91228991e-11, 2.04400602e-11, 2.17572213e-11, 2.30743823e-11,\n",
       "       2.43915434e-11, 2.57087045e-11, 2.70258656e-11, 2.83430266e-11,\n",
       "       2.96601877e-11, 3.09773488e-11, 3.22945099e-11, 3.36116709e-11,\n",
       "       3.49288320e-11, 3.62459931e-11, 3.75631542e-11, 3.88803152e-11,\n",
       "       4.01974763e-11, 4.15146374e-11, 4.28317984e-11, 4.41489595e-11,\n",
       "       4.54661206e-11, 4.67832817e-11, 4.81004427e-11]), &apos;dloglike_scan&apos;: array([1151.39995012, 1138.28671389, 1127.46635337, 1118.4650685 ,\n",
       "       1110.94389291, 1104.65165386, 1099.39689035, 1095.03018674,\n",
       "       1091.43263741, 1088.50800848, 1086.17728952, 1084.37478141,\n",
       "       1083.0452534 , 1082.14181015, 1081.62429169, 1081.45802449,\n",
       "       1081.61286814, 1082.06244963, 1082.78355571, 1083.75564524,\n",
       "       1084.96045058, 1086.38165257, 1088.00461243, 1089.81614508,\n",
       "       1091.80433402, 1093.95836619, 1096.26841244, 1098.72549251,\n",
       "       1101.32139763, 1104.04858849, 1106.90013783])}</td></tr>\n",
       "<tr><td>{&apos;amplitude_scan&apos;: array([1.69431931e-12, 2.63435395e-12, 3.57438860e-12, 4.51442324e-12,\n",
       "       5.45445789e-12, 6.39449254e-12, 7.33452718e-12, 8.27456183e-12,\n",
       "       9.21459648e-12, 1.01546311e-11, 1.10946658e-11, 1.20347004e-11,\n",
       "       1.29747351e-11, 1.39147697e-11, 1.48548044e-11, 1.57948390e-11,\n",
       "       1.67348736e-11, 1.76749083e-11, 1.86149429e-11, 1.95549776e-11,\n",
       "       2.04950122e-11, 2.14350469e-11, 2.23750815e-11, 2.33151162e-11,\n",
       "       2.42551508e-11, 2.51951855e-11, 2.61352201e-11, 2.70752548e-11,\n",
       "       2.80152894e-11, 2.89553241e-11, 2.98953587e-11]), &apos;dloglike_scan&apos;: array([1189.22663365, 1162.41057436, 1143.91186141, 1130.24378826,\n",
       "       1119.75645839, 1111.5317848 , 1105.00378685, 1099.79780662,\n",
       "       1095.65244898, 1092.37781022, 1089.8314163 , 1087.90353521,\n",
       "       1086.5077916 , 1085.57493966, 1085.04858023, 1084.88214497,\n",
       "       1085.03673047, 1085.47948525, 1086.18241577, 1087.12145841,\n",
       "       1088.27577949, 1089.62721768, 1091.15983992, 1092.8595903 ,\n",
       "       1094.71400481, 1096.71197971, 1098.84357705, 1101.09986552,\n",
       "       1103.47279397, 1105.95506985, 1108.54007258])}</td></tr>\n",
       "<tr><td>{&apos;amplitude_scan&apos;: array([9.15050084e-12, 1.03384221e-11, 1.15263433e-11, 1.27142646e-11,\n",
       "       1.39021858e-11, 1.50901070e-11, 1.62780283e-11, 1.74659495e-11,\n",
       "       1.86538708e-11, 1.98417920e-11, 2.10297132e-11, 2.22176345e-11,\n",
       "       2.34055557e-11, 2.45934770e-11, 2.57813982e-11, 2.69693194e-11,\n",
       "       2.81572407e-11, 2.93451619e-11, 3.05330831e-11, 3.17210044e-11,\n",
       "       3.29089256e-11, 3.40968469e-11, 3.52847681e-11, 3.64726893e-11,\n",
       "       3.76606106e-11, 3.88485318e-11, 4.00364531e-11, 4.12243743e-11,\n",
       "       4.24122955e-11, 4.36002168e-11, 4.47881380e-11]), &apos;dloglike_scan&apos;: array([1193.34438801, 1181.46037644, 1171.49580289, 1163.0996057 ,\n",
       "       1156.01019366, 1150.02723431, 1144.99378135, 1140.78451232,\n",
       "       1137.29771474, 1134.44965693, 1132.17056403, 1130.40165311,\n",
       "       1129.09292775, 1128.20149524, 1127.69027135, 1127.52697383,\n",
       "       1127.68331809, 1128.13437796, 1128.85807407, 1129.83474947,\n",
       "       1131.04682845, 1132.47852891, 1134.11562326, 1135.94524356,\n",
       "       1137.95570697, 1140.1363802 , 1142.47754831, 1144.97031833,\n",
       "       1147.60652499, 1150.37865288, 1153.27977066])}</td></tr>\n",
       "<tr><td>{&apos;amplitude_scan&apos;: array([3.49093692e-12, 4.44582250e-12, 5.40070808e-12, 6.35559367e-12,\n",
       "       7.31047925e-12, 8.26536483e-12, 9.22025041e-12, 1.01751360e-11,\n",
       "       1.11300216e-11, 1.20849072e-11, 1.30397927e-11, 1.39946783e-11,\n",
       "       1.49495639e-11, 1.59044495e-11, 1.68593351e-11, 1.78142206e-11,\n",
       "       1.87691062e-11, 1.97239918e-11, 2.06788774e-11, 2.16337630e-11,\n",
       "       2.25886485e-11, 2.35435341e-11, 2.44984197e-11, 2.54533053e-11,\n",
       "       2.64081909e-11, 2.73630765e-11, 2.83179620e-11, 2.92728476e-11,\n",
       "       3.02277332e-11, 3.11826188e-11, 3.21375044e-11]), &apos;dloglike_scan&apos;: array([1306.63197426, 1289.05821517, 1275.46683295, 1264.68079976,\n",
       "       1255.98538546, 1248.91247846, 1243.13803607, 1238.428002  ,\n",
       "       1234.60755591, 1231.54249968, 1229.12747085, 1227.27815446,\n",
       "       1225.92597546, 1225.01437049, 1224.49611227, 1224.33133685,\n",
       "       1224.48607848, 1224.93114128, 1225.64124117, 1226.59433066,\n",
       "       1227.77105791, 1229.15434537, 1230.72903769, 1232.48162472,\n",
       "       1234.40000514, 1236.47329883, 1238.69168437, 1241.04626302,\n",
       "       1243.5289486 , 1246.13236605, 1248.84977629])}</td></tr>\n",
       "<tr><td>{&apos;amplitude_scan&apos;: array([4.19964577e-12, 5.07639229e-12, 5.95313882e-12, 6.82988534e-12,\n",
       "       7.70663186e-12, 8.58337839e-12, 9.46012491e-12, 1.03368714e-11,\n",
       "       1.12136180e-11, 1.20903645e-11, 1.29671110e-11, 1.38438575e-11,\n",
       "       1.47206040e-11, 1.55973506e-11, 1.64740971e-11, 1.73508436e-11,\n",
       "       1.82275901e-11, 1.91043367e-11, 1.99810832e-11, 2.08578297e-11,\n",
       "       2.17345762e-11, 2.26113228e-11, 2.34880693e-11, 2.43648158e-11,\n",
       "       2.52415623e-11, 2.61183088e-11, 2.69950554e-11, 2.78718019e-11,\n",
       "       2.87485484e-11, 2.96252949e-11, 3.05020415e-11]), &apos;dloglike_scan&apos;: array([1330.88834321, 1315.35942414, 1302.96603299, 1292.9147337 ,\n",
       "       1284.68253686, 1277.90593416, 1272.32170309, 1267.73294007,\n",
       "       1263.9883827 , 1260.96923794, 1258.58045933, 1256.74477196,\n",
       "       1255.39847604, 1254.48842498, 1253.96979844, 1253.80444273,\n",
       "       1253.95959737, 1254.40691961, 1255.12172188, 1256.08235687,\n",
       "       1257.26974434, 1258.66697352, 1260.25897799, 1262.03228648,\n",
       "       1263.9747929 , 1266.07558671, 1268.32478843, 1270.71343057,\n",
       "       1273.23335036, 1275.8770829 , 1278.63779706])}</td></tr>\n",
       "<tr><td>{&apos;amplitude_scan&apos;: array([7.01177328e-13, 1.38173291e-12, 2.06228850e-12, 2.74284409e-12,\n",
       "       3.42339967e-12, 4.10395526e-12, 4.78451085e-12, 5.46506643e-12,\n",
       "       6.14562202e-12, 6.82617760e-12, 7.50673319e-12, 8.18728878e-12,\n",
       "       8.86784436e-12, 9.54839995e-12, 1.02289555e-11, 1.09095111e-11,\n",
       "       1.15900667e-11, 1.22706223e-11, 1.29511779e-11, 1.36317335e-11,\n",
       "       1.43122891e-11, 1.49928446e-11, 1.56734002e-11, 1.63539558e-11,\n",
       "       1.70345114e-11, 1.77150670e-11, 1.83956226e-11, 1.90761782e-11,\n",
       "       1.97567337e-11, 2.04372893e-11, 2.11178449e-11]), &apos;dloglike_scan&apos;: array([1747.72861783, 1716.7550884 , 1696.85413154, 1682.60672254,\n",
       "       1671.85811704, 1663.5124307 , 1656.92982414, 1651.70164384,\n",
       "       1647.5498031 , 1644.2758764 , 1641.73297324, 1639.80910598,\n",
       "       1638.41680498, 1637.48636841, 1636.96128906, 1636.79508548,\n",
       "       1636.94903463, 1637.3905067 , 1638.09174434, 1639.02891754,\n",
       "       1640.18141385, 1641.53127267, 1643.06274154, 1644.7619303 ,\n",
       "       1646.61651803, 1648.61552847, 1650.74913079, 1653.00849357,\n",
       "       1655.38564161, 1657.87335756, 1660.46507735])}</td></tr>\n",
       "<tr><td>{&apos;amplitude_scan&apos;: array([-4.52144348e-13,  8.09577288e-14,  6.14059806e-13,  1.14716188e-12,\n",
       "        1.68026396e-12,  2.21336604e-12,  2.74646811e-12,  3.27957019e-12,\n",
       "        3.81267227e-12,  4.34577434e-12,  4.87887642e-12,  5.41197850e-12,\n",
       "        5.94508057e-12,  6.47818265e-12,  7.01128473e-12,  7.54438681e-12,\n",
       "        8.07748888e-12,  8.61059096e-12,  9.14369304e-12,  9.67679511e-12,\n",
       "        1.02098972e-11,  1.07429993e-11,  1.12761013e-11,  1.18092034e-11,\n",
       "        1.23423055e-11,  1.28754076e-11,  1.34085097e-11,  1.39416117e-11,\n",
       "        1.44747138e-11,  1.50078159e-11,  1.55409180e-11]), &apos;dloglike_scan&apos;: array([2020.53877433, 2016.66989234, 1973.11724528, 1951.0122667 ,\n",
       "       1936.56217046, 1926.22394247, 1918.49395004, 1912.58188725,\n",
       "       1908.01712104, 1904.49509678, 1901.8066059 , 1899.80130442,\n",
       "       1898.36726494, 1897.41875273, 1896.88853831, 1896.72285942,\n",
       "       1896.87799541, 1897.31788155, 1898.0123911 , 1898.93607968,\n",
       "       1900.06725091, 1901.38724027, 1902.87986644, 1904.53100554,\n",
       "       1906.32824843, 1908.2606298 , 1910.31841013, 1912.49289463,\n",
       "       1914.77628923, 1917.16157414, 1919.64240875])}</td></tr>\n",
       "<tr><td>{&apos;amplitude_scan&apos;: array([-1.99444221e-13,  3.21869899e-13,  8.43184019e-13,  1.36449814e-12,\n",
       "        1.88581226e-12,  2.40712638e-12,  2.92844050e-12,  3.44975462e-12,\n",
       "        3.97106874e-12,  4.49238286e-12,  5.01369698e-12,  5.53501110e-12,\n",
       "        6.05632522e-12,  6.57763934e-12,  7.09895346e-12,  7.62026758e-12,\n",
       "        8.14158170e-12,  8.66289582e-12,  9.18420994e-12,  9.70552406e-12,\n",
       "        1.02268382e-11,  1.07481523e-11,  1.12694664e-11,  1.17907805e-11,\n",
       "        1.23120947e-11,  1.28334088e-11,  1.33547229e-11,  1.38760370e-11,\n",
       "        1.43973511e-11,  1.49186653e-11,  1.54399794e-11]), &apos;dloglike_scan&apos;: array([2835.37443252, 2770.56393985, 2742.97115868, 2725.91395086,\n",
       "       2713.85369415, 2704.82054258, 2697.85406938, 2692.40410592,\n",
       "       2688.12233775, 2684.77257022, 2682.18637701, 2680.23894706,\n",
       "       2678.83493188, 2677.89966494, 2677.37346868, 2677.20781482,\n",
       "       2677.36265342, 2677.80450977, 2678.50509204, 2679.44024765,\n",
       "       2680.58918337, 2681.93385783, 2683.45850334, 2685.14925072,\n",
       "       2686.99383801, 2688.98135682, 2691.10206574, 2693.34721758,\n",
       "       2695.7089347 , 2698.18008588, 2700.75420203])}</td></tr>\n",
       "<tr><td>{&apos;amplitude_scan&apos;: array([-6.71828174e-12, -5.48549952e-12, -4.25271731e-12, -3.01993509e-12,\n",
       "       -1.78715288e-12, -5.54370663e-13,  6.78411552e-13,  1.91119377e-12,\n",
       "        3.14397598e-12,  4.37675820e-12,  5.60954041e-12,  6.84232262e-12,\n",
       "        8.07510484e-12,  9.30788705e-12,  1.05406693e-11,  1.17734515e-11,\n",
       "        1.30062337e-11,  1.42390159e-11,  1.54717981e-11,  1.67045803e-11,\n",
       "        1.79373626e-11,  1.91701448e-11,  2.04029270e-11,  2.16357092e-11,\n",
       "        2.28684914e-11,  2.41012736e-11,  2.53340558e-11,  2.65668381e-11,\n",
       "        2.77996203e-11,  2.90324025e-11,  3.02651847e-11]), &apos;dloglike_scan&apos;: array([1265.03078581, 1274.76432012, 1272.09766819, 1307.22551407,\n",
       "       1310.38506411, 1356.52808827, 1370.98161277, 1355.26750745,\n",
       "       1346.7387125 , 1341.30255494, 1337.640483  , 1335.14289573,\n",
       "       1333.47375839, 1332.42674481, 1331.86548213, 1331.6948396 ,\n",
       "       1331.84566652, 1332.2660259 , 1332.91586523, 1333.76361027,\n",
       "       1334.7839068 , 1335.95606814, 1337.26298967, 1338.69035168,\n",
       "       1340.22604432, 1341.85972884, 1343.58250625, 1345.38665586,\n",
       "       1347.26543737, 1349.21292788, 1351.22389441])}</td></tr>\n",
       "</table>"
      ],
      "text/plain": [
       "<Column name='amplitude_likelihood_profile' dtype='object' length=17>\n",
       "                               {'amplitude_scan': array([8.48372901e-12, 1.08432550e-11, 1.32027810e-11, 1.55623070e-11,\n",
       "       1.79218330e-11, 2.02813590e-11, 2.26408850e-11, 2.50004110e-11,\n",
       "       2.73599369e-11, 2.97194629e-11, 3.20789889e-11, 3.44385149e-11,\n",
       "       3.67980409e-11, 3.91575669e-11, 4.15170929e-11, 4.38766189e-11,\n",
       "       4.62361449e-11, 4.85956709e-11, 5.09551969e-11, 5.33147229e-11,\n",
       "       5.56742489e-11, 5.80337748e-11, 6.03933008e-11, 6.27528268e-11,\n",
       "       6.51123528e-11, 6.74718788e-11, 6.98314048e-11, 7.21909308e-11,\n",
       "       7.45504568e-11, 7.69099828e-11, 7.92695088e-11]), 'dloglike_scan': array([1989.93872349, 1971.02695093, 1956.54179706, 1945.13930997,\n",
       "       1936.01111787, 1928.63191532, 1922.64056822, 1917.77789571,\n",
       "       1913.85146644, 1910.71440979, 1908.25204569, 1906.37309021,\n",
       "       1905.0036776 , 1904.08318652, 1903.56124176, 1903.39552301,\n",
       "       1903.55013307, 1903.99435352, 1904.70169779, 1905.64916221,\n",
       "       1906.81664168, 1908.18645926, 1909.74299396, 1911.4723688 ,\n",
       "       1913.36220174, 1915.40139978, 1917.57998138, 1919.88893964,\n",
       "       1922.32011117, 1924.86607726, 1927.52007969])}\n",
       "                               {'amplitude_scan': array([2.39878430e-11, 2.50017970e-11, 2.60157510e-11, 2.70297051e-11,\n",
       "       2.80436591e-11, 2.90576131e-11, 3.00715671e-11, 3.10855211e-11,\n",
       "       3.20994752e-11, 3.31134292e-11, 3.41273832e-11, 3.51413372e-11,\n",
       "       3.61552913e-11, 3.71692453e-11, 3.81831993e-11, 3.91971533e-11,\n",
       "       4.02111073e-11, 4.12250614e-11, 4.22390154e-11, 4.32529694e-11,\n",
       "       4.42669234e-11, 4.52808775e-11, 4.62948315e-11, 4.73087855e-11,\n",
       "       4.83227395e-11, 4.93366936e-11, 5.03506476e-11, 5.13646016e-11,\n",
       "       5.23785556e-11, 5.33925096e-11, 5.44064637e-11]), 'dloglike_scan': array([3851.58566646, 3844.38612497, 3837.93004223, 3832.16432645,\n",
       "       3827.04143091, 3822.51861313, 3818.55729838, 3815.12255768,\n",
       "       3812.18265059, 3809.70865425, 3807.67413707, 3806.05486724,\n",
       "       3804.82859256, 3803.97481169, 3803.47460301, 3803.31046625,\n",
       "       3803.46618155, 3803.92667921, 3804.67794483, 3805.70691769,\n",
       "       3807.00139683, 3808.54998611, 3810.34200334, 3812.36744039,\n",
       "       3814.61688825, 3817.08151032, 3819.752981  , 3822.62345437,\n",
       "       3825.68552291, 3828.93218914, 3832.35684427])}\n",
       "                               {'amplitude_scan': array([4.39284363e-11, 4.53146872e-11, 4.67009380e-11, 4.80871888e-11,\n",
       "       4.94734397e-11, 5.08596905e-11, 5.22459413e-11, 5.36321921e-11,\n",
       "       5.50184430e-11, 5.64046938e-11, 5.77909446e-11, 5.91771955e-11,\n",
       "       6.05634463e-11, 6.19496971e-11, 6.33359480e-11, 6.47221988e-11,\n",
       "       6.61084496e-11, 6.74947005e-11, 6.88809513e-11, 7.02672021e-11,\n",
       "       7.16534530e-11, 7.30397038e-11, 7.44259546e-11, 7.58122054e-11,\n",
       "       7.71984563e-11, 7.85847071e-11, 7.99709579e-11, 8.13572088e-11,\n",
       "       8.27434596e-11, 8.41297104e-11, 8.55159613e-11]), 'dloglike_scan': array([1690.71763743, 1684.09781903, 1678.11185577, 1672.72418026,\n",
       "       1667.90214915, 1663.61573381, 1659.83726994, 1656.54117422,\n",
       "       1653.70377994, 1651.30311906, 1649.31878062, 1647.73175474,\n",
       "       1646.52431766, 1645.67991449, 1645.18304876, 1645.01920668,\n",
       "       1645.17477392, 1645.63694335, 1646.39368811, 1647.43365934,\n",
       "       1648.74617425, 1650.32112851, 1652.14898664, 1654.22071199,\n",
       "       1656.52775995, 1659.06202237, 1661.81581144, 1664.7818093 ,\n",
       "       1667.95307719, 1671.32300231, 1674.88529635])}\n",
       "                                                              {'amplitude_scan': array([5.76169834e-11, 5.92965169e-11, 6.09760504e-11, 6.26555839e-11,\n",
       "       6.43351174e-11, 6.60146509e-11, 6.76941843e-11, 6.93737178e-11,\n",
       "       7.10532513e-11, 7.27327848e-11, 7.44123183e-11, 7.60918518e-11,\n",
       "       7.77713853e-11, 7.94509188e-11, 8.11304522e-11, 8.28099857e-11,\n",
       "       8.44895192e-11, 8.61690527e-11, 8.78485862e-11, 8.95281197e-11,\n",
       "       9.12076532e-11, 9.28871867e-11, 9.45667201e-11, 9.62462536e-11,\n",
       "       9.79257871e-11, 9.96053206e-11, 1.01284854e-10, 1.02964388e-10,\n",
       "       1.04643921e-10, 1.06323455e-10, 1.08002988e-10]), 'dloglike_scan': array([952.45678727, 945.92112171, 939.99901516, 934.65844491,\n",
       "       929.869845  , 925.60586867, 921.84115057, 918.55214624,\n",
       "       915.71694121, 913.31510182, 911.32756342, 909.73648969,\n",
       "       908.52518391, 907.67798369, 907.18017856, 907.01793917,\n",
       "       907.17824766, 907.64882406, 908.41809285, 909.47510444,\n",
       "       910.80951153, 912.41150929, 914.27181488, 916.38161545,\n",
       "       918.73254812, 921.31666217, 924.12639935, 927.15454622,\n",
       "       930.39426799, 933.83901103, 937.48254105])}\n",
       "                               {'amplitude_scan': array([3.38086046e-11, 3.52906360e-11, 3.67726675e-11, 3.82546989e-11,\n",
       "       3.97367304e-11, 4.12187618e-11, 4.27007933e-11, 4.41828248e-11,\n",
       "       4.56648562e-11, 4.71468877e-11, 4.86289191e-11, 5.01109506e-11,\n",
       "       5.15929820e-11, 5.30750135e-11, 5.45570449e-11, 5.60390764e-11,\n",
       "       5.75211078e-11, 5.90031393e-11, 6.04851708e-11, 6.19672022e-11,\n",
       "       6.34492337e-11, 6.49312651e-11, 6.64132966e-11, 6.78953280e-11,\n",
       "       6.93773595e-11, 7.08593909e-11, 7.23414224e-11, 7.38234538e-11,\n",
       "       7.53054853e-11, 7.67875167e-11, 7.82695482e-11]), 'dloglike_scan': array([1148.10497416, 1140.78721338, 1134.23889179, 1128.40223311,\n",
       "       1123.22578068, 1118.66352191, 1114.67412434, 1111.22033231,\n",
       "       1108.26843425, 1105.78783717, 1103.75067254, 1102.13150431,\n",
       "       1100.90703227, 1100.0558676 , 1099.55832569, 1099.39625332,\n",
       "       1099.55287153, 1100.01262757, 1100.76110145, 1101.78487249,\n",
       "       1103.07145099, 1104.60917801, 1106.38715969, 1108.39520073,\n",
       "       1110.62374581, 1113.06382368, 1115.70700416, 1118.54536039,\n",
       "       1121.57141132, 1124.77811156, 1128.15880146])}\n",
       "                               {'amplitude_scan': array([2.46716188e-11, 2.60929834e-11, 2.75143480e-11, 2.89357125e-11,\n",
       "       3.03570771e-11, 3.17784417e-11, 3.31998063e-11, 3.46211708e-11,\n",
       "       3.60425354e-11, 3.74639000e-11, 3.88852646e-11, 4.03066291e-11,\n",
       "       4.17279937e-11, 4.31493583e-11, 4.45707229e-11, 4.59920874e-11,\n",
       "       4.74134520e-11, 4.88348166e-11, 5.02561812e-11, 5.16775457e-11,\n",
       "       5.30989103e-11, 5.45202749e-11, 5.59416395e-11, 5.73630040e-11,\n",
       "       5.87843686e-11, 6.02057332e-11, 6.16270978e-11, 6.30484623e-11,\n",
       "       6.44698269e-11, 6.58911915e-11, 6.73125561e-11]), 'dloglike_scan': array([1053.65893334, 1045.49627575, 1038.27774605, 1031.912795  ,\n",
       "       1026.32339171, 1021.44182686, 1017.20895972, 1013.57280859,\n",
       "       1010.48745094, 1007.91210275, 1005.81038045, 1004.14969172,\n",
       "       1002.90070579, 1002.03695485, 1001.53445183, 1001.37140194,\n",
       "       1001.52793474, 1001.98588503, 1002.72859934, 1003.74078293,\n",
       "       1005.00834066, 1006.5182631 , 1008.25852094, 1010.21795293,\n",
       "       1012.38620488, 1014.75363556, 1017.31126358, 1020.05070379,\n",
       "       1022.96411568, 1026.04415484, 1029.28394194])}\n",
       "                                                              {'amplitude_scan': array([1.67419789e-11, 1.80928173e-11, 1.94436556e-11, 2.07944940e-11,\n",
       "       2.21453324e-11, 2.34961707e-11, 2.48470091e-11, 2.61978474e-11,\n",
       "       2.75486858e-11, 2.88995242e-11, 3.02503625e-11, 3.16012009e-11,\n",
       "       3.29520392e-11, 3.43028776e-11, 3.56537160e-11, 3.70045543e-11,\n",
       "       3.83553927e-11, 3.97062310e-11, 4.10570694e-11, 4.24079078e-11,\n",
       "       4.37587461e-11, 4.51095845e-11, 4.64604229e-11, 4.78112612e-11,\n",
       "       4.91620996e-11, 5.05129379e-11, 5.18637763e-11, 5.32146147e-11,\n",
       "       5.45654530e-11, 5.59162914e-11, 5.72671297e-11]), 'dloglike_scan': array([961.6501145 , 952.10883691, 943.82878156, 936.64862924,\n",
       "       930.43640742, 925.08276897, 920.49604637, 916.59865076,\n",
       "       913.32429872, 910.61590448, 908.42395243, 906.70521099,\n",
       "       905.42170545, 904.53988887, 904.02998487, 903.86543746,\n",
       "       904.02245617, 904.47965162, 905.21771826, 906.2191658 ,\n",
       "       907.46810456, 908.95004784, 910.65176251, 912.56111533,\n",
       "       914.66695896, 916.95902672, 919.42784891, 922.06465528,\n",
       "       924.86132511, 927.81031648, 930.90460825])}\n",
       "                               {'amplitude_scan': array([6.68610476e-13, 1.65325970e-12, 2.63790893e-12, 3.62255816e-12,\n",
       "       4.60720738e-12, 5.59185661e-12, 6.57650584e-12, 7.56115506e-12,\n",
       "       8.54580429e-12, 9.53045352e-12, 1.05151027e-11, 1.14997520e-11,\n",
       "       1.24844012e-11, 1.34690504e-11, 1.44536997e-11, 1.54383489e-11,\n",
       "       1.64229981e-11, 1.74076473e-11, 1.83922966e-11, 1.93769458e-11,\n",
       "       2.03615950e-11, 2.13462442e-11, 2.23308935e-11, 2.33155427e-11,\n",
       "       2.43001919e-11, 2.52848411e-11, 2.62694904e-11, 2.72541396e-11,\n",
       "       2.82387888e-11, 2.92234381e-11, 3.02080873e-11]), 'dloglike_scan': array([1199.71707168, 1158.40083982, 1134.69425325, 1118.5813077 ,\n",
       "       1106.79464293, 1097.83069006, 1090.86560323, 1085.39627636,\n",
       "       1081.09168207, 1077.72177322, 1075.11984862, 1073.16103343,\n",
       "       1071.7492361 , 1070.808846  , 1070.27924137, 1070.11103463,\n",
       "       1070.26342543, 1070.70230178, 1071.39883425, 1072.32843172,\n",
       "       1073.469933  , 1074.80500152, 1076.31762645, 1077.99375137,\n",
       "       1079.82095519, 1081.78821325, 1083.88568914, 1086.10456997,\n",
       "       1088.43692441, 1090.875589  , 1093.41407691])}\n",
       "                               {'amplitude_scan': array([8.58561054e-12, 9.90277161e-12, 1.12199327e-11, 1.25370938e-11,\n",
       "       1.38542548e-11, 1.51714159e-11, 1.64885770e-11, 1.78057381e-11,\n",
       "       1.91228991e-11, 2.04400602e-11, 2.17572213e-11, 2.30743823e-11,\n",
       "       2.43915434e-11, 2.57087045e-11, 2.70258656e-11, 2.83430266e-11,\n",
       "       2.96601877e-11, 3.09773488e-11, 3.22945099e-11, 3.36116709e-11,\n",
       "       3.49288320e-11, 3.62459931e-11, 3.75631542e-11, 3.88803152e-11,\n",
       "       4.01974763e-11, 4.15146374e-11, 4.28317984e-11, 4.41489595e-11,\n",
       "       4.54661206e-11, 4.67832817e-11, 4.81004427e-11]), 'dloglike_scan': array([1151.39995012, 1138.28671389, 1127.46635337, 1118.4650685 ,\n",
       "       1110.94389291, 1104.65165386, 1099.39689035, 1095.03018674,\n",
       "       1091.43263741, 1088.50800848, 1086.17728952, 1084.37478141,\n",
       "       1083.0452534 , 1082.14181015, 1081.62429169, 1081.45802449,\n",
       "       1081.61286814, 1082.06244963, 1082.78355571, 1083.75564524,\n",
       "       1084.96045058, 1086.38165257, 1088.00461243, 1089.81614508,\n",
       "       1091.80433402, 1093.95836619, 1096.26841244, 1098.72549251,\n",
       "       1101.32139763, 1104.04858849, 1106.90013783])}\n",
       "                               {'amplitude_scan': array([1.69431931e-12, 2.63435395e-12, 3.57438860e-12, 4.51442324e-12,\n",
       "       5.45445789e-12, 6.39449254e-12, 7.33452718e-12, 8.27456183e-12,\n",
       "       9.21459648e-12, 1.01546311e-11, 1.10946658e-11, 1.20347004e-11,\n",
       "       1.29747351e-11, 1.39147697e-11, 1.48548044e-11, 1.57948390e-11,\n",
       "       1.67348736e-11, 1.76749083e-11, 1.86149429e-11, 1.95549776e-11,\n",
       "       2.04950122e-11, 2.14350469e-11, 2.23750815e-11, 2.33151162e-11,\n",
       "       2.42551508e-11, 2.51951855e-11, 2.61352201e-11, 2.70752548e-11,\n",
       "       2.80152894e-11, 2.89553241e-11, 2.98953587e-11]), 'dloglike_scan': array([1189.22663365, 1162.41057436, 1143.91186141, 1130.24378826,\n",
       "       1119.75645839, 1111.5317848 , 1105.00378685, 1099.79780662,\n",
       "       1095.65244898, 1092.37781022, 1089.8314163 , 1087.90353521,\n",
       "       1086.5077916 , 1085.57493966, 1085.04858023, 1084.88214497,\n",
       "       1085.03673047, 1085.47948525, 1086.18241577, 1087.12145841,\n",
       "       1088.27577949, 1089.62721768, 1091.15983992, 1092.8595903 ,\n",
       "       1094.71400481, 1096.71197971, 1098.84357705, 1101.09986552,\n",
       "       1103.47279397, 1105.95506985, 1108.54007258])}\n",
       "                               {'amplitude_scan': array([9.15050084e-12, 1.03384221e-11, 1.15263433e-11, 1.27142646e-11,\n",
       "       1.39021858e-11, 1.50901070e-11, 1.62780283e-11, 1.74659495e-11,\n",
       "       1.86538708e-11, 1.98417920e-11, 2.10297132e-11, 2.22176345e-11,\n",
       "       2.34055557e-11, 2.45934770e-11, 2.57813982e-11, 2.69693194e-11,\n",
       "       2.81572407e-11, 2.93451619e-11, 3.05330831e-11, 3.17210044e-11,\n",
       "       3.29089256e-11, 3.40968469e-11, 3.52847681e-11, 3.64726893e-11,\n",
       "       3.76606106e-11, 3.88485318e-11, 4.00364531e-11, 4.12243743e-11,\n",
       "       4.24122955e-11, 4.36002168e-11, 4.47881380e-11]), 'dloglike_scan': array([1193.34438801, 1181.46037644, 1171.49580289, 1163.0996057 ,\n",
       "       1156.01019366, 1150.02723431, 1144.99378135, 1140.78451232,\n",
       "       1137.29771474, 1134.44965693, 1132.17056403, 1130.40165311,\n",
       "       1129.09292775, 1128.20149524, 1127.69027135, 1127.52697383,\n",
       "       1127.68331809, 1128.13437796, 1128.85807407, 1129.83474947,\n",
       "       1131.04682845, 1132.47852891, 1134.11562326, 1135.94524356,\n",
       "       1137.95570697, 1140.1363802 , 1142.47754831, 1144.97031833,\n",
       "       1147.60652499, 1150.37865288, 1153.27977066])}\n",
       "                               {'amplitude_scan': array([3.49093692e-12, 4.44582250e-12, 5.40070808e-12, 6.35559367e-12,\n",
       "       7.31047925e-12, 8.26536483e-12, 9.22025041e-12, 1.01751360e-11,\n",
       "       1.11300216e-11, 1.20849072e-11, 1.30397927e-11, 1.39946783e-11,\n",
       "       1.49495639e-11, 1.59044495e-11, 1.68593351e-11, 1.78142206e-11,\n",
       "       1.87691062e-11, 1.97239918e-11, 2.06788774e-11, 2.16337630e-11,\n",
       "       2.25886485e-11, 2.35435341e-11, 2.44984197e-11, 2.54533053e-11,\n",
       "       2.64081909e-11, 2.73630765e-11, 2.83179620e-11, 2.92728476e-11,\n",
       "       3.02277332e-11, 3.11826188e-11, 3.21375044e-11]), 'dloglike_scan': array([1306.63197426, 1289.05821517, 1275.46683295, 1264.68079976,\n",
       "       1255.98538546, 1248.91247846, 1243.13803607, 1238.428002  ,\n",
       "       1234.60755591, 1231.54249968, 1229.12747085, 1227.27815446,\n",
       "       1225.92597546, 1225.01437049, 1224.49611227, 1224.33133685,\n",
       "       1224.48607848, 1224.93114128, 1225.64124117, 1226.59433066,\n",
       "       1227.77105791, 1229.15434537, 1230.72903769, 1232.48162472,\n",
       "       1234.40000514, 1236.47329883, 1238.69168437, 1241.04626302,\n",
       "       1243.5289486 , 1246.13236605, 1248.84977629])}\n",
       "                               {'amplitude_scan': array([4.19964577e-12, 5.07639229e-12, 5.95313882e-12, 6.82988534e-12,\n",
       "       7.70663186e-12, 8.58337839e-12, 9.46012491e-12, 1.03368714e-11,\n",
       "       1.12136180e-11, 1.20903645e-11, 1.29671110e-11, 1.38438575e-11,\n",
       "       1.47206040e-11, 1.55973506e-11, 1.64740971e-11, 1.73508436e-11,\n",
       "       1.82275901e-11, 1.91043367e-11, 1.99810832e-11, 2.08578297e-11,\n",
       "       2.17345762e-11, 2.26113228e-11, 2.34880693e-11, 2.43648158e-11,\n",
       "       2.52415623e-11, 2.61183088e-11, 2.69950554e-11, 2.78718019e-11,\n",
       "       2.87485484e-11, 2.96252949e-11, 3.05020415e-11]), 'dloglike_scan': array([1330.88834321, 1315.35942414, 1302.96603299, 1292.9147337 ,\n",
       "       1284.68253686, 1277.90593416, 1272.32170309, 1267.73294007,\n",
       "       1263.9883827 , 1260.96923794, 1258.58045933, 1256.74477196,\n",
       "       1255.39847604, 1254.48842498, 1253.96979844, 1253.80444273,\n",
       "       1253.95959737, 1254.40691961, 1255.12172188, 1256.08235687,\n",
       "       1257.26974434, 1258.66697352, 1260.25897799, 1262.03228648,\n",
       "       1263.9747929 , 1266.07558671, 1268.32478843, 1270.71343057,\n",
       "       1273.23335036, 1275.8770829 , 1278.63779706])}\n",
       "                               {'amplitude_scan': array([7.01177328e-13, 1.38173291e-12, 2.06228850e-12, 2.74284409e-12,\n",
       "       3.42339967e-12, 4.10395526e-12, 4.78451085e-12, 5.46506643e-12,\n",
       "       6.14562202e-12, 6.82617760e-12, 7.50673319e-12, 8.18728878e-12,\n",
       "       8.86784436e-12, 9.54839995e-12, 1.02289555e-11, 1.09095111e-11,\n",
       "       1.15900667e-11, 1.22706223e-11, 1.29511779e-11, 1.36317335e-11,\n",
       "       1.43122891e-11, 1.49928446e-11, 1.56734002e-11, 1.63539558e-11,\n",
       "       1.70345114e-11, 1.77150670e-11, 1.83956226e-11, 1.90761782e-11,\n",
       "       1.97567337e-11, 2.04372893e-11, 2.11178449e-11]), 'dloglike_scan': array([1747.72861783, 1716.7550884 , 1696.85413154, 1682.60672254,\n",
       "       1671.85811704, 1663.5124307 , 1656.92982414, 1651.70164384,\n",
       "       1647.5498031 , 1644.2758764 , 1641.73297324, 1639.80910598,\n",
       "       1638.41680498, 1637.48636841, 1636.96128906, 1636.79508548,\n",
       "       1636.94903463, 1637.3905067 , 1638.09174434, 1639.02891754,\n",
       "       1640.18141385, 1641.53127267, 1643.06274154, 1644.7619303 ,\n",
       "       1646.61651803, 1648.61552847, 1650.74913079, 1653.00849357,\n",
       "       1655.38564161, 1657.87335756, 1660.46507735])}\n",
       "{'amplitude_scan': array([-4.52144348e-13,  8.09577288e-14,  6.14059806e-13,  1.14716188e-12,\n",
       "        1.68026396e-12,  2.21336604e-12,  2.74646811e-12,  3.27957019e-12,\n",
       "        3.81267227e-12,  4.34577434e-12,  4.87887642e-12,  5.41197850e-12,\n",
       "        5.94508057e-12,  6.47818265e-12,  7.01128473e-12,  7.54438681e-12,\n",
       "        8.07748888e-12,  8.61059096e-12,  9.14369304e-12,  9.67679511e-12,\n",
       "        1.02098972e-11,  1.07429993e-11,  1.12761013e-11,  1.18092034e-11,\n",
       "        1.23423055e-11,  1.28754076e-11,  1.34085097e-11,  1.39416117e-11,\n",
       "        1.44747138e-11,  1.50078159e-11,  1.55409180e-11]), 'dloglike_scan': array([2020.53877433, 2016.66989234, 1973.11724528, 1951.0122667 ,\n",
       "       1936.56217046, 1926.22394247, 1918.49395004, 1912.58188725,\n",
       "       1908.01712104, 1904.49509678, 1901.8066059 , 1899.80130442,\n",
       "       1898.36726494, 1897.41875273, 1896.88853831, 1896.72285942,\n",
       "       1896.87799541, 1897.31788155, 1898.0123911 , 1898.93607968,\n",
       "       1900.06725091, 1901.38724027, 1902.87986644, 1904.53100554,\n",
       "       1906.32824843, 1908.2606298 , 1910.31841013, 1912.49289463,\n",
       "       1914.77628923, 1917.16157414, 1919.64240875])}\n",
       "{'amplitude_scan': array([-1.99444221e-13,  3.21869899e-13,  8.43184019e-13,  1.36449814e-12,\n",
       "        1.88581226e-12,  2.40712638e-12,  2.92844050e-12,  3.44975462e-12,\n",
       "        3.97106874e-12,  4.49238286e-12,  5.01369698e-12,  5.53501110e-12,\n",
       "        6.05632522e-12,  6.57763934e-12,  7.09895346e-12,  7.62026758e-12,\n",
       "        8.14158170e-12,  8.66289582e-12,  9.18420994e-12,  9.70552406e-12,\n",
       "        1.02268382e-11,  1.07481523e-11,  1.12694664e-11,  1.17907805e-11,\n",
       "        1.23120947e-11,  1.28334088e-11,  1.33547229e-11,  1.38760370e-11,\n",
       "        1.43973511e-11,  1.49186653e-11,  1.54399794e-11]), 'dloglike_scan': array([2835.37443252, 2770.56393985, 2742.97115868, 2725.91395086,\n",
       "       2713.85369415, 2704.82054258, 2697.85406938, 2692.40410592,\n",
       "       2688.12233775, 2684.77257022, 2682.18637701, 2680.23894706,\n",
       "       2678.83493188, 2677.89966494, 2677.37346868, 2677.20781482,\n",
       "       2677.36265342, 2677.80450977, 2678.50509204, 2679.44024765,\n",
       "       2680.58918337, 2681.93385783, 2683.45850334, 2685.14925072,\n",
       "       2686.99383801, 2688.98135682, 2691.10206574, 2693.34721758,\n",
       "       2695.7089347 , 2698.18008588, 2700.75420203])}\n",
       "{'amplitude_scan': array([-6.71828174e-12, -5.48549952e-12, -4.25271731e-12, -3.01993509e-12,\n",
       "       -1.78715288e-12, -5.54370663e-13,  6.78411552e-13,  1.91119377e-12,\n",
       "        3.14397598e-12,  4.37675820e-12,  5.60954041e-12,  6.84232262e-12,\n",
       "        8.07510484e-12,  9.30788705e-12,  1.05406693e-11,  1.17734515e-11,\n",
       "        1.30062337e-11,  1.42390159e-11,  1.54717981e-11,  1.67045803e-11,\n",
       "        1.79373626e-11,  1.91701448e-11,  2.04029270e-11,  2.16357092e-11,\n",
       "        2.28684914e-11,  2.41012736e-11,  2.53340558e-11,  2.65668381e-11,\n",
       "        2.77996203e-11,  2.90324025e-11,  3.02651847e-11]), 'dloglike_scan': array([1265.03078581, 1274.76432012, 1272.09766819, 1307.22551407,\n",
       "       1310.38506411, 1356.52808827, 1370.98161277, 1355.26750745,\n",
       "       1346.7387125 , 1341.30255494, 1337.640483  , 1335.14289573,\n",
       "       1333.47375839, 1332.42674481, 1331.86548213, 1331.6948396 ,\n",
       "       1331.84566652, 1332.2660259 , 1332.91586523, 1333.76361027,\n",
       "       1334.7839068 , 1335.95606814, 1337.26298967, 1338.69035168,\n",
       "       1340.22604432, 1341.85972884, 1343.58250625, 1345.38665586,\n",
       "       1347.26543737, 1349.21292788, 1351.22389441])}"
      ]
     },
     "execution_count": 19,
     "metadata": {},
     "output_type": "execute_result"
    }
   ],
   "source": [
    "lightcurve.table['amplitude_likelihood_profile']"
   ]
  },
  {
   "cell_type": "code",
   "execution_count": 29,
   "metadata": {},
   "outputs": [],
   "source": [
    "ul = []\n",
    "for arow in lightcurve.table:\n",
    "    l_profile = arow['amplitude_likelihood_profile']\n",
    "    if arow['is_ul']:\n",
    "        lim = sigma_limit * 0.5 + np.min(l_profile['dloglike_scan'])\n",
    "        arr = np.where(l_profile['dloglike_scan'] < lim)\n",
    "        func = interp1d(l_profile['dloglike_scan'][arr[-1], arr[-1]+1],\n",
    "                    l_profile[\"amplitude_scan\"][arr[-1], arr[-1]+1])\n",
    "        ul.append(func(lim))\n",
    "    else:\n",
    "        ul.append(np.nan)\n",
    "lightcurve.table[\"upper_limits\"]=ul"
   ]
  },
  {
   "cell_type": "code",
   "execution_count": 31,
   "metadata": {},
   "outputs": [
    {
     "data": {
      "text/plain": [
       "['time_bin_start',\n",
       " 'time_bin_end',\n",
       " 'amplitude',\n",
       " 'amplitude_err',\n",
       " 'amplitude_likelihood_profile',\n",
       " 'TS',\n",
       " 'is_ul',\n",
       " 'upper_limits']"
      ]
     },
     "execution_count": 31,
     "metadata": {},
     "output_type": "execute_result"
    }
   ],
   "source": [
    "lightcurve.table.colnames"
   ]
  },
  {
   "cell_type": "code",
   "execution_count": 20,
   "metadata": {},
   "outputs": [
    {
     "ename": "KeyError",
     "evalue": "'likelihood_profile'",
     "output_type": "error",
     "traceback": [
      "\u001b[0;31m---------------------------------------------------------------------------\u001b[0m",
      "\u001b[0;31mKeyError\u001b[0m                                  Traceback (most recent call last)",
      "\u001b[0;32m~/anaconda3/lib/python3.7/site-packages/astropy/table/row.py\u001b[0m in \u001b[0;36m__getitem__\u001b[0;34m(self, item)\u001b[0m\n\u001b[1;32m     50\u001b[0m             \u001b[0;31m# and allows a list of tuple or str, which is not the right thing here.\u001b[0m\u001b[0;34m\u001b[0m\u001b[0;34m\u001b[0m\u001b[0;34m\u001b[0m\u001b[0m\n\u001b[0;32m---> 51\u001b[0;31m             \u001b[0mout\u001b[0m \u001b[0;34m=\u001b[0m \u001b[0mOrderedDict\u001b[0m\u001b[0;34m.\u001b[0m\u001b[0m__getitem__\u001b[0m\u001b[0;34m(\u001b[0m\u001b[0mself\u001b[0m\u001b[0;34m.\u001b[0m\u001b[0m_table\u001b[0m\u001b[0;34m.\u001b[0m\u001b[0mcolumns\u001b[0m\u001b[0;34m,\u001b[0m \u001b[0mitem\u001b[0m\u001b[0;34m)\u001b[0m\u001b[0;34m[\u001b[0m\u001b[0mself\u001b[0m\u001b[0;34m.\u001b[0m\u001b[0m_index\u001b[0m\u001b[0;34m]\u001b[0m\u001b[0;34m\u001b[0m\u001b[0;34m\u001b[0m\u001b[0m\n\u001b[0m\u001b[1;32m     52\u001b[0m         \u001b[0;32mexcept\u001b[0m \u001b[0;34m(\u001b[0m\u001b[0mKeyError\u001b[0m\u001b[0;34m,\u001b[0m \u001b[0mTypeError\u001b[0m\u001b[0;34m)\u001b[0m\u001b[0;34m:\u001b[0m\u001b[0;34m\u001b[0m\u001b[0;34m\u001b[0m\u001b[0m\n",
      "\u001b[0;31mKeyError\u001b[0m: 'likelihood_profile'",
      "\nDuring handling of the above exception, another exception occurred:\n",
      "\u001b[0;31mKeyError\u001b[0m                                  Traceback (most recent call last)",
      "\u001b[0;32m<ipython-input-20-28b6bd0df171>\u001b[0m in \u001b[0;36m<module>\u001b[0;34m()\u001b[0m\n\u001b[0;32m----> 1\u001b[0;31m \u001b[0mlightcurve\u001b[0m\u001b[0;34m.\u001b[0m\u001b[0mcompute_ul\u001b[0m\u001b[0;34m(\u001b[0m\u001b[0;34m)\u001b[0m\u001b[0;34m\u001b[0m\u001b[0;34m\u001b[0m\u001b[0m\n\u001b[0m",
      "\u001b[0;32m~/Gammapy-dev/gammapy/gammapy/time/lightcurve_new.py\u001b[0m in \u001b[0;36mcompute_ul\u001b[0;34m(self, col_name, sigma_limit)\u001b[0m\n\u001b[1;32m    211\u001b[0m         \"\"\"\n\u001b[1;32m    212\u001b[0m         \u001b[0mul\u001b[0m \u001b[0;34m=\u001b[0m \u001b[0;34m[\u001b[0m\u001b[0;34m]\u001b[0m\u001b[0;34m\u001b[0m\u001b[0;34m\u001b[0m\u001b[0m\n\u001b[0;32m--> 213\u001b[0;31m         \u001b[0;32mfor\u001b[0m \u001b[0marow\u001b[0m \u001b[0;32min\u001b[0m \u001b[0mself\u001b[0m\u001b[0;34m.\u001b[0m\u001b[0mtable\u001b[0m\u001b[0;34m:\u001b[0m\u001b[0;34m\u001b[0m\u001b[0;34m\u001b[0m\u001b[0m\n\u001b[0m\u001b[1;32m    214\u001b[0m             \u001b[0ml_profile\u001b[0m \u001b[0;34m=\u001b[0m \u001b[0marow\u001b[0m\u001b[0;34m[\u001b[0m\u001b[0;34m'likelihood_profile'\u001b[0m\u001b[0;34m]\u001b[0m\u001b[0;34m\u001b[0m\u001b[0;34m\u001b[0m\u001b[0m\n\u001b[1;32m    215\u001b[0m             \u001b[0;32mif\u001b[0m \u001b[0marow\u001b[0m\u001b[0;34m[\u001b[0m\u001b[0;34m'is_ul'\u001b[0m\u001b[0;34m]\u001b[0m\u001b[0;34m:\u001b[0m\u001b[0;34m\u001b[0m\u001b[0;34m\u001b[0m\u001b[0m\n",
      "\u001b[0;32m~/anaconda3/lib/python3.7/site-packages/astropy/table/row.py\u001b[0m in \u001b[0;36m__getitem__\u001b[0;34m(self, item)\u001b[0m\n\u001b[1;32m     56\u001b[0m             \u001b[0;32melse\u001b[0m\u001b[0;34m:\u001b[0m\u001b[0;34m\u001b[0m\u001b[0;34m\u001b[0m\u001b[0m\n\u001b[1;32m     57\u001b[0m                 \u001b[0;31m# This is only to raise an exception\u001b[0m\u001b[0;34m\u001b[0m\u001b[0;34m\u001b[0m\u001b[0;34m\u001b[0m\u001b[0m\n\u001b[0;32m---> 58\u001b[0;31m                 \u001b[0mout\u001b[0m \u001b[0;34m=\u001b[0m \u001b[0mself\u001b[0m\u001b[0;34m.\u001b[0m\u001b[0m_table\u001b[0m\u001b[0;34m.\u001b[0m\u001b[0mcolumns\u001b[0m\u001b[0;34m[\u001b[0m\u001b[0mitem\u001b[0m\u001b[0;34m]\u001b[0m\u001b[0;34m[\u001b[0m\u001b[0mself\u001b[0m\u001b[0;34m.\u001b[0m\u001b[0m_index\u001b[0m\u001b[0;34m]\u001b[0m\u001b[0;34m\u001b[0m\u001b[0;34m\u001b[0m\u001b[0m\n\u001b[0m\u001b[1;32m     59\u001b[0m         \u001b[0;32mreturn\u001b[0m \u001b[0mout\u001b[0m\u001b[0;34m\u001b[0m\u001b[0;34m\u001b[0m\u001b[0m\n\u001b[1;32m     60\u001b[0m \u001b[0;34m\u001b[0m\u001b[0m\n",
      "\u001b[0;32m~/anaconda3/lib/python3.7/site-packages/astropy/table/table.py\u001b[0m in \u001b[0;36m__getitem__\u001b[0;34m(self, item)\u001b[0m\n\u001b[1;32m    188\u001b[0m         \"\"\"\n\u001b[1;32m    189\u001b[0m         \u001b[0;32mif\u001b[0m \u001b[0misinstance\u001b[0m\u001b[0;34m(\u001b[0m\u001b[0mitem\u001b[0m\u001b[0;34m,\u001b[0m \u001b[0mstr\u001b[0m\u001b[0;34m)\u001b[0m\u001b[0;34m:\u001b[0m\u001b[0;34m\u001b[0m\u001b[0;34m\u001b[0m\u001b[0m\n\u001b[0;32m--> 190\u001b[0;31m             \u001b[0;32mreturn\u001b[0m \u001b[0mOrderedDict\u001b[0m\u001b[0;34m.\u001b[0m\u001b[0m__getitem__\u001b[0m\u001b[0;34m(\u001b[0m\u001b[0mself\u001b[0m\u001b[0;34m,\u001b[0m \u001b[0mitem\u001b[0m\u001b[0;34m)\u001b[0m\u001b[0;34m\u001b[0m\u001b[0;34m\u001b[0m\u001b[0m\n\u001b[0m\u001b[1;32m    191\u001b[0m         \u001b[0;32melif\u001b[0m \u001b[0misinstance\u001b[0m\u001b[0;34m(\u001b[0m\u001b[0mitem\u001b[0m\u001b[0;34m,\u001b[0m \u001b[0;34m(\u001b[0m\u001b[0mint\u001b[0m\u001b[0;34m,\u001b[0m \u001b[0mnp\u001b[0m\u001b[0;34m.\u001b[0m\u001b[0minteger\u001b[0m\u001b[0;34m)\u001b[0m\u001b[0;34m)\u001b[0m\u001b[0;34m:\u001b[0m\u001b[0;34m\u001b[0m\u001b[0;34m\u001b[0m\u001b[0m\n\u001b[1;32m    192\u001b[0m             \u001b[0;32mreturn\u001b[0m \u001b[0mself\u001b[0m\u001b[0;34m.\u001b[0m\u001b[0mvalues\u001b[0m\u001b[0;34m(\u001b[0m\u001b[0;34m)\u001b[0m\u001b[0;34m[\u001b[0m\u001b[0mitem\u001b[0m\u001b[0;34m]\u001b[0m\u001b[0;34m\u001b[0m\u001b[0;34m\u001b[0m\u001b[0m\n",
      "\u001b[0;31mKeyError\u001b[0m: 'likelihood_profile'"
     ]
    }
   ],
   "source": [
    "lightcurve.compute_ul()"
   ]
  },
  {
   "cell_type": "code",
   "execution_count": null,
   "metadata": {},
   "outputs": [],
   "source": [
    "y_unit = self.table['amplitude'].unit\n"
   ]
  },
  {
   "cell_type": "code",
   "execution_count": null,
   "metadata": {},
   "outputs": [],
   "source": []
  },
  {
   "cell_type": "code",
   "execution_count": null,
   "metadata": {},
   "outputs": [],
   "source": []
  },
  {
   "cell_type": "code",
   "execution_count": null,
   "metadata": {},
   "outputs": [],
   "source": []
  },
  {
   "cell_type": "code",
   "execution_count": 44,
   "metadata": {},
   "outputs": [
    {
     "data": {
      "image/png": "[encoded data removed]",
      "text/plain": [
       "<Figure size 432x288 with 4 Axes>"
      ]
     },
     "metadata": {
      "needs_background": "light"
     },
     "output_type": "display_data"
    }
   ],
   "source": [
    "import matplotlib\n",
    "import matplotlib.pyplot as plt\n",
    "from matplotlib.colors import BoundaryNorm\n",
    "from matplotlib.ticker import MaxNLocator\n",
    "import numpy as np\n",
    "\n",
    "\n",
    "# make these smaller to increase the resolution\n",
    "dx, dy = 0.05, 0.05\n",
    "\n",
    "# generate 2 2d grids for the x & y bounds\n",
    "y, x = np.mgrid[slice(1, 5 + dy, dy),\n",
    "                slice(1, 5 + dx, dx)]\n",
    "\n",
    "z = np.sin(x)**10 + np.cos(10 + y*x) * np.cos(x)\n",
    "\n",
    "# x and y are bounds, so z should be the value *inside* those bounds.\n",
    "# Therefore, remove the last value from the z array.\n",
    "z = z[:-1, :-1]\n",
    "levels = MaxNLocator(nbins=15).tick_values(-1.5,1.0)\n",
    "\n",
    "\n",
    "# pick the desired colormap, sensible levels, and define a normalization\n",
    "# instance which takes data values and translates those into levels.\n",
    "cmap = plt.get_cmap('PiYG')\n",
    "norm = BoundaryNorm(levels, ncolors=cmap.N, clip=True)\n",
    "\n",
    "fig, (ax0, ax1) = plt.subplots(nrows=2)\n",
    "\n",
    "im = ax0.pcolormesh(x, y, z, cmap=cmap, norm=norm)\n",
    "fig.colorbar(im, ax=ax0)\n",
    "ax0.set_title('pcolormesh with levels')\n",
    "\n",
    "\n",
    "# contours are *point* based plots, so convert our bound into point\n",
    "# centers\n",
    "cf = ax1.contourf(x[:-1, :-1] + dx/2.,\n",
    "                  y[:-1, :-1] + dy/2., z, levels=levels,\n",
    "                  cmap=cmap)\n",
    "fig.colorbar(cf, ax=ax1)\n",
    "ax1.set_title('contourf with levels')\n",
    "\n",
    "# adjust spacing between subplots so `ax1` title and `ax0` tick labels\n",
    "# don't overlap\n",
    "fig.tight_layout()\n",
    "\n",
    "plt.show()"
   ]
  },
  {
   "cell_type": "code",
   "execution_count": 29,
   "metadata": {},
   "outputs": [
    {
     "data": {
      "text/plain": [
       "array([[1.  , 1.  , 1.  , ..., 1.  , 1.  , 1.  ],\n",
       "       [1.05, 1.05, 1.05, ..., 1.05, 1.05, 1.05],\n",
       "       [1.1 , 1.1 , 1.1 , ..., 1.1 , 1.1 , 1.1 ],\n",
       "       ...,\n",
       "       [4.9 , 4.9 , 4.9 , ..., 4.9 , 4.9 , 4.9 ],\n",
       "       [4.95, 4.95, 4.95, ..., 4.95, 4.95, 4.95],\n",
       "       [5.  , 5.  , 5.  , ..., 5.  , 5.  , 5.  ]])"
      ]
     },
     "execution_count": 29,
     "metadata": {},
     "output_type": "execute_result"
    }
   ],
   "source": [
    "y"
   ]
  },
  {
   "cell_type": "code",
   "execution_count": 30,
   "metadata": {},
   "outputs": [
    {
     "data": {
      "text/plain": [
       "array([[1.  , 1.05, 1.1 , ..., 4.9 , 4.95, 5.  ],\n",
       "       [1.  , 1.05, 1.1 , ..., 4.9 , 4.95, 5.  ],\n",
       "       [1.  , 1.05, 1.1 , ..., 4.9 , 4.95, 5.  ],\n",
       "       ...,\n",
       "       [1.  , 1.05, 1.1 , ..., 4.9 , 4.95, 5.  ],\n",
       "       [1.  , 1.05, 1.1 , ..., 4.9 , 4.95, 5.  ],\n",
       "       [1.  , 1.05, 1.1 , ..., 4.9 , 4.95, 5.  ]])"
      ]
     },
     "execution_count": 30,
     "metadata": {},
     "output_type": "execute_result"
    }
   ],
   "source": [
    "x"
   ]
  },
  {
   "cell_type": "code",
   "execution_count": 31,
   "metadata": {},
   "outputs": [],
   "source": [
    "np.mgrid?"
   ]
  },
  {
   "cell_type": "code",
   "execution_count": 32,
   "metadata": {},
   "outputs": [
    {
     "data": {
      "text/plain": [
       "array([[ 0.18037951,  0.26823017,  0.36335424, ...,  0.81967616,\n",
       "         0.70887839,  0.58107739],\n",
       "       [ 0.20738012,  0.2942647 ,  0.38808212, ...,  0.79738125,\n",
       "         0.68002396,  0.54664565],\n",
       "       [ 0.23430727,  0.3201529 ,  0.41259223, ...,  0.78164078,\n",
       "         0.66058997,  0.5247303 ],\n",
       "       ...,\n",
       "       [-0.17535841, -0.1651069 , -0.10633898, ...,  0.83935699,\n",
       "         0.70681157,  0.55135416],\n",
       "       [-0.19534556, -0.17962168, -0.11478605, ...,  0.81308152,\n",
       "         0.67850552,  0.52732772],\n",
       "       [-0.21439958, -0.19297694, -0.12193009, ...,  0.79244172,\n",
       "         0.65971059,  0.51699498]])"
      ]
     },
     "execution_count": 32,
     "metadata": {},
     "output_type": "execute_result"
    }
   ],
   "source": [
    "z"
   ]
  },
  {
   "cell_type": "code",
   "execution_count": 33,
   "metadata": {},
   "outputs": [
    {
     "data": {
      "text/plain": [
       "(80, 80)"
      ]
     },
     "execution_count": 33,
     "metadata": {},
     "output_type": "execute_result"
    }
   ],
   "source": [
    "np.shape(z)"
   ]
  },
  {
   "cell_type": "code",
   "execution_count": 35,
   "metadata": {},
   "outputs": [
    {
     "data": {
      "text/plain": [
       "(81, 81)"
      ]
     },
     "execution_count": 35,
     "metadata": {},
     "output_type": "execute_result"
    }
   ],
   "source": [
    "np.shape(y)"
   ]
  },
  {
   "cell_type": "code",
   "execution_count": 40,
   "metadata": {},
   "outputs": [
    {
     "data": {
      "text/plain": [
       "(-0.9998834929834033, 1.0507695110008357)"
      ]
     },
     "execution_count": 40,
     "metadata": {},
     "output_type": "execute_result"
    }
   ],
   "source": [
    "z.min(), z.max()"
   ]
  },
  {
   "cell_type": "code",
   "execution_count": null,
   "metadata": {},
   "outputs": [],
   "source": []
  }
 ],
 "metadata": {
  "kernelspec": {
   "display_name": "Python 3",
   "language": "python",
   "name": "python3"
  },
  "language_info": {
   "codemirror_mode": {
    "name": "ipython",
    "version": 3
   },
   "file_extension": ".py",
   "mimetype": "text/x-python",
   "name": "python",
   "nbconvert_exporter": "python",
   "pygments_lexer": "ipython3",
   "version": "3.7.1"
  }
 },
 "nbformat": 4,
 "nbformat_minor": 2
}

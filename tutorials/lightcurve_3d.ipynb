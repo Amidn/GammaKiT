{
 "cells": [
  {
   "cell_type": "code",
   "execution_count": 1,
   "metadata": {},
   "outputs": [
    {
     "name": "stderr",
     "output_type": "stream",
     "text": [
      "WARNING: AstropyDeprecationWarning: astropy.extern.six will be removed in 4.0, use the six module directly if it is still needed [astropy.extern.six]\n"
     ]
    }
   ],
   "source": [
    "import matplotlib.pyplot as plt\n",
    "import numpy as np\n",
    "import astropy.units as u\n",
    "import os\n",
    "from pathlib import Path\n",
    "\n",
    "from astropy.coordinates import SkyCoord, Angle\n",
    "\n",
    "from gammapy.data import ObservationFilter, DataStore, DataStoreObservation\n",
    "from gammapy.irf import EffectiveAreaTable2D, EnergyDispersion2D, EnergyDependentMultiGaussPSF, Background3D\n",
    "from gammapy.spectrum.models import PowerLaw, PowerLaw2\n",
    "from gammapy.image.models import SkyPointSource\n",
    "from gammapy.cube import MapEvaluator, PSFKernel, MapMaker, MapMakerObs, MapDataset\n",
    "from gammapy.utils.fitting import Fit\n",
    "from gammapy.cube import make_map_exposure_true_energy, make_map_background_irf\n",
    "from gammapy.maps import WcsGeom, MapAxis, WcsNDMap, Map\n",
    "from gammapy.cube.models import SkyModel, SkyModels, BackgroundModel\n",
    "from gammapy.cube.exposure import _map_spectrum_weight\n",
    "from astropy.time import Time\n",
    "from regions import CircleSkyRegion\n",
    "from gammapy.irf import make_mean_psf\n"
   ]
  },
  {
   "cell_type": "code",
   "execution_count": 2,
   "metadata": {},
   "outputs": [],
   "source": [
    "import gammapy.time"
   ]
  },
  {
   "cell_type": "code",
   "execution_count": 3,
   "metadata": {},
   "outputs": [],
   "source": [
    "LightCurve = gammapy.time.LightCurve"
   ]
  },
  {
   "cell_type": "code",
   "execution_count": 4,
   "metadata": {},
   "outputs": [],
   "source": [
    "LightCurveEstimator = gammapy.time.LightCurveEstimator"
   ]
  },
  {
   "cell_type": "code",
   "execution_count": 5,
   "metadata": {},
   "outputs": [],
   "source": [
    "#Get DR1 data\n",
    "\n",
    "path = (\n",
    "    Path(os.environ[\"GAMMAPY_DATA\"])\n",
    "    / \"hess-dl3-dr1/hess-dl3-dr3-with-background.fits.gz\"\n",
    ")\n",
    "datastore = DataStore.from_file(path)\n",
    "src=SkyCoord.from_name(\"PKS 2155-304\")\n",
    "sep=SkyCoord.separation(src,datastore.obs_table.pointing_radec)\n",
    "Radius=2.3\n",
    "srcruns=(datastore.obs_table[sep<Radius*u.deg])\n",
    "myid=srcruns['OBS_ID'].data\n",
    "mylist=datastore.get_observations(myid)"
   ]
  },
  {
   "cell_type": "code",
   "execution_count": 6,
   "metadata": {},
   "outputs": [],
   "source": [
    "# Define geoms\n",
    "emin, emax = [1, 10] * u.TeV\n",
    "energy_axis = MapAxis.from_bounds(\n",
    "    emin.value, emax.value, 1, unit=\"TeV\", name=\"energy\", interp=\"log\"\n",
    ")\n",
    "geom = WcsGeom.create(\n",
    "    skydir=src,\n",
    "    binsz=0.05,\n",
    "    width=(2, 2),\n",
    "    coordsys=\"CEL\",\n",
    "    proj=\"CAR\",\n",
    "    axes=[energy_axis],\n",
    ")"
   ]
  },
  {
   "cell_type": "code",
   "execution_count": 7,
   "metadata": {},
   "outputs": [],
   "source": [
    "# Define the source model - Use a pointsource + integrated power law model to directly get flux\n",
    "\n",
    "spatial_model = SkyPointSource(lon_0=src.ra, lat_0=src.dec, frame=\"icrs\")\n",
    "spectral_model = PowerLaw2(\n",
    "    emin=emin, emax=emax, index=2.0, amplitude=\"3e-10 cm-2 s-1\"\n",
    ")\n",
    "sky_model = SkyModel(spatial_model=spatial_model, spectral_model=spectral_model)\n",
    "sky_model.parameters[\"index\"].frozen = True\n",
    "sky_model.parameters[\"lon_0\"].frozen = True\n",
    "sky_model.parameters[\"lat_0\"].frozen = True\n",
    "sky_model.parameters[\"amplitude\"].min = 0.0"
   ]
  },
  {
   "cell_type": "code",
   "execution_count": 8,
   "metadata": {},
   "outputs": [],
   "source": [
    "region = CircleSkyRegion(center=src, radius=0.6 * u.deg)"
   ]
  },
  {
   "cell_type": "code",
   "execution_count": 9,
   "metadata": {},
   "outputs": [],
   "source": [
    "# psf_kernel and MapMaker for each segment\n",
    "def make_maps(observations):\n",
    "    maker = MapMaker(geom, offset_max=2.0 * u.deg)\n",
    "    spectrum = PowerLaw2(index=2)\n",
    "    maps2D = maker.run_images(observations, spectrum=spectrum, keepdims=True)\n",
    "    geom2d = maps2D[\"exposure\"].geom\n",
    "    \n",
    "    table_psf = make_mean_psf(observations,src)\n",
    "\n",
    "    table_psf_2d = table_psf.table_psf_in_energy_band(\n",
    "    (emin, emax), spectrum=spectrum)\n",
    "\n",
    "    # PSF kernel used for the model convolution\n",
    "    psf_kernel = PSFKernel.from_table_psf(\n",
    "        table_psf_2d, geom2d, max_radius=\"0.3 deg\"\n",
    "        )\n",
    "    \n",
    "    return maps2D, psf_kernel"
   ]
  },
  {
   "cell_type": "code",
   "execution_count": 10,
   "metadata": {},
   "outputs": [],
   "source": [
    "time_start = Time(\"2006-07-29 20:00:00.000\")\n",
    "time_stop = Time(\"2006-07-30 06:00:00.00\")\n",
    "time_step = 30.0 * u.min\n",
    "time_0 = time_start"
   ]
  },
  {
   "cell_type": "code",
   "execution_count": 11,
   "metadata": {},
   "outputs": [
    {
     "name": "stdout",
     "output_type": "stream",
     "text": [
      "CPU times: user 26.3 s, sys: 594 ms, total: 26.9 s\n",
      "Wall time: 26.9 s\n"
     ]
    }
   ],
   "source": [
    "%%time\n",
    "\n",
    "map_segments = []\n",
    "psf_segments = []\n",
    "\n",
    "mjd = []\n",
    "while time_start<time_stop:\n",
    "    \n",
    "    # get smaller observation lists\n",
    "    t2 = time_start+time_step\n",
    "    time_interval = Time([time_start.value, t2.value])\n",
    "    obs = mylist.select_time(time_interval)\n",
    "    \n",
    "    \n",
    "    #Proceed with further analysis only if there are observations in the selected time window\n",
    "    if len(obs) > 0: \n",
    "        \n",
    "        maps, psf = make_maps(obs)\n",
    "        maps['counts'].meta['t_start'] = time_start\n",
    "        maps['counts'].meta['t_stop'] = t2\n",
    "        map_segments.append(maps)\n",
    "        psf_segments.append(psf)\n",
    "        \n",
    "        mjd.append((time_start+time_step/2.0).mjd)\n",
    "    time_start = t2"
   ]
  },
  {
   "cell_type": "code",
   "execution_count": 12,
   "metadata": {},
   "outputs": [],
   "source": [
    "datasets = []\n",
    "for amap,psf in zip(map_segments,psf_segments):\n",
    "    #Copy the source model\n",
    "    model = sky_model.copy()\n",
    "    \n",
    "    # Make the background model\n",
    "    background_model = BackgroundModel(amap[\"background\"])\n",
    "    background_model.parameters[\"norm\"].frozen = True\n",
    "    background_model.parameters[\"tilt\"].frozen = True\n",
    "          \n",
    "    #Now fit\n",
    "    dataset = MapDataset(\n",
    "        model=model,\n",
    "        counts=amap[\"counts\"],\n",
    "        exposure=amap[\"exposure\"],\n",
    "        background_model=background_model,\n",
    "        psf=psf,\n",
    "    )\n",
    "    datasets.append(dataset)"
   ]
  },
  {
   "cell_type": "code",
   "execution_count": 13,
   "metadata": {},
   "outputs": [],
   "source": [
    "lc = LightCurveEstimator(datasets)"
   ]
  },
  {
   "cell_type": "code",
   "execution_count": 14,
   "metadata": {},
   "outputs": [
    {
     "data": {
      "text/plain": [
       "17"
      ]
     },
     "execution_count": 14,
     "metadata": {},
     "output_type": "execute_result"
    }
   ],
   "source": [
    "len(datasets)\n"
   ]
  },
  {
   "cell_type": "code",
   "execution_count": 15,
   "metadata": {},
   "outputs": [],
   "source": [
    "lightcurve = lc.get_lc()\n"
   ]
  },
  {
   "cell_type": "code",
   "execution_count": 16,
   "metadata": {},
   "outputs": [
    {
     "data": {
      "text/plain": [
       "(0.6960784661004552, 0.024363822778469504)"
      ]
     },
     "execution_count": 16,
     "metadata": {},
     "output_type": "execute_result"
    }
   ],
   "source": [
    "lightcurve.fvar('amplitude')\n"
   ]
  },
  {
   "cell_type": "code",
   "execution_count": 17,
   "metadata": {},
   "outputs": [
    {
     "data": {
      "text/plain": [
       "(2.463538105118879e-10, 1.0)"
      ]
     },
     "execution_count": 17,
     "metadata": {},
     "output_type": "execute_result"
    }
   ],
   "source": [
    "lightcurve.chisq('amplitude')"
   ]
  },
  {
   "cell_type": "code",
   "execution_count": 18,
   "metadata": {},
   "outputs": [
    {
     "data": {
      "text/plain": [
       "<matplotlib.axes._subplots.AxesSubplot at 0x1c2866a7f0>"
      ]
     },
     "execution_count": 18,
     "metadata": {},
     "output_type": "execute_result"
    },
    {
     "data": {
      "image/png": "[encoded data removed]",
      "text/plain": [
       "<Figure size 432x288 with 1 Axes>"
      ]
     },
     "metadata": {
      "needs_background": "light"
     },
     "output_type": "display_data"
    }
   ],
   "source": [
    "lightcurve.plot('amplitude')"
   ]
  },
  {
   "cell_type": "code",
   "execution_count": null,
   "metadata": {},
   "outputs": [],
   "source": []
  }
 ],
 "metadata": {
  "kernelspec": {
   "display_name": "Python 3",
   "language": "python",
   "name": "python3"
  },
  "language_info": {
   "codemirror_mode": {
    "name": "ipython",
    "version": 3
   },
   "file_extension": ".py",
   "mimetype": "text/x-python",
   "name": "python",
   "nbconvert_exporter": "python",
   "pygments_lexer": "ipython3",
   "version": "3.7.1"
  }
 },
 "nbformat": 4,
 "nbformat_minor": 2
}

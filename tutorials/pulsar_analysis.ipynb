{
 "cells": [
  {
   "cell_type": "markdown",
   "metadata": {},
   "source": [
    "# Pulsar analysis with Gammapy"
   ]
  },
  {
   "cell_type": "markdown",
   "metadata": {},
   "source": [
    "## Introduction"
   ]
  },
  {
   "cell_type": "markdown",
   "metadata": {},
   "source": [
    "This notebook shows how to do a full pulsar analysis with Gammapy. It's based on a Vela simulation file from the CTA DC1, and we will produce a phasogram, a phase-resolved map and a phase-resolved spectrum of the Vela pulsar.\n",
    "\n",
    "Table of contents:\n",
    "\n",
    "I : Opening the data\n",
    "\n",
    "II : Phasogram\n",
    "\n",
    "III : Phase-resolved map\n",
    "\n",
    "IV : Phase-resolved spectrum"
   ]
  },
  {
   "cell_type": "markdown",
   "metadata": {},
   "source": [
    "## I : Opening the data"
   ]
  },
  {
   "cell_type": "markdown",
   "metadata": {},
   "source": [
    "Let's first extract the data around the position of Vela."
   ]
  },
  {
   "cell_type": "code",
   "execution_count": null,
   "metadata": {},
   "outputs": [],
   "source": [
    "import os\n",
    "from gammapy.data import DataStore\n",
    "from astropy.coordinates import SkyCoord\n",
    "import astropy.units as u\n",
    "import numpy as np\n",
    "import matplotlib.pyplot as plt\n",
    "import regions\n",
    "import pylab\n",
    "\n",
    "# Load the data store (which is a subset of CTA-DC1 data)\n",
    "data_store = DataStore.from_dir('$GAMMAPY_DATA/cta-1dc/index/gps')\n",
    "\n",
    "table = data_store.obs_table\n",
    "\n",
    "# Defining the offset as the angular separation between the observation position and the target position\n",
    "pos_obs = SkyCoord(table['GLON_PNT'], table['GLAT_PNT'], frame='galactic', unit='deg')\n",
    "pos_target = SkyCoord.from_name('vela pulsar')\n",
    "offset = pos_target.separation(pos_obs)\n",
    "\n",
    "# Defining a mask to select all runs targetting Vela with an offset < 2 deg\n",
    "mask = (offset < 2 * u.deg)\n",
    "\n",
    "# Applying the mask\n",
    "table = table[mask]\n",
    "\n",
    "id_obs_vela = table['OBS_ID'].data\n",
    "print(id_obs_vela)\n",
    "obs_list_vela = data_store.get_observations(id_obs_vela)\n",
    "print(obs_list_vela[0].events)"
   ]
  },
  {
   "cell_type": "code",
   "execution_count": null,
   "metadata": {},
   "outputs": [],
   "source": [
    "# Making an angular cut to retain only the events within 0.2 deg\n",
    "on_radius = 0.2 * u.deg\n",
    "one_obs_vela_select = obs_list_vela[0].events.select_sky_cone(center=pos_target, radius=on_radius)\n",
    "\n",
    "print(one_obs_vela_select)\n",
    "\n",
    "print(\"\\nWe can access the first 20 MJD this way:\\n\")\n",
    "print(one_obs_vela_select.time[:20])"
   ]
  },
  {
   "cell_type": "markdown",
   "metadata": {},
   "source": [
    "## II : Phaseograms"
   ]
  },
  {
   "cell_type": "markdown",
   "metadata": {},
   "source": [
    "Once you have phases, here is how you can make a phasogram for each observation:"
   ]
  },
  {
   "cell_type": "code",
   "execution_count": null,
   "metadata": {},
   "outputs": [],
   "source": [
    "# A phasogram is a histogram so you can set the binning the same way:\n",
    "\n",
    "nbins = 30  # Number of bins\n",
    "lim_phaso = (0, 1)  # Range of phaseogram\n",
    "size_bin = (lim_phaso[1] - lim_phaso[0])/nbins  # Size of each bin\n",
    "midbins = np.linspace(lim_phaso[0] + 0.5 * size_bin, lim_phaso[1] - 0.5 * size_bin, nbins)  # Position of each middle of bin"
   ]
  },
  {
   "cell_type": "code",
   "execution_count": null,
   "metadata": {},
   "outputs": [],
   "source": [
    "phases = one_obs_vela_select.table['PHASE'].data"
   ]
  },
  {
   "cell_type": "code",
   "execution_count": null,
   "metadata": {},
   "outputs": [],
   "source": [
    "values = np.histogram(phases, range = lim_phaso, bins=nbins)[0]\n",
    "# Uncertainty on each bin\n",
    "count_err = values ** 0.5\n",
    "plt.bar(x = midbins, height = values, width = size_bin, color='#d53d12', alpha = 0.8, edgecolor = 'black', yerr=count_err)\n",
    "plt.xlim(0, 1)\n",
    "plt.title('Phaseogram with angular cut of {}'.format(on_radius))\n",
    "plt.show()"
   ]
  },
  {
   "cell_type": "markdown",
   "metadata": {},
   "source": [
    "Now let's add some fancy additions to our phasogram !"
   ]
  },
  {
   "cell_type": "code",
   "execution_count": null,
   "metadata": {},
   "outputs": [],
   "source": [
    "# Let's redo the same plot for the basis\n",
    "plt.bar(x = midbins, height = values, width = size_bin, color='#d53d12', alpha = 0.8, edgecolor = 'black', yerr=count_err)\n",
    "plt.xlim(0, 1)\n",
    "plt.title('Phaseogram with angular cut of {}'.format(on_radius))\n",
    "\n",
    "# Evaluate background level\n",
    "mask_off = (0.7 < phases) & (phases < 1)  # mask for the off-phase zone\n",
    "count_bkg = mask_off.sum()  # number of phases in the off-phase zone\n",
    "bkg = count_bkg / nbins / 0.3  # bkg lebel normalized by the size of the OFF zone (0.3)\n",
    "\n",
    "# Plot background level\n",
    "x_bkg = np.linspace(0, 1, 50)\n",
    "plt.plot(x_bkg, bkg*np.ones(len(x_bkg)), color='black', alpha=.5, ls='--', lw=2)\n",
    "\n",
    "# Let's make patches for the on and off phase zones\n",
    "on_patch = plt.axvspan(0.5, 0.6, alpha=0.3, color='gray')\n",
    "pylab.setp(on_patch, ec='black', lw=1, ls='solid')\n",
    "off_patch=plt.axvspan(0.7, 1.0, alpha=0.4, color='white', hatch='x')\n",
    "pylab.setp(off_patch, ec='black', lw=1, ls='solid')\n",
    "\n",
    "# Legends \"ON\" and \"OFF\"\n",
    "plt.text(0.55, 5, 'ON', color = 'black',fontsize= 17, ha='center')\n",
    "plt.text(0.895, 5, 'OFF', color = 'black',fontsize= 17, ha='center')\n",
    "\n",
    "plt.show()"
   ]
  },
  {
   "cell_type": "markdown",
   "metadata": {},
   "source": [
    "## III : Phase-resolved map"
   ]
  },
  {
   "cell_type": "markdown",
   "metadata": {},
   "source": [
    "Now that the phases are computed, we want to do a phase-resolved sky map : a map of the ON-phase events minus alpha times the OFF-phase events."
   ]
  },
  {
   "cell_type": "code",
   "execution_count": null,
   "metadata": {},
   "outputs": [],
   "source": [
    "from gammapy.maps import Map\n",
    "from gammapy.cube import fill_map_counts, MapMaker\n",
    "\n",
    "\n",
    "# Let's create an ON-map and an OFF-map\n",
    "on_map = Map.create(binsz=0.1, map_type='wcs', skydir=pos_target, width=10.0)\n",
    "off_map = Map.create(binsz=0.1, map_type='wcs', skydir=pos_target, width=10.0)\n",
    "\n",
    "# Loop to fill the ON- and OFF- maps\n",
    "on_mask = np.where(np.logical_and(0.5 < phases, 0.6 > phases))[0]\n",
    "fill_map_counts(on_map, one_obs_vela_select.select_row_subset(on_mask))\n",
    "off_mask = np.where(np.logical_and(0.7 < phases, 1 > phases))[0]\n",
    "fill_map_counts(off_map, one_obs_vela_select.select_row_subset(off_mask))\n",
    "\n",
    "# Create and fill excess map\n",
    "excess_map = Map.create(binsz=0.1, map_type='wcs', skydir=pos_target, width=10.0)\n",
    "excess_map.data = on_map.data - 0.1/0.3 * off_map.data\n",
    "\n",
    "# Plot excess map\n",
    "excess_map.plot()"
   ]
  },
  {
   "cell_type": "code",
   "execution_count": null,
   "metadata": {},
   "outputs": [],
   "source": [
    "# We can smooth it\n",
    "\n",
    "excess_map.smooth(kernel='gauss', width=0.2 * u.deg).plot()"
   ]
  },
  {
   "cell_type": "markdown",
   "metadata": {},
   "source": [
    "## IV : Phase-resolved spectrum"
   ]
  },
  {
   "cell_type": "markdown",
   "metadata": {},
   "source": [
    "We can also do a phase-resolved spectrum."
   ]
  },
  {
   "cell_type": "code",
   "execution_count": null,
   "metadata": {},
   "outputs": [],
   "source": [
    "from gammapy.background.phase import PhaseBackgroundEstimator\n",
    "from regions import CircleSkyRegion\n",
    "from gammapy.utils.energy import EnergyBounds\n",
    "from gammapy.spectrum.models import PowerLaw\n",
    "from gammapy.spectrum import (\n",
    "    SpectrumExtraction,\n",
    "    SpectrumFit,\n",
    "    SpectrumResult,\n",
    "    models,\n",
    "    SpectrumEnergyGroupMaker,\n",
    "    FluxPointEstimator,\n",
    ")"
   ]
  },
  {
   "cell_type": "code",
   "execution_count": null,
   "metadata": {},
   "outputs": [],
   "source": [
    "on_region = CircleSkyRegion(pos_target, on_radius)\n",
    "\n",
    "# The PhaseBackgroundEstimator uses the OFF-phase in the ON-region to estimate the background\n",
    "bkg_estimator = PhaseBackgroundEstimator(observations=obs_list_vela, on_region=on_region, on_phase=(0.5, 0.6), off_phase = (0.7, 1))\n",
    "bkg_estimator.run()\n",
    "bkg_estimate = bkg_estimator.result"
   ]
  },
  {
   "cell_type": "code",
   "execution_count": null,
   "metadata": {},
   "outputs": [],
   "source": [
    "etrue = EnergyBounds.equal_log_spacing(0.005, 50., 200, u.TeV)\n",
    "ereco = EnergyBounds.equal_log_spacing(0.01, 10, 30, u.TeV)\n",
    "fit_range=(0.04*u.TeV, 0.4*u.TeV)\n",
    "ebounds = EnergyBounds.equal_log_spacing(0.04, 0.4, 7, u.TeV) #for the points computation (included in fit_range)\n",
    "\n",
    "extraction = SpectrumExtraction(\n",
    "    observations=obs_list_vela,\n",
    "    bkg_estimate=bkg_estimate,\n",
    "    containment_correction=True,\n",
    "    e_true=etrue,\n",
    "    e_reco=ereco,\n",
    ")\n",
    "\n",
    "extraction.run()\n",
    "extraction.compute_energy_threshold(\n",
    "    method_lo='energy_bias',\n",
    "    bias_percent_lo=20,\n",
    ")"
   ]
  },
  {
   "cell_type": "code",
   "execution_count": null,
   "metadata": {},
   "outputs": [],
   "source": [
    "extraction.spectrum_observations[0].peek()"
   ]
  },
  {
   "cell_type": "code",
   "execution_count": null,
   "metadata": {},
   "outputs": [],
   "source": [
    "model = models.PowerLaw(\n",
    "    index = 4,\n",
    "    amplitude = 1.3e-9* (u.cm)**(-2) * (u.s)**(-1) * (u.TeV)**(-1 ), #* u.Unit('cm-2 s-1 TeV-1'),\n",
    "    reference = 0.02 * u.TeV,\n",
    ")\n",
    "flux_point_binning = EnergyBounds.equal_log_spacing(0.05, 0.8, 5, u.TeV)\n",
    "\n",
    "\n",
    "joint_fit = SpectrumFit(obs_list=extraction.spectrum_observations, model=model, fit_range=fit_range)\n",
    "joint_fit.run()\n",
    "joint_result = joint_fit.result\n",
    "\n",
    "print(joint_result[0])"
   ]
  },
  {
   "cell_type": "code",
   "execution_count": null,
   "metadata": {},
   "outputs": [],
   "source": [
    "stacked_obs = extraction.spectrum_observations.stack()\n",
    "seg = SpectrumEnergyGroupMaker(obs=stacked_obs)\n",
    "\n",
    "seg.compute_groups_fixed(ebounds=ebounds)\n",
    "fpe = FluxPointEstimator(\n",
    "    obs=stacked_obs,\n",
    "    groups=seg.groups,\n",
    "    model=joint_result[0].model,\n",
    ")\n",
    "flux_points=fpe.run()\n",
    "\n",
    "spec_model_true = PowerLaw(\n",
    "    index=4.5,\n",
    "    amplitude=(0.57 * 19.4e-14 * u.Unit('1 / (cm2 s MeV)')).to('1 / (cm2 s TeV)'),\n",
    "    reference=(20000 * u.MeV).to('TeV')\n",
    ")\n",
    "\n",
    "spectrum_result = SpectrumResult(\n",
    "    points=flux_points,\n",
    "    model=joint_result[0].model,\n",
    ")\n"
   ]
  },
  {
   "cell_type": "code",
   "execution_count": null,
   "metadata": {},
   "outputs": [],
   "source": [
    "# First plot for the spectral flux\n",
    "\n",
    "ax0, ax1 = spectrum_result.plot(\n",
    "    energy_range = joint_fit.result[0].fit_range,\n",
    "    fig_kwargs=dict(figsize=(8,8)),\n",
    "    point_kwargs=dict(label='flux points', color='red'),\n",
    "    butterfly_kwargs=dict(label='gammapy error box', color='green', alpha = 0.4),\n",
    "    fit_kwargs=dict(label='gammapy fit', color='black')\n",
    ")\n",
    "\n",
    "ax0.set_ylim([1e-14, 1e-7])\n",
    "ax0.set_xlim([4e-2, 5e-1])\n",
    "ax1.set_ylim([-1.7,1.7])\n",
    "\n",
    "spec_model_true.plot(ax=ax0,\n",
    "           energy_range=joint_fit.result[0].fit_range,\n",
    "           label=\"Input model\", c='b', linestyle='dashed')\n",
    "\n",
    "ax0.legend(loc='best')\n",
    "ax0.grid()\n",
    "ax0.set_ylabel(r'Flux [cm$^{-2}$ s$^1$ TeV$^{-1}$]', size=14)\n",
    "ax1.set_ylabel('Residuals', size=14)\n",
    "ax1.set_xlabel('Energy [TeV]', size=14)\n",
    "ax1.set_xticks([5e-2, 1e-1, 3e-1])\n",
    "ax1.set_xticklabels([5e-2, 1e-1, 3e-1])\n",
    "\n",
    "\n",
    "# Second plot for the spectral energy flux\n",
    "\n",
    "ax0, ax1 = spectrum_result.plot(\n",
    "    energy_range=joint_fit.result[0].fit_range,\n",
    "    energy_power=2, flux_unit='erg-1 cm-2 s-1',\n",
    "    fig_kwargs=dict(figsize=(8, 8)),\n",
    "    point_kwargs=dict(label='flux points', color='red'),\n",
    "    butterfly_kwargs=dict(label='gammapy error box', color='green', alpha = 0.4),\n",
    "    fit_kwargs=dict(label='gammapy fit', color='black')\n",
    ")\n",
    "\n",
    "spec_model_true.plot(ax=ax0,\n",
    "           energy_range=[4e-2, 5e-1] * u.TeV, # energy_range=joint_fit.result[0].fit_range,\n",
    "           energy_power=2, flux_unit='erg-1 cm-2 s-1',\n",
    "           label=\"Input model\", c='b', linestyle='dashed')\n",
    "\n",
    "ax0.set_ylim([5e-15, 5e-9])\n",
    "#ax0.xlabel(size=13)\n",
    "ax0.set_xlim([4e-2, 5e-1])\n",
    "ax1.set_ylim([-1.7,1.7])\n",
    "ax0.legend(loc='best')"
   ]
  },
  {
   "cell_type": "markdown",
   "metadata": {},
   "source": [
    "This tutorial suffers a bit from the lack of statistics: there were 9 Vela observations in the CTA DC1 while there is only one here. When done on the 8 observations, the spectral analysis is much better agreement between the input model and the gammapy fit."
   ]
  }
 ],
 "metadata": {
  "kernelspec": {
   "display_name": "Python 3",
   "language": "python",
   "name": "python3"
  },
  "language_info": {
   "codemirror_mode": {
    "name": "ipython",
    "version": 3
   },
   "file_extension": ".py",
   "mimetype": "text/x-python",
   "name": "python",
   "nbconvert_exporter": "python",
   "pygments_lexer": "ipython3",
   "version": "3.6.4"
  }
 },
 "nbformat": 4,
 "nbformat_minor": 2
}

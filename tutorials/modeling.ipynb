{
 "cells": [
  {
   "cell_type": "markdown",
   "metadata": {},
   "source": [
    "# Modeling and fitting\n",
    "\n",
    "\n",
    "## Prerequisites\n",
    "\n",
    "- Knowledge of spectral analysis to produce 1D On-Off datasets, [see the following tutorial](spectrum_analysis.ipynb)\n",
    "- Reading of pre-computed datasets [see the MWL tutorial](analysis_mwl.ipynb)\n",
    "- General knowledge on statistics and optimization methods\n",
    "\n",
    "## Proposed approach\n",
    "\n",
    "This is a hands-on tutorial to `~gammapy.modeling`, showing how the model, dataset and fit classes work together. As an example we are going to work with HESS data of the Crab Nebula and show in particular how to :\n",
    "- perform a spectral analysis\n",
    "- use different fitting backends\n",
    "- acces covariance matrix informations and parameter errors\n",
    "- compute likelihood profile\n",
    "- compute confidence contours\n",
    "\n",
    "See also: [Models gallery tutorial](models.ipynb) and `docs/modeling/index.rst`.\n",
    "\n",
    "\n",
    "## The setup"
   ]
  },
  {
   "cell_type": "code",
   "execution_count": 1,
   "metadata": {},
   "outputs": [],
   "source": [
    "import numpy as np\n",
    "from astropy import units as u\n",
    "import matplotlib.pyplot as plt\n",
    "from gammapy.modeling import Fit, Datasets\n",
    "from gammapy.modeling.models import LogParabolaSpectralModel, SkyModel\n",
    "from gammapy.spectrum import SpectrumDatasetOnOff\n"
   ]
  },
  {
   "cell_type": "markdown",
   "metadata": {},
   "source": [
    "First we define the source model, here we need only a spectral model for which we choose a log-parabola"
   ]
  },
  {
   "cell_type": "code",
   "execution_count": 2,
   "metadata": {},
   "outputs": [],
   "source": [
    "crab_spectrum = LogParabolaSpectralModel(amplitude=1e-11/u.cm**2/u.s/u.TeV,\n",
    "                                     reference=1*u.TeV,\n",
    "                                     alpha=2.3,\n",
    "                                      beta=0.2)\n",
    "\n",
    "crab_model = SkyModel(spectral_model=crab_spectrum, name=\"crab\")\n"
   ]
  },
  {
   "cell_type": "markdown",
   "metadata": {},
   "source": [
    "The data and background are read from pre-computed ON/OFF datasets of HESS observations, for simplicity we stack them together.\n",
    "Then we set the model and fit range to the resulting dataset."
   ]
  },
  {
   "cell_type": "code",
   "execution_count": 3,
   "metadata": {},
   "outputs": [],
   "source": [
    "datasets = []\n",
    "for obs_id in [23523, 23526]:\n",
    "    dataset = SpectrumDatasetOnOff.from_ogip_files(\n",
    "        f\"$GAMMAPY_DATA/joint-crab/spectra/hess/pha_obs{obs_id}.fits\"\n",
    "    )\n",
    "    datasets.append(dataset)\n",
    "\n",
    "dataset_hess = Datasets(datasets).stack_reduce(name=\"HESS\")\n",
    "\n",
    "# Set model and fit range\n",
    "dataset_hess.models = crab_model\n",
    "e_min = 0.66 * u.TeV\n",
    "e_max = 30 * u.TeV\n",
    "dataset_hess.mask_fit = dataset_hess.counts.energy_mask(e_min, e_max)\n"
   ]
  },
  {
   "cell_type": "markdown",
   "metadata": {},
   "source": [
    "## Fitting options\n",
    "\n",
    "\n",
    "\n",
    "First let's create a `Fit` instance:"
   ]
  },
  {
   "cell_type": "code",
   "execution_count": 4,
   "metadata": {},
   "outputs": [],
   "source": [
    "fit = Fit([dataset_hess])"
   ]
  },
  {
   "cell_type": "markdown",
   "metadata": {},
   "source": [
    "By default the fit is performed using MINUIT, you can select alternative optimizers and set their option using the `optimize_opts` argument of the `Fit.run()` method.\n",
    "\n",
    "Note that, for now, covaraince matrix and errors are computed only for the fitting with MINUIT. However depending on the problem other optimizers can better perform, so somethimes it can be usefull to run a pre-fit with alternative optimization methods.\n",
    "\n",
    "For the \"scipy\" backend the available options are desribed in detail here:  \n",
    "https://docs.scipy.org/doc/scipy/reference/generated/scipy.optimize.minimize.html"
   ]
  },
  {
   "cell_type": "code",
   "execution_count": 5,
   "metadata": {},
   "outputs": [
    {
     "name": "stderr",
     "output_type": "stream",
     "text": [
      "No covariance estimate - not supported by this backend.\n"
     ]
    },
    {
     "name": "stdout",
     "output_type": "stream",
     "text": [
      "OptimizeResult\n",
      "\n",
      "\tbackend    : scipy\n",
      "\tmethod     : L-BFGS-B\n",
      "\tsuccess    : True\n",
      "\tmessage    : b'CONVERGENCE: REL_REDUCTION_OF_F_<=_FACTR*EPSMCH'\n",
      "\tnfev       : 40\n",
      "\ttotal stat : 30.35\n",
      "\n",
      "CPU times: user 339 ms, sys: 24.1 ms, total: 363 ms\n",
      "Wall time: 797 ms\n"
     ]
    }
   ],
   "source": [
    "%%time\n",
    "scipy_opts={\"method\": \"L-BFGS-B\", \"options\":{\"ftol\": 1e-4, 'gtol': 1e-05}}\n",
    "result_scipy = fit.run(backend=\"scipy\",  optimize_opts=scipy_opts)\n",
    "print(result_scipy)\n"
   ]
  },
  {
   "cell_type": "markdown",
   "metadata": {},
   "source": [
    "For the \"sherpa\" backend you can from the options method = {\"simplex\",  \"levmar\", \"moncar\", \"gridsearch\"}.  \n",
    "Those methods are described and compared in detail on http://cxc.cfa.harvard.edu/sherpa/methods/index.html.  \n",
    "The available options of the optimization methods are described on the following page https://cxc.cfa.harvard.edu/sherpa/methods/opt_methods.html"
   ]
  },
  {
   "cell_type": "code",
   "execution_count": 6,
   "metadata": {},
   "outputs": [
    {
     "name": "stderr",
     "output_type": "stream",
     "text": [
      "No covariance estimate - not supported by this backend.\n"
     ]
    },
    {
     "name": "stdout",
     "output_type": "stream",
     "text": [
      "OptimizeResult\n",
      "\n",
      "\tbackend    : sherpa\n",
      "\tmethod     : simplex\n",
      "\tsuccess    : True\n",
      "\tmessage    : Optimization terminated successfully\n",
      "\tnfev       : 149\n",
      "\ttotal stat : 30.35\n",
      "\n",
      "CPU times: user 281 ms, sys: 5.87 ms, total: 287 ms\n",
      "Wall time: 318 ms\n"
     ]
    }
   ],
   "source": [
    "%%time\n",
    "sherpa_opts={\"method\": \"simplex\", \"ftol\": 1e-3, \"maxfev\":int(1e4)}\n",
    "results_simplex = fit.run(backend=\"sherpa\", optimize_opts=sherpa_opts)\n",
    "print(results_simplex)\n",
    "\n"
   ]
  },
  {
   "cell_type": "markdown",
   "metadata": {},
   "source": [
    "For the \"minuit\" backend see https://iminuit.readthedocs.io/en/latest/reference.html for a detailed description of the available options. If there is an entry ‘migrad_opts’, those options will be passed to [iminuit.Minuit.migrad](https://iminuit.readthedocs.io/en/latest/reference.html#iminuit.Minuit.migrad). Additionnaly you can set the fit tolerance using the [tol](https://iminuit.readthedocs.io/en/latest/reference.html#iminuit.Minuit.tol\n",
    ") option. The minimization will stop when the estimated distance to the minimum is less than 0.001*tol (by default tol=0.1). The [strategy](https://iminuit.readthedocs.io/en/latest/reference.html#iminuit.Minuit.strategy) option change the speed and accuracy of the optimizer: 0 fast, 1 default, 2 slow but accurate. If you want more reliable error estimates, you should run the final fit with strategy 2.\n"
   ]
  },
  {
   "cell_type": "code",
   "execution_count": 7,
   "metadata": {},
   "outputs": [
    {
     "name": "stdout",
     "output_type": "stream",
     "text": [
      "OptimizeResult\n",
      "\n",
      "\tbackend    : minuit\n",
      "\tmethod     : minuit\n",
      "\tsuccess    : True\n",
      "\tmessage    : Optimization terminated successfully.\n",
      "\tnfev       : 41\n",
      "\ttotal stat : 30.35\n",
      "\n",
      "CPU times: user 114 ms, sys: 5.27 ms, total: 119 ms\n",
      "Wall time: 149 ms\n"
     ]
    },
    {
     "data": {
      "text/html": [
       "<i>Table length=4</i>\n",
       "<table id=\"table120799836760\" class=\"table-striped table-bordered table-condensed\">\n",
       "<thead><tr><th>name</th><th>value</th><th>error</th><th>unit</th><th>min</th><th>max</th><th>frozen</th></tr></thead>\n",
       "<thead><tr><th>str9</th><th>float64</th><th>float64</th><th>str14</th><th>float64</th><th>float64</th><th>bool</th></tr></thead>\n",
       "<tr><td>amplitude</td><td>3.814e-11</td><td>3.545e-12</td><td>cm-2 s-1 TeV-1</td><td>nan</td><td>nan</td><td>False</td></tr>\n",
       "<tr><td>reference</td><td>1.000e+00</td><td>0.000e+00</td><td>TeV</td><td>nan</td><td>nan</td><td>True</td></tr>\n",
       "<tr><td>alpha</td><td>2.196e+00</td><td>2.626e-01</td><td></td><td>nan</td><td>nan</td><td>False</td></tr>\n",
       "<tr><td>beta</td><td>2.265e-01</td><td>1.397e-01</td><td></td><td>nan</td><td>nan</td><td>False</td></tr>\n",
       "</table>"
      ],
      "text/plain": [
       "<Table length=4>\n",
       "   name     value     error        unit        min     max   frozen\n",
       "   str9    float64   float64      str14      float64 float64  bool \n",
       "--------- --------- --------- -------------- ------- ------- ------\n",
       "amplitude 3.814e-11 3.545e-12 cm-2 s-1 TeV-1     nan     nan  False\n",
       "reference 1.000e+00 0.000e+00            TeV     nan     nan   True\n",
       "    alpha 2.196e+00 2.626e-01                    nan     nan  False\n",
       "     beta 2.265e-01 1.397e-01                    nan     nan  False"
      ]
     },
     "execution_count": 7,
     "metadata": {},
     "output_type": "execute_result"
    }
   ],
   "source": [
    "%%time\n",
    "minuit_opts = {\"tol\": 1., \"strategy\": 2}\n",
    "result_minuit = fit.run(backend=\"minuit\" ,optimize_opts=minuit_opts)\n",
    "print(result_minuit)\n",
    "result_minuit.parameters.to_table()"
   ]
  },
  {
   "cell_type": "markdown",
   "metadata": {},
   "source": [
    "## Covariance and parameter errors\n",
    "\n",
    "The covariance matrix is attached to the results parameters object:"
   ]
  },
  {
   "cell_type": "code",
   "execution_count": 27,
   "metadata": {},
   "outputs": [
    {
     "data": {
      "text/plain": [
       "array([[ 1.25692105e-23,  0.00000000e+00,  4.52493453e-13,\n",
       "        -1.15640749e-13],\n",
       "       [ 0.00000000e+00,  0.00000000e+00,  0.00000000e+00,\n",
       "         0.00000000e+00],\n",
       "       [ 4.52493453e-13,  0.00000000e+00,  6.89801982e-02,\n",
       "        -3.31300769e-02],\n",
       "       [-1.15640749e-13,  0.00000000e+00, -3.31300769e-02,\n",
       "         1.95110514e-02]])"
      ]
     },
     "execution_count": 27,
     "metadata": {},
     "output_type": "execute_result"
    }
   ],
   "source": [
    "result_minuit.parameters.covariance"
   ]
  },
  {
   "cell_type": "markdown",
   "metadata": {},
   "source": [
    "You can get the error on a specific parameter by index or name: "
   ]
  },
  {
   "cell_type": "code",
   "execution_count": 28,
   "metadata": {},
   "outputs": [
    {
     "data": {
      "text/plain": [
       "0.26264081601982847"
      ]
     },
     "execution_count": 28,
     "metadata": {},
     "output_type": "execute_result"
    }
   ],
   "source": [
    "result_minuit.parameters.error(\"alpha\")"
   ]
  },
  {
   "cell_type": "markdown",
   "metadata": {},
   "source": [
    "Coavariance information and errors are available in the results object, but they are not automatically synchronised with the model objects, you can do it as follow:"
   ]
  },
  {
   "cell_type": "code",
   "execution_count": 16,
   "metadata": {},
   "outputs": [
    {
     "name": "stdout",
     "output_type": "stream",
     "text": [
      "[[ 1.25692105e-23  0.00000000e+00  4.52493453e-13 -1.15640749e-13]\n",
      " [ 0.00000000e+00  0.00000000e+00  0.00000000e+00  0.00000000e+00]\n",
      " [ 4.52493453e-13  0.00000000e+00  6.89801982e-02 -3.31300769e-02]\n",
      " [-1.15640749e-13  0.00000000e+00 -3.31300769e-02  1.95110514e-02]]\n"
     ]
    }
   ],
   "source": [
    "# set sub-covariance on the input spectral model\n",
    "covar = result_minuit.parameters.get_subcovariance(crab_spectrum.parameters)\n",
    "crab_spectrum.parameters.covariance = covar"
   ]
  },
  {
   "cell_type": "markdown",
   "metadata": {},
   "source": [
    "As an exampke this step is needed to produce a butterfly plot showing the enveloppe of the model taking into account parameter uncertainties."
   ]
  },
  {
   "cell_type": "code",
   "execution_count": 17,
   "metadata": {},
   "outputs": [
    {
     "data": {
      "image/png": "[encoded data removed]",
      "text/plain": [
       "<Figure size 432x288 with 1 Axes>"
      ]
     },
     "metadata": {
      "needs_background": "light"
     },
     "output_type": "display_data"
    }
   ],
   "source": [
    "energy_range = [1, 10] * u.TeV\n",
    "crab_spectrum.plot(energy_range=energy_range, energy_power=2)\n",
    "ax = crab_spectrum.plot_error(energy_range=energy_range, energy_power=2)"
   ]
  },
  {
   "cell_type": "markdown",
   "metadata": {},
   "source": [
    "## Inspecting fit statistic profiles\n",
    "\n",
    "To check the quality of the fit it is also useful to plot fit statistic profiles for specific parameters.\n",
    "For this we use `~gammapy.modeling.Fit.stat_profile()`."
   ]
  },
  {
   "cell_type": "code",
   "execution_count": 8,
   "metadata": {},
   "outputs": [],
   "source": [
    "profile = fit.stat_profile(parameter=\"alpha\")"
   ]
  },
  {
   "cell_type": "markdown",
   "metadata": {},
   "source": [
    "For a good fit and error estimate the profile should be parabolic, if we plot it:"
   ]
  },
  {
   "cell_type": "code",
   "execution_count": 29,
   "metadata": {},
   "outputs": [
    {
     "data": {
      "image/png": "[encoded data removed]",
      "text/plain": [
       "<Figure size 432x288 with 1 Axes>"
      ]
     },
     "metadata": {
      "needs_background": "light"
     },
     "output_type": "display_data"
    }
   ],
   "source": [
    "total_stat = result_minuit.total_stat\n",
    "plt.plot(profile[\"values\"], profile[\"stat\"] - total_stat)\n",
    "plt.xlabel(r\"$\\Gamma$\")\n",
    "plt.ylabel(\"Delta TS\");"
   ]
  },
  {
   "cell_type": "markdown",
   "metadata": {},
   "source": [
    "## Confidence contours\n",
    "\n",
    "\n",
    "In most studies, one wishes to estimate parameters distribution using observed sample data.\n",
    "A confidence interval gives an estimated range of values which is likely to include an unknown parameter.\n",
    "The selection of a confidence level for an interval determines the probability that the confidence interval produced will contain the true parameter value.\n",
    "A confidence contour is a 2D generalization of a confidence interval, often represented as an ellipsoid around the best-fit value.\n",
    "\n",
    "After the fit, MINUIT offers the possibility to compute the confidence confours.\n",
    "gammapy provides an interface to this functionnality throught the `Fit` object using the `minos_contour` method.\n",
    "Here we defined a function to automatize the contour production for the differents parameterer and confidence levels (expressed in term of sigma):\n"
   ]
  },
  {
   "cell_type": "code",
   "execution_count": 10,
   "metadata": {},
   "outputs": [],
   "source": [
    "def make_contours(fit, result, npoints, sigmas):\n",
    "    cts_sigma = []\n",
    "    for sigma in sigmas:\n",
    "        contours = dict()\n",
    "        contour = fit.minos_contour(result.parameters['alpha'], \n",
    "                                     result.parameters['beta'], \n",
    "                                     numpoints=npoints,\n",
    "                                     sigma=sigma)\n",
    "        contours[\"contour_alpha_beta\"] = {\n",
    "            \"alpha\": contour[\"x\"].tolist(),\n",
    "            \"beta\": (contour[\"y\"]*np.log(10)).tolist(),\n",
    "        }    \n",
    "\n",
    "        contour = fit.minos_contour(result.parameters['amplitude'], \n",
    "                                     result.parameters['beta'], \n",
    "                                     numpoints=npoints,\n",
    "                                     sigma=sigma)\n",
    "        contours[\"contour_amplitude_beta\"] = {\n",
    "            \"amplitude\": contour[\"x\"].tolist(),\n",
    "            \"beta\": (contour[\"y\"]*np.log(10)).tolist(),\n",
    "        } \n",
    "\n",
    "        contour = fit.minos_contour(result.parameters['amplitude'], \n",
    "                                     result.parameters['alpha'], \n",
    "                                     numpoints=npoints,\n",
    "                                     sigma=sigma)\n",
    "        contours[\"contour_amplitude_alpha\"] = {\n",
    "            \"amplitude\": contour[\"x\"].tolist(),\n",
    "            \"alpha\": contour[\"y\"].tolist(),\n",
    "        }     \n",
    "        cts_sigma.append(contours)\n",
    "    return cts_sigma"
   ]
  },
  {
   "cell_type": "markdown",
   "metadata": {},
   "source": [
    "Now we can compute few contours."
   ]
  },
  {
   "cell_type": "code",
   "execution_count": 11,
   "metadata": {},
   "outputs": [
    {
     "name": "stdout",
     "output_type": "stream",
     "text": [
      "CPU times: user 9.81 s, sys: 95.7 ms, total: 9.9 s\n",
      "Wall time: 11.9 s\n"
     ]
    }
   ],
   "source": [
    "%%time\n",
    "sigma = [1, 2]\n",
    "cts_sigma = make_contours(fit, result_minuit, 10, sigma)"
   ]
  },
  {
   "cell_type": "markdown",
   "metadata": {},
   "source": [
    "The contours lines to be plotted are obtained by interpolating the contours points.\n",
    "However there is some noise in the contour points from MINUIT, which throws off most interpolation schemes.\n",
    "In order to avoid this we apply a median filter to remove the outliers before the spline interpolation.\n",
    "This is done by the two following functions :\n",
    " "
   ]
  },
  {
   "cell_type": "code",
   "execution_count": 12,
   "metadata": {},
   "outputs": [],
   "source": [
    "def plot_contour_line(ax, x, y, thr, **kwargs):\n",
    "    \"\"\"Plot smooth curve from contour points\"\"\"\n",
    "    from scipy.interpolate import CubicSpline\n",
    "\n",
    "    # close countour\n",
    "    xf = np.append(x , x[0])\n",
    "    yf = np.append(y , y[0])\n",
    "    \n",
    "    # curve parametrization must be strictly increasing \n",
    "    # so we use the cumulative distance of each point from the first one\n",
    "    dist = np.sqrt(np.diff(xf)**2.+np.diff(yf)**2.)\n",
    "    dist = [0]+list(dist)\n",
    "    t = np.cumsum(dist)\n",
    "    ts = np.linspace(0, t[-1], 50)\n",
    "    \n",
    "    # 1D cubic spline interpolation\n",
    "    cs = CubicSpline(t, np.c_[xf, yf], bc_type='periodic')\n",
    "    out = cs(ts)\n",
    "    \n",
    "    # plot\n",
    "    ax.plot(out[:,0], out[:,1], \"-\",  **kwargs)\n",
    "    ax.plot(xf, yf, '+', color=kwargs[\"color\"])\n",
    "\n",
    "    "
   ]
  },
  {
   "cell_type": "markdown",
   "metadata": {},
   "source": [
    "Then we prepare some aliases and annotations in order to make the plotting nicer."
   ]
  },
  {
   "cell_type": "code",
   "execution_count": 13,
   "metadata": {},
   "outputs": [],
   "source": [
    "pars = {\n",
    "    \"phi\": {\n",
    "        \"label\": r\"$\\phi_0 \\,/\\,(10^{-11}\\,{\\rm TeV}^{-1} \\, {\\rm cm}^{-2} {\\rm s}^{-1})$\",\n",
    "        \"lim\": [2.6, 5.8],\n",
    "        \"ticks\": [3, 4, 5],\n",
    "    },\n",
    "    \"gamma\": {\n",
    "        \"label\": r\"$\\Gamma$\",\n",
    "        \"lim\": [1.9, 3.],\n",
    "        \"ticks\": [2., 2.3, 2.6, 2.9],\n",
    "    },\n",
    "    \"beta\": {\n",
    "        \"label\": r\"$\\beta$\",\n",
    "        \"lim\": [-0.1, 1.0],\n",
    "        \"ticks\": [0.0, 0.3, 0.6, 0.9],\n",
    "    },\n",
    "}\n",
    "\n",
    "panels = [\n",
    "    {\n",
    "        \"x\": \"phi\",\n",
    "        \"y\": \"gamma\",\n",
    "        \"cx\": (lambda ct:np.array(1e11) * ct[\"contour_amplitude_alpha\"][\"amplitude\"]),\n",
    "        \"cy\": (lambda ct: ct[\"contour_amplitude_alpha\"][\"alpha\"]),\n",
    "    },\n",
    "    {\n",
    "        \"x\": \"phi\",\n",
    "        \"y\": \"beta\",\n",
    "        \"cx\": (lambda ct: np.array(1e11) * ct[\"contour_amplitude_beta\"][\"amplitude\"]),\n",
    "        \"cy\": (lambda ct: ct[\"contour_amplitude_beta\"][\"beta\"]),\n",
    "    },\n",
    "    {\n",
    "        \"x\": \"gamma\",\n",
    "        \"y\": \"beta\",\n",
    "        \"cx\": (lambda ct: ct[\"contour_alpha_beta\"][\"alpha\"]),\n",
    "        \"cy\": (lambda ct: ct[\"contour_alpha_beta\"][\"beta\"]),\n",
    "    },\n",
    "]\n",
    "\n",
    "    "
   ]
  },
  {
   "cell_type": "markdown",
   "metadata": {},
   "source": [
    "Finally we produce the confidence contours figures."
   ]
  },
  {
   "cell_type": "code",
   "execution_count": 30,
   "metadata": {},
   "outputs": [
    {
     "data": {
      "image/png": "[encoded data removed]",
      "text/plain": [
       "<Figure size 1152x360 with 3 Axes>"
      ]
     },
     "metadata": {
      "needs_background": "light"
     },
     "output_type": "display_data"
    }
   ],
   "source": [
    "fig, axes = plt.subplots(1, 3, figsize=(16, 5))\n",
    "colors=['m','b','c']\n",
    "for p, ax in zip(panels, axes):\n",
    "    x = pars[p[\"x\"]]\n",
    "    y = pars[p[\"y\"]]\n",
    "    for ks in range(len(cts_sigma)):\n",
    "        plot_contour_line(ax, p[\"cx\"](cts_sigma[ks]), p[\"cy\"](cts_sigma[ks]), thr=2*sigma[ks], lw=2.5, color=colors[ks], label=f\"{sigma[ks]}\"+r\"$\\sigma$\")\n",
    "    ax.set_xlabel(x[\"label\"])\n",
    "    ax.set_ylabel(y[\"label\"])\n",
    "#    ax.set_xlim(x[\"lim\"])\n",
    "#    ax.set_ylim(y[\"lim\"])\n",
    "    ax.set_xticks(x[\"ticks\"])\n",
    "    ax.set_yticks(y[\"ticks\"])\n",
    "plt.legend();"
   ]
  },
  {
   "cell_type": "code",
   "execution_count": null,
   "metadata": {},
   "outputs": [],
   "source": []
  }
 ],
 "metadata": {
  "kernelspec": {
   "display_name": "Python 3",
   "language": "python",
   "name": "python3"
  },
  "language_info": {
   "codemirror_mode": {
    "name": "ipython",
    "version": 3
   },
   "file_extension": ".py",
   "mimetype": "text/x-python",
   "name": "python",
   "nbconvert_exporter": "python",
   "pygments_lexer": "ipython3",
   "version": "3.7.3"
  }
 },
 "nbformat": 4,
 "nbformat_minor": 2
}

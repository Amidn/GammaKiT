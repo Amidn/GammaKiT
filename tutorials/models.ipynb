{
 "cells": [
  {
   "cell_type": "markdown",
   "metadata": {},
   "source": [
    "# Model Gallery\n",
    "\n",
    "**TODO: Write me!**\n",
    "\n",
    "This is an overview of the Gammapy built-in models in `~gammapy.modeling.models`.\n",
    "\n",
    "Note that there is a separate tutorial [modeling](modeling.ipynb) that explains about `~gammapy.modeling`,\n",
    "the Gammapy modeling and fitting framework. You have to read that to learn how to work with models.\n",
    "\n",
    "Topics covered here:\n",
    "\n",
    "- How to create spatial, spectral and temporal models.\n",
    "- How to create 3D sky models and other compound models.\n",
    "- How to use the model registries to list all available models or serialise models.\n",
    "- How to work with user defined models for simulations and fitting.\n",
    "- How to serialize/read and deserialize/write models.\n",
    "\n"
   ]
  },
  {
   "cell_type": "code",
   "execution_count": null,
   "metadata": {},
   "outputs": [],
   "source": [
    "import numpy as np\n",
    "import matplotlib.pyplot as plt\n",
    "from astropy import units as u\n",
    "from astropy.coordinates import Angle\n",
    "from gammapy.maps import Map, WcsGeom\n",
    "import gammapy.modeling.models as gm\n",
    "from gammapy.modeling import Parameter\n",
    "from gammapy.modeling.models import (\n",
    "    SpectralModel,\n",
    "    PowerLawSpectralModel,\n",
    "    SkyModels,\n",
    "    SkyModel,\n",
    ")"
   ]
  },
  {
   "cell_type": "markdown",
   "metadata": {
    "pycharm": {
     "name": "#%% md\n"
    }
   },
   "source": [
    "## Spatial models"
   ]
  },
  {
   "cell_type": "code",
   "execution_count": null,
   "metadata": {
    "jupyter": {
     "outputs_hidden": false
    }
   },
   "outputs": [],
   "source": [
    "m_geom = WcsGeom.create(\n",
    "    binsz=0.01, width=(5, 5), skydir=(2, 2), coordsys=\"GAL\", proj=\"AIT\"\n",
    ")\n",
    "phi = Angle(\"30 deg\")\n",
    "gaussian = gm.GaussianSpatialModel(\n",
    "    lon_0=\"2 deg\",\n",
    "    lat_0=\"2 deg\",\n",
    "    sigma=\"1 deg\",\n",
    "    e=0.7,\n",
    "    phi=phi,\n",
    "    frame=\"galactic\",\n",
    ")\n",
    "\n",
    "coords = m_geom.get_coord()\n",
    "vals = gaussian(coords.lon, coords.lat)\n",
    "skymap = Map.from_geom(m_geom, data=vals.value)\n",
    "\n",
    "_, ax, _ = skymap.smooth(\"0.05 deg\").plot()\n",
    "\n",
    "transform = ax.get_transform(\"galactic\")\n",
    "ax.scatter(2, 2, transform=transform, s=20, edgecolor=\"red\", facecolor=\"red\")\n",
    "ax.text(1.5, 1.85, r\"$(l_0, b_0)$\", transform=transform, ha=\"center\")\n",
    "ax.plot(\n",
    "    [2, 2 + np.sin(phi)], [2, 2 + np.cos(phi)], color=\"r\", transform=transform\n",
    ")\n",
    "ax.vlines(x=2, color=\"r\", linestyle=\"--\", transform=transform, ymin=-5, ymax=5)\n",
    "ax.text(2.25, 2.45, r\"$\\phi$\", transform=transform)\n",
    "ax.contour(skymap.data, cmap=\"coolwarm\", levels=10, alpha=0.6);"
   ]
  },
  {
   "cell_type": "code",
   "execution_count": null,
   "metadata": {
    "jupyter": {
     "outputs_hidden": false
    }
   },
   "outputs": [],
   "source": [
    "disk = gm.DiskSpatialModel(\n",
    "    lon_0=\"2 deg\",\n",
    "    lat_0=\"2 deg\",\n",
    "    r_0=\"1 deg\",\n",
    "    e=0.8,\n",
    "    phi=\"30 deg\",\n",
    "    frame=\"galactic\",\n",
    ")\n",
    "\n",
    "m_geom = WcsGeom.create(\n",
    "    binsz=0.01, width=(3, 3), skydir=(2, 2), coordsys=\"GAL\", proj=\"AIT\"\n",
    ")\n",
    "coords = m_geom.get_coord()\n",
    "vals = disk(coords.lon, coords.lat)\n",
    "skymap = Map.from_geom(m_geom, data=vals.value)\n",
    "\n",
    "_, ax, _ = skymap.smooth(\"0.05 deg\").plot()\n",
    "\n",
    "transform = ax.get_transform(\"galactic\")\n",
    "ax.scatter(2, 2, transform=transform, s=20, edgecolor=\"red\", facecolor=\"red\")\n",
    "ax.text(1.7, 1.85, r\"$(l_0, b_0)$\", transform=transform, ha=\"center\")\n",
    "ax.plot(\n",
    "    [2, 2 + np.sin(np.pi / 6)],\n",
    "    [2, 2 + np.cos(np.pi / 6)],\n",
    "    color=\"r\",\n",
    "    transform=transform,\n",
    ")\n",
    "ax.vlines(x=2, color=\"r\", linestyle=\"--\", transform=transform, ymin=0, ymax=5)\n",
    "ax.text(2.15, 2.3, r\"$\\phi$\", transform=transform);"
   ]
  },
  {
   "cell_type": "markdown",
   "metadata": {},
   "source": [
    "## Spectral models"
   ]
  },
  {
   "cell_type": "code",
   "execution_count": null,
   "metadata": {
    "jupyter": {
     "outputs_hidden": false
    }
   },
   "outputs": [],
   "source": [
    "energy_range = [0.1, 100] * u.TeV\n",
    "\n",
    "pwl = gm.PowerLawSpectralModel()\n",
    "pwl.plot(energy_range)\n",
    "\n",
    "pwl2 = gm.PowerLaw2SpectralModel()\n",
    "pwl2.plot(energy_range)\n",
    "\n",
    "ecpl = gm.ExpCutoffPowerLawSpectralModel()\n",
    "ecpl.plot(energy_range)\n",
    "\n",
    "ecpl_3fgl = gm.ExpCutoffPowerLaw3FGLSpectralModel()\n",
    "ecpl_3fgl.plot(energy_range)\n",
    "\n",
    "secpl_3fgl = gm.SuperExpCutoffPowerLaw3FGLSpectralModel()\n",
    "secpl_3fgl.plot(energy_range)\n",
    "\n",
    "secpl_4fgl = gm.SuperExpCutoffPowerLaw4FGLSpectralModel()\n",
    "secpl_4fgl.plot(energy_range)\n",
    "\n",
    "log_parabola = gm.LogParabolaSpectralModel()\n",
    "log_parabola.plot(energy_range)\n",
    "\n",
    "plt.ylim(1e-18, 1e-10);"
   ]
  },
  {
   "cell_type": "code",
   "execution_count": null,
   "metadata": {
    "jupyter": {
     "outputs_hidden": false
    }
   },
   "outputs": [],
   "source": [
    "# Create and plot EBL absorption models for a redshift of 0.5\n",
    "\n",
    "redshift = 0.5\n",
    "dominguez = gm.Absorption.read_builtin(\"dominguez\").table_model(redshift)\n",
    "franceschini = gm.Absorption.read_builtin(\"franceschini\").table_model(redshift)\n",
    "finke = gm.Absorption.read_builtin(\"finke\").table_model(redshift)\n",
    "\n",
    "plt.figure()\n",
    "energy_range = [0.08, 3] * u.TeV\n",
    "opts = dict(energy_range=energy_range, energy_unit=\"TeV\", flux_unit=\"\")\n",
    "franceschini.plot(label=\"Franceschini 2008\", **opts)\n",
    "finke.plot(label=\"Finke 2010\", **opts)\n",
    "dominguez.plot(label=\"Dominguez 2011\", **opts)\n",
    "\n",
    "plt.ylabel(r\"Absorption coefficient [$\\exp{(-\\tau(E))}$]\")\n",
    "plt.xlim(energy_range.value)\n",
    "plt.ylim(1e-4, 2)\n",
    "plt.title(f\"EBL models (z={redshift})\")\n",
    "plt.grid(which=\"both\")\n",
    "plt.legend(loc=\"best\");"
   ]
  },
  {
   "cell_type": "code",
   "execution_count": null,
   "metadata": {
    "jupyter": {
     "outputs_hidden": false
    }
   },
   "outputs": [],
   "source": [
    "# Create and plot a spectral model that convolves an `ExpCutoffPowerLawSpectralModel` electron distribution\n",
    "# with an `InverseCompton` radiative model, in the presence of multiple seed photon fields.\n",
    "\n",
    "import naima\n",
    "\n",
    "particle_distribution = naima.models.ExponentialCutoffPowerLaw(\n",
    "    1e30 / u.eV, 10 * u.TeV, 3.0, 30 * u.TeV\n",
    ")\n",
    "radiative_model = naima.radiative.InverseCompton(\n",
    "    particle_distribution,\n",
    "    seed_photon_fields=[\"CMB\", [\"FIR\", 26.5 * u.K, 0.415 * u.eV / u.cm ** 3]],\n",
    "    Eemin=100 * u.GeV,\n",
    ")\n",
    "\n",
    "model = gm.NaimaSpectralModel(radiative_model, distance=1.5 * u.kpc)\n",
    "\n",
    "opts = {\n",
    "    \"energy_range\": [10 * u.GeV, 80 * u.TeV],\n",
    "    \"energy_power\": 2,\n",
    "    \"flux_unit\": \"erg-1 cm-2 s-1\",\n",
    "}\n",
    "\n",
    "# Plot the total inverse Compton emission\n",
    "model.plot(label=\"IC (total)\", **opts)\n",
    "\n",
    "# Plot the separate contributions from each seed photon field\n",
    "for seed, ls in zip([\"CMB\", \"FIR\"], [\"-\", \"--\"]):\n",
    "    model = gm.NaimaSpectralModel(\n",
    "        radiative_model, seed=seed, distance=1.5 * u.kpc\n",
    "    )\n",
    "    model.plot(label=f\"IC ({seed})\", ls=ls, color=\"gray\", **opts)\n",
    "\n",
    "plt.legend(loc=\"best\");"
   ]
  },
  {
   "cell_type": "code",
   "execution_count": null,
   "metadata": {
    "jupyter": {
     "outputs_hidden": false
    }
   },
   "outputs": [],
   "source": [
    "gaussian = gm.GaussianSpectralModel(mean=\"1 TeV\")\n",
    "gaussian.plot(energy_range);"
   ]
  },
  {
   "cell_type": "markdown",
   "metadata": {},
   "source": [
    "\n",
    "Many spectral models in gammapy are subclasses of ~gammapy.modeling.models.SpectralModel. The list of available models is shown below.\n"
   ]
  },
  {
   "cell_type": "code",
   "execution_count": null,
   "metadata": {},
   "outputs": [],
   "source": [
    "SpectralModel.__subclasses__()"
   ]
  },
  {
   "cell_type": "markdown",
   "metadata": {
    "jupyter": {
     "outputs_hidden": false
    }
   },
   "source": [
    "## Custom models\n",
    "\n",
    "In order to add a user defined spectral model you have to create a SpectralModel subclass.\n",
    "This new model class should include:\n",
    "\n",
    "- a tag used for serialization (it can be the same as the class name)\n",
    "- an instantiation of each Parameter with their unit, default values and frozen status\n",
    "- the evaluate function where the mathematical expression for the model is defined.\n",
    "\n",
    "As an example we will use a PowerLawSpectralModel plus a Gaussian (with fixed width).\n",
    "First we define the new custom model class that we name `PLG`:"
   ]
  },
  {
   "cell_type": "code",
   "execution_count": null,
   "metadata": {},
   "outputs": [],
   "source": [
    "class PLG(SpectralModel):\n",
    "    tag = \"PLG\"\n",
    "    index = Parameter(\"index\", 2, min=0)\n",
    "    amplitude = Parameter(\"amplitude\", \"1e-12 cm-2 s-1 TeV-1\", min=0)\n",
    "    reference = Parameter(\"reference\", \"1 TeV\", frozen=True)\n",
    "    mean = Parameter(\"mean\", \"1 TeV\", min=0)\n",
    "    width = Parameter(\"width\", \"0.1 TeV\", min=0, frozen=True)\n",
    "\n",
    "    @staticmethod\n",
    "    def evaluate(energy, index, amplitude, reference, mean, width):\n",
    "        pwl = PowerLawSpectralModel.evaluate(\n",
    "            energy=energy,\n",
    "            index=index,\n",
    "            amplitude=amplitude,\n",
    "            reference=reference,\n",
    "        )\n",
    "        gauss = amplitude * np.exp(-((energy - mean) ** 2) / (2 * width ** 2))\n",
    "        return pwl + gauss"
   ]
  },
  {
   "cell_type": "markdown",
   "metadata": {},
   "source": [
    "then we add it to the spectral model registry so it can be used for fitting and serialization:"
   ]
  },
  {
   "cell_type": "code",
   "execution_count": null,
   "metadata": {},
   "outputs": [],
   "source": [
    "from gammapy.modeling.models import SPECTRAL_MODELS\n",
    "\n",
    "SPECTRAL_MODELS.append(PLG)"
   ]
  },
  {
   "cell_type": "code",
   "execution_count": null,
   "metadata": {},
   "outputs": [],
   "source": [
    "custom_model = PLG(\n",
    "    index=2,\n",
    "    amplitude=1e-12 * u.Unit(\"cm-2 s-1 TeV-1\"),\n",
    "    reference=1 * u.TeV,\n",
    "    mean=5 * u.TeV,\n",
    "    width=0.2 * u.TeV,\n",
    ")\n",
    "print(custom_model)"
   ]
  },
  {
   "cell_type": "code",
   "execution_count": null,
   "metadata": {},
   "outputs": [],
   "source": [
    "energy_range = [1, 10] * u.TeV\n",
    "custom_model.plot(energy_range=energy_range);"
   ]
  },
  {
   "cell_type": "markdown",
   "metadata": {},
   "source": [
    "Note that gammapy assumes that all SpectralModel evaluate functions return a flux in unit of \"cm-2 s-1 TeV-1\" (or equivalent dimensions).\n",
    "\n",
    "Similarly you can also create custom spatial models and add them to the `SPATIAL_MODELS` registry. In that case gammapy assumes that the evaluate function return a normalized quantity in \"sr-1\" such as the model integral over the whole sky is one.\n",
    "\n",
    "Once your custom models are defined and added to their model resgistry they can be serialized like the built-in models, as shown at the end of this tutorial."
   ]
  },
  {
   "cell_type": "markdown",
   "metadata": {},
   "source": [
    "## 3D model and models list\n",
    "\n",
    "A source can be modeled by a combination of a spatial and a spectral model using a `SkyModel`. \n",
    "For example we can use the disk and exponential cut-off power-law models defined previously to create a new source model."
   ]
  },
  {
   "cell_type": "code",
   "execution_count": null,
   "metadata": {},
   "outputs": [],
   "source": [
    "model1 = SkyModel(spectral_model=ecpl, spatial_model=disk)\n",
    "print(model1)"
   ]
  },
  {
   "cell_type": "markdown",
   "metadata": {},
   "source": [
    "Note that for convenience the spatial model component is optionnal. Here we create a source model using only the  power-law model defined previously:\n"
   ]
  },
  {
   "cell_type": "code",
   "execution_count": null,
   "metadata": {},
   "outputs": [],
   "source": [
    "model2 = SkyModel(pwl)\n",
    "print(model2)"
   ]
  },
  {
   "cell_type": "markdown",
   "metadata": {},
   "source": [
    "Then the global model of an analysis can be define by combining several `SkyModel` into a `SkyModels`.\n",
    "\n"
   ]
  },
  {
   "cell_type": "code",
   "execution_count": null,
   "metadata": {},
   "outputs": [],
   "source": [
    "models = SkyModels([model1, model2])"
   ]
  },
  {
   "cell_type": "markdown",
   "metadata": {},
   "source": [
    "This model object will be assigned to `Dataset` or `Datasets` together with the data to be fitted as explained in other analysis tutotials (see for example the [modeling](modeling.ipynb) notebook).\n",
    "\n",
    "\n",
    "## Serialization\n",
    "\n",
    "The list of models contained in a `SkyModels` object can be exported/imported using yaml configuration files.\n",
    "\n"
   ]
  },
  {
   "cell_type": "code",
   "execution_count": null,
   "metadata": {},
   "outputs": [],
   "source": [
    "models_yaml = models.to_yaml()\n",
    "print(models_yaml)"
   ]
  },
  {
   "cell_type": "markdown",
   "metadata": {},
   "source": [
    "The parameters keys min/max/frozen are optionnals, so you can prepare shorter files.\n",
    "\n",
    "If you want to write this list of models to disk and read it back later you can use:"
   ]
  },
  {
   "cell_type": "code",
   "execution_count": null,
   "metadata": {},
   "outputs": [],
   "source": [
    "models.write(\"models.yaml\", overwrite=True)\n",
    "models_read = SkyModels.read(\"models.yaml\")"
   ]
  },
  {
   "cell_type": "markdown",
   "metadata": {},
   "source": [
    "Additionnaly the models can exported and imported togeter with the data using the `Datasets.read()` and `Datasets.write()` methods as shown in the [analysis_mwl](analysis_mwl) notebook."
   ]
  },
  {
   "cell_type": "code",
   "execution_count": null,
   "metadata": {},
   "outputs": [],
   "source": []
  }
 ],
 "metadata": {
  "kernelspec": {
   "display_name": "Python 3",
   "language": "python",
   "name": "python3"
  },
  "language_info": {
   "codemirror_mode": {
    "name": "ipython",
    "version": 3
   },
   "file_extension": ".py",
   "mimetype": "text/x-python",
   "name": "python",
   "nbconvert_exporter": "python",
   "pygments_lexer": "ipython3",
   "version": "3.7.3"
  }
 },
 "nbformat": 4,
 "nbformat_minor": 4
}

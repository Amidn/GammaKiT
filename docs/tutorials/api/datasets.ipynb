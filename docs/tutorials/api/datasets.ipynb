{
 "cells": [
  {
   "cell_type": "markdown",
   "metadata": {},
   "source": [
    "# Datasets - Reduced data, IRFs, models \n",
    "\n",
    "## Introduction\n",
    "\n",
    "`gammapy.datasets` are a crucial part of the gammapy API. `datasets` constitute `DL4` data - binned counts, IRFs, models and the associated likelihoods. `Datasets` from the end product of the `makers` stage, see [makers notebook](makers.ipynb), and are passed on to the `Fit` or estimator classes for modelling and fitting purposes.\n",
    "\n",
    "There are three types of `Dataset` available\n",
    "- `MapDataset`: Binned counts and IRFs on a `WCSGeom` spatial geom and an energy axis; used for 3D analysis, supports cash likelihood\n",
    "- `SpectrumDataset`: Binned counts and IRFs on a `RegionGeom` and energy axis; used for 1D spectral analysis; supports cash likelihood\n",
    "- `FluxPointDataset`: Directly supports fitting of pre-computed flux points, no IRF convolution is performed during fitting, and supports `chi2` statistics\n",
    "\n",
    "`MapDataset` and `SpectrumDataset` in turn support `MapDatasetOnOff` and `SpectrumDatasetOnOff`, respectively, which use `wstat` statistics and should be used when the background is estimated from real off counts. These store, additionally, the `counts_off`, `acceptance` and `acceptance_off data`.\n",
    "\n",
    "\n",
    "## Setup"
   ]
  },
  {
   "cell_type": "code",
   "execution_count": null,
   "metadata": {
    "execution": {
     "iopub.execute_input": "2021-08-31T15:44:56.843097Z",
     "iopub.status.busy": "2021-08-31T15:44:56.840387Z",
     "iopub.status.idle": "2021-08-31T15:44:58.004359Z",
     "shell.execute_reply": "2021-08-31T15:44:58.003875Z"
    }
   },
   "outputs": [],
   "source": [
    "import numpy as np\n",
    "import astropy.units as u\n",
    "from regions import CircleSkyRegion\n",
    "from astropy.coordinates import SkyCoord\n",
    "from gammapy.datasets import (\n",
    "    MapDataset,\n",
    "    SpectrumDataset,\n",
    "    Datasets,\n",
    "    FluxPointsDataset,\n",
    ")\n",
    "from gammapy.data import DataStore\n",
    "from gammapy.maps import WcsGeom, RegionGeom, MapAxes, MapAxis, Map\n",
    "from gammapy.modeling.models import SkyModel, PowerLawSpectralModel\n",
    "from gammapy.estimators import FluxPoints"
   ]
  },
  {
   "cell_type": "markdown",
   "metadata": {},
   "source": [
    "## MapDataset\n",
    "\n",
    "The counts, exposure, background, masks, and IRF maps are bundled together in a data structure named `MapDataset`. While the `counts`, and `background` maps are binned in reconstructed energy must have the same geometry, the IRF maps can have a different spatial (coarsely binned and larger) geometry and spectral range (binned in true energies). It is usually recommened that the true energy bin should be larger and more finely sampled and the reco energy bin.\n",
    "\n",
    "An empty `MapDataset` can be instantiated from any `WcsGeom` object. Binnings of the all IRF axes can be individually configued, otherwise, internal defaults will be selected."
   ]
  },
  {
   "cell_type": "code",
   "execution_count": null,
   "metadata": {
    "execution": {
     "iopub.execute_input": "2021-08-31T15:44:58.013202Z",
     "iopub.status.busy": "2021-08-31T15:44:58.010485Z",
     "iopub.status.idle": "2021-08-31T15:44:58.022649Z",
     "shell.execute_reply": "2021-08-31T15:44:58.022274Z"
    }
   },
   "outputs": [],
   "source": [
    "energy_axis = MapAxis.from_energy_bounds(\n",
    "    1, 10, nbin=11, name=\"energy\", unit=\"TeV\"\n",
    ")\n",
    "\n",
    "geom = WcsGeom.create(\n",
    "    skydir=(83.63, 22.01),\n",
    "    axes=[energy_axis],\n",
    "    width=5 * u.deg,\n",
    "    binsz=0.05 * u.deg,\n",
    "    frame=\"icrs\",\n",
    ")\n",
    "\n",
    "energy_axis_true = MapAxis.from_energy_bounds(\n",
    "    0.1, 100, nbin=11, name=\"energy_true\", unit=\"TeV\", per_decade=True\n",
    ")\n",
    "\n",
    "rad_axis = MapAxis.from_bounds(0, 5, nbin=50, unit=\"deg\", name=\"rad\")\n",
    "\n",
    "dataset_empty = MapDataset.create(\n",
    "    geom=geom,\n",
    "    energy_axis_true=energy_axis_true,\n",
    "    rad_axis=rad_axis,\n",
    "    binsz_irf=0.1,\n",
    ")"
   ]
  },
  {
   "cell_type": "markdown",
   "metadata": {},
   "source": [
    "To see the geometry of each map, we can"
   ]
  },
  {
   "cell_type": "code",
   "execution_count": null,
   "metadata": {
    "execution": {
     "iopub.execute_input": "2021-08-31T15:44:58.028346Z",
     "iopub.status.busy": "2021-08-31T15:44:58.027996Z",
     "iopub.status.idle": "2021-08-31T15:44:58.034606Z",
     "shell.execute_reply": "2021-08-31T15:44:58.034900Z"
    }
   },
   "outputs": [],
   "source": [
    "dataset_empty.geoms"
   ]
  },
  {
   "cell_type": "markdown",
   "metadata": {},
   "source": [
    "To see how to use the `dataset_empty` in the data reduction process, please see the [makers notebook](makers.ipynb)"
   ]
  },
  {
   "cell_type": "markdown",
   "metadata": {},
   "source": [
    "### Reading and write datasets\n",
    "\n",
    "Datasets can be read from and saved to disc using the `read` and write commands, eg:"
   ]
  },
  {
   "cell_type": "code",
   "execution_count": null,
   "metadata": {
    "execution": {
     "iopub.execute_input": "2021-08-31T15:44:58.037685Z",
     "iopub.status.busy": "2021-08-31T15:44:58.037335Z",
     "iopub.status.idle": "2021-08-31T15:44:58.632908Z",
     "shell.execute_reply": "2021-08-31T15:44:58.632541Z"
    }
   },
   "outputs": [],
   "source": [
    "dataset = MapDataset.read(\n",
    "    \"$GAMMAPY_DATA/cta-1dc-gc/cta-1dc-gc.fits.gz\", name=\"test\"\n",
    ")"
   ]
  },
  {
   "cell_type": "code",
   "execution_count": null,
   "metadata": {
    "execution": {
     "iopub.execute_input": "2021-08-31T15:44:58.635938Z",
     "iopub.status.busy": "2021-08-31T15:44:58.635581Z",
     "iopub.status.idle": "2021-08-31T15:44:58.637488Z",
     "shell.execute_reply": "2021-08-31T15:44:58.637775Z"
    }
   },
   "outputs": [],
   "source": [
    "# To access the individual components of a dataset, eg counts, you can simply\n",
    "dataset.background"
   ]
  },
  {
   "cell_type": "markdown",
   "metadata": {},
   "source": [
    "`Dataset.background` contains the background map computed from the IRF.\n",
    "To see the model corrected background, use `dataset.npred_background()`"
   ]
  },
  {
   "cell_type": "markdown",
   "metadata": {},
   "source": [
    "To explore the contents of a `Dataset`, you can simply"
   ]
  },
  {
   "cell_type": "code",
   "execution_count": null,
   "metadata": {
    "execution": {
     "iopub.execute_input": "2021-08-31T15:44:58.639948Z",
     "iopub.status.busy": "2021-08-31T15:44:58.639592Z",
     "iopub.status.idle": "2021-08-31T15:44:58.657748Z",
     "shell.execute_reply": "2021-08-31T15:44:58.657347Z"
    }
   },
   "outputs": [],
   "source": [
    "print(dataset)"
   ]
  },
  {
   "cell_type": "code",
   "execution_count": null,
   "metadata": {
    "execution": {
     "iopub.execute_input": "2021-08-31T15:44:58.660011Z",
     "iopub.status.busy": "2021-08-31T15:44:58.659655Z",
     "iopub.status.idle": "2021-08-31T15:44:58.676672Z",
     "shell.execute_reply": "2021-08-31T15:44:58.676993Z"
    }
   },
   "outputs": [],
   "source": [
    "# For a quick info, use\n",
    "dataset.info_dict()"
   ]
  },
  {
   "cell_type": "markdown",
   "metadata": {},
   "source": [
    "### Using masks\n",
    "\n",
    "There are two masks that can be set on a `Dataset`, `mask_safe` and `mask_fit`. \n",
    "\n",
    "- The `mask_safe` is computed during the data reduction process according to the specified selection cuts, and should not be changed by the user.\n",
    "- During modelling and fitting, the user might want to additionally ignore some parts of a reduced dataset, e.g. to restrict the fit to a specific energy range or to ignore parts of the region of interest. This should be done bu applying the `mask_fit`. To details of applying masks, please refer to [Masks-for-fitting](mask_maps.ipynb#Masks-for-fitting:-mask_fit)\n",
    "\n",
    "Both the `mask_fit` and `mask_safe` must have the safe `geom` as the `counts` and `background` maps."
   ]
  },
  {
   "cell_type": "code",
   "execution_count": null,
   "metadata": {
    "execution": {
     "iopub.execute_input": "2021-08-31T15:44:58.689248Z",
     "iopub.status.busy": "2021-08-31T15:44:58.688885Z",
     "iopub.status.idle": "2021-08-31T15:44:59.266850Z",
     "shell.execute_reply": "2021-08-31T15:44:59.267146Z"
    }
   },
   "outputs": [],
   "source": [
    "# eg: to see the safe data range\n",
    "dataset.mask_safe.plot_interactive(add_cbar=True);"
   ]
  },
  {
   "cell_type": "code",
   "execution_count": null,
   "metadata": {
    "execution": {
     "iopub.execute_input": "2021-08-31T15:44:59.271898Z",
     "iopub.status.busy": "2021-08-31T15:44:59.271573Z",
     "iopub.status.idle": "2021-08-31T15:45:03.682747Z",
     "shell.execute_reply": "2021-08-31T15:45:03.682380Z"
    }
   },
   "outputs": [],
   "source": [
    "# To apply a mask fit - in enegy and space\n",
    "region = CircleSkyRegion(\n",
    "    SkyCoord(2.1, 1.5, unit=\"deg\", frame=\"galactic\"), 0.7 * u.deg\n",
    ")\n",
    "mask_space = dataset.geoms[\"geom\"].region_mask([region], inside=False)\n",
    "mask_energy = dataset.geoms[\"geom\"].energy_mask(0.6 * u.TeV, 4 * u.TeV)\n",
    "mask = mask_space & mask_energy  # standard binary operations allowed on masks\n",
    "dataset.mask_fit = mask\n",
    "dataset.mask_fit.plot_grid();"
   ]
  },
  {
   "cell_type": "markdown",
   "metadata": {},
   "source": [
    "To see the allowed energy ranges, you can use\n",
    "- `dataset.energy_range_safe` : energy range allowed by the `mask_safe`\n",
    "- `dataset.energy_range_fit` : energy range allowed by the `mask_fit`\n",
    "- `dataset.energy_range` : the final energy range used in likelihood computation\n",
    "\n",
    "These methods return two maps, with the `min` and `max` energy values at each spatial pixel"
   ]
  },
  {
   "cell_type": "code",
   "execution_count": null,
   "metadata": {
    "execution": {
     "iopub.execute_input": "2021-08-31T15:45:03.685746Z",
     "iopub.status.busy": "2021-08-31T15:45:03.685390Z",
     "iopub.status.idle": "2021-08-31T15:45:03.692678Z",
     "shell.execute_reply": "2021-08-31T15:45:03.692307Z"
    }
   },
   "outputs": [],
   "source": [
    "dataset.energy_range"
   ]
  },
  {
   "cell_type": "code",
   "execution_count": null,
   "metadata": {
    "execution": {
     "iopub.execute_input": "2021-08-31T15:45:03.695629Z",
     "iopub.status.busy": "2021-08-31T15:45:03.695277Z",
     "iopub.status.idle": "2021-08-31T15:45:04.262777Z",
     "shell.execute_reply": "2021-08-31T15:45:04.262463Z"
    }
   },
   "outputs": [],
   "source": [
    "dataset.energy_range[0].plot(add_cbar=True)"
   ]
  },
  {
   "cell_type": "markdown",
   "metadata": {},
   "source": [
    "## SpectrumDataset\n",
    "\n",
    "`SpectrumDataset` inherits from a `MapDataset`, and is specially adapted for 1D spectral analysis, and uses a `RegionGeom` instead of a `WcsGeom`. \n",
    "A `MapDatset` can be converted to a `SpectrumDataset`, by summing the `counts` and `background` inside the `on_region`, which can then be used for classical spectral analysis. Containment correction is feasible only for circular regions."
   ]
  },
  {
   "cell_type": "code",
   "execution_count": null,
   "metadata": {
    "execution": {
     "iopub.execute_input": "2021-08-31T15:45:04.283793Z",
     "iopub.status.busy": "2021-08-31T15:45:04.283434Z",
     "iopub.status.idle": "2021-08-31T15:45:04.447700Z",
     "shell.execute_reply": "2021-08-31T15:45:04.448026Z"
    }
   },
   "outputs": [],
   "source": [
    "on_region = CircleSkyRegion(\n",
    "    SkyCoord(0, 0, unit=\"deg\", frame=\"galactic\"), 0.5 * u.deg\n",
    ")\n",
    "spectrum_dataset = dataset.to_spectrum_dataset(\n",
    "    on_region, containment_correction=True\n",
    ")"
   ]
  },
  {
   "cell_type": "code",
   "execution_count": null,
   "metadata": {
    "execution": {
     "iopub.execute_input": "2021-08-31T15:45:04.487557Z",
     "iopub.status.busy": "2021-08-31T15:45:04.469889Z",
     "iopub.status.idle": "2021-08-31T15:45:05.691669Z",
     "shell.execute_reply": "2021-08-31T15:45:05.691355Z"
    }
   },
   "outputs": [],
   "source": [
    "spectrum_dataset.peek()"
   ]
  },
  {
   "cell_type": "markdown",
   "metadata": {},
   "source": [
    "A `MapDataset` can also be integrated over the `on_region` to create a `MapDataset` with a `RegionGeom`. Complex regions can be handled and since the full IRFs are used, containment correction is not required. "
   ]
  },
  {
   "cell_type": "code",
   "execution_count": null,
   "metadata": {
    "execution": {
     "iopub.execute_input": "2021-08-31T15:45:05.712638Z",
     "iopub.status.busy": "2021-08-31T15:45:05.712263Z",
     "iopub.status.idle": "2021-08-31T15:45:05.864066Z",
     "shell.execute_reply": "2021-08-31T15:45:05.863719Z"
    }
   },
   "outputs": [],
   "source": [
    "reg_dataset = dataset.to_region_map_dataset(on_region, name=\"RegionMapDS\")\n",
    "print(reg_dataset)"
   ]
  },
  {
   "cell_type": "markdown",
   "metadata": {},
   "source": [
    "## FluxPointsDataset\n",
    "\n",
    "`FluxPointsDataset` is a `Dataset` container for precomputed flux points, which can be then used in fitting.\n",
    "`FluxPointsDataset` cannot be read directly, but should be read through `FluxPoints`, with an additional `SkyModel`. Similarly, `FluxPointsDataset.write` only saves the `data` component to disc. "
   ]
  },
  {
   "cell_type": "code",
   "execution_count": null,
   "metadata": {
    "execution": {
     "iopub.execute_input": "2021-08-31T15:45:05.866979Z",
     "iopub.status.busy": "2021-08-31T15:45:05.866617Z",
     "iopub.status.idle": "2021-08-31T15:45:05.886332Z",
     "shell.execute_reply": "2021-08-31T15:45:05.885915Z"
    }
   },
   "outputs": [],
   "source": [
    "flux_points = FluxPoints.read(\n",
    "    \"$GAMMAPY_DATA/tests/spectrum/flux_points/diff_flux_points.fits\"\n",
    ")\n",
    "model = SkyModel(spectral_model=PowerLawSpectralModel())\n",
    "fp_dataset = FluxPointsDataset(data=flux_points, models=model)"
   ]
  },
  {
   "cell_type": "markdown",
   "metadata": {},
   "source": [
    "The masks on `FluxPointsDataset` are `np.array` and the data is a `FluxPoints` object. The `mask_safe`, by default, masks the upper limit points"
   ]
  },
  {
   "cell_type": "code",
   "execution_count": null,
   "metadata": {
    "execution": {
     "iopub.execute_input": "2021-08-31T15:45:05.889357Z",
     "iopub.status.busy": "2021-08-31T15:45:05.889008Z",
     "iopub.status.idle": "2021-08-31T15:45:05.891230Z",
     "shell.execute_reply": "2021-08-31T15:45:05.890873Z"
    }
   },
   "outputs": [],
   "source": [
    "fp_dataset.mask_safe"
   ]
  },
  {
   "cell_type": "code",
   "execution_count": null,
   "metadata": {
    "execution": {
     "iopub.execute_input": "2021-08-31T15:45:05.893531Z",
     "iopub.status.busy": "2021-08-31T15:45:05.893183Z",
     "iopub.status.idle": "2021-08-31T15:45:05.895466Z",
     "shell.execute_reply": "2021-08-31T15:45:05.895108Z"
    }
   },
   "outputs": [],
   "source": [
    "fp_dataset.data_shape()  # number of FluxPoints"
   ]
  },
  {
   "cell_type": "code",
   "execution_count": null,
   "metadata": {
    "execution": {
     "iopub.execute_input": "2021-08-31T15:45:05.897770Z",
     "iopub.status.busy": "2021-08-31T15:45:05.897422Z",
     "iopub.status.idle": "2021-08-31T15:45:05.899481Z",
     "shell.execute_reply": "2021-08-31T15:45:05.899777Z"
    }
   },
   "outputs": [],
   "source": [
    "fp_dataset.stat_type  # uses chi2 statistics"
   ]
  },
  {
   "cell_type": "markdown",
   "metadata": {},
   "source": [
    "## Datasets"
   ]
  },
  {
   "cell_type": "markdown",
   "metadata": {},
   "source": [
    "`Datasets` are a collection of `Dataset` objects. They can be of the same type, or of different types, eg: mix of `FluxPointDataset`, `MapDataset` and `SpectrumDataset`.\n",
    "\n",
    "- As an example of using different types of datasets, please see the [joint fitting tutorial](../3D/analysis_mwl.ipynb)\n",
    "- To see how multiple models interact with multiple datasets, see, [model management](model_management.ipynb)"
   ]
  }
 ],
 "metadata": {
  "kernelspec": {
   "display_name": "Python 3",
   "language": "python",
   "name": "python3"
  },
  "language_info": {
   "codemirror_mode": {
    "name": "ipython",
    "version": 3
   },
   "file_extension": ".py",
   "mimetype": "text/x-python",
   "name": "python",
   "nbconvert_exporter": "python",
   "pygments_lexer": "ipython3",
   "version": "3.7.0"
  },
  "widgets": {
   "application/vnd.jupyter.widget-state+json": {
    "state": {
     "074169b1a4594e3e99ceb45bbf0904c1": {
      "model_module": "@jupyter-widgets/base",
      "model_module_version": "1.2.0",
      "model_name": "LayoutModel",
      "state": {
       "_model_module": "@jupyter-widgets/base",
       "_model_module_version": "1.2.0",
       "_model_name": "LayoutModel",
       "_view_count": null,
       "_view_module": "@jupyter-widgets/base",
       "_view_module_version": "1.2.0",
       "_view_name": "LayoutView",
       "align_content": null,
       "align_items": null,
       "align_self": null,
       "border": null,
       "bottom": null,
       "display": null,
       "flex": null,
       "flex_flow": null,
       "grid_area": null,
       "grid_auto_columns": null,
       "grid_auto_flow": null,
       "grid_auto_rows": null,
       "grid_column": null,
       "grid_gap": null,
       "grid_row": null,
       "grid_template_areas": null,
       "grid_template_columns": null,
       "grid_template_rows": null,
       "height": null,
       "justify_content": null,
       "justify_items": null,
       "left": null,
       "margin": null,
       "max_height": null,
       "max_width": null,
       "min_height": null,
       "min_width": null,
       "object_fit": null,
       "object_position": null,
       "order": null,
       "overflow": null,
       "overflow_x": null,
       "overflow_y": null,
       "padding": null,
       "right": null,
       "top": null,
       "visibility": null,
       "width": null
      }
     },
     "1fae437973ad449aa186429576ad7e7e": {
      "model_module": "@jupyter-widgets/controls",
      "model_module_version": "1.5.0",
      "model_name": "RadioButtonsModel",
      "state": {
       "_dom_classes": [],
       "_model_module": "@jupyter-widgets/controls",
       "_model_module_version": "1.5.0",
       "_model_name": "RadioButtonsModel",
       "_options_labels": [
        "linear",
        "sqrt",
        "log"
       ],
       "_view_count": null,
       "_view_module": "@jupyter-widgets/controls",
       "_view_module_version": "1.5.0",
       "_view_name": "RadioButtonsView",
       "description": "Select stretch:",
       "description_tooltip": null,
       "disabled": false,
       "index": 1,
       "layout": "IPY_MODEL_cbcf51e260244a4d85bc23087de5e813",
       "style": "IPY_MODEL_bebada99e0044bc4b05a44477928a7e5"
      }
     },
     "60e698fc5e2947e78c84d79231d00f65": {
      "model_module": "@jupyter-widgets/controls",
      "model_module_version": "1.5.0",
      "model_name": "DescriptionStyleModel",
      "state": {
       "_model_module": "@jupyter-widgets/controls",
       "_model_module_version": "1.5.0",
       "_model_name": "DescriptionStyleModel",
       "_view_count": null,
       "_view_module": "@jupyter-widgets/base",
       "_view_module_version": "1.2.0",
       "_view_name": "StyleView",
       "description_width": "initial"
      }
     },
     "8384da2160ad44b8be225a567232478a": {
      "model_module": "@jupyter-widgets/controls",
      "model_module_version": "1.5.0",
      "model_name": "SelectionSliderModel",
      "state": {
       "_dom_classes": [],
       "_model_module": "@jupyter-widgets/controls",
       "_model_module_version": "1.5.0",
       "_model_name": "SelectionSliderModel",
       "_options_labels": [
        "1.00e-01 TeV - 1.58e-01 TeV",
        "1.58e-01 TeV - 2.51e-01 TeV",
        "2.51e-01 TeV - 3.98e-01 TeV",
        "3.98e-01 TeV - 6.31e-01 TeV",
        "6.31e-01 TeV - 1.00e+00 TeV",
        "1.00e+00 TeV - 1.58e+00 TeV",
        "1.58e+00 TeV - 2.51e+00 TeV",
        "2.51e+00 TeV - 3.98e+00 TeV",
        "3.98e+00 TeV - 6.31e+00 TeV",
        "6.31e+00 TeV - 1.00e+01 TeV"
       ],
       "_view_count": null,
       "_view_module": "@jupyter-widgets/controls",
       "_view_module_version": "1.5.0",
       "_view_name": "SelectionSliderView",
       "continuous_update": false,
       "description": "Select energy:",
       "description_tooltip": null,
       "disabled": false,
       "index": 0,
       "layout": "IPY_MODEL_a498454654ad4866b67a5f1b4f861346",
       "orientation": "horizontal",
       "readout": true,
       "style": "IPY_MODEL_60e698fc5e2947e78c84d79231d00f65"
      }
     },
     "a498454654ad4866b67a5f1b4f861346": {
      "model_module": "@jupyter-widgets/base",
      "model_module_version": "1.2.0",
      "model_name": "LayoutModel",
      "state": {
       "_model_module": "@jupyter-widgets/base",
       "_model_module_version": "1.2.0",
       "_model_name": "LayoutModel",
       "_view_count": null,
       "_view_module": "@jupyter-widgets/base",
       "_view_module_version": "1.2.0",
       "_view_name": "LayoutView",
       "align_content": null,
       "align_items": null,
       "align_self": null,
       "border": null,
       "bottom": null,
       "display": null,
       "flex": null,
       "flex_flow": null,
       "grid_area": null,
       "grid_auto_columns": null,
       "grid_auto_flow": null,
       "grid_auto_rows": null,
       "grid_column": null,
       "grid_gap": null,
       "grid_row": null,
       "grid_template_areas": null,
       "grid_template_columns": null,
       "grid_template_rows": null,
       "height": null,
       "justify_content": null,
       "justify_items": null,
       "left": null,
       "margin": null,
       "max_height": null,
       "max_width": null,
       "min_height": null,
       "min_width": null,
       "object_fit": null,
       "object_position": null,
       "order": null,
       "overflow": null,
       "overflow_x": null,
       "overflow_y": null,
       "padding": null,
       "right": null,
       "top": null,
       "visibility": null,
       "width": "50%"
      }
     },
     "a77fae82f00e4d5f9c8b4b2a2886b7b3": {
      "model_module": "@jupyter-widgets/base",
      "model_module_version": "1.2.0",
      "model_name": "LayoutModel",
      "state": {
       "_model_module": "@jupyter-widgets/base",
       "_model_module_version": "1.2.0",
       "_model_name": "LayoutModel",
       "_view_count": null,
       "_view_module": "@jupyter-widgets/base",
       "_view_module_version": "1.2.0",
       "_view_name": "LayoutView",
       "align_content": null,
       "align_items": null,
       "align_self": null,
       "border": null,
       "bottom": null,
       "display": null,
       "flex": null,
       "flex_flow": null,
       "grid_area": null,
       "grid_auto_columns": null,
       "grid_auto_flow": null,
       "grid_auto_rows": null,
       "grid_column": null,
       "grid_gap": null,
       "grid_row": null,
       "grid_template_areas": null,
       "grid_template_columns": null,
       "grid_template_rows": null,
       "height": null,
       "justify_content": null,
       "justify_items": null,
       "left": null,
       "margin": null,
       "max_height": null,
       "max_width": null,
       "min_height": null,
       "min_width": null,
       "object_fit": null,
       "object_position": null,
       "order": null,
       "overflow": null,
       "overflow_x": null,
       "overflow_y": null,
       "padding": null,
       "right": null,
       "top": null,
       "visibility": null,
       "width": null
      }
     },
     "ad0fbcf9ac6e499e9545381deed14a25": {
      "model_module": "@jupyter-widgets/output",
      "model_module_version": "1.0.0",
      "model_name": "OutputModel",
      "state": {
       "_dom_classes": [],
       "_model_module": "@jupyter-widgets/output",
       "_model_module_version": "1.0.0",
       "_model_name": "OutputModel",
       "_view_count": null,
       "_view_module": "@jupyter-widgets/output",
       "_view_module_version": "1.0.0",
       "_view_name": "OutputView",
       "layout": "IPY_MODEL_a77fae82f00e4d5f9c8b4b2a2886b7b3",
       "msg_id": "",
       "outputs": [
        {
         "data": {
          "image/png": "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\n",
          "text/plain": "<Figure size 432x288 with 2 Axes>"
         },
         "metadata": {
          "needs_background": "light"
         },
         "output_type": "display_data"
        }
       ]
      }
     },
     "bebada99e0044bc4b05a44477928a7e5": {
      "model_module": "@jupyter-widgets/controls",
      "model_module_version": "1.5.0",
      "model_name": "DescriptionStyleModel",
      "state": {
       "_model_module": "@jupyter-widgets/controls",
       "_model_module_version": "1.5.0",
       "_model_name": "DescriptionStyleModel",
       "_view_count": null,
       "_view_module": "@jupyter-widgets/base",
       "_view_module_version": "1.2.0",
       "_view_name": "StyleView",
       "description_width": "initial"
      }
     },
     "c9fe89985f624150ae3ac322cb5d468d": {
      "model_module": "@jupyter-widgets/controls",
      "model_module_version": "1.5.0",
      "model_name": "VBoxModel",
      "state": {
       "_dom_classes": [
        "widget-interact"
       ],
       "_model_module": "@jupyter-widgets/controls",
       "_model_module_version": "1.5.0",
       "_model_name": "VBoxModel",
       "_view_count": null,
       "_view_module": "@jupyter-widgets/controls",
       "_view_module_version": "1.5.0",
       "_view_name": "VBoxView",
       "box_style": "",
       "children": [
        "IPY_MODEL_8384da2160ad44b8be225a567232478a",
        "IPY_MODEL_1fae437973ad449aa186429576ad7e7e",
        "IPY_MODEL_ad0fbcf9ac6e499e9545381deed14a25"
       ],
       "layout": "IPY_MODEL_074169b1a4594e3e99ceb45bbf0904c1"
      }
     },
     "cbcf51e260244a4d85bc23087de5e813": {
      "model_module": "@jupyter-widgets/base",
      "model_module_version": "1.2.0",
      "model_name": "LayoutModel",
      "state": {
       "_model_module": "@jupyter-widgets/base",
       "_model_module_version": "1.2.0",
       "_model_name": "LayoutModel",
       "_view_count": null,
       "_view_module": "@jupyter-widgets/base",
       "_view_module_version": "1.2.0",
       "_view_name": "LayoutView",
       "align_content": null,
       "align_items": null,
       "align_self": null,
       "border": null,
       "bottom": null,
       "display": null,
       "flex": null,
       "flex_flow": null,
       "grid_area": null,
       "grid_auto_columns": null,
       "grid_auto_flow": null,
       "grid_auto_rows": null,
       "grid_column": null,
       "grid_gap": null,
       "grid_row": null,
       "grid_template_areas": null,
       "grid_template_columns": null,
       "grid_template_rows": null,
       "height": null,
       "justify_content": null,
       "justify_items": null,
       "left": null,
       "margin": null,
       "max_height": null,
       "max_width": null,
       "min_height": null,
       "min_width": null,
       "object_fit": null,
       "object_position": null,
       "order": null,
       "overflow": null,
       "overflow_x": null,
       "overflow_y": null,
       "padding": null,
       "right": null,
       "top": null,
       "visibility": null,
       "width": null
      }
     }
    },
    "version_major": 2,
    "version_minor": 0
   }
  }
 },
 "nbformat": 4,
 "nbformat_minor": 4
}

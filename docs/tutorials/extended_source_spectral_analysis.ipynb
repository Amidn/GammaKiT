{
 "cells": [
  {
   "cell_type": "markdown",
   "metadata": {},
   "source": [
    "# Spectral analysis of extended sources\n",
    "\n",
    "## Prerequisites:\n",
    "\n",
    "- Understanding of spectral analysis techniques in classical Cherenkov astronomy.\n",
    "- Understanding of how the spectrum and cube extraction API works, please refer to the [spectrum extraction notebook](spectrum_analysis.ipynb) and to the [3D analysis notebook](analysis_2.ipynb).\n",
    "\n",
    "## Context\n",
    "\n",
    "Many VHE sources in the Galaxy are extended. Studying them with a 1D spectral analysis is more complex than studying point sources. \n",
    "One often has to use complex (i.e. non circular) regions and more importantly, one has to take into account the fact that the instrument response is non uniform over the selectred region.\n",
    "A typical example is given by the supernova remnant RX J1713-3935 which is nearly 1 degree in diameter. See the [following article](https://ui.adsabs.harvard.edu/abs/2018A%26A...612A...6H/abstract).\n",
    "\n",
    "**Objective: Measure the spectrum of RX J1713-3945 in a 1 degree region fully enclosing it.**\n",
    "\n",
    "## Proposed approach:\n",
    "\n",
    "We have seen in the general presentation of the spectrum extraction for point sources, see [the corresponding notebook](spectrum_analysis.ipynb), that Gammapy uses specific datasets makers to first produce reduced spectral data and then to extract OFF measurements with reflected background techniques: the `~gammapy.makers.SpectrumDatasetMaker` and the `~gammapy.makers.ReflectedRegionsBackgroundMaker`. However if the flag `use_region_center` is not set to `False`, the former simply computes the reduced IRFs at the center of the ON region (assumed to be circular).\n",
    "\n",
    "This is no longer valid for extended sources. To be able to compute average responses in the ON region, Gammapy allows for two approaches. One relies on the creation of a cube enclosing it (i.e. a `~gammapy.datasets.MapDataset`) which can be reduced to a simple spectrum (i.e. a `~gammapy.datasets.SpectrumDataset`). We can then proceed with the OFF extraction as the standard point source case. We will refer to this as the **3D approach**.\n",
    "\n",
    "Alternatively, we can set `use_region_center=False` with the `~gammapy.makers.SpectrumDatasetMaker`, in which case the values of the IRFs are averaged over the entire region. We will refer to this as the **1D approach**. Both approaches are equivalent and should yield the same results. \n",
    "\n",
    "Below we will show both approaches, using the RX J1713-3945 observations from the H.E.S.S. first public test data release. The tutorial is implemented with the intermediate level API.\n",
    "\n",
    "## Setup \n",
    "\n",
    "As usual, we'll start with some general imports..."
   ]
  },
  {
   "cell_type": "code",
   "execution_count": null,
   "metadata": {
    "execution": {
     "iopub.execute_input": "2021-02-09T17:05:40.146978Z",
     "iopub.status.busy": "2021-02-09T17:05:40.144510Z",
     "iopub.status.idle": "2021-02-09T17:05:40.504114Z",
     "shell.execute_reply": "2021-02-09T17:05:40.503567Z"
    }
   },
   "outputs": [],
   "source": [
    "%matplotlib inline\n",
    "import matplotlib.pyplot as plt"
   ]
  },
  {
   "cell_type": "code",
   "execution_count": null,
   "metadata": {
    "execution": {
     "iopub.execute_input": "2021-02-09T17:05:40.508963Z",
     "iopub.status.busy": "2021-02-09T17:05:40.508254Z",
     "iopub.status.idle": "2021-02-09T17:05:41.417321Z",
     "shell.execute_reply": "2021-02-09T17:05:41.416219Z"
    }
   },
   "outputs": [],
   "source": [
    "import astropy.units as u\n",
    "from astropy.coordinates import SkyCoord, Angle\n",
    "from regions import CircleSkyRegion\n",
    "from gammapy.maps import Map, MapAxis, WcsGeom\n",
    "from gammapy.modeling import Fit\n",
    "from gammapy.data import DataStore\n",
    "from gammapy.modeling.models import PowerLawSpectralModel, SkyModel\n",
    "from gammapy.datasets import Datasets, MapDataset\n",
    "from gammapy.makers import (\n",
    "    SafeMaskMaker,\n",
    "    MapDatasetMaker,\n",
    "    ReflectedRegionsBackgroundMaker,\n",
    ")"
   ]
  },
  {
   "cell_type": "markdown",
   "metadata": {},
   "source": [
    "# 3D analysis\n",
    "## Proposed approach:\n",
    "For this case, we have to:\n",
    "\n",
    "- Define an ON region (a `~regions.SkyRegion`) fully enclosing the source we want to study.\n",
    "- Define a geometry that fully contains the region and that covers the required energy range (beware in particular, the true energy range).  \n",
    "- Create the necessary makers : \n",
    "    - the map dataset maker : `~gammapy.makers.MapDatasetMaker`\n",
    "    - the OFF background maker, here a `~gammapy.makers.ReflectedRegionsBackgroundMaker`\n",
    "    - and usually the safe range maker : `~gammapy.makers.SafeRangeMaker`\n",
    "- Perform the data reduction loop. And for every observation:\n",
    "    - Produce a map dataset and squeeze it to a spectrum dataset with `~gammapy.datasets.MapDataset.to_spectrum_dataset(on_region)`\n",
    "    - Extract the OFF data to produce a `~gammapy.datasets.SpectrumDatasetOnOff` and compute a safe range for it.\n",
    "    - Stack or store the resulting spectrum dataset.\n",
    "- Finally proceed with model fitting on the dataset as usual.\n"
   ]
  },
  {
   "cell_type": "markdown",
   "metadata": {},
   "source": [
    "## Select the data\n",
    "\n",
    "We first set the datastore and retrieve a few observations from our source."
   ]
  },
  {
   "cell_type": "code",
   "execution_count": null,
   "metadata": {
    "execution": {
     "iopub.execute_input": "2021-02-09T17:05:41.427785Z",
     "iopub.status.busy": "2021-02-09T17:05:41.426740Z",
     "iopub.status.idle": "2021-02-09T17:05:41.470575Z",
     "shell.execute_reply": "2021-02-09T17:05:41.470121Z"
    }
   },
   "outputs": [],
   "source": [
    "datastore = DataStore.from_dir(\"$GAMMAPY_DATA/hess-dl3-dr1/\")\n",
    "obs_ids = [20326, 20327, 20349, 20350, 20396, 20397]\n",
    "# In case you want to use all RX J1713 data in the HESS DR1\n",
    "# other_ids=[20421, 20422, 20517, 20518, 20519, 20521, 20898, 20899, 20900]\n",
    "\n",
    "observations = datastore.get_observations(obs_ids)"
   ]
  },
  {
   "cell_type": "markdown",
   "metadata": {},
   "source": [
    "## Prepare the datasets creation"
   ]
  },
  {
   "cell_type": "markdown",
   "metadata": {},
   "source": [
    "### Select the ON region\n",
    "\n",
    "Here we take a simple 1 degree circular region because it fits well with the morphology of RX J1713-3945. More complex regions could be used e.g. `~regions.EllipseSkyRegion` or `~regions.RectangleSkyRegion`."
   ]
  },
  {
   "cell_type": "code",
   "execution_count": null,
   "metadata": {
    "execution": {
     "iopub.execute_input": "2021-02-09T17:05:41.474872Z",
     "iopub.status.busy": "2021-02-09T17:05:41.474357Z",
     "iopub.status.idle": "2021-02-09T17:05:41.476578Z",
     "shell.execute_reply": "2021-02-09T17:05:41.476149Z"
    }
   },
   "outputs": [],
   "source": [
    "target_position = SkyCoord(347.3, -0.5, unit=\"deg\", frame=\"galactic\")\n",
    "radius = Angle(\"0.5 deg\")\n",
    "on_region = CircleSkyRegion(target_position, radius)"
   ]
  },
  {
   "cell_type": "markdown",
   "metadata": {},
   "source": [
    "### Define the geometries\n",
    "\n",
    "This part is especially important. \n",
    "- We have to define first energy axes. They define the axes of the resulting `~gammapy.datasets.SpectrumDatasetOnOff`. In particular, we have to be careful to the true energy axis: it has to cover a larger range than the reconstructed energy one.\n",
    "- Then we define the geometry itself. It does not need to be very finely binned and should enclose all the ON region. To limit CPU and memory usage, one should avoid using a much larger region."
   ]
  },
  {
   "cell_type": "code",
   "execution_count": null,
   "metadata": {
    "execution": {
     "iopub.execute_input": "2021-02-09T17:05:41.482799Z",
     "iopub.status.busy": "2021-02-09T17:05:41.482277Z",
     "iopub.status.idle": "2021-02-09T17:05:41.484511Z",
     "shell.execute_reply": "2021-02-09T17:05:41.484073Z"
    }
   },
   "outputs": [],
   "source": [
    "# The binning of the final spectrum is defined here.\n",
    "energy_axis = MapAxis.from_energy_bounds(0.3, 40.0, 10, unit=\"TeV\")\n",
    "\n",
    "# Reduced IRFs are defined in true energy (i.e. not measured energy).\n",
    "energy_axis_true = MapAxis.from_energy_bounds(\n",
    "    0.05, 100, 30, unit=\"TeV\", name=\"energy_true\"\n",
    ")\n",
    "\n",
    "# Here we use 1.5 degree which is slightly larger than needed.\n",
    "geom = WcsGeom.create(\n",
    "    skydir=target_position,\n",
    "    binsz=0.01,\n",
    "    width=(1.5, 1.5),\n",
    "    frame=\"galactic\",\n",
    "    proj=\"CAR\",\n",
    "    axes=[energy_axis],\n",
    ")"
   ]
  },
  {
   "cell_type": "markdown",
   "metadata": {},
   "source": [
    "### Create the makers\n",
    "\n",
    "First we instantiate the target `~gammapy.datasets.MapDataset`.  "
   ]
  },
  {
   "cell_type": "code",
   "execution_count": null,
   "metadata": {
    "execution": {
     "iopub.execute_input": "2021-02-09T17:05:41.491473Z",
     "iopub.status.busy": "2021-02-09T17:05:41.490767Z",
     "iopub.status.idle": "2021-02-09T17:05:41.498130Z",
     "shell.execute_reply": "2021-02-09T17:05:41.498570Z"
    }
   },
   "outputs": [],
   "source": [
    "stacked = MapDataset.create(\n",
    "    geom=geom, energy_axis_true=energy_axis_true, name=\"rxj-stacked\"\n",
    ")"
   ]
  },
  {
   "cell_type": "markdown",
   "metadata": {},
   "source": [
    "Now we create its associated maker. Here we need to produce, counts, exposure and edisp (energy dispersion) entries. PSF and IRF background are not needed, therefore we don't compute them."
   ]
  },
  {
   "cell_type": "code",
   "execution_count": null,
   "metadata": {
    "execution": {
     "iopub.execute_input": "2021-02-09T17:05:41.511312Z",
     "iopub.status.busy": "2021-02-09T17:05:41.510841Z",
     "iopub.status.idle": "2021-02-09T17:05:41.513037Z",
     "shell.execute_reply": "2021-02-09T17:05:41.512600Z"
    }
   },
   "outputs": [],
   "source": [
    "maker = MapDatasetMaker(selection=[\"counts\", \"exposure\", \"edisp\"])"
   ]
  },
  {
   "cell_type": "markdown",
   "metadata": {},
   "source": [
    "Now we create the OFF background maker for the spectra. If we have an exclusion region, we have to pass it here. We also define the safe range maker."
   ]
  },
  {
   "cell_type": "code",
   "execution_count": null,
   "metadata": {
    "execution": {
     "iopub.execute_input": "2021-02-09T17:05:41.516499Z",
     "iopub.status.busy": "2021-02-09T17:05:41.516034Z",
     "iopub.status.idle": "2021-02-09T17:05:41.518233Z",
     "shell.execute_reply": "2021-02-09T17:05:41.517799Z"
    }
   },
   "outputs": [],
   "source": [
    "bkg_maker = ReflectedRegionsBackgroundMaker()\n",
    "safe_mask_maker = SafeMaskMaker(\n",
    "    methods=[\"aeff-default\", \"aeff-max\"], aeff_percent=10\n",
    ")"
   ]
  },
  {
   "cell_type": "markdown",
   "metadata": {},
   "source": [
    "## Perform the data reduction loop.\n",
    "\n",
    "We can now run over selected observations. For each of them, we:\n",
    "- create the map dataset and stack it on our target dataset.\n",
    "- squeeze the map dataset to a spectral dataset in the ON region\n",
    "- Compute the OFF and create a `~gammapy.datasets.SpectrumDatasetOnOff` object\n",
    "- Run the safe mask maker on it\n",
    "- Add the `~gammapy.datasets.SpectrumDatasetOnOff` to the list."
   ]
  },
  {
   "cell_type": "code",
   "execution_count": null,
   "metadata": {
    "execution": {
     "iopub.execute_input": "2021-02-09T17:05:41.530107Z",
     "iopub.status.busy": "2021-02-09T17:05:41.527402Z",
     "iopub.status.idle": "2021-02-09T17:05:45.860468Z",
     "shell.execute_reply": "2021-02-09T17:05:45.860026Z"
    }
   },
   "outputs": [],
   "source": [
    "%%time\n",
    "datasets = Datasets()\n",
    "\n",
    "for obs in observations:\n",
    "    # A MapDataset is filled in this geometry\n",
    "    dataset = maker.run(stacked, obs)\n",
    "    # To make images, the resulting dataset cutout is stacked onto the final one\n",
    "    stacked.stack(dataset)\n",
    "    # Extract 1D spectrum\n",
    "    spectrum_dataset = dataset.to_spectrum_dataset(\n",
    "        on_region, name=f\"obs-{obs.obs_id}\"\n",
    "    )\n",
    "\n",
    "    # Compute OFF\n",
    "    spectrum_dataset = bkg_maker.run(spectrum_dataset, obs)\n",
    "    # Define safe mask\n",
    "    spectrum_dataset = safe_mask_maker.run(spectrum_dataset, obs)\n",
    "    # Append dataset to the list\n",
    "\n",
    "    datasets.append(spectrum_dataset)"
   ]
  },
  {
   "cell_type": "code",
   "execution_count": null,
   "metadata": {},
   "outputs": [],
   "source": [
    "datasets.meta_table"
   ]
  },
  {
   "cell_type": "markdown",
   "metadata": {},
   "source": [
    "## Explore the results"
   ]
  },
  {
   "cell_type": "markdown",
   "metadata": {},
   "source": [
    "First let's look at the data to see if our region is correct.\n",
    "We plot it over the excess. To do so we convert it to a pixel region using the WCS information stored on the geom."
   ]
  },
  {
   "cell_type": "code",
   "execution_count": null,
   "metadata": {
    "execution": {
     "iopub.execute_input": "2021-02-09T17:05:45.864659Z",
     "iopub.status.busy": "2021-02-09T17:05:45.863896Z",
     "iopub.status.idle": "2021-02-09T17:05:46.089673Z",
     "shell.execute_reply": "2021-02-09T17:05:46.089283Z"
    },
    "nbsphinx-thumbnail": {
     "tooltip": "Measure the spectrum of RX J1713-3945 in a 1 degree region fully enclosing it."
    }
   },
   "outputs": [],
   "source": [
    "stacked.counts.sum_over_axes().smooth(width=\"0.05 deg\").plot()\n",
    "on_region.to_pixel(stacked.counts.geom.wcs).plot()"
   ]
  },
  {
   "cell_type": "markdown",
   "metadata": {},
   "source": [
    "We now turn to the spectral datasets. We can peek at their content:"
   ]
  },
  {
   "cell_type": "code",
   "execution_count": null,
   "metadata": {
    "execution": {
     "iopub.execute_input": "2021-02-09T17:05:46.113485Z",
     "iopub.status.busy": "2021-02-09T17:05:46.102866Z",
     "iopub.status.idle": "2021-02-09T17:05:47.343576Z",
     "shell.execute_reply": "2021-02-09T17:05:47.343232Z"
    }
   },
   "outputs": [],
   "source": [
    "datasets[0].peek()"
   ]
  },
  {
   "cell_type": "markdown",
   "metadata": {},
   "source": [
    "### Cumulative excess and signficance\n",
    "\n",
    "Finally, we can look at cumulative significance and number of excesses. This is done with the `info_table` method of `~gammapy.datasets.Datasets`. "
   ]
  },
  {
   "cell_type": "code",
   "execution_count": null,
   "metadata": {
    "execution": {
     "iopub.execute_input": "2021-02-09T17:05:47.413508Z",
     "iopub.status.busy": "2021-02-09T17:05:47.346628Z",
     "iopub.status.idle": "2021-02-09T17:05:47.546850Z",
     "shell.execute_reply": "2021-02-09T17:05:47.547232Z"
    }
   },
   "outputs": [],
   "source": [
    "info_table = datasets.info_table(cumulative=True)"
   ]
  },
  {
   "cell_type": "code",
   "execution_count": null,
   "metadata": {
    "execution": {
     "iopub.execute_input": "2021-02-09T17:05:47.554334Z",
     "iopub.status.busy": "2021-02-09T17:05:47.553441Z",
     "iopub.status.idle": "2021-02-09T17:05:47.556635Z",
     "shell.execute_reply": "2021-02-09T17:05:47.557403Z"
    }
   },
   "outputs": [],
   "source": [
    "info_table"
   ]
  },
  {
   "cell_type": "code",
   "execution_count": null,
   "metadata": {
    "execution": {
     "iopub.execute_input": "2021-02-09T17:05:47.599652Z",
     "iopub.status.busy": "2021-02-09T17:05:47.582537Z",
     "iopub.status.idle": "2021-02-09T17:05:47.853656Z",
     "shell.execute_reply": "2021-02-09T17:05:47.853263Z"
    }
   },
   "outputs": [],
   "source": [
    "fig = plt.figure(figsize=(10, 6))\n",
    "ax = fig.add_subplot(121)\n",
    "ax.plot(\n",
    "    info_table[\"livetime\"].to(\"h\"), info_table[\"excess\"], marker=\"o\", ls=\"none\"\n",
    ")\n",
    "plt.xlabel(\"Livetime [h]\")\n",
    "plt.ylabel(\"Excess events\")\n",
    "\n",
    "ax = fig.add_subplot(122)\n",
    "ax.plot(\n",
    "    info_table[\"livetime\"].to(\"h\"),\n",
    "    info_table[\"sqrt_ts\"],\n",
    "    marker=\"o\",\n",
    "    ls=\"none\",\n",
    ")\n",
    "plt.xlabel(\"Livetime [h]\")\n",
    "plt.ylabel(\"Sqrt(TS)\");"
   ]
  },
  {
   "cell_type": "markdown",
   "metadata": {},
   "source": [
    "## Perform spectral model fitting\n",
    "\n",
    "Here we perform a joint fit. \n",
    "\n",
    "We first create the model, here a simple powerlaw, and assign it to every dataset in the `~gammapy.datasets.Datasets`."
   ]
  },
  {
   "cell_type": "code",
   "execution_count": null,
   "metadata": {
    "execution": {
     "iopub.execute_input": "2021-02-09T17:05:47.863771Z",
     "iopub.status.busy": "2021-02-09T17:05:47.863374Z",
     "iopub.status.idle": "2021-02-09T17:05:47.864738Z",
     "shell.execute_reply": "2021-02-09T17:05:47.865048Z"
    }
   },
   "outputs": [],
   "source": [
    "spectral_model = PowerLawSpectralModel(\n",
    "    index=2, amplitude=2e-11 * u.Unit(\"cm-2 s-1 TeV-1\"), reference=1 * u.TeV\n",
    ")\n",
    "model = SkyModel(spectral_model=spectral_model, name=\"RXJ 1713\")\n",
    "\n",
    "datasets.models = [model]"
   ]
  },
  {
   "cell_type": "markdown",
   "metadata": {},
   "source": [
    "Now we can run the fit"
   ]
  },
  {
   "cell_type": "code",
   "execution_count": null,
   "metadata": {
    "execution": {
     "iopub.execute_input": "2021-02-09T17:05:47.868734Z",
     "iopub.status.busy": "2021-02-09T17:05:47.868331Z",
     "iopub.status.idle": "2021-02-09T17:05:48.606599Z",
     "shell.execute_reply": "2021-02-09T17:05:48.606213Z"
    }
   },
   "outputs": [],
   "source": [
    "fit_joint = Fit(datasets)\n",
    "result_joint = fit_joint.run()\n",
    "print(result_joint)"
   ]
  },
  {
   "cell_type": "markdown",
   "metadata": {},
   "source": [
    "### Explore the fit results\n",
    "\n",
    "First the fitted parameters values and their errors."
   ]
  },
  {
   "cell_type": "code",
   "execution_count": null,
   "metadata": {
    "execution": {
     "iopub.execute_input": "2021-02-09T17:05:48.611189Z",
     "iopub.status.busy": "2021-02-09T17:05:48.610826Z",
     "iopub.status.idle": "2021-02-09T17:05:48.612630Z",
     "shell.execute_reply": "2021-02-09T17:05:48.612919Z"
    }
   },
   "outputs": [],
   "source": [
    "result_joint.parameters.to_table()"
   ]
  },
  {
   "cell_type": "markdown",
   "metadata": {},
   "source": [
    "Then plot the fit result to compare measured and expected counts. Rather than plotting them for each individual dataset, we stack all datasets and plot the fit result on the result."
   ]
  },
  {
   "cell_type": "code",
   "execution_count": null,
   "metadata": {
    "execution": {
     "iopub.execute_input": "2021-02-09T17:05:48.761237Z",
     "iopub.status.busy": "2021-02-09T17:05:48.744184Z",
     "iopub.status.idle": "2021-02-09T17:05:49.436100Z",
     "shell.execute_reply": "2021-02-09T17:05:49.436392Z"
    }
   },
   "outputs": [],
   "source": [
    "# First stack them all\n",
    "reduced = datasets.stack_reduce()\n",
    "# Assign the fitted model\n",
    "reduced.models = model\n",
    "# Plot the result\n",
    "reduced.plot_fit();"
   ]
  },
  {
   "cell_type": "markdown",
   "metadata": {},
   "source": [
    "# 1D analysis\n",
    "## Proposed approach:\n",
    "For this case, we have to:\n",
    "\n",
    "- Define an ON region (a `~regions.SkyRegion`) fully enclosing the source we want to study.\n",
    "- Define a `~gammapy.maps.RegionGeom` with the ON region and the required energy range (beware in particular, the true energy range).  \n",
    "- Create the necessary makers : \n",
    "    - the spectrum dataset maker : `~gammapy.makers.SpectrumDatasetMaker`\n",
    "    - the OFF background maker, here a `~gammapy.makers.ReflectedRegionsBackgroundMaker`\n",
    "    - and usually the safe range maker : `~gammapy.makers.SafeRangeMaker`\n",
    "- Perform the data reduction loop. And for every observation:\n",
    "    - Produce a spectrum dataset\n",
    "    - Extract the OFF data to produce a `~gammapy.datasets.SpectrumDatasetOnOff` and compute a safe range for it.\n",
    "    - Stack or store the resulting spectrum dataset.\n",
    "- Finally proceed with model fitting on the dataset as usual.\n",
    "\n",
    "Note that many of the steps are exactly the same as for the first case. In fact, the only difference is the use of the `~gammapy.makers.SpectrumDatasetMaker` and the `~gammapy.maps.RegionGeom` replacing the map dataset maker and WCS geom from the 3D case.\n",
    "\n",
    "We start by adding necessary imports not covered above..."
   ]
  },
  {
   "cell_type": "code",
   "execution_count": null,
   "metadata": {
    "execution": {
     "iopub.execute_input": "2021-02-09T17:05:49.439138Z",
     "iopub.status.busy": "2021-02-09T17:05:49.438762Z",
     "iopub.status.idle": "2021-02-09T17:05:49.440269Z",
     "shell.execute_reply": "2021-02-09T17:05:49.440556Z"
    }
   },
   "outputs": [],
   "source": [
    "from gammapy.maps import RegionGeom\n",
    "from gammapy.makers import SpectrumDatasetMaker\n",
    "from gammapy.datasets import SpectrumDataset"
   ]
  },
  {
   "cell_type": "markdown",
   "metadata": {},
   "source": [
    "### Create the RegionGeom \n",
    "From the ON region with the corresponding energy axis"
   ]
  },
  {
   "cell_type": "code",
   "execution_count": null,
   "metadata": {
    "execution": {
     "iopub.execute_input": "2021-02-09T17:05:49.444731Z",
     "iopub.status.busy": "2021-02-09T17:05:49.444353Z",
     "iopub.status.idle": "2021-02-09T17:05:49.446210Z",
     "shell.execute_reply": "2021-02-09T17:05:49.445882Z"
    }
   },
   "outputs": [],
   "source": [
    "region_geom = RegionGeom(on_region, axes=[energy_axis])"
   ]
  },
  {
   "cell_type": "markdown",
   "metadata": {},
   "source": [
    "### Create the makers\n",
    "\n",
    "First we instantiate the target `~gammapy.datasets.SpectrumDataset`.  "
   ]
  },
  {
   "cell_type": "code",
   "execution_count": null,
   "metadata": {
    "execution": {
     "iopub.execute_input": "2021-02-09T17:05:49.451282Z",
     "iopub.status.busy": "2021-02-09T17:05:49.450869Z",
     "iopub.status.idle": "2021-02-09T17:05:49.455540Z",
     "shell.execute_reply": "2021-02-09T17:05:49.455851Z"
    }
   },
   "outputs": [],
   "source": [
    "spec_dataset_empty = SpectrumDataset.create(\n",
    "    geom=region_geom,\n",
    "    energy_axis_true=energy_axis_true,\n",
    ")"
   ]
  },
  {
   "cell_type": "markdown",
   "metadata": {},
   "source": [
    "Now we create its associated maker. Here we need to produce, counts, exposure and edisp (energy dispersion) entries. PSF and IRF background are not needed, therefore we don't compute them.\n",
    "\n",
    "**IMPORTANT**: Note that `use_region_center` is set to `False`. This is necessary so that the `~gammapy.makers.SpectrumDatasetMaker` considers the whole region in the IRF computation and not only the center."
   ]
  },
  {
   "cell_type": "code",
   "execution_count": null,
   "metadata": {
    "execution": {
     "iopub.execute_input": "2021-02-09T17:05:49.458901Z",
     "iopub.status.busy": "2021-02-09T17:05:49.458329Z",
     "iopub.status.idle": "2021-02-09T17:05:49.459896Z",
     "shell.execute_reply": "2021-02-09T17:05:49.460203Z"
    }
   },
   "outputs": [],
   "source": [
    "spec_maker = SpectrumDatasetMaker(\n",
    "    selection=[\"counts\", \"exposure\", \"edisp\"], use_region_center=False\n",
    ")"
   ]
  },
  {
   "cell_type": "markdown",
   "metadata": {},
   "source": [
    "## Perform the data reduction loop.\n",
    "\n",
    "We can now run over selected observations. For each of them, we:\n",
    "- create the `~gammapy.datasets.SpectrumDataset`\n",
    "- Compute the OFF and create a `~gammapy.datasets.SpectrumDatasetOnOff` object\n",
    "- Run the safe mask maker on it\n",
    "- Add the `~gammapy.datasets.SpectrumDatasetOnOff` to the list."
   ]
  },
  {
   "cell_type": "code",
   "execution_count": null,
   "metadata": {
    "execution": {
     "iopub.execute_input": "2021-02-09T17:05:49.467286Z",
     "iopub.status.busy": "2021-02-09T17:05:49.466771Z",
     "iopub.status.idle": "2021-02-09T17:05:52.711766Z",
     "shell.execute_reply": "2021-02-09T17:05:52.712063Z"
    }
   },
   "outputs": [],
   "source": [
    "%%time\n",
    "spec_datasets = Datasets()\n",
    "\n",
    "for obs in observations:\n",
    "\n",
    "    # A SpectrumDataset is filled in this geometry\n",
    "    spectrum_dataset = spec_maker.run(\n",
    "        spec_dataset_empty.copy(name=f\"obs-{obs.obs_id}\"), obs\n",
    "    )\n",
    "\n",
    "    # These makers are the same as for the case above\n",
    "    # Compute OFF\n",
    "    spectrum_dataset = bkg_maker.run(spectrum_dataset, obs)\n",
    "    # Define safe mask\n",
    "    spectrum_dataset = safe_mask_maker.run(spectrum_dataset, obs)\n",
    "    # Append dataset to the list\n",
    "    spec_datasets.append(spectrum_dataset)"
   ]
  },
  {
   "cell_type": "code",
   "execution_count": null,
   "metadata": {
    "execution": {
     "iopub.execute_input": "2021-02-09T17:05:52.717227Z",
     "iopub.status.busy": "2021-02-09T17:05:52.716848Z",
     "iopub.status.idle": "2021-02-09T17:05:52.718915Z",
     "shell.execute_reply": "2021-02-09T17:05:52.718601Z"
    }
   },
   "outputs": [],
   "source": [
    "spec_datasets.meta_table"
   ]
  },
  {
   "cell_type": "code",
   "execution_count": null,
   "metadata": {
    "execution": {
     "iopub.execute_input": "2021-02-09T17:05:52.743033Z",
     "iopub.status.busy": "2021-02-09T17:05:52.730619Z",
     "iopub.status.idle": "2021-02-09T17:05:53.692699Z",
     "shell.execute_reply": "2021-02-09T17:05:53.692317Z"
    },
    "scrolled": false
   },
   "outputs": [],
   "source": [
    "spec_datasets[0].peek()\n",
    "plt.show()"
   ]
  },
  {
   "cell_type": "markdown",
   "metadata": {},
   "source": [
    "### Cumulative excess and signficance\n",
    "\n",
    "Finally, we can look at cumulative significance and number of excesses. This is done with the `info_table` method of `~gammapy.datasets.Datasets`. We can compare the excess and significance evolution with the 3D approach"
   ]
  },
  {
   "cell_type": "code",
   "execution_count": null,
   "metadata": {
    "execution": {
     "iopub.execute_input": "2021-02-09T17:05:53.729843Z",
     "iopub.status.busy": "2021-02-09T17:05:53.695561Z",
     "iopub.status.idle": "2021-02-09T17:05:53.891086Z",
     "shell.execute_reply": "2021-02-09T17:05:53.890754Z"
    }
   },
   "outputs": [],
   "source": [
    "info_table_spec = spec_datasets.info_table(cumulative=True)"
   ]
  },
  {
   "cell_type": "code",
   "execution_count": null,
   "metadata": {
    "execution": {
     "iopub.execute_input": "2021-02-09T17:05:53.920222Z",
     "iopub.status.busy": "2021-02-09T17:05:53.906096Z",
     "iopub.status.idle": "2021-02-09T17:05:54.086979Z",
     "shell.execute_reply": "2021-02-09T17:05:54.086587Z"
    }
   },
   "outputs": [],
   "source": [
    "fig = plt.figure(figsize=(10, 6))\n",
    "ax = fig.add_subplot(121)\n",
    "ax.plot(\n",
    "    info_table[\"livetime\"].to(\"h\"),\n",
    "    info_table[\"excess\"],\n",
    "    marker=\"o\",\n",
    "    ls=\"none\",\n",
    "    label=\"3D\",\n",
    ")\n",
    "ax.plot(\n",
    "    info_table_spec[\"livetime\"].to(\"h\"),\n",
    "    info_table_spec[\"excess\"],\n",
    "    marker=\"x\",\n",
    "    ls=\"none\",\n",
    "    label=\"1D\",\n",
    ")\n",
    "plt.legend()\n",
    "plt.xlabel(\"Livetime [h]\")\n",
    "plt.ylabel(\"Excess events\")\n",
    "\n",
    "ax = fig.add_subplot(122)\n",
    "ax.plot(\n",
    "    info_table[\"livetime\"].to(\"h\"),\n",
    "    info_table[\"sqrt_ts\"],\n",
    "    marker=\"o\",\n",
    "    ls=\"none\",\n",
    "    label=\"3D\",\n",
    ")\n",
    "ax.plot(\n",
    "    info_table_spec[\"livetime\"].to(\"h\"),\n",
    "    info_table_spec[\"sqrt_ts\"],\n",
    "    marker=\"x\",\n",
    "    ls=\"none\",\n",
    "    label=\"1D\",\n",
    ")\n",
    "plt.legend()\n",
    "plt.xlabel(\"Livetime [h]\")\n",
    "plt.ylabel(\"Sqrt(TS)\");"
   ]
  },
  {
   "cell_type": "markdown",
   "metadata": {},
   "source": [
    "## Perform spectral model fitting\n",
    "From this step on, everything is the same as for the 3D approach.\n",
    "\n",
    "Here we perform a joint fit. \n",
    "\n",
    "We first create the model, here a simple powerlaw, and assign it to every dataset in the `~gammapy.datasets.Datasets`."
   ]
  },
  {
   "cell_type": "code",
   "execution_count": null,
   "metadata": {
    "execution": {
     "iopub.execute_input": "2021-02-09T17:05:54.094235Z",
     "iopub.status.busy": "2021-02-09T17:05:54.093851Z",
     "iopub.status.idle": "2021-02-09T17:05:54.095503Z",
     "shell.execute_reply": "2021-02-09T17:05:54.095105Z"
    }
   },
   "outputs": [],
   "source": [
    "spectral_model_1D = PowerLawSpectralModel(\n",
    "    index=2, amplitude=2e-11 * u.Unit(\"cm-2 s-1 TeV-1\"), reference=1 * u.TeV\n",
    ")\n",
    "model_1D = SkyModel(spectral_model=spectral_model_1D, name=\"RXJ 1713\")\n",
    "\n",
    "spec_datasets.models = [model_1D]"
   ]
  },
  {
   "cell_type": "markdown",
   "metadata": {},
   "source": [
    "Now we can run the fit"
   ]
  },
  {
   "cell_type": "code",
   "execution_count": null,
   "metadata": {
    "execution": {
     "iopub.execute_input": "2021-02-09T17:05:54.224413Z",
     "iopub.status.busy": "2021-02-09T17:05:54.102721Z",
     "iopub.status.idle": "2021-02-09T17:05:54.905835Z",
     "shell.execute_reply": "2021-02-09T17:05:54.905434Z"
    }
   },
   "outputs": [],
   "source": [
    "fit_joint = Fit(spec_datasets)\n",
    "result_joint_1D = fit_joint.run()\n",
    "print(result_joint_1D)"
   ]
  },
  {
   "cell_type": "markdown",
   "metadata": {},
   "source": [
    "### Explore the fit results\n",
    "\n",
    "First the fitted parameters values and their errors."
   ]
  },
  {
   "cell_type": "code",
   "execution_count": null,
   "metadata": {
    "execution": {
     "iopub.execute_input": "2021-02-09T17:05:54.910457Z",
     "iopub.status.busy": "2021-02-09T17:05:54.910072Z",
     "iopub.status.idle": "2021-02-09T17:05:54.911933Z",
     "shell.execute_reply": "2021-02-09T17:05:54.912222Z"
    }
   },
   "outputs": [],
   "source": [
    "result_joint_1D.parameters.to_table()"
   ]
  },
  {
   "cell_type": "markdown",
   "metadata": {},
   "source": [
    "Then plot the fit result to compare measured and expected counts. Rather than plotting them for each individual dataset, we stack all datasets and plot the fit result on the result."
   ]
  },
  {
   "cell_type": "code",
   "execution_count": null,
   "metadata": {
    "execution": {
     "iopub.execute_input": "2021-02-09T17:05:55.039278Z",
     "iopub.status.busy": "2021-02-09T17:05:55.008607Z",
     "iopub.status.idle": "2021-02-09T17:05:55.636272Z",
     "shell.execute_reply": "2021-02-09T17:05:55.635884Z"
    }
   },
   "outputs": [],
   "source": [
    "# First stack them all\n",
    "reduced_1D = spec_datasets.stack_reduce()\n",
    "# Assign the fitted model\n",
    "reduced_1D.models = model_1D\n",
    "# Plot the result\n",
    "\n",
    "reduced_1D.plot_fit();"
   ]
  },
  {
   "cell_type": "markdown",
   "metadata": {},
   "source": [
    "# Comparison between both approaches\n",
    "We can compare the best-fit spectrum from both approaches, either looking at the parameters in the tables or directly plotting them together like below. As expected, they match."
   ]
  },
  {
   "cell_type": "code",
   "execution_count": null,
   "metadata": {
    "execution": {
     "iopub.execute_input": "2021-02-09T17:05:55.652564Z",
     "iopub.status.busy": "2021-02-09T17:05:55.651592Z",
     "iopub.status.idle": "2021-02-09T17:05:56.113542Z",
     "shell.execute_reply": "2021-02-09T17:05:56.113152Z"
    }
   },
   "outputs": [],
   "source": [
    "plt.figure(figsize=(10, 8))\n",
    "spectral_model.plot(energy_range=reduced.energy_range, color=\"k\", label=\"3D\")\n",
    "spectral_model.plot_error(energy_range=reduced.energy_range, color=\"k\")\n",
    "\n",
    "spectral_model_1D.plot(\n",
    "    energy_range=reduced_1D.energy_range, color=\"r\", linestyle=\"--\", label=\"1D\"\n",
    ")\n",
    "spectral_model_1D.plot_error(energy_range=reduced_1D.energy_range, color=\"r\")\n",
    "plt.legend()\n",
    "plt.show()"
   ]
  }
 ],
 "metadata": {
  "kernelspec": {
   "display_name": "Python 3",
   "language": "python",
   "name": "python3"
  },
  "language_info": {
   "codemirror_mode": {
    "name": "ipython",
    "version": 3
   },
   "file_extension": ".py",
   "mimetype": "text/x-python",
   "name": "python",
   "nbconvert_exporter": "python",
   "pygments_lexer": "ipython3",
   "version": "3.7.0"
  }
 },
 "nbformat": 4,
 "nbformat_minor": 4
}

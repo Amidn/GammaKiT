{
 "cells": [
  {
   "cell_type": "markdown",
   "metadata": {},
   "source": [
    "# Modeling\n",
    "\n",
    "## Aim\n",
    "\n",
    "The main aim of this tutorial is to illustrate model management in Gammapy, specially how to distribute multiple models across multiple datasets. We also show some convenience functions built in gammapy for handling multiple model components.\n",
    "\n",
    "\n",
    "## Prerequisites\n",
    "\n",
    "- Knowledge of 3D analysis, dataset reduction and fitting [see].(analysis_2.ipynb)\n",
    "- Understanding of gammapy models [see the models tutorial](models.ipynb)\n",
    "- Analysis of the [galactic center with Fermi-LAT](fermi_lat.ipynb)\n",
    "- Analysis of the [galactic center with CTA-DC1](analysis_3d.ipynb)\n",
    "\n",
    "## Proposed approach\n",
    "\n",
    "To show how datasets interact with models, we use two pre-computed datasets on the galactic center, one from Fermi-LAT and the other from simulated CTA (DC1) data.\n",
    "\n",
    "- Adding background models for each dataset\n",
    "- Sharing a model between multiple datasets\n",
    "\n",
    "We then load models from the Fermi 3FHL catalog to show some convenience handling for multiple `Models` together\n",
    "\n",
    "- accessing models from a catalog\n",
    "- selecting models contributing to a given region\n",
    "- adding and removing models\n",
    "- freezing and thawing multiple model parameters together\n",
    "\n",
    "For computational purposes, we do not perform a fit in this notebook.\n",
    "\n",
    "## Setup"
   ]
  },
  {
   "cell_type": "code",
   "execution_count": 6,
   "metadata": {},
   "outputs": [],
   "source": [
    "%matplotlib inline\n",
    "import matplotlib.pyplot as plt"
   ]
  },
  {
   "cell_type": "code",
   "execution_count": 7,
   "metadata": {},
   "outputs": [],
   "source": [
    "import numpy as np\n",
    "from astropy import units as u\n",
    "from astropy.coordinates import SkyCoord\n",
    "from gammapy.data import EventList\n",
    "from gammapy.datasets import MapDataset, Dataset, Datasets\n",
    "from gammapy.irf import EnergyDependentTablePSF, PSFMap, EDispMap\n",
    "from gammapy.maps import Map, MapAxis, WcsGeom\n",
    "from gammapy.modeling.models import (\n",
    "    PowerLawSpectralModel,\n",
    "    PointSpatialModel,\n",
    "    SkyModel,\n",
    "    TemplateSpatialModel,\n",
    "    PowerLawNormSpectralModel,\n",
    "    Models,\n",
    "    create_fermi_isotropic_diffuse_model,\n",
    "    FoVBackgroundModel,\n",
    "    GaussianSpatialModel,\n",
    ")\n",
    "from gammapy.modeling import Fit\n",
    "from regions import CircleSkyRegion"
   ]
  },
  {
   "cell_type": "markdown",
   "metadata": {},
   "source": [
    "## Read the datasets\n",
    "\n",
    "First, we read some precomputed Fermi and CTA datasets, and create a `Datasets` object containing the two."
   ]
  },
  {
   "cell_type": "code",
   "execution_count": 9,
   "metadata": {},
   "outputs": [
    {
     "name": "stderr",
     "output_type": "stream",
     "text": [
      "WARNING: FITSFixedWarning: 'datfix' made the change 'Set DATE-REF to '1858-11-17' from MJD-REF'. [astropy.wcs.wcs]\n"
     ]
    },
    {
     "ename": "ValueError",
     "evalue": "Could not determine celestial frame corresponding to the specified WCS object",
     "output_type": "error",
     "traceback": [
      "\u001b[0;31m---------------------------------------------------------------------------\u001b[0m",
      "\u001b[0;31mValueError\u001b[0m                                Traceback (most recent call last)",
      "\u001b[0;32m<ipython-input-9-e925a50f19f7>\u001b[0m in \u001b[0;36m<module>\u001b[0;34m\u001b[0m\n\u001b[0;32m----> 1\u001b[0;31m \u001b[0mfermi_dataset\u001b[0m \u001b[0;34m=\u001b[0m \u001b[0mMapDataset\u001b[0m\u001b[0;34m.\u001b[0m\u001b[0mread\u001b[0m\u001b[0;34m(\u001b[0m\u001b[0;34m\"$GAMMAPY_DATA/fermi-3fhl-gc/fermi-3fhl-gc.fits.gz\"\u001b[0m\u001b[0;34m,\u001b[0m \u001b[0mname\u001b[0m\u001b[0;34m=\u001b[0m\u001b[0;34m\"fermi_dataset\"\u001b[0m\u001b[0;34m)\u001b[0m\u001b[0;34m\u001b[0m\u001b[0m\n\u001b[0m\u001b[1;32m      2\u001b[0m \u001b[0mcta_dataset\u001b[0m \u001b[0;34m=\u001b[0m \u001b[0mMapDataset\u001b[0m\u001b[0;34m.\u001b[0m\u001b[0mread\u001b[0m\u001b[0;34m(\u001b[0m\u001b[0;34m\"$GAMMAPY_DATA/cta-1dc-gc/cta-1dc-gc.fits.gz\"\u001b[0m\u001b[0;34m,\u001b[0m \u001b[0mname\u001b[0m\u001b[0;34m=\u001b[0m\u001b[0;34m\"cta_dataset\"\u001b[0m\u001b[0;34m)\u001b[0m\u001b[0;34m\u001b[0m\u001b[0m\n\u001b[1;32m      3\u001b[0m \u001b[0mdatasets\u001b[0m \u001b[0;34m=\u001b[0m \u001b[0mDatasets\u001b[0m\u001b[0;34m(\u001b[0m\u001b[0;34m[\u001b[0m\u001b[0mfermi_dataset\u001b[0m\u001b[0;34m,\u001b[0m \u001b[0mcta_dataset\u001b[0m\u001b[0;34m]\u001b[0m\u001b[0;34m)\u001b[0m\u001b[0;34m\u001b[0m\u001b[0m\n\u001b[1;32m      4\u001b[0m \u001b[0mprint\u001b[0m\u001b[0;34m(\u001b[0m\u001b[0mdatasets\u001b[0m\u001b[0;34m)\u001b[0m\u001b[0;34m\u001b[0m\u001b[0m\n",
      "\u001b[0;32m~/Gammapy-dev/gammapy/gammapy/datasets/map.py\u001b[0m in \u001b[0;36mread\u001b[0;34m(cls, filename, name, lazy, cache)\u001b[0m\n\u001b[1;32m   1102\u001b[0m         \u001b[0;32melse\u001b[0m\u001b[0;34m:\u001b[0m\u001b[0;34m\u001b[0m\u001b[0m\n\u001b[1;32m   1103\u001b[0m             \u001b[0;32mwith\u001b[0m \u001b[0mfits\u001b[0m\u001b[0;34m.\u001b[0m\u001b[0mopen\u001b[0m\u001b[0;34m(\u001b[0m\u001b[0mstr\u001b[0m\u001b[0;34m(\u001b[0m\u001b[0mmake_path\u001b[0m\u001b[0;34m(\u001b[0m\u001b[0mfilename\u001b[0m\u001b[0;34m)\u001b[0m\u001b[0;34m)\u001b[0m\u001b[0;34m,\u001b[0m \u001b[0mmemmap\u001b[0m\u001b[0;34m=\u001b[0m\u001b[0;32mFalse\u001b[0m\u001b[0;34m)\u001b[0m \u001b[0;32mas\u001b[0m \u001b[0mhdulist\u001b[0m\u001b[0;34m:\u001b[0m\u001b[0;34m\u001b[0m\u001b[0m\n\u001b[0;32m-> 1104\u001b[0;31m                 \u001b[0;32mreturn\u001b[0m \u001b[0mcls\u001b[0m\u001b[0;34m.\u001b[0m\u001b[0mfrom_hdulist\u001b[0m\u001b[0;34m(\u001b[0m\u001b[0mhdulist\u001b[0m\u001b[0;34m,\u001b[0m \u001b[0mname\u001b[0m\u001b[0;34m=\u001b[0m\u001b[0mname\u001b[0m\u001b[0;34m)\u001b[0m\u001b[0;34m\u001b[0m\u001b[0m\n\u001b[0m\u001b[1;32m   1105\u001b[0m \u001b[0;34m\u001b[0m\u001b[0m\n\u001b[1;32m   1106\u001b[0m     \u001b[0;34m@\u001b[0m\u001b[0mclassmethod\u001b[0m\u001b[0;34m\u001b[0m\u001b[0m\n",
      "\u001b[0;32m~/Gammapy-dev/gammapy/gammapy/datasets/map.py\u001b[0m in \u001b[0;36mfrom_hdulist\u001b[0;34m(cls, hdulist, name, lazy)\u001b[0m\n\u001b[1;32m    992\u001b[0m \u001b[0;34m\u001b[0m\u001b[0m\n\u001b[1;32m    993\u001b[0m         \u001b[0;32mif\u001b[0m \u001b[0;34m\"EDISP\"\u001b[0m \u001b[0;32min\u001b[0m \u001b[0mhdulist\u001b[0m\u001b[0;34m:\u001b[0m\u001b[0;34m\u001b[0m\u001b[0m\n\u001b[0;32m--> 994\u001b[0;31m             \u001b[0medisp_map\u001b[0m \u001b[0;34m=\u001b[0m \u001b[0mMap\u001b[0m\u001b[0;34m.\u001b[0m\u001b[0mfrom_hdulist\u001b[0m\u001b[0;34m(\u001b[0m\u001b[0mhdulist\u001b[0m\u001b[0;34m,\u001b[0m \u001b[0mhdu\u001b[0m\u001b[0;34m=\u001b[0m\u001b[0;34m\"edisp\"\u001b[0m\u001b[0;34m)\u001b[0m\u001b[0;34m\u001b[0m\u001b[0m\n\u001b[0m\u001b[1;32m    995\u001b[0m \u001b[0;34m\u001b[0m\u001b[0m\n\u001b[1;32m    996\u001b[0m             \u001b[0;32mtry\u001b[0m\u001b[0;34m:\u001b[0m\u001b[0;34m\u001b[0m\u001b[0m\n",
      "\u001b[0;32m~/Gammapy-dev/gammapy/gammapy/maps/core.py\u001b[0m in \u001b[0;36mfrom_hdulist\u001b[0;34m(hdulist, hdu, hdu_bands, map_type, format)\u001b[0m\n\u001b[1;32m    240\u001b[0m         \u001b[0mcls_out\u001b[0m \u001b[0;34m=\u001b[0m \u001b[0mMap\u001b[0m\u001b[0;34m.\u001b[0m\u001b[0m_get_map_cls\u001b[0m\u001b[0;34m(\u001b[0m\u001b[0mmap_type\u001b[0m\u001b[0;34m)\u001b[0m\u001b[0;34m\u001b[0m\u001b[0m\n\u001b[1;32m    241\u001b[0m         return cls_out.from_hdulist(\n\u001b[0;32m--> 242\u001b[0;31m             \u001b[0mhdulist\u001b[0m\u001b[0;34m,\u001b[0m \u001b[0mhdu\u001b[0m\u001b[0;34m=\u001b[0m\u001b[0mhdu\u001b[0m\u001b[0;34m,\u001b[0m \u001b[0mhdu_bands\u001b[0m\u001b[0;34m=\u001b[0m\u001b[0mhdu_bands\u001b[0m\u001b[0;34m,\u001b[0m \u001b[0mformat\u001b[0m\u001b[0;34m=\u001b[0m\u001b[0mformat\u001b[0m\u001b[0;34m\u001b[0m\u001b[0m\n\u001b[0m\u001b[1;32m    243\u001b[0m         )\n\u001b[1;32m    244\u001b[0m \u001b[0;34m\u001b[0m\u001b[0m\n",
      "\u001b[0;32m~/Gammapy-dev/gammapy/gammapy/maps/wcsmap.py\u001b[0m in \u001b[0;36mfrom_hdulist\u001b[0;34m(cls, hdu_list, hdu, hdu_bands, format)\u001b[0m\n\u001b[1;32m    150\u001b[0m         \u001b[0mformat\u001b[0m \u001b[0;34m=\u001b[0m \u001b[0midentify_wcs_format\u001b[0m\u001b[0;34m(\u001b[0m\u001b[0mhdu_bands\u001b[0m\u001b[0;34m)\u001b[0m\u001b[0;34m\u001b[0m\u001b[0m\n\u001b[1;32m    151\u001b[0m \u001b[0;34m\u001b[0m\u001b[0m\n\u001b[0;32m--> 152\u001b[0;31m         \u001b[0mwcs_map\u001b[0m \u001b[0;34m=\u001b[0m \u001b[0mcls\u001b[0m\u001b[0;34m.\u001b[0m\u001b[0mfrom_hdu\u001b[0m\u001b[0;34m(\u001b[0m\u001b[0mhdu\u001b[0m\u001b[0;34m,\u001b[0m \u001b[0mhdu_bands\u001b[0m\u001b[0;34m,\u001b[0m \u001b[0mformat\u001b[0m\u001b[0;34m=\u001b[0m\u001b[0mformat\u001b[0m\u001b[0;34m)\u001b[0m\u001b[0;34m\u001b[0m\u001b[0m\n\u001b[0m\u001b[1;32m    153\u001b[0m \u001b[0;34m\u001b[0m\u001b[0m\n\u001b[1;32m    154\u001b[0m         \u001b[0;32mif\u001b[0m \u001b[0mwcs_map\u001b[0m\u001b[0;34m.\u001b[0m\u001b[0munit\u001b[0m\u001b[0;34m.\u001b[0m\u001b[0mis_equivalent\u001b[0m\u001b[0;34m(\u001b[0m\u001b[0;34m\"\"\u001b[0m\u001b[0;34m)\u001b[0m\u001b[0;34m:\u001b[0m\u001b[0;34m\u001b[0m\u001b[0m\n",
      "\u001b[0;32m~/Gammapy-dev/gammapy/gammapy/maps/wcsnd.py\u001b[0m in \u001b[0;36mfrom_hdu\u001b[0;34m(cls, hdu, hdu_bands, format)\u001b[0m\n\u001b[1;32m    118\u001b[0m             \u001b[0mWcs\u001b[0m \u001b[0mmap\u001b[0m\u001b[0;34m\u001b[0m\u001b[0m\n\u001b[1;32m    119\u001b[0m         \"\"\"\n\u001b[0;32m--> 120\u001b[0;31m         \u001b[0mgeom\u001b[0m \u001b[0;34m=\u001b[0m \u001b[0mWcsGeom\u001b[0m\u001b[0;34m.\u001b[0m\u001b[0mfrom_header\u001b[0m\u001b[0;34m(\u001b[0m\u001b[0mhdu\u001b[0m\u001b[0;34m.\u001b[0m\u001b[0mheader\u001b[0m\u001b[0;34m,\u001b[0m \u001b[0mhdu_bands\u001b[0m\u001b[0;34m,\u001b[0m \u001b[0mformat\u001b[0m\u001b[0;34m=\u001b[0m\u001b[0mformat\u001b[0m\u001b[0;34m)\u001b[0m\u001b[0;34m\u001b[0m\u001b[0m\n\u001b[0m\u001b[1;32m    121\u001b[0m         \u001b[0mshape\u001b[0m \u001b[0;34m=\u001b[0m \u001b[0mgeom\u001b[0m\u001b[0;34m.\u001b[0m\u001b[0maxes\u001b[0m\u001b[0;34m.\u001b[0m\u001b[0mshape\u001b[0m\u001b[0;34m\u001b[0m\u001b[0m\n\u001b[1;32m    122\u001b[0m         \u001b[0mshape_wcs\u001b[0m \u001b[0;34m=\u001b[0m \u001b[0mtuple\u001b[0m\u001b[0;34m(\u001b[0m\u001b[0;34m[\u001b[0m\u001b[0mnp\u001b[0m\u001b[0;34m.\u001b[0m\u001b[0mmax\u001b[0m\u001b[0;34m(\u001b[0m\u001b[0mgeom\u001b[0m\u001b[0;34m.\u001b[0m\u001b[0mnpix\u001b[0m\u001b[0;34m[\u001b[0m\u001b[0;36m0\u001b[0m\u001b[0;34m]\u001b[0m\u001b[0;34m)\u001b[0m\u001b[0;34m,\u001b[0m \u001b[0mnp\u001b[0m\u001b[0;34m.\u001b[0m\u001b[0mmax\u001b[0m\u001b[0;34m(\u001b[0m\u001b[0mgeom\u001b[0m\u001b[0;34m.\u001b[0m\u001b[0mnpix\u001b[0m\u001b[0;34m[\u001b[0m\u001b[0;36m1\u001b[0m\u001b[0;34m]\u001b[0m\u001b[0;34m)\u001b[0m\u001b[0;34m]\u001b[0m\u001b[0;34m)\u001b[0m\u001b[0;34m\u001b[0m\u001b[0m\n",
      "\u001b[0;32m~/Gammapy-dev/gammapy/gammapy/maps/wcs.py\u001b[0m in \u001b[0;36mfrom_header\u001b[0;34m(cls, header, hdu_bands, format)\u001b[0m\n\u001b[1;32m    461\u001b[0m             \u001b[0mcutout_info\u001b[0m \u001b[0;34m=\u001b[0m \u001b[0;32mNone\u001b[0m\u001b[0;34m\u001b[0m\u001b[0m\n\u001b[1;32m    462\u001b[0m \u001b[0;34m\u001b[0m\u001b[0m\n\u001b[0;32m--> 463\u001b[0;31m         \u001b[0;32mreturn\u001b[0m \u001b[0mcls\u001b[0m\u001b[0;34m(\u001b[0m\u001b[0mwcs\u001b[0m\u001b[0;34m,\u001b[0m \u001b[0mnpix\u001b[0m\u001b[0;34m,\u001b[0m \u001b[0mcdelt\u001b[0m\u001b[0;34m=\u001b[0m\u001b[0mcdelt\u001b[0m\u001b[0;34m,\u001b[0m \u001b[0maxes\u001b[0m\u001b[0;34m=\u001b[0m\u001b[0maxes\u001b[0m\u001b[0;34m,\u001b[0m \u001b[0mcutout_info\u001b[0m\u001b[0;34m=\u001b[0m\u001b[0mcutout_info\u001b[0m\u001b[0;34m)\u001b[0m\u001b[0;34m\u001b[0m\u001b[0m\n\u001b[0m\u001b[1;32m    464\u001b[0m \u001b[0;34m\u001b[0m\u001b[0m\n\u001b[1;32m    465\u001b[0m     \u001b[0;32mdef\u001b[0m \u001b[0m_make_bands_cols\u001b[0m\u001b[0;34m(\u001b[0m\u001b[0mself\u001b[0m\u001b[0;34m)\u001b[0m\u001b[0;34m:\u001b[0m\u001b[0;34m\u001b[0m\u001b[0m\n",
      "\u001b[0;32m~/Gammapy-dev/gammapy/gammapy/maps/wcs.py\u001b[0m in \u001b[0;36m__init__\u001b[0;34m(self, wcs, npix, cdelt, crpix, axes, cutout_info)\u001b[0m\n\u001b[1;32m    114\u001b[0m     \u001b[0;32mdef\u001b[0m \u001b[0m__init__\u001b[0m\u001b[0;34m(\u001b[0m\u001b[0mself\u001b[0m\u001b[0;34m,\u001b[0m \u001b[0mwcs\u001b[0m\u001b[0;34m,\u001b[0m \u001b[0mnpix\u001b[0m\u001b[0;34m,\u001b[0m \u001b[0mcdelt\u001b[0m\u001b[0;34m=\u001b[0m\u001b[0;32mNone\u001b[0m\u001b[0;34m,\u001b[0m \u001b[0mcrpix\u001b[0m\u001b[0;34m=\u001b[0m\u001b[0;32mNone\u001b[0m\u001b[0;34m,\u001b[0m \u001b[0maxes\u001b[0m\u001b[0;34m=\u001b[0m\u001b[0;32mNone\u001b[0m\u001b[0;34m,\u001b[0m \u001b[0mcutout_info\u001b[0m\u001b[0;34m=\u001b[0m\u001b[0;32mNone\u001b[0m\u001b[0;34m)\u001b[0m\u001b[0;34m:\u001b[0m\u001b[0;34m\u001b[0m\u001b[0m\n\u001b[1;32m    115\u001b[0m         \u001b[0mself\u001b[0m\u001b[0;34m.\u001b[0m\u001b[0m_wcs\u001b[0m \u001b[0;34m=\u001b[0m \u001b[0mwcs\u001b[0m\u001b[0;34m\u001b[0m\u001b[0m\n\u001b[0;32m--> 116\u001b[0;31m         \u001b[0mself\u001b[0m\u001b[0;34m.\u001b[0m\u001b[0m_frame\u001b[0m \u001b[0;34m=\u001b[0m \u001b[0mwcs_to_celestial_frame\u001b[0m\u001b[0;34m(\u001b[0m\u001b[0mwcs\u001b[0m\u001b[0;34m)\u001b[0m\u001b[0;34m.\u001b[0m\u001b[0mname\u001b[0m\u001b[0;34m\u001b[0m\u001b[0m\n\u001b[0m\u001b[1;32m    117\u001b[0m         \u001b[0mself\u001b[0m\u001b[0;34m.\u001b[0m\u001b[0m_projection\u001b[0m \u001b[0;34m=\u001b[0m \u001b[0mwcs\u001b[0m\u001b[0;34m.\u001b[0m\u001b[0mwcs\u001b[0m\u001b[0;34m.\u001b[0m\u001b[0mctype\u001b[0m\u001b[0;34m[\u001b[0m\u001b[0;36m0\u001b[0m\u001b[0;34m]\u001b[0m\u001b[0;34m[\u001b[0m\u001b[0;36m5\u001b[0m\u001b[0;34m:\u001b[0m\u001b[0;34m]\u001b[0m\u001b[0;34m\u001b[0m\u001b[0m\n\u001b[1;32m    118\u001b[0m         \u001b[0mself\u001b[0m\u001b[0;34m.\u001b[0m\u001b[0m_axes\u001b[0m \u001b[0;34m=\u001b[0m \u001b[0mMapAxes\u001b[0m\u001b[0;34m.\u001b[0m\u001b[0mfrom_default\u001b[0m\u001b[0;34m(\u001b[0m\u001b[0maxes\u001b[0m\u001b[0;34m)\u001b[0m\u001b[0;34m\u001b[0m\u001b[0m\n",
      "\u001b[0;32m/opt/anaconda3/envs/gammapy-dev/lib/python3.7/site-packages/astropy/wcs/utils.py\u001b[0m in \u001b[0;36mwcs_to_celestial_frame\u001b[0;34m(wcs)\u001b[0m\n\u001b[1;32m    214\u001b[0m             \u001b[0;32mif\u001b[0m \u001b[0mframe\u001b[0m \u001b[0;32mis\u001b[0m \u001b[0;32mnot\u001b[0m \u001b[0;32mNone\u001b[0m\u001b[0;34m:\u001b[0m\u001b[0;34m\u001b[0m\u001b[0m\n\u001b[1;32m    215\u001b[0m                 \u001b[0;32mreturn\u001b[0m \u001b[0mframe\u001b[0m\u001b[0;34m\u001b[0m\u001b[0m\n\u001b[0;32m--> 216\u001b[0;31m     raise ValueError(\"Could not determine celestial frame corresponding to \"\n\u001b[0m\u001b[1;32m    217\u001b[0m                      \"the specified WCS object\")\n\u001b[1;32m    218\u001b[0m \u001b[0;34m\u001b[0m\u001b[0m\n",
      "\u001b[0;31mValueError\u001b[0m: Could not determine celestial frame corresponding to the specified WCS object"
     ]
    }
   ],
   "source": [
    "fermi_dataset = MapDataset.read(\"$GAMMAPY_DATA/fermi-3fhl-gc/fermi-3fhl-gc.fits.gz\", name=\"fermi_dataset\")\n",
    "cta_dataset = MapDataset.read(\"$GAMMAPY_DATA/cta-1dc-gc/cta-1dc-gc.fits.gz\", name=\"cta_dataset\")\n",
    "datasets = Datasets([fermi_dataset, cta_dataset])\n",
    "print(datasets)"
   ]
  },
  {
   "cell_type": "code",
   "execution_count": 5,
   "metadata": {},
   "outputs": [
    {
     "ename": "TypeError",
     "evalue": "unsupported operand type(s) for *: 'int' and 'WcsNDMap'",
     "output_type": "error",
     "traceback": [
      "\u001b[0;31m---------------------------------------------------------------------------\u001b[0m",
      "\u001b[0;31mTypeError\u001b[0m                                 Traceback (most recent call last)",
      "\u001b[0;32m<ipython-input-5-1ff7295e7453>\u001b[0m in \u001b[0;36m<module>\u001b[0;34m\u001b[0m\n\u001b[0;32m----> 1\u001b[0;31m \u001b[0;36m5\u001b[0m \u001b[0;34m*\u001b[0m \u001b[0mcta_dataset\u001b[0m\u001b[0;34m.\u001b[0m\u001b[0mcounts\u001b[0m\u001b[0;34m\u001b[0m\u001b[0m\n\u001b[0m",
      "\u001b[0;31mTypeError\u001b[0m: unsupported operand type(s) for *: 'int' and 'WcsNDMap'"
     ]
    }
   ],
   "source": [
    "5 * cta_dataset.counts"
   ]
  },
  {
   "cell_type": "markdown",
   "metadata": {},
   "source": [
    "The present fermi dataset does not have a proper mask defined, so define it now"
   ]
  },
  {
   "cell_type": "code",
   "execution_count": 7,
   "metadata": {},
   "outputs": [],
   "source": [
    "# Create the fermi mask\n",
    "mask_fermi = Map.from_geom(geom=fermi_dataset._geom, dtype=bool)\n",
    "mask_fermi.data = np.ones(mask_fermi.data.shape, dtype=bool)\n",
    "fermi_dataset.mask_safe = mask_fermi"
   ]
  },
  {
   "cell_type": "code",
   "execution_count": 9,
   "metadata": {},
   "outputs": [
    {
     "data": {
      "text/html": [
       "<i>Table length=2</i>\n",
       "<table id=\"table4643159064\" class=\"table-striped table-bordered table-condensed\">\n",
       "<thead><tr><th>name</th><th>counts</th><th>background</th><th>excess</th><th>sqrt_ts</th><th>npred</th><th>npred_background</th><th>npred_signal</th><th>exposure_min</th><th>exposure_max</th><th>livetime</th><th>ontime</th><th>counts_rate</th><th>background_rate</th><th>excess_rate</th><th>n_bins</th><th>n_fit_bins</th><th>stat_type</th><th>stat_sum</th></tr></thead>\n",
       "<thead><tr><th></th><th></th><th></th><th></th><th></th><th></th><th></th><th></th><th>m2 s</th><th>m2 s</th><th>s</th><th>s</th><th>1 / s</th><th>1 / s</th><th>1 / s</th><th></th><th></th><th></th><th></th></tr></thead>\n",
       "<thead><tr><th>str11</th><th>float32</th><th>float32</th><th>float32</th><th>float64</th><th>float64</th><th>float32</th><th>float64</th><th>float32</th><th>float32</th><th>float64</th><th>float64</th><th>float64</th><th>float64</th><th>float64</th><th>int64</th><th>int64</th><th>str4</th><th>float64</th></tr></thead>\n",
       "<tr><td>stacked</td><td>15616.0</td><td>0.0</td><td>15616.0</td><td>519.947894024007</td><td>0.0</td><td>0.0</td><td>nan</td><td>21346570.0</td><td>33552604.0</td><td>nan</td><td>0.0</td><td>nan</td><td>nan</td><td>nan</td><td>32000</td><td>32000</td><td>cash</td><td>nan</td></tr>\n",
       "<tr><td>cta_dataset</td><td>121241.0</td><td>108043.52</td><td>13197.477</td><td>39.373059356333044</td><td>108043.52087858366</td><td>108043.52</td><td>nan</td><td>62838924.0</td><td>19024216000.0</td><td>5292.0001029780005</td><td>5400.0</td><td>22.91024142871299</td><td>20.416387251523293</td><td>2.4938541771896983</td><td>2000000</td><td>1411180</td><td>cash</td><td>nan</td></tr>\n",
       "</table>"
      ],
      "text/plain": [
       "<Table length=2>\n",
       "    name     counts  background   excess  ... n_fit_bins stat_type stat_sum\n",
       "                                          ...                              \n",
       "   str11    float32   float32    float32  ...   int64       str4   float64 \n",
       "----------- -------- ---------- --------- ... ---------- --------- --------\n",
       "    stacked  15616.0        0.0   15616.0 ...      32000      cash      nan\n",
       "cta_dataset 121241.0  108043.52 13197.477 ...    1411180      cash      nan"
      ]
     },
     "execution_count": 9,
     "metadata": {},
     "output_type": "execute_result"
    }
   ],
   "source": [
    "datasets.info_table(cumulative=False)"
   ]
  },
  {
   "cell_type": "markdown",
   "metadata": {},
   "source": [
    "## Modeling and fitting\n",
    "\n",
    "Since gammapy v0.18, the responsibility of model management is left totally upon the user. All models, including background models, have to be explicitly defined. To keep track of the used models, we define a global `Models` object (which is a collection of `SkyModel` objects) to which we append and delete models."
   ]
  },
  {
   "cell_type": "markdown",
   "metadata": {},
   "source": [
    "### Assigning background models to datasets\n",
    "\n",
    "First, we apply only background models to the respective datasets\n",
    "\n",
    "For CTA data, we create a `FoVBackgroundModel`. For Fermi-LAT, the background contribution is taken from a diffuse isotropic template. To convert this into a gammapy `SkyModel`, use the helper function `create_fermi_isotropic_diffuse_model()` \n",
    "\n",
    "To attach a model on a particular dataset it is necessary to specify the `datasets_names`. Otherwise, by default, the model will be applied to all the datasets in `datasets` "
   ]
  },
  {
   "cell_type": "code",
   "execution_count": 10,
   "metadata": {},
   "outputs": [],
   "source": [
    "models = Models()  # global models object"
   ]
  },
  {
   "cell_type": "code",
   "execution_count": 11,
   "metadata": {},
   "outputs": [],
   "source": [
    "# Create the FoV background model for CTA data\n",
    "# FoVBackgroundModel must be specified to one dataset only\n",
    "bkg_model = FoVBackgroundModel(dataset_name=cta_dataset.name)\n",
    "models.append(bkg_model)  # Add the bkg_model to models()"
   ]
  },
  {
   "cell_type": "code",
   "execution_count": 12,
   "metadata": {},
   "outputs": [],
   "source": [
    "# Read the fermi isotropic diffuse background model\n",
    "filename = \"$GAMMAPY_DATA/fermi_3fhl/iso_P8R2_SOURCE_V6_v06.txt\"\n",
    "\n",
    "diffuse_iso = create_fermi_isotropic_diffuse_model(\n",
    "    filename=filename, interp_kwargs={\"fill_value\": None},\n",
    ")\n",
    "diffuse_iso.datasets_names = fermi_dataset.name\n",
    "diffuse_iso.spectral_model.parameters[\"norm\"].min = 0.0"
   ]
  },
  {
   "cell_type": "code",
   "execution_count": 13,
   "metadata": {},
   "outputs": [],
   "source": [
    "models.append(diffuse_iso)"
   ]
  },
  {
   "cell_type": "code",
   "execution_count": 14,
   "metadata": {},
   "outputs": [
    {
     "name": "stdout",
     "output_type": "stream",
     "text": [
      "Models\n",
      "\n",
      "Component 0: FoVBackgroundModel\n",
      "\n",
      "  Name                      : cta_dataset-bkg\n",
      "  Datasets names            : ['cta_dataset']\n",
      "  Spectral model type       : PowerLawNormSpectralModel\n",
      "  Parameters:\n",
      "    norm                    :   1.000              \n",
      "    tilt         (frozen)   :   0.000              \n",
      "    reference    (frozen)   :   1.000  TeV         \n",
      "\n",
      "Component 1: SkyModel\n",
      "\n",
      "  Name                      : fermi-diffuse-iso\n",
      "  Datasets names            : fermi_dataset\n",
      "  Spectral model type       : CompoundSpectralModel\n",
      "  Spatial  model type       : ConstantSpatialModel\n",
      "  Temporal model type       : \n",
      "  Parameters:\n",
      "    norm                    :   1.000              \n",
      "    tilt         (frozen)   :   0.000              \n",
      "    reference    (frozen)   :   1.000  TeV         \n",
      "    value        (frozen)   :   1.000  1 / sr      \n",
      "\n",
      "\n"
     ]
    }
   ],
   "source": [
    "print(models)"
   ]
  },
  {
   "cell_type": "code",
   "execution_count": 15,
   "metadata": {},
   "outputs": [],
   "source": [
    "# Now, add the models to datasets\n",
    "datasets.models = models"
   ]
  },
  {
   "cell_type": "code",
   "execution_count": 16,
   "metadata": {},
   "outputs": [
    {
     "name": "stdout",
     "output_type": "stream",
     "text": [
      "Datasets\n",
      "--------\n",
      "\n",
      "Dataset 0: \n",
      "\n",
      "  Type       : MapDataset\n",
      "  Name       : fermi_dataset\n",
      "  Instrument : \n",
      "  Models     : ['fermi-diffuse-iso']\n",
      "\n",
      "Dataset 1: \n",
      "\n",
      "  Type       : MapDataset\n",
      "  Name       : cta_dataset\n",
      "  Instrument : \n",
      "  Models     : ['cta_dataset-bkg']\n",
      "\n",
      "\n"
     ]
    }
   ],
   "source": [
    "# You can see that each dataset lists the correct associated models\n",
    "print(datasets)"
   ]
  },
  {
   "cell_type": "markdown",
   "metadata": {},
   "source": [
    "Now, perform the fit. We specify some minuit options to speed up the fitting. For more on this, see the [fitting tutorial](fitting.ipynb)."
   ]
  },
  {
   "cell_type": "code",
   "execution_count": 18,
   "metadata": {},
   "outputs": [
    {
     "name": "stdout",
     "output_type": "stream",
     "text": [
      "True\n",
      "CPU times: user 2.21 s, sys: 398 ms, total: 2.6 s\n",
      "Wall time: 2.62 s\n"
     ]
    }
   ],
   "source": [
    "%%time\n",
    "fit1 = Fit(datasets)\n",
    "minuit_opts = {\"tol\": 0.1, \"strategy\": 0} \n",
    "result1 = fit1.run(optimize_opts=minuit_opts)\n",
    "\n",
    "print(result1.success)"
   ]
  },
  {
   "cell_type": "code",
   "execution_count": 19,
   "metadata": {},
   "outputs": [
    {
     "name": "stdout",
     "output_type": "stream",
     "text": [
      "\n",
      "\n",
      " cta_dataset-bkg \n",
      "\n",
      "  type      name     value    unit min max frozen   error  \n",
      "-------- --------- ---------- ---- --- --- ------ ---------\n",
      "spectral      norm 1.1221e+00      nan nan  False 3.200e-03\n",
      "spectral      tilt 0.0000e+00      nan nan   True 0.000e+00\n",
      "spectral reference 1.0000e+00  TeV nan nan   True 0.000e+00\n",
      "\n",
      "\n",
      " fermi-diffuse-iso \n",
      "\n",
      "  type      name     value    unit    min    max frozen   error  \n",
      "-------- --------- ---------- ---- --------- --- ------ ---------\n",
      "spectral      norm 3.9005e+01      0.000e+00 nan  False 3.114e-01\n",
      "spectral      tilt 0.0000e+00            nan nan   True 0.000e+00\n",
      "spectral reference 1.0000e+00  TeV       nan nan   True 0.000e+00\n",
      " spatial     value 1.0000e+00 sr-1       nan nan   True 0.000e+00\n"
     ]
    }
   ],
   "source": [
    "# Print the fitted parameters\n",
    "for model in models:\n",
    "    print(\"\\n\\n\", model.name, \"\\n\")\n",
    "    print(model.parameters.to_table())"
   ]
  },
  {
   "cell_type": "markdown",
   "metadata": {},
   "source": [
    "## Add a model on multiple datasets \n",
    "\n",
    "In this section, we show how to add a model to multiple datasets. For this,  we specify a list of `datasets_names` to the model. Alternatively, not specifying any `datasets_names` will add it to all the datasets.\n",
    "\n",
    "For this example, we use a template model of the galactic diffuse emission"
   ]
  },
  {
   "cell_type": "code",
   "execution_count": 21,
   "metadata": {},
   "outputs": [
    {
     "name": "stderr",
     "output_type": "stream",
     "text": [
      "WARNING: FITSFixedWarning: 'datfix' made the change 'Set DATE-REF to '1858-11-17' from MJD-REF'. [astropy.wcs.wcs]\n"
     ]
    },
    {
     "ename": "ValueError",
     "evalue": "Model names must be unique",
     "output_type": "error",
     "traceback": [
      "\u001b[0;31m---------------------------------------------------------------------------\u001b[0m",
      "\u001b[0;31mValueError\u001b[0m                                Traceback (most recent call last)",
      "\u001b[0;32m<ipython-input-21-4af832f11a26>\u001b[0m in \u001b[0;36m<module>\u001b[0;34m\u001b[0m\n\u001b[1;32m     14\u001b[0m )\n\u001b[1;32m     15\u001b[0m \u001b[0;31m#..specifying list of dataset names\u001b[0m\u001b[0;34m\u001b[0m\u001b[0;34m\u001b[0m\u001b[0m\n\u001b[0;32m---> 16\u001b[0;31m \u001b[0mmodels\u001b[0m\u001b[0;34m.\u001b[0m\u001b[0mappend\u001b[0m\u001b[0;34m(\u001b[0m\u001b[0mdiffuse_iem\u001b[0m\u001b[0;34m)\u001b[0m\u001b[0;34m\u001b[0m\u001b[0m\n\u001b[0m",
      "\u001b[0;32m/opt/anaconda3/envs/gammapy-dev/lib/python3.7/_collections_abc.py\u001b[0m in \u001b[0;36mappend\u001b[0;34m(self, value)\u001b[0m\n\u001b[1;32m    969\u001b[0m     \u001b[0;32mdef\u001b[0m \u001b[0mappend\u001b[0m\u001b[0;34m(\u001b[0m\u001b[0mself\u001b[0m\u001b[0;34m,\u001b[0m \u001b[0mvalue\u001b[0m\u001b[0;34m)\u001b[0m\u001b[0;34m:\u001b[0m\u001b[0;34m\u001b[0m\u001b[0m\n\u001b[1;32m    970\u001b[0m         \u001b[0;34m'S.append(value) -- append value to the end of the sequence'\u001b[0m\u001b[0;34m\u001b[0m\u001b[0m\n\u001b[0;32m--> 971\u001b[0;31m         \u001b[0mself\u001b[0m\u001b[0;34m.\u001b[0m\u001b[0minsert\u001b[0m\u001b[0;34m(\u001b[0m\u001b[0mlen\u001b[0m\u001b[0;34m(\u001b[0m\u001b[0mself\u001b[0m\u001b[0;34m)\u001b[0m\u001b[0;34m,\u001b[0m \u001b[0mvalue\u001b[0m\u001b[0;34m)\u001b[0m\u001b[0;34m\u001b[0m\u001b[0m\n\u001b[0m\u001b[1;32m    972\u001b[0m \u001b[0;34m\u001b[0m\u001b[0m\n\u001b[1;32m    973\u001b[0m     \u001b[0;32mdef\u001b[0m \u001b[0mclear\u001b[0m\u001b[0;34m(\u001b[0m\u001b[0mself\u001b[0m\u001b[0;34m)\u001b[0m\u001b[0;34m:\u001b[0m\u001b[0;34m\u001b[0m\u001b[0m\n",
      "\u001b[0;32m~/Gammapy-dev/gammapy/gammapy/modeling/models/core.py\u001b[0m in \u001b[0;36minsert\u001b[0;34m(self, idx, model)\u001b[0m\n\u001b[1;32m    813\u001b[0m     \u001b[0;32mdef\u001b[0m \u001b[0minsert\u001b[0m\u001b[0;34m(\u001b[0m\u001b[0mself\u001b[0m\u001b[0;34m,\u001b[0m \u001b[0midx\u001b[0m\u001b[0;34m,\u001b[0m \u001b[0mmodel\u001b[0m\u001b[0;34m)\u001b[0m\u001b[0;34m:\u001b[0m\u001b[0;34m\u001b[0m\u001b[0m\n\u001b[1;32m    814\u001b[0m         \u001b[0;32mif\u001b[0m \u001b[0mmodel\u001b[0m\u001b[0;34m.\u001b[0m\u001b[0mname\u001b[0m \u001b[0;32min\u001b[0m \u001b[0mself\u001b[0m\u001b[0;34m.\u001b[0m\u001b[0mnames\u001b[0m\u001b[0;34m:\u001b[0m\u001b[0;34m\u001b[0m\u001b[0m\n\u001b[0;32m--> 815\u001b[0;31m             \u001b[0;32mraise\u001b[0m \u001b[0;34m(\u001b[0m\u001b[0mValueError\u001b[0m\u001b[0;34m(\u001b[0m\u001b[0;34m\"Model names must be unique\"\u001b[0m\u001b[0;34m)\u001b[0m\u001b[0;34m)\u001b[0m\u001b[0;34m\u001b[0m\u001b[0m\n\u001b[0m\u001b[1;32m    816\u001b[0m \u001b[0;34m\u001b[0m\u001b[0m\n\u001b[1;32m    817\u001b[0m         \u001b[0mself\u001b[0m\u001b[0;34m.\u001b[0m\u001b[0m_models\u001b[0m\u001b[0;34m.\u001b[0m\u001b[0minsert\u001b[0m\u001b[0;34m(\u001b[0m\u001b[0midx\u001b[0m\u001b[0;34m,\u001b[0m \u001b[0mmodel\u001b[0m\u001b[0;34m)\u001b[0m\u001b[0;34m\u001b[0m\u001b[0m\n",
      "\u001b[0;31mValueError\u001b[0m: Model names must be unique"
     ]
    }
   ],
   "source": [
    "# Create the diffuse model\n",
    "diffuse_galactic_fermi = Map.read(\n",
    "    \"$GAMMAPY_DATA/fermi-3fhl-gc/gll_iem_v06_gc.fits.gz\"\n",
    ")\n",
    "\n",
    "template_diffuse = TemplateSpatialModel(\n",
    "    diffuse_galactic_fermi, normalize=False\n",
    ")\n",
    "diffuse_iem = SkyModel(\n",
    "    spectral_model=PowerLawNormSpectralModel(),\n",
    "    spatial_model=template_diffuse,\n",
    "    name=\"diffuse-iem\",\n",
    "    datasets_names=[cta_dataset.name, fermi_dataset.name]\n",
    ")\n",
    "#..specifying list of dataset names\n",
    "models.append(diffuse_iem)"
   ]
  },
  {
   "cell_type": "code",
   "execution_count": 22,
   "metadata": {},
   "outputs": [
    {
     "name": "stdout",
     "output_type": "stream",
     "text": [
      "Datasets\n",
      "--------\n",
      "\n",
      "Dataset 0: \n",
      "\n",
      "  Type       : MapDataset\n",
      "  Name       : fermi_dataset\n",
      "  Instrument : \n",
      "  Models     : ['fermi-diffuse-iso', 'diffuse-iem']\n",
      "\n",
      "Dataset 1: \n",
      "\n",
      "  Type       : MapDataset\n",
      "  Name       : cta_dataset\n",
      "  Instrument : \n",
      "  Models     : ['cta_dataset-bkg', 'diffuse-iem']\n",
      "\n",
      "\n"
     ]
    }
   ],
   "source": [
    "# add it to the datasets, and inspect\n",
    "datasets.models = models\n",
    "print(datasets)"
   ]
  },
  {
   "cell_type": "markdown",
   "metadata": {},
   "source": [
    "The `diffuse-iem` model is correctly present on both. Now, you can proceed with the fit. For computational purposes, we skip it in this notebook"
   ]
  },
  {
   "cell_type": "code",
   "execution_count": 23,
   "metadata": {},
   "outputs": [],
   "source": [
    "#%%time\n",
    "#fit2 = Fit(datasets)\n",
    "#result2 = fit2.run(optimize_opts=minuit_opts)\n",
    "#print(result2.success)"
   ]
  },
  {
   "cell_type": "code",
   "execution_count": 24,
   "metadata": {},
   "outputs": [
    {
     "name": "stderr",
     "output_type": "stream",
     "text": [
      "/opt/anaconda3/envs/gammapy-dev/lib/python3.7/site-packages/astropy/visualization/wcsaxes/core.py:211: MatplotlibDeprecationWarning: Passing parameters norm and vmin/vmax simultaneously is deprecated since 3.3 and will become an error two minor releases later. Please pass vmin/vmax directly to the norm when creating it.\n",
      "  return super().imshow(X, *args, origin=origin, **kwargs)\n",
      "Center position for diffuse-iem model is outside dataset mask safe, using nearest IRF defined within\n",
      "/opt/anaconda3/envs/gammapy-dev/lib/python3.7/site-packages/astropy/visualization/wcsaxes/core.py:211: MatplotlibDeprecationWarning: Passing parameters norm and vmin/vmax simultaneously is deprecated since 3.3 and will become an error two minor releases later. Please pass vmin/vmax directly to the norm when creating it.\n",
      "  return super().imshow(X, *args, origin=origin, **kwargs)\n"
     ]
    },
    {
     "data": {
      "text/plain": [
       "<WCSAxesSubplot:xlabel='Galactic Longitude', ylabel='Galactic Latitude'>"
      ]
     },
     "execution_count": 24,
     "metadata": {},
     "output_type": "execute_result"
    },
    {
     "data": {
      "image/png": "[encoded data removed]",
      "text/plain": [
       "<Figure size 1080x360 with 4 Axes>"
      ]
     },
     "metadata": {
      "needs_background": "light"
     },
     "output_type": "display_data"
    }
   ],
   "source": [
    "# plot the spatial residuals\n",
    "plt.figure(figsize=(15, 5))\n",
    "ax1 = plt.subplot(121, projection=fermi_dataset._geom.wcs)\n",
    "ax2 = plt.subplot(122, projection=cta_dataset._geom.wcs)\n",
    "\n",
    "\n",
    "datasets[0].plot_residuals_spatial(ax=ax1)\n",
    "datasets[1].plot_residuals_spatial(ax=ax2,)"
   ]
  },
  {
   "cell_type": "markdown",
   "metadata": {},
   "source": [
    "## Model management - convenience functions for loading/freezing/etc\n",
    "\n",
    "Clearly, there are still multiple sources that are left to be modelled. To do this, we \n",
    "\n",
    "- load the Fermi-LAT 4FGL catalog from `gammapy.catalog` \n",
    "- To speed up the computation, select only sources within 5 deg of the galactic center\n",
    "-  use `Models.select_mask()`  to pick the sources in the Fermi ROI. (Alternatively, you may also choose `Models.select_region()`)\n",
    "- Apply the selected models to the Fermi dataset\n",
    "- Freeze the parameters of the models for faster convergence of this tutorial\n",
    "- Do a joint Fermi-CTA modeling of SgrA* - apply the dataset on both the models\n",
    "- Constrain the parameter ranges of the SgrA*"
   ]
  },
  {
   "cell_type": "code",
   "execution_count": 27,
   "metadata": {},
   "outputs": [],
   "source": [
    "from gammapy.catalog import SourceCatalog3FHL\n",
    "catalog = SourceCatalog3FHL()"
   ]
  },
  {
   "cell_type": "code",
   "execution_count": 28,
   "metadata": {},
   "outputs": [
    {
     "name": "stdout",
     "output_type": "stream",
     "text": [
      "CPU times: user 1.41 s, sys: 15.6 ms, total: 1.43 s\n",
      "Wall time: 1.42 s\n"
     ]
    }
   ],
   "source": [
    "%%time\n",
    "gc_sep = catalog.positions.separation(SkyCoord(0,0,unit=\"deg\",frame=\"galactic\"))\n",
    "models_3fhl = [_.sky_model() for k,_ in enumerate(catalog) if gc_sep[k].value<5] \n",
    "models_3fhl = Models(models_3fhl)"
   ]
  },
  {
   "cell_type": "code",
   "execution_count": 31,
   "metadata": {},
   "outputs": [
    {
     "data": {
      "text/plain": [
       "13"
      ]
     },
     "execution_count": 31,
     "metadata": {},
     "output_type": "execute_result"
    }
   ],
   "source": [
    "#Select the mask in fermi\n",
    "models_fermi = models_3fhl.select_mask(mask_fermi)\n",
    "len(models_fermi)"
   ]
  },
  {
   "cell_type": "markdown",
   "metadata": {},
   "source": [
    "We have 13 models in the 4fgl in the chosen field. We first freeze the parameters of all models.\n",
    "To do this, we simply use `Models.freeze()`. "
   ]
  },
  {
   "cell_type": "code",
   "execution_count": 46,
   "metadata": {},
   "outputs": [],
   "source": [
    "models_fermi.freeze() # freeze all components of all models"
   ]
  },
  {
   "cell_type": "code",
   "execution_count": 131,
   "metadata": {},
   "outputs": [],
   "source": [
    "models.extend(models_fermi)"
   ]
  },
  {
   "cell_type": "markdown",
   "metadata": {},
   "source": [
    "Q: Can you append `Models` to `Models`?"
   ]
  },
  {
   "cell_type": "markdown",
   "metadata": {},
   "source": [
    "Now, we choose the central source and apply it on all datasets. This can be simply done by setting `dataets_names=None`. Individual models can be selected from a `Models` object by using `Model.select()`. You can do `help(Models.select)` to see all conditions according to which this selections can be performed "
   ]
  },
  {
   "cell_type": "code",
   "execution_count": 52,
   "metadata": {},
   "outputs": [
    {
     "name": "stdout",
     "output_type": "stream",
     "text": [
      "Help on function select in module gammapy.modeling.models.core:\n",
      "\n",
      "select(self, name_substring=None, datasets_names=None, tag=None, model_type=None, frozen=None)\n",
      "    Select models that meet all specified conditions\n",
      "    \n",
      "    Parameters\n",
      "    ----------\n",
      "    \n",
      "    name_substring : str\n",
      "        Substring contained in the model name\n",
      "    datasets_names : str or list\n",
      "        Name of the dataset\n",
      "    tag : str or list\n",
      "        Model tag\n",
      "    model_type : {None, spatial, spectral}\n",
      "       Type of model, used together with \"tag\", if the tag is not unique.\n",
      "    frozen : bool\n",
      "        Select models with all parameters frozen if True, exclude them if False.\n",
      "    \n",
      "    Returns\n",
      "    -------\n",
      "    models : `DatasetModels`\n",
      "        Selected models\n",
      "\n"
     ]
    }
   ],
   "source": [
    "help(Models.select)"
   ]
  },
  {
   "cell_type": "code",
   "execution_count": 65,
   "metadata": {},
   "outputs": [],
   "source": [
    "model_SgrA = models_fermi.select(name_substring='J1745.6-2859')[0]\n",
    "model_SgrA.datasets_names = None\n"
   ]
  },
  {
   "cell_type": "markdown",
   "metadata": {},
   "source": [
    "## Freezing and thawing parmeters of an individual model"
   ]
  },
  {
   "cell_type": "code",
   "execution_count": 72,
   "metadata": {},
   "outputs": [
    {
     "name": "stdout",
     "output_type": "stream",
     "text": [
      "  type      name      value         unit      ...    max    frozen   error  \n",
      "-------- --------- ----------- -------------- ... --------- ------ ---------\n",
      "spectral amplitude  2.5896e-06 cm-2 s-1 TeV-1 ...       nan  False 6.122e-08\n",
      "spectral reference  4.0744e-03            TeV ...       nan   True 0.000e+00\n",
      "spectral     alpha  2.5622e+00                ...       nan  False 2.828e-02\n",
      "spectral      beta  1.9050e-01                ...       nan  False 1.477e-02\n",
      " spatial     lon_0  2.6641e+02            deg ...       nan  False 4.064e-03\n",
      " spatial     lat_0 -2.8997e+01            deg ... 9.000e+01  False 3.554e-03\n"
     ]
    }
   ],
   "source": [
    "# Now, lets say we want to unfreeze all the spectral parameters of this model\n",
    "model_SgrA.unfreeze(model_type='spectral')\n",
    "print(model_SgrA.parameters.to_table())"
   ]
  },
  {
   "cell_type": "markdown",
   "metadata": {},
   "source": [
    "## Removing models from datasets\n",
    "\n",
    "Models can be removed by specifying their names.\n",
    "For ex, to remove the SgrA* model, you can simply do"
   ]
  },
  {
   "cell_type": "code",
   "execution_count": 75,
   "metadata": {},
   "outputs": [
    {
     "name": "stdout",
     "output_type": "stream",
     "text": [
      "72\n",
      "71\n"
     ]
    }
   ],
   "source": [
    "print(len(models_fermi))\n",
    "models_fermi.remove(models_fermi[0].name)\n",
    "print(len(models_fermi))  # `diffuse-iem` is removed from the models object"
   ]
  }
 ],
 "metadata": {
  "kernelspec": {
   "display_name": "Python 3",
   "language": "python",
   "name": "python3"
  },
  "language_info": {
   "codemirror_mode": {
    "name": "ipython",
    "version": 3
   },
   "file_extension": ".py",
   "mimetype": "text/x-python",
   "name": "python",
   "nbconvert_exporter": "python",
   "pygments_lexer": "ipython3",
   "version": "3.7.0"
  }
 },
 "nbformat": 4,
 "nbformat_minor": 4
}
